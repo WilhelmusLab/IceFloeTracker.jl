{
 "cells": [
  {
   "cell_type": "markdown",
   "id": "b1c48f42-40db-4e36-89a0-1ea215c74930",
   "metadata": {},
   "source": [
    "# Segmentation workflow"
   ]
  },
  {
   "cell_type": "code",
   "execution_count": null,
   "id": "2ed6947a-e14b-4a15-8974-db15b7895071",
   "metadata": {},
   "outputs": [],
   "source": [
    "# Root of the IFT folder\n",
    "home_dir = \"../..\"\n",
    "test_dir = joinpath(home_dir, \"test\")\n",
    "\n",
    "using Pkg\n",
    "# Specifying an environment makes it easier to work with package versions\n",
    "Pkg.activate(joinpath(home_dir, \"notebooks/ift-notebooks\"))\n",
    "\n",
    "using IceFloeTracker\n",
    "using Images\n",
    "# Available test cases. Only showing Aqua truecolor for brevity. Each case has Aqua, Terra and has truecolor, falsecolor, and landmasks.\n",
    "example_loc = joinpath(test_dir, \"test_inputs/preprocessing_workflows/\")\n",
    "\n",
    "# Rearranged order just to make the figure prettier:\n",
    "case_names = [\"sea_of_okhostk-50km-20180412\", \"barents_kara_seas-100km-20250507\",  \"baffin_bay-200km-20060704\", \n",
    "    \"greenland_sea-50km-20180712\", \"east_siberian_sea-100km-20190612\",  \"bering_chukchi_seas-200km-20210314\", \n",
    "    \"beaufort_sea-50km-20070614\", \"hudson_bay-100km-20060513\",  \"laptev_sea-200km-20230613\"]\n",
    "\n",
    "# View the morphological residue files\n",
    "file_names = [split(c, \"-\")[3]*\".250m.aqua.morphed_residue.tiff\" for c in case_names]\n",
    "Images.mosaicview([RGB.(load(joinpath(example_loc, case, file)))\n",
    "        for (case, file) in zip(case_names, file_names)], ncol=3)"
   ]
  },
  {
   "cell_type": "code",
   "execution_count": null,
   "id": "4e172a54-5c89-43ee-8cf7-e5aa7a7221e2",
   "metadata": {},
   "outputs": [],
   "source": [
    "case = case_names[9]\n",
    "print(case)\n",
    "date = split(case, \"-\")[3]\n",
    "satellite = \"aqua\"\n",
    "\n",
    "lm_image = float64.(RGB.(load(joinpath(example_loc, case, join([date, \"250m\", satellite, \"landmask.tiff\"], \".\")))))\n",
    "fc_image = float64.(RGB.(load(joinpath(example_loc, case, join([date, \"250m\", satellite, \"falsecolor.tiff\"], \".\")))))\n",
    "tc_image = float64.(RGB.(load(joinpath(example_loc, case, join([date, \"250m\", satellite, \"truecolor.tiff\"], \".\")))))\n",
    "morphed_image = float64.(Gray.(load(joinpath(example_loc, case, join([date, \"250m\", satellite, \"morphed_residue.tiff\"], \".\")))))\n",
    "Images.mosaicview(tc_image, fc_image, lm_image, morphed_image, nrow=1)"
   ]
  },
  {
   "cell_type": "markdown",
   "id": "59fbfd6a-4df3-4a8f-ac5d-6be2067507d0",
   "metadata": {},
   "source": [
    "In this notebook we examine the segmentation methods used to produce objects for tracking."
   ]
  },
  {
   "cell_type": "code",
   "execution_count": null,
   "id": "818a055b-7831-4e9e-b375-3087d7b222c4",
   "metadata": {},
   "outputs": [],
   "source": [
    "# First set up the cloudmask and cloudmask\n",
    "cloud_mask_settings = (\n",
    "    prelim_threshold=53.0/255.,\n",
    "    band_7_threshold=130.0/255.,\n",
    "    band_2_threshold=169.0/255.,\n",
    "    ratio_lower=0.0,\n",
    "    ratio_upper=0.53\n",
    ")\n",
    "\n",
    "cloudmask = IceFloeTracker.create_cloudmask(fc_image; cloud_mask_settings...)\n",
    "fc_img_cloudmasked = IceFloeTracker.apply_cloudmask(fc_image, cloudmask)\n",
    "landmask = IceFloeTracker.create_landmask(lm_image)"
   ]
  },
  {
   "cell_type": "code",
   "execution_count": null,
   "id": "44a8d9f2-75b6-4f6b-aa0c-bebd1bd5cac6",
   "metadata": {},
   "outputs": [],
   "source": [
    "ice_masks_params = (\n",
    "    band_7_threshold=5,\n",
    "    band_2_threshold=230,\n",
    "    band_1_threshold=240,\n",
    "    band_7_threshold_relaxed=10,\n",
    "    band_1_threshold_relaxed=190,\n",
    "    possible_ice_threshold=75,\n",
    "    k=3, # number of clusters for kmeans segmentation\n",
    "    factor=255, # normalization factor to convert images to uint8\n",
    ")\n",
    "\n",
    "prelim_icemask_params = (radius=10, amount=2, factor=0.5)"
   ]
  },
  {
   "cell_type": "code",
   "execution_count": null,
   "id": "09f05988-b373-425d-9b36-7a6853485e71",
   "metadata": {},
   "outputs": [],
   "source": [
    "# Convert the morphological residue images into Array{Int64}\n",
    "morphed_im_int = Array(Int64.(morphed_image .* 255));"
   ]
  },
  {
   "cell_type": "code",
   "execution_count": null,
   "id": "870b07b1-2615-4b01-a068-5e3a9dc4ad14",
   "metadata": {},
   "outputs": [],
   "source": [
    "prelim_sizes = size(tc_image) .÷ 3\n",
    "print(prelim_sizes)\n",
    "tiles = IceFloeTracker.get_tiles(tc_image, prelim_sizes[1] + 1)\n",
    "\n",
    "prelim_icemask, binarized_tiling = IceFloeTracker.get_ice_masks(\n",
    "    n0f8.(fc_image), morphed_im_int, .!landmask.dilated, tiles, true; ice_masks_params...\n",
    ")"
   ]
  },
  {
   "cell_type": "code",
   "execution_count": null,
   "id": "c3fc4f14-b691-40cb-bb22-61a9a1c23200",
   "metadata": {},
   "outputs": [],
   "source": [
    "Images.mosaicview([tc_image, Gray.(prelim_icemask), Gray.(binarized_tiling)], nrow=1)"
   ]
  },
  {
   "cell_type": "code",
   "execution_count": null,
   "id": "19260e90-e776-434c-8932-77807ec22835",
   "metadata": {},
   "outputs": [],
   "source": [
    "@time segment_mask = IceFloeTracker.get_segment_mask(prelim_icemask, binarized_tiling);"
   ]
  },
  {
   "cell_type": "code",
   "execution_count": null,
   "id": "cb1d785f-2d39-4208-a506-78e9a72a83c0",
   "metadata": {},
   "outputs": [],
   "source": [
    "@time local_maxima_mask, L0mask = IceFloeTracker.watershed2(\n",
    "    morphed_im_int, segment_mask, prelim_icemask\n",
    ")\n",
    "\n",
    "Images.mosaicview(Gray.(morphed_im_int./255), Gray.(segment_mask), Gray.(local_maxima_mask), nrow=1)"
   ]
  },
  {
   "cell_type": "code",
   "execution_count": null,
   "id": "cfb6f5ff-119a-4a58-bb86-36254f2c8bed",
   "metadata": {},
   "outputs": [],
   "source": [
    "structuring_elements = (\n",
    "    se_disk1=collect(IceFloeTracker.MorphSE.StructuringElements.strel_diamond((3, 3))),\n",
    "    se_disk2=IceFloeTracker.se_disk2(),\n",
    "    se_disk4=IceFloeTracker.se_disk4(),\n",
    ")\n",
    "\n",
    "@time local_maxima_mask = IceFloeTracker.to_uint8(local_maxima_mask * 255)\n",
    "prelim_icemask2 = IceFloeTracker._regularize(\n",
    "    morphed_im_int,\n",
    "    local_maxima_mask,\n",
    "    segment_mask,\n",
    "    L0mask,\n",
    "    structuring_elements.se_disk1;\n",
    "    prelim_icemask_params...,\n",
    ");"
   ]
  },
  {
   "cell_type": "code",
   "execution_count": null,
   "id": "95802725-e230-47c2-9ebe-f53ac73e4625",
   "metadata": {},
   "outputs": [],
   "source": [
    "icemask, _ = IceFloeTracker.get_ice_masks(\n",
    "    n0f8.(fc_image), prelim_icemask2, .!landmask.dilated, tiles, false; ice_masks_params...\n",
    ")\n",
    "\n",
    "se_erosion = structuring_elements.se_disk1\n",
    "se_dilation = structuring_elements.se_disk2\n",
    "final = IceFloeTracker.get_final(icemask, segment_mask, se_erosion, se_dilation);"
   ]
  },
  {
   "cell_type": "code",
   "execution_count": null,
   "id": "fc3878c6-ff48-40d9-91a8-5af7effc3d5c",
   "metadata": {},
   "outputs": [],
   "source": [
    "print(\"Top: Truecolor Image, Prelim icemask 2. Bottom: Final ice mask, Final segmentation\")\n",
    "Images.mosaicview(tc_image, Gray.(icemask), Gray.(prelim_icemask2./255),  Gray.(final), nrow=2)"
   ]
  }
 ],
 "metadata": {
  "kernelspec": {
   "display_name": "Julia 1.11.4",
   "language": "julia",
   "name": "julia-1.11"
  },
  "language_info": {
   "file_extension": ".jl",
   "mimetype": "application/julia",
   "name": "julia"
  }
 },
 "nbformat": 4,
 "nbformat_minor": 5
}
