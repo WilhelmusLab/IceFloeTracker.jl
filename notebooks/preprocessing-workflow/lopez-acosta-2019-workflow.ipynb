{
 "cells": [
  {
   "cell_type": "code",
   "execution_count": null,
   "id": "36b9e617",
   "metadata": {},
   "outputs": [],
   "source": [
    "# The notebook presently uses test images and some testing tools from the test directory.\n",
    "HOME = \"../..\" # path to the root of the project two levels up\n",
    "\n",
    "# Activate the environment\n",
    "using Pkg\n",
    "Pkg.activate(HOME)\n",
    "Pkg.precompile()"
   ]
  },
  {
   "cell_type": "code",
   "execution_count": null,
   "id": "540a6fdf",
   "metadata": {},
   "outputs": [],
   "source": [
    "# Load packages\n",
    "using IceFloeTracker: LopezAcosta2019, LopezAcosta2019Tiling, Watkins2025GitHub\n",
    "using Images: segment_mean, labels_map, SegmentedImage, RGB"
   ]
  },
  {
   "cell_type": "markdown",
   "id": "7fb699cc",
   "metadata": {},
   "source": [
    "## Load the images"
   ]
  },
  {
   "cell_type": "code",
   "execution_count": null,
   "id": "e64ae637",
   "metadata": {},
   "outputs": [],
   "source": [
    "dataset = Watkins2025GitHub(; ref=\"a451cd5e62a10309a9640fbbe6b32a236fcebc70\")(c-> c.case_number == 6 && c.satellite == \"terra\")\n",
    "case = first(dataset)\n",
    "truecolor = RGB.(case.modis_truecolor) # TODO: remove RGB cast"
   ]
  },
  {
   "cell_type": "code",
   "execution_count": null,
   "id": "cef29387",
   "metadata": {},
   "outputs": [],
   "source": [
    "falsecolor = RGB.(case.modis_falsecolor) # TODO: remove RGB cast"
   ]
  },
  {
   "cell_type": "code",
   "execution_count": null,
   "id": "ab957d3c",
   "metadata": {},
   "outputs": [],
   "source": [
    "landmask = RGB.(case.modis_landmask) # TODO: remove RGB cast"
   ]
  },
  {
   "cell_type": "markdown",
   "id": "0b8877c7",
   "metadata": {},
   "source": [
    "## Run the segmentation algorithm"
   ]
  },
  {
   "cell_type": "markdown",
   "id": "5f3319ff",
   "metadata": {},
   "source": [
    "We instantiate the algorithm as an object with all of its parameters as follows:"
   ]
  },
  {
   "cell_type": "code",
   "execution_count": null,
   "id": "7683c488",
   "metadata": {},
   "outputs": [],
   "source": [
    "segmentation_algorithm = LopezAcosta2019()"
   ]
  },
  {
   "cell_type": "markdown",
   "id": "03767bc9",
   "metadata": {},
   "source": [
    "If we wanted to modify the options, we could include those in the call above. "
   ]
  },
  {
   "cell_type": "code",
   "execution_count": null,
   "id": "d3d68a16",
   "metadata": {},
   "outputs": [],
   "source": [
    "segments = segmentation_algorithm(truecolor, falsecolor, landmask)"
   ]
  },
  {
   "cell_type": "markdown",
   "id": "808c8e5e",
   "metadata": {},
   "source": [
    "To show the results with each segment marked using its mean color:"
   ]
  },
  {
   "cell_type": "code",
   "execution_count": null,
   "id": "3986e554",
   "metadata": {},
   "outputs": [],
   "source": [
    "map(i -> segment_mean(segments, i), labels_map(segments))"
   ]
  },
  {
   "cell_type": "markdown",
   "id": "703627d9",
   "metadata": {},
   "source": [
    "We can do the same with the falsecolor image:"
   ]
  },
  {
   "cell_type": "code",
   "execution_count": null,
   "id": "513793ea",
   "metadata": {},
   "outputs": [],
   "source": [
    "# Get the labels_map\n",
    "segments_falsecolor = SegmentedImage(falsecolor, labels_map(segments))\n",
    "map(i -> segment_mean(segments_falsecolor, i), labels_map(segments_falsecolor))"
   ]
  },
  {
   "cell_type": "markdown",
   "id": "7362b44e",
   "metadata": {},
   "source": [
    "## Run the segmentation algorithm with tiling\n",
    "We instantiate the algorithm as an object with all of its parameters as follows:"
   ]
  },
  {
   "cell_type": "code",
   "execution_count": null,
   "id": "a512a53c",
   "metadata": {},
   "outputs": [],
   "source": [
    "segmentation_algorithm_with_tiling = LopezAcosta2019Tiling()"
   ]
  },
  {
   "cell_type": "code",
   "execution_count": null,
   "id": "17a38c62",
   "metadata": {},
   "outputs": [],
   "source": [
    "segments = segmentation_algorithm_with_tiling(truecolor, falsecolor, landmask)"
   ]
  },
  {
   "cell_type": "markdown",
   "id": "ef74d492",
   "metadata": {},
   "source": [
    "To show the results with each segment marked using its mean color:"
   ]
  },
  {
   "cell_type": "code",
   "execution_count": null,
   "id": "ee7a12dd",
   "metadata": {},
   "outputs": [],
   "source": [
    "map(i -> segment_mean(segments, i), labels_map(segments))"
   ]
  },
  {
   "cell_type": "markdown",
   "id": "8a34fba5",
   "metadata": {},
   "source": [
    "We can do the same with the falsecolor image:"
   ]
  },
  {
   "cell_type": "code",
   "execution_count": null,
   "id": "bfbdec8e",
   "metadata": {},
   "outputs": [],
   "source": [
    "# Get the labels_map\n",
    "segments_falsecolor = SegmentedImage(falsecolor, labels_map(segments))\n",
    "map(i -> segment_mean(segments_falsecolor, i), labels_map(segments_falsecolor))"
   ]
  }
 ],
 "metadata": {
  "kernelspec": {
   "display_name": "Julia 1.11.6",
   "language": "julia",
   "name": "julia-1.11"
  },
  "language_info": {
   "file_extension": ".jl",
   "mimetype": "application/julia",
   "name": "julia",
   "version": "1.11.6"
  }
 },
 "nbformat": 4,
 "nbformat_minor": 5
}
