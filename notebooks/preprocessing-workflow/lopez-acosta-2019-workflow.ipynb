{
 "cells": [
  {
   "cell_type": "markdown",
   "id": "c91a1312",
   "metadata": {},
   "source": [
    "# Segmentation Algorithm Workflows\n",
    "\n",
    "This notebook demonstrates IceFloeTracker.jl's segmentation algorithms \n",
    "with very basic examples of their use."
   ]
  },
  {
   "cell_type": "code",
   "execution_count": null,
   "id": "36b9e617",
   "metadata": {},
   "outputs": [
    {
     "name": "stderr",
     "output_type": "stream",
     "text": [
      "\u001b[32m\u001b[1m     Cloning\u001b[22m\u001b[39m git-repo `/workspaces/IceFloeTracker.jl`\n",
      "\u001b[32m\u001b[1m    Updating\u001b[22m\u001b[39m git-repo `/workspaces/IceFloeTracker.jl`\n",
      "\u001b[32m\u001b[1m   Resolving\u001b[22m\u001b[39m package versions...\n",
      "\u001b[32m\u001b[1m   Installed\u001b[22m\u001b[39m Xorg_xkbcomp_jll ───────────── v1.4.7+0\n",
      "\u001b[32m\u001b[1m   Installed\u001b[22m\u001b[39m libdecor_jll ───────────────── v0.2.2+0\n",
      "\u001b[32m\u001b[1m   Installed\u001b[22m\u001b[39m libfdk_aac_jll ─────────────── v2.0.4+0\n",
      "\u001b[32m\u001b[1m   Installed\u001b[22m\u001b[39m Opus_jll ───────────────────── v1.5.2+0\n",
      "\u001b[32m\u001b[1m   Installed\u001b[22m\u001b[39m x265_jll ───────────────────── v4.1.0+0\n",
      "\u001b[32m\u001b[1m   Installed\u001b[22m\u001b[39m Libmount_jll ───────────────── v2.41.1+0\n",
      "\u001b[32m\u001b[1m   Installed\u001b[22m\u001b[39m RelocatableFolders ─────────── v1.0.1\n",
      "\u001b[32m\u001b[1m   Installed\u001b[22m\u001b[39m GR_jll ─────────────────────── v0.73.17+0\n",
      "\u001b[32m\u001b[1m   Installed\u001b[22m\u001b[39m Measures ───────────────────── v0.3.2\n",
      "\u001b[32m\u001b[1m   Installed\u001b[22m\u001b[39m Xorg_xcb_util_image_jll ────── v0.4.1+0\n",
      "\u001b[32m\u001b[1m   Installed\u001b[22m\u001b[39m Grisu ──────────────────────── v1.0.2\n",
      "\u001b[32m\u001b[1m   Installed\u001b[22m\u001b[39m Xorg_xcb_util_wm_jll ───────── v0.4.2+0\n",
      "\u001b[32m\u001b[1m   Installed\u001b[22m\u001b[39m Unitful ────────────────────── v1.24.0\n",
      "\u001b[32m\u001b[1m   Installed\u001b[22m\u001b[39m Contour ────────────────────── v0.6.3\n",
      "\u001b[32m\u001b[1m   Installed\u001b[22m\u001b[39m PlotUtils ──────────────────── v1.4.3\n",
      "\u001b[32m\u001b[1m   Installed\u001b[22m\u001b[39m RecipesPipeline ────────────── v0.6.12\n",
      "\u001b[32m\u001b[1m   Installed\u001b[22m\u001b[39m Xorg_xcb_util_jll ──────────── v0.4.1+0\n",
      "\u001b[32m\u001b[1m   Installed\u001b[22m\u001b[39m Xorg_libSM_jll ─────────────── v1.2.6+0\n",
      "\u001b[32m\u001b[1m   Installed\u001b[22m\u001b[39m Cairo_jll ──────────────────── v1.18.5+0\n",
      "\u001b[32m\u001b[1m   Installed\u001b[22m\u001b[39m Fontconfig_jll ─────────────── v2.17.1+0\n",
      "\u001b[32m\u001b[1m   Installed\u001b[22m\u001b[39m Xorg_libXinerama_jll ───────── v1.1.6+0\n",
      "\u001b[32m\u001b[1m   Installed\u001b[22m\u001b[39m Xorg_libxkbfile_jll ────────── v1.1.3+0\n",
      "\u001b[32m\u001b[1m   Installed\u001b[22m\u001b[39m EpollShim_jll ──────────────── v0.0.20230411+1\n",
      "\u001b[32m\u001b[1m   Installed\u001b[22m\u001b[39m Pango_jll ──────────────────── v1.56.3+0\n",
      "\u001b[32m\u001b[1m   Installed\u001b[22m\u001b[39m FFMPEG ─────────────────────── v0.4.4\n",
      "\u001b[32m\u001b[1m   Installed\u001b[22m\u001b[39m Xorg_xcb_util_keysyms_jll ──── v0.4.1+0\n",
      "\u001b[32m\u001b[1m   Installed\u001b[22m\u001b[39m xkbcommon_jll ──────────────── v1.9.2+0\n",
      "\u001b[32m\u001b[1m   Installed\u001b[22m\u001b[39m HarfBuzz_jll ───────────────── v8.5.1+0\n",
      "\u001b[32m\u001b[1m   Installed\u001b[22m\u001b[39m PlotThemes ─────────────────── v3.3.0\n",
      "\u001b[32m\u001b[1m   Installed\u001b[22m\u001b[39m fzf_jll ────────────────────── v0.61.1+0\n",
      "\u001b[32m\u001b[1m   Installed\u001b[22m\u001b[39m LZO_jll ────────────────────── v2.10.3+0\n",
      "\u001b[32m\u001b[1m   Installed\u001b[22m\u001b[39m Showoff ────────────────────── v1.0.3\n",
      "\u001b[32m\u001b[1m   Installed\u001b[22m\u001b[39m GLFW_jll ───────────────────── v3.4.0+2\n",
      "\u001b[32m\u001b[1m   Installed\u001b[22m\u001b[39m x264_jll ───────────────────── v10164.0.1+0\n",
      "\u001b[32m\u001b[1m   Installed\u001b[22m\u001b[39m FriBidi_jll ────────────────── v1.0.17+0\n",
      "\u001b[32m\u001b[1m   Installed\u001b[22m\u001b[39m UnicodeFun ─────────────────── v0.4.1\n",
      "\u001b[32m\u001b[1m   Installed\u001b[22m\u001b[39m GR ─────────────────────────── v0.73.17\n",
      "\u001b[32m\u001b[1m   Installed\u001b[22m\u001b[39m FreeType2_jll ──────────────── v2.13.4+0\n",
      "\u001b[32m\u001b[1m   Installed\u001b[22m\u001b[39m mtdev_jll ──────────────────── v1.1.7+0\n",
      "\u001b[32m\u001b[1m   Installed\u001b[22m\u001b[39m JLFzf ──────────────────────── v0.1.11\n",
      "\u001b[32m\u001b[1m   Installed\u001b[22m\u001b[39m eudev_jll ──────────────────── v3.2.14+0\n",
      "\u001b[32m\u001b[1m   Installed\u001b[22m\u001b[39m Dbus_jll ───────────────────── v1.16.2+0\n",
      "\u001b[32m\u001b[1m   Installed\u001b[22m\u001b[39m libaom_jll ─────────────────── v3.12.1+0\n",
      "\u001b[32m\u001b[1m   Installed\u001b[22m\u001b[39m Plots ──────────────────────── v1.40.19\n",
      "\u001b[32m\u001b[1m   Installed\u001b[22m\u001b[39m Xorg_libXrender_jll ────────── v0.9.12+0\n",
      "\u001b[32m\u001b[1m   Installed\u001b[22m\u001b[39m Xorg_xcb_util_cursor_jll ───── v0.1.5+0\n",
      "\u001b[32m\u001b[1m   Installed\u001b[22m\u001b[39m Format ─────────────────────── v1.3.7\n",
      "\u001b[32m\u001b[1m   Installed\u001b[22m\u001b[39m Libffi_jll ─────────────────── v3.4.7+0\n",
      "\u001b[32m\u001b[1m   Installed\u001b[22m\u001b[39m libinput_jll ───────────────── v1.28.1+0\n",
      "\u001b[32m\u001b[1m   Installed\u001b[22m\u001b[39m libevdev_jll ───────────────── v1.13.4+0\n",
      "\u001b[32m\u001b[1m   Installed\u001b[22m\u001b[39m Ogg_jll ────────────────────── v1.3.6+0\n",
      "\u001b[32m\u001b[1m   Installed\u001b[22m\u001b[39m Xorg_libXi_jll ─────────────── v1.8.3+0\n",
      "\u001b[32m\u001b[1m   Installed\u001b[22m\u001b[39m Qt6ShaderTools_jll ─────────── v6.8.2+1\n",
      "\u001b[32m\u001b[1m   Installed\u001b[22m\u001b[39m Vulkan_Loader_jll ──────────── v1.3.243+0\n",
      "\u001b[32m\u001b[1m   Installed\u001b[22m\u001b[39m Qt6Declarative_jll ─────────── v6.8.2+1\n",
      "\u001b[32m\u001b[1m   Installed\u001b[22m\u001b[39m Xorg_libXcursor_jll ────────── v1.2.4+0\n",
      "\u001b[32m\u001b[1m   Installed\u001b[22m\u001b[39m Libuuid_jll ────────────────── v2.41.1+0\n",
      "\u001b[32m\u001b[1m   Installed\u001b[22m\u001b[39m Xorg_libICE_jll ────────────── v1.1.2+0\n",
      "\u001b[32m\u001b[1m   Installed\u001b[22m\u001b[39m Xorg_xcb_util_renderutil_jll ─ v0.3.10+0\n",
      "\u001b[32m\u001b[1m   Installed\u001b[22m\u001b[39m Graphite2_jll ──────────────── v1.3.15+0\n",
      "\u001b[32m\u001b[1m   Installed\u001b[22m\u001b[39m libass_jll ─────────────────── v0.17.4+0\n",
      "\u001b[32m\u001b[1m   Installed\u001b[22m\u001b[39m StableRNGs ─────────────────── v1.0.3\n",
      "\u001b[32m\u001b[1m   Installed\u001b[22m\u001b[39m Pixman_jll ─────────────────── v0.44.2+0\n",
      "\u001b[32m\u001b[1m   Installed\u001b[22m\u001b[39m Latexify ───────────────────── v0.16.9\n",
      "\u001b[32m\u001b[1m   Installed\u001b[22m\u001b[39m FFMPEG_jll ─────────────────── v7.1.1+0\n",
      "\u001b[32m\u001b[1m   Installed\u001b[22m\u001b[39m Wayland_jll ────────────────── v1.24.0+0\n",
      "\u001b[32m\u001b[1m   Installed\u001b[22m\u001b[39m Xorg_xkeyboard_config_jll ──── v2.44.0+0\n",
      "\u001b[32m\u001b[1m   Installed\u001b[22m\u001b[39m Xorg_libXrandr_jll ─────────── v1.5.5+0\n",
      "\u001b[32m\u001b[1m   Installed\u001b[22m\u001b[39m Xorg_libXfixes_jll ─────────── v6.0.1+0\n",
      "\u001b[32m\u001b[1m   Installed\u001b[22m\u001b[39m LAME_jll ───────────────────── v3.100.3+0\n",
      "\u001b[32m\u001b[1m   Installed\u001b[22m\u001b[39m Qt6Wayland_jll ─────────────── v6.8.2+1\n",
      "\u001b[32m\u001b[1m   Installed\u001b[22m\u001b[39m GettextRuntime_jll ─────────── v0.22.4+0\n",
      "\u001b[32m\u001b[1m   Installed\u001b[22m\u001b[39m libvorbis_jll ──────────────── v1.3.8+0\n",
      "\u001b[32m\u001b[1m   Installed\u001b[22m\u001b[39m Glib_jll ───────────────────── v2.84.3+0\n",
      "\u001b[32m\u001b[1m   Installed\u001b[22m\u001b[39m Qt6Base_jll ────────────────── v6.8.2+1\n",
      "\u001b[32m\u001b[1m   Installed\u001b[22m\u001b[39m Unzip ──────────────────────── v0.2.0\n",
      "\u001b[32m\u001b[1m   Installed\u001b[22m\u001b[39m UnitfulLatexify ────────────── v1.7.0\n",
      "\u001b[32m\u001b[1m    Updating\u001b[22m\u001b[39m `/workspaces/IceFloeTracker.jl/notebooks/Project.toml`\n",
      "  \u001b[90m[04643c7a] \u001b[39m\u001b[93m~ IceFloeTracker v0.9.0 ⇒ v0.9.0 `..#add-devcontainer-configuration`\u001b[39m\n",
      "\u001b[32m\u001b[1m    Updating\u001b[22m\u001b[39m `/workspaces/IceFloeTracker.jl/notebooks/Manifest.toml`\n",
      "  \u001b[90m[5d742f6a] \u001b[39m\u001b[92m+ CSVFiles v1.0.2\u001b[39m\n",
      "  \u001b[90m[e7dc6d0d] \u001b[39m\u001b[92m+ DataValues v0.4.13\u001b[39m\n",
      "  \u001b[90m[497a8b3b] \u001b[39m\u001b[92m+ DoubleFloats v1.4.3\u001b[39m\n",
      "  \u001b[90m[14197337] \u001b[39m\u001b[92m+ GenericLinearAlgebra v0.3.18\u001b[39m\n",
      "  \u001b[90m[04643c7a] \u001b[39m\u001b[93m~ IceFloeTracker v0.9.0 ⇒ v0.9.0 `..#add-devcontainer-configuration`\u001b[39m\n",
      "  \u001b[90m[1c8ee90f] \u001b[39m\u001b[92m+ IterableTables v1.0.0\u001b[39m\n",
      "  \u001b[90m[4d1e1d77] \u001b[39m\u001b[92m+ Nullables v1.0.0\u001b[39m\n",
      "  \u001b[90m[be4d8f0f] \u001b[39m\u001b[92m+ Quadmath v0.5.13\u001b[39m\n",
      "  \u001b[90m[5e66a065] \u001b[39m\u001b[92m+ TableShowUtils v0.2.6\u001b[39m\n",
      "  \u001b[90m[382cd787] \u001b[39m\u001b[92m+ TableTraitsUtils v1.0.2\u001b[39m\n",
      "  \u001b[90m[e0df1984] \u001b[39m\u001b[92m+ TextParse v1.0.3\u001b[39m\n",
      "\u001b[92m\u001b[1mPrecompiling\u001b[22m\u001b[39m project...\n",
      "   1894.9 ms\u001b[32m  ✓ \u001b[39m\u001b[90mWorkerUtilities\u001b[39m\n",
      "   1849.9 ms\u001b[32m  ✓ \u001b[39m\u001b[90mGraphite2_jll\u001b[39m\n",
      "   1793.4 ms\u001b[32m  ✓ \u001b[39m\u001b[90mContour\u001b[39m\n",
      "   1789.9 ms\u001b[32m  ✓ \u001b[39m\u001b[90mMeasures\u001b[39m\n",
      "   1787.6 ms\u001b[32m  ✓ \u001b[39m\u001b[90mStableRNGs\u001b[39m\n",
      "   1783.3 ms\u001b[32m  ✓ \u001b[39m\u001b[90mRelocatableFolders\u001b[39m\n",
      "   1786.7 ms\u001b[32m  ✓ \u001b[39m\u001b[90mUnzip\u001b[39m\n",
      "   1849.6 ms\u001b[32m  ✓ \u001b[39m\u001b[90mGrisu\u001b[39m\n",
      "   1955.8 ms\u001b[32m  ✓ \u001b[39m\u001b[90mFormat\u001b[39m\n",
      "    708.6 ms\u001b[32m  ✓ \u001b[39m\u001b[90mEpollShim_jll\u001b[39m\n",
      "    723.6 ms\u001b[32m  ✓ \u001b[39m\u001b[90mHwloc_jll\u001b[39m\n",
      "    773.0 ms\u001b[32m  ✓ \u001b[39m\u001b[90mfzf_jll\u001b[39m\n",
      "    851.9 ms\u001b[32m  ✓ \u001b[39m\u001b[90mXorg_libICE_jll\u001b[39m\n",
      "    877.5 ms\u001b[32m  ✓ \u001b[39m\u001b[90mLibmount_jll\u001b[39m\n",
      "    875.3 ms\u001b[32m  ✓ \u001b[39m\u001b[90mPixman_jll\u001b[39m\n",
      "    882.3 ms\u001b[32m  ✓ \u001b[39m\u001b[90mLAME_jll\u001b[39m\n",
      "    966.8 ms\u001b[32m  ✓ \u001b[39m\u001b[90mlibfdk_aac_jll\u001b[39m\n",
      "   2826.7 ms\u001b[32m  ✓ \u001b[39m\u001b[90mUnicodeFun\u001b[39m\n",
      "    895.3 ms\u001b[32m  ✓ \u001b[39m\u001b[90mOgg_jll\u001b[39m\n",
      "    664.9 ms\u001b[32m  ✓ \u001b[39m\u001b[90mx265_jll\u001b[39m\n",
      "    700.6 ms\u001b[32m  ✓ \u001b[39m\u001b[90mmtdev_jll\u001b[39m\n",
      "    658.7 ms\u001b[32m  ✓ \u001b[39m\u001b[90mx264_jll\u001b[39m\n",
      "    623.2 ms\u001b[32m  ✓ \u001b[39m\u001b[90mlibaom_jll\u001b[39m\n",
      "    611.5 ms\u001b[32m  ✓ \u001b[39m\u001b[90mOpus_jll\u001b[39m\n",
      "    644.2 ms\u001b[32m  ✓ \u001b[39m\u001b[90mLZO_jll\u001b[39m\n",
      "    682.5 ms\u001b[32m  ✓ \u001b[39m\u001b[90mlibevdev_jll\u001b[39m\n",
      "    664.7 ms\u001b[32m  ✓ \u001b[39m\u001b[90meudev_jll\u001b[39m\n",
      "    667.3 ms\u001b[32m  ✓ \u001b[39m\u001b[90mLibffi_jll\u001b[39m\n",
      "    654.0 ms\u001b[32m  ✓ \u001b[39m\u001b[90mFriBidi_jll\u001b[39m\n",
      "    715.9 ms\u001b[32m  ✓ \u001b[39m\u001b[90mLibuuid_jll\u001b[39m\n",
      "    854.7 ms\u001b[32m  ✓ \u001b[39m\u001b[90mXorg_xcb_util_jll\u001b[39m\n",
      "    919.1 ms\u001b[32m  ✓ \u001b[39m\u001b[90mDbus_jll\u001b[39m\n",
      "    939.5 ms\u001b[32m  ✓ \u001b[39m\u001b[90mFreeType2_jll\u001b[39m\n",
      "    984.7 ms\u001b[32m  ✓ \u001b[39m\u001b[90mGettextRuntime_jll\u001b[39m\n",
      "    939.6 ms\u001b[32m  ✓ \u001b[39m\u001b[90mXorg_libxkbfile_jll\u001b[39m\n",
      "   1219.1 ms\u001b[32m  ✓ \u001b[39m\u001b[90mFilePathsBase\u001b[39m\n",
      "   1116.7 ms\u001b[32m  ✓ \u001b[39m\u001b[90mXorg_libXrender_jll\u001b[39m\n",
      "   1071.6 ms\u001b[32m  ✓ \u001b[39m\u001b[90mXorg_libXfixes_jll\u001b[39m\n",
      "   1064.7 ms\u001b[32m  ✓ \u001b[39m\u001b[90mXorg_libXinerama_jll\u001b[39m\n",
      "    577.8 ms\u001b[32m  ✓ \u001b[39m\u001b[90mShowoff\u001b[39m\n",
      "    673.7 ms\u001b[32m  ✓ \u001b[39m\u001b[90mXorg_libSM_jll\u001b[39m\n",
      "    768.1 ms\u001b[32m  ✓ \u001b[39m\u001b[90mXorg_xcb_util_image_jll\u001b[39m\n",
      "    787.1 ms\u001b[32m  ✓ \u001b[39m\u001b[90mWayland_jll\u001b[39m\n",
      "    875.4 ms\u001b[32m  ✓ \u001b[39m\u001b[90mlibvorbis_jll\u001b[39m\n",
      "    877.8 ms\u001b[32m  ✓ \u001b[39m\u001b[90mlibinput_jll\u001b[39m\n",
      "   1150.2 ms\u001b[32m  ✓ \u001b[39m\u001b[90mJLFzf\u001b[39m\n",
      "    976.2 ms\u001b[32m  ✓ \u001b[39m\u001b[90mXorg_xcb_util_keysyms_jll\u001b[39m\n",
      "   1815.4 ms\u001b[32m  ✓ \u001b[39m\u001b[90mMPICH_jll\u001b[39m\n",
      "   1142.2 ms\u001b[32m  ✓ \u001b[39m\u001b[90mXorg_xcb_util_renderutil_jll\u001b[39m\n",
      "    848.0 ms\u001b[32m  ✓ \u001b[39m\u001b[90mXorg_xkbcomp_jll\u001b[39m\n",
      "    794.8 ms\u001b[32m  ✓ \u001b[39m\u001b[90mFilePathsBase → FilePathsBaseMmapExt\u001b[39m\n",
      "    975.5 ms\u001b[32m  ✓ \u001b[39m\u001b[90mXorg_xcb_util_wm_jll\u001b[39m\n",
      "    958.3 ms\u001b[32m  ✓ \u001b[39m\u001b[90mFontconfig_jll\u001b[39m\n",
      "   1115.1 ms\u001b[32m  ✓ \u001b[39m\u001b[90mGlib_jll\u001b[39m\n",
      "    656.3 ms\u001b[32m  ✓ \u001b[39m\u001b[90mXorg_libXrandr_jll\u001b[39m\n",
      "   1200.9 ms\u001b[32m  ✓ \u001b[39m\u001b[90mFilePathsBase → FilePathsBaseTestExt\u001b[39m\n",
      "    738.0 ms\u001b[32m  ✓ \u001b[39m\u001b[90mXorg_libXi_jll\u001b[39m\n",
      "    791.8 ms\u001b[32m  ✓ \u001b[39m\u001b[90mXorg_libXcursor_jll\u001b[39m\n",
      "    752.3 ms\u001b[32m  ✓ \u001b[39m\u001b[90mXorg_xkeyboard_config_jll\u001b[39m\n",
      "    805.0 ms\u001b[32m  ✓ \u001b[39m\u001b[90mXorg_xcb_util_cursor_jll\u001b[39m\n",
      "   3201.2 ms\u001b[32m  ✓ \u001b[39m\u001b[90mLatexify\u001b[39m\n",
      "    771.6 ms\u001b[32m  ✓ \u001b[39m\u001b[90mCairo_jll\u001b[39m\n",
      "    639.4 ms\u001b[32m  ✓ \u001b[39m\u001b[90mxkbcommon_jll\u001b[39m\n",
      "    573.2 ms\u001b[32m  ✓ \u001b[39m\u001b[90mLatexify → SparseArraysExt\u001b[39m\n",
      "   1772.1 ms\u001b[32m  ✓ \u001b[39m\u001b[90mHDF5_jll\u001b[39m\n",
      "    675.5 ms\u001b[32m  ✓ \u001b[39m\u001b[90mHarfBuzz_jll\u001b[39m\n",
      "    581.7 ms\u001b[32m  ✓ \u001b[39m\u001b[90mVulkan_Loader_jll\u001b[39m\n",
      "   1094.7 ms\u001b[32m  ✓ \u001b[39m\u001b[90mLatexify → DataFramesExt\u001b[39m\n",
      "    573.6 ms\u001b[32m  ✓ \u001b[39m\u001b[90mlibass_jll\u001b[39m\n",
      "    637.3 ms\u001b[32m  ✓ \u001b[39m\u001b[90mPango_jll\u001b[39m\n",
      "    848.4 ms\u001b[32m  ✓ \u001b[39m\u001b[90mQt6Base_jll\u001b[39m\n",
      "   1182.0 ms\u001b[32m  ✓ \u001b[39m\u001b[90mNetCDF_jll\u001b[39m\n",
      "    611.8 ms\u001b[32m  ✓ \u001b[39m\u001b[90mlibdecor_jll\u001b[39m\n",
      "    807.6 ms\u001b[32m  ✓ \u001b[39m\u001b[90mFFMPEG_jll\u001b[39m\n",
      "    640.6 ms\u001b[32m  ✓ \u001b[39m\u001b[90mQt6ShaderTools_jll\u001b[39m\n",
      "    630.3 ms\u001b[32m  ✓ \u001b[39m\u001b[90mGLFW_jll\u001b[39m\n",
      "    532.0 ms\u001b[32m  ✓ \u001b[39m\u001b[90mFFMPEG\u001b[39m\n",
      "    685.8 ms\u001b[32m  ✓ \u001b[39m\u001b[90mGR_jll\u001b[39m\n",
      "   2086.4 ms\u001b[32m  ✓ \u001b[39m\u001b[90mGDAL_jll\u001b[39m\n",
      "   1650.5 ms\u001b[32m  ✓ \u001b[39m\u001b[90mQt6Declarative_jll\u001b[39m\n",
      "   8125.0 ms\u001b[32m  ✓ \u001b[39m\u001b[90mPlotUtils\u001b[39m\n",
      "    781.5 ms\u001b[32m  ✓ \u001b[39m\u001b[90mQt6Wayland_jll\u001b[39m\n",
      "   6340.6 ms\u001b[32m  ✓ \u001b[39m\u001b[90mHDF5\u001b[39m\n",
      "   2427.2 ms\u001b[32m  ✓ \u001b[39m\u001b[90mPlotThemes\u001b[39m\n",
      "   3222.2 ms\u001b[32m  ✓ \u001b[39m\u001b[90mGDAL\u001b[39m\n",
      "   3496.1 ms\u001b[32m  ✓ \u001b[39m\u001b[90mGR\u001b[39m\n",
      "   4142.6 ms\u001b[32m  ✓ \u001b[39m\u001b[90mRecipesPipeline\u001b[39m\n",
      "  18322.7 ms\u001b[32m  ✓ \u001b[39m\u001b[90mUnitful\u001b[39m\n",
      "  12124.7 ms\u001b[32m  ✓ \u001b[39mCSV\n",
      "    490.8 ms\u001b[32m  ✓ \u001b[39m\u001b[90mUnitful → ConstructionBaseUnitfulExt\u001b[39m\n",
      "    500.3 ms\u001b[32m  ✓ \u001b[39m\u001b[90mUnitful → PrintfExt\u001b[39m\n",
      "    847.2 ms\u001b[32m  ✓ \u001b[39m\u001b[90mInterpolations → InterpolationsUnitfulExt\u001b[39m\n",
      "    707.8 ms\u001b[32m  ✓ \u001b[39m\u001b[90mUnitfulLatexify\u001b[39m\n",
      "   9232.5 ms\u001b[32m  ✓ \u001b[39m\u001b[90mArchGDAL\u001b[39m\n",
      "   1468.8 ms\u001b[32m  ✓ \u001b[39m\u001b[90mArchGDAL → ArchGDALRecipesBaseExt\u001b[39m\n",
      "   1661.7 ms\u001b[32m  ✓ \u001b[39m\u001b[90mArchGDAL → ArchGDALJLD2Ext\u001b[39m\n",
      "   6850.3 ms\u001b[32m  ✓ \u001b[39mIceFloeTracker\n",
      "  38964.0 ms\u001b[32m  ✓ \u001b[39mPlots\n",
      "   2730.6 ms\u001b[32m  ✓ \u001b[39mPlots → UnitfulExt\n",
      "   2905.5 ms\u001b[32m  ✓ \u001b[39mPlots → FileIOExt\n",
      "  100 dependencies successfully precompiled in 64 seconds. 316 already precompiled.\n",
      "\u001b[32m\u001b[1m   Resolving\u001b[22m\u001b[39m package versions...\n",
      "\u001b[32m\u001b[1m  No Changes\u001b[22m\u001b[39m to `/workspaces/IceFloeTracker.jl/notebooks/Project.toml`\n",
      "\u001b[32m\u001b[1m  No Changes\u001b[22m\u001b[39m to `/workspaces/IceFloeTracker.jl/notebooks/Manifest.toml`\n"
     ]
    }
   ],
   "source": [
    "# Setup environment\n",
    "using Pkg\n",
    "Pkg.add(\"IceFloeTracker\")\n",
    "Pkg.add(\"Images\")"
   ]
  },
  {
   "cell_type": "code",
   "execution_count": null,
   "id": "540a6fdf",
   "metadata": {},
   "outputs": [],
   "source": [
    "# Load packages\n",
    "using IceFloeTracker: LopezAcosta2019, LopezAcosta2019Tiling, Watkins2025GitHub\n",
    "using Images: segment_mean, labels_map, SegmentedImage, RGB"
   ]
  },
  {
   "cell_type": "markdown",
   "id": "7fb699cc",
   "metadata": {},
   "source": [
    "## Load the images"
   ]
  },
  {
   "cell_type": "markdown",
   "id": "1cee5be3",
   "metadata": {},
   "source": [
    "Load the dataset from https://github.com/danielmwatkins/ice_floe_validation_dataset using the `Watkins2025GitHub` data loader."
   ]
  },
  {
   "cell_type": "code",
   "execution_count": null,
   "id": "ab3f52b9",
   "metadata": {},
   "outputs": [],
   "source": [
    "data_loader = Watkins2025GitHub(; ref=\"a451cd5e62a10309a9640fbbe6b32a236fcebc70\")"
   ]
  },
  {
   "cell_type": "markdown",
   "id": "04279dc0",
   "metadata": {},
   "source": [
    "The available data are listed in the metadata field:"
   ]
  },
  {
   "cell_type": "code",
   "execution_count": null,
   "id": "78b345e7",
   "metadata": {},
   "outputs": [],
   "source": [
    "data_loader().metadata"
   ]
  },
  {
   "cell_type": "markdown",
   "id": "f0b9f433",
   "metadata": {},
   "source": [
    "For the example, we choose a single case from Baffin Bay in May 2022."
   ]
  },
  {
   "cell_type": "code",
   "execution_count": null,
   "id": "e64ae637",
   "metadata": {},
   "outputs": [],
   "source": [
    "dataset = data_loader(c-> c.case_number == 6 && c.satellite == \"terra\")\n",
    "case = first(dataset)"
   ]
  },
  {
   "cell_type": "markdown",
   "id": "ae6311c9",
   "metadata": {},
   "source": [
    "The data include the true-color image:"
   ]
  },
  {
   "cell_type": "code",
   "execution_count": null,
   "id": "cfd48e55",
   "metadata": {},
   "outputs": [],
   "source": [
    "truecolor = RGB.(case.modis_truecolor) # TODO: remove RGB cast"
   ]
  },
  {
   "cell_type": "markdown",
   "id": "03fa25f3",
   "metadata": {},
   "source": [
    "... a false-color image:"
   ]
  },
  {
   "cell_type": "code",
   "execution_count": null,
   "id": "cef29387",
   "metadata": {},
   "outputs": [],
   "source": [
    "falsecolor = RGB.(case.modis_falsecolor) # TODO: remove RGB cast"
   ]
  },
  {
   "cell_type": "markdown",
   "id": "46ba7b52",
   "metadata": {},
   "source": [
    "... and a landmask, which in this particular case is empty:"
   ]
  },
  {
   "cell_type": "code",
   "execution_count": null,
   "id": "ab957d3c",
   "metadata": {},
   "outputs": [],
   "source": [
    "landmask = RGB.(case.modis_landmask) # TODO: remove RGB cast"
   ]
  },
  {
   "cell_type": "markdown",
   "id": "0b8877c7",
   "metadata": {},
   "source": [
    "## Run the segmentation algorithm"
   ]
  },
  {
   "cell_type": "markdown",
   "id": "5f3319ff",
   "metadata": {},
   "source": [
    "The segmentation algorithm is an object with parameters as follows:"
   ]
  },
  {
   "cell_type": "code",
   "execution_count": null,
   "id": "7683c488",
   "metadata": {},
   "outputs": [],
   "source": [
    "segmentation_algorithm = LopezAcosta2019()"
   ]
  },
  {
   "cell_type": "markdown",
   "id": "03767bc9",
   "metadata": {},
   "source": [
    "If we wanted to modify the options, we could include those in the call above. \n",
    "See the documentation for `LopezAcosta2019` for details.\n",
    "The default parameters are as follows:"
   ]
  },
  {
   "cell_type": "code",
   "execution_count": null,
   "id": "cc4cf7d5",
   "metadata": {},
   "outputs": [],
   "source": [
    "dump(segmentation_algorithm)"
   ]
  },
  {
   "cell_type": "markdown",
   "id": "9a01144e",
   "metadata": {},
   "source": [
    "Run the algorithm as follows:"
   ]
  },
  {
   "cell_type": "code",
   "execution_count": null,
   "id": "d3d68a16",
   "metadata": {},
   "outputs": [],
   "source": [
    "segments = segmentation_algorithm(truecolor, falsecolor, landmask)"
   ]
  },
  {
   "cell_type": "markdown",
   "id": "808c8e5e",
   "metadata": {},
   "source": [
    "To show the results with each segment marked using its mean color:"
   ]
  },
  {
   "cell_type": "code",
   "execution_count": null,
   "id": "3986e554",
   "metadata": {},
   "outputs": [],
   "source": [
    "map(i -> segment_mean(segments, i), labels_map(segments))"
   ]
  },
  {
   "cell_type": "markdown",
   "id": "703627d9",
   "metadata": {},
   "source": [
    "We can do the same with the falsecolor image:"
   ]
  },
  {
   "cell_type": "code",
   "execution_count": null,
   "id": "513793ea",
   "metadata": {},
   "outputs": [],
   "source": [
    "# Get the labels_map\n",
    "segments_falsecolor = SegmentedImage(falsecolor, labels_map(segments))\n",
    "map(i -> segment_mean(segments_falsecolor, i), labels_map(segments_falsecolor))"
   ]
  },
  {
   "cell_type": "markdown",
   "id": "7362b44e",
   "metadata": {},
   "source": [
    "## Run the segmentation algorithm with tiling\n",
    "The \"tiling\" version of the algorithm is an object:"
   ]
  },
  {
   "cell_type": "code",
   "execution_count": null,
   "id": "a512a53c",
   "metadata": {},
   "outputs": [],
   "source": [
    "segmentation_algorithm_with_tiling = LopezAcosta2019Tiling()"
   ]
  },
  {
   "cell_type": "markdown",
   "id": "bcac70a3",
   "metadata": {},
   "source": [
    "It has more configurable parameters. \n",
    "For details, see the documentation of LopezAcosta2019Tiling.\n",
    "The default parameters are as follows:"
   ]
  },
  {
   "cell_type": "code",
   "execution_count": null,
   "id": "e741453a",
   "metadata": {},
   "outputs": [],
   "source": [
    "dump(segmentation_algorithm_with_tiling)"
   ]
  },
  {
   "cell_type": "code",
   "execution_count": null,
   "id": "61ab593f",
   "metadata": {},
   "outputs": [],
   "source": [
    "display(\"text/markdown\", @doc LopezAcosta2019Tiling)"
   ]
  },
  {
   "cell_type": "code",
   "execution_count": null,
   "id": "17a38c62",
   "metadata": {},
   "outputs": [],
   "source": [
    "segments = segmentation_algorithm_with_tiling(truecolor, falsecolor, landmask)"
   ]
  },
  {
   "cell_type": "markdown",
   "id": "ef74d492",
   "metadata": {},
   "source": [
    "To show the results with each segment marked using its mean color:"
   ]
  },
  {
   "cell_type": "code",
   "execution_count": null,
   "id": "ee7a12dd",
   "metadata": {},
   "outputs": [],
   "source": [
    "map(i -> segment_mean(segments, i), labels_map(segments))"
   ]
  },
  {
   "cell_type": "markdown",
   "id": "8a34fba5",
   "metadata": {},
   "source": [
    "With the falsecolor image:"
   ]
  },
  {
   "cell_type": "code",
   "execution_count": null,
   "id": "bfbdec8e",
   "metadata": {},
   "outputs": [],
   "source": [
    "# Get the labels_map\n",
    "segments_falsecolor = SegmentedImage(falsecolor, labels_map(segments))\n",
    "map(i -> segment_mean(segments_falsecolor, i), labels_map(segments_falsecolor))"
   ]
  }
 ],
 "metadata": {
  "kernelspec": {
   "display_name": "Julia 1.11.6",
   "language": "julia",
   "name": "julia-1.11"
  },
  "language_info": {
   "file_extension": ".jl",
   "mimetype": "application/julia",
   "name": "julia",
   "version": "1.11.6"
  }
 },
 "nbformat": 4,
 "nbformat_minor": 5
}
