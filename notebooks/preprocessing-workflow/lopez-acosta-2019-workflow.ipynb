{
 "cells": [
  {
   "cell_type": "code",
   "execution_count": null,
   "id": "36b9e617",
   "metadata": {},
   "outputs": [],
   "source": [
    "# The notebook presently uses test images and some testing tools from the test directory.\n",
    "HOME = \"../..\" # path to the root of the project two levels up\n",
    "TEST = joinpath(HOME, \"test\")\n",
    "\n",
    "# Activate the environment\n",
    "using Pkg\n",
    "Pkg.activate(HOME)\n",
    "Pkg.precompile()"
   ]
  },
  {
   "cell_type": "code",
   "execution_count": null,
   "id": "540a6fdf",
   "metadata": {},
   "outputs": [],
   "source": [
    "# Load packages\n",
    "using IceFloeTracker: LopezAcosta2019, load\n",
    "using Images: segment_mean, labels_map, SegmentedImage"
   ]
  },
  {
   "cell_type": "markdown",
   "id": "7fb699cc",
   "metadata": {},
   "source": [
    "## Load the images"
   ]
  },
  {
   "cell_type": "code",
   "execution_count": null,
   "id": "e64ae637",
   "metadata": {},
   "outputs": [],
   "source": [
    "truecolor = load(joinpath(TEST, \"test_inputs/pipeline/input_pipeline/20220914.aqua.truecolor.250m.tiff\"))"
   ]
  },
  {
   "cell_type": "code",
   "execution_count": null,
   "id": "cef29387",
   "metadata": {},
   "outputs": [],
   "source": [
    "falsecolor = load(joinpath(TEST, \"test_inputs/pipeline/input_pipeline/20220914.aqua.reflectance.250m.tiff\"))\n"
   ]
  },
  {
   "cell_type": "code",
   "execution_count": null,
   "id": "ab957d3c",
   "metadata": {},
   "outputs": [],
   "source": [
    "landmask = load(joinpath(TEST, \"test_inputs/pipeline/input_pipeline/landmask.tiff\"))"
   ]
  },
  {
   "cell_type": "markdown",
   "id": "0b8877c7",
   "metadata": {},
   "source": [
    "## Run the algorithm"
   ]
  },
  {
   "cell_type": "markdown",
   "id": "5f3319ff",
   "metadata": {},
   "source": [
    "We instantiate the algorithm as an object with all of its parameters as follows:"
   ]
  },
  {
   "cell_type": "code",
   "execution_count": null,
   "id": "7683c488",
   "metadata": {},
   "outputs": [],
   "source": [
    "segmentation_algorithm = LopezAcosta2019()"
   ]
  },
  {
   "cell_type": "markdown",
   "id": "03767bc9",
   "metadata": {},
   "source": [
    "If we wanted to modify the options, we could include those in the call above. "
   ]
  },
  {
   "cell_type": "code",
   "execution_count": null,
   "id": "d3d68a16",
   "metadata": {},
   "outputs": [],
   "source": [
    "segments = segmentation_algorithm(truecolor, falsecolor, landmask)"
   ]
  },
  {
   "cell_type": "markdown",
   "id": "808c8e5e",
   "metadata": {},
   "source": [
    "To show the results with each segment marked using its mean color:"
   ]
  },
  {
   "cell_type": "code",
   "execution_count": null,
   "id": "3986e554",
   "metadata": {},
   "outputs": [],
   "source": [
    "map(i -> segment_mean(segments, i), labels_map(segments))"
   ]
  },
  {
   "cell_type": "markdown",
   "id": "703627d9",
   "metadata": {},
   "source": [
    "We can do the same with the falsecolor image:"
   ]
  },
  {
   "cell_type": "code",
   "execution_count": null,
   "id": "513793ea",
   "metadata": {},
   "outputs": [],
   "source": [
    "# Get the labels_map\n",
    "segments_falsecolor = SegmentedImage(falsecolor, labels_map(segments))\n",
    "map(i -> segment_mean(segments_falsecolor, i), labels_map(segments_falsecolor))"
   ]
  }
 ],
 "metadata": {
  "kernelspec": {
   "display_name": "Julia 1.11.5",
   "language": "julia",
   "name": "julia-1.11"
  },
  "language_info": {
   "file_extension": ".jl",
   "mimetype": "application/julia",
   "name": "julia",
   "version": "1.11.5"
  }
 },
 "nbformat": 4,
 "nbformat_minor": 5
}
