{
 "cells": [
  {
   "cell_type": "markdown",
   "id": "c91a1312",
   "metadata": {},
   "source": [
    "# Segmentation Algorithm Workflows\n",
    "\n",
    "This notebook demonstrates IceFloeTracker.jl's segmentation algorithms \n",
    "with very basic examples of their use."
   ]
  },
  {
   "cell_type": "code",
   "execution_count": null,
   "id": "36b9e617",
   "metadata": {},
   "outputs": [],
   "source": [
    "# The notebook presently uses test images and some testing tools from the test directory.\n",
    "HOME = \"../..\" # path to the root of the project two levels up\n",
    "\n",
    "# Activate the environment\n",
    "using Pkg\n",
    "Pkg.activate(HOME)\n",
    "Pkg.precompile()"
   ]
  },
  {
   "cell_type": "code",
   "execution_count": null,
   "id": "540a6fdf",
   "metadata": {},
   "outputs": [],
   "source": [
    "# Load packages\n",
    "using IceFloeTracker: LopezAcosta2019, LopezAcosta2019Tiling, Watkins2025GitHub\n",
    "using Images: segment_mean, labels_map, SegmentedImage, RGB"
   ]
  },
  {
   "cell_type": "markdown",
   "id": "7fb699cc",
   "metadata": {},
   "source": [
    "## Load the images"
   ]
  },
  {
   "cell_type": "markdown",
   "id": "1cee5be3",
   "metadata": {},
   "source": [
    "Load the dataset from https://github.com/danielmwatkins/ice_floe_validation_dataset using the `Watkins2025GitHub` data loader."
   ]
  },
  {
   "cell_type": "code",
   "execution_count": null,
   "id": "ab3f52b9",
   "metadata": {},
   "outputs": [],
   "source": [
    "data_loader = Watkins2025GitHub(; ref=\"a451cd5e62a10309a9640fbbe6b32a236fcebc70\")"
   ]
  },
  {
   "cell_type": "markdown",
   "id": "04279dc0",
   "metadata": {},
   "source": [
    "The available data are listed in the metadata field:"
   ]
  },
  {
   "cell_type": "code",
   "execution_count": null,
   "id": "78b345e7",
   "metadata": {},
   "outputs": [],
   "source": [
    "data_loader().metadata"
   ]
  },
  {
   "cell_type": "markdown",
   "id": "f0b9f433",
   "metadata": {},
   "source": [
    "For the example, we choose a single case from Baffin Bay in May 2022."
   ]
  },
  {
   "cell_type": "code",
   "execution_count": null,
   "id": "e64ae637",
   "metadata": {},
   "outputs": [],
   "source": [
    "dataset = data_loader(c-> c.case_number == 6 && c.satellite == \"terra\")\n",
    "case = first(dataset)"
   ]
  },
  {
   "cell_type": "markdown",
   "id": "ae6311c9",
   "metadata": {},
   "source": [
    "The data include the true-color image:"
   ]
  },
  {
   "cell_type": "code",
   "execution_count": null,
   "id": "cfd48e55",
   "metadata": {},
   "outputs": [],
   "source": [
    "truecolor = RGB.(case.modis_truecolor) # TODO: remove RGB cast"
   ]
  },
  {
   "cell_type": "markdown",
   "id": "03fa25f3",
   "metadata": {},
   "source": [
    "... a false-color image:"
   ]
  },
  {
   "cell_type": "code",
   "execution_count": null,
   "id": "cef29387",
   "metadata": {},
   "outputs": [],
   "source": [
    "falsecolor = RGB.(case.modis_falsecolor) # TODO: remove RGB cast"
   ]
  },
  {
   "cell_type": "markdown",
   "id": "46ba7b52",
   "metadata": {},
   "source": [
    "... and a landmask, which in this particular case is empty:"
   ]
  },
  {
   "cell_type": "code",
   "execution_count": null,
   "id": "ab957d3c",
   "metadata": {},
   "outputs": [],
   "source": [
    "landmask = RGB.(case.modis_landmask) # TODO: remove RGB cast"
   ]
  },
  {
   "cell_type": "markdown",
   "id": "0b8877c7",
   "metadata": {},
   "source": [
    "## Run the segmentation algorithm"
   ]
  },
  {
   "cell_type": "markdown",
   "id": "5f3319ff",
   "metadata": {},
   "source": [
    "The segmentation algorithm is an object with parameters as follows:"
   ]
  },
  {
   "cell_type": "code",
   "execution_count": null,
   "id": "7683c488",
   "metadata": {},
   "outputs": [],
   "source": [
    "segmentation_algorithm = LopezAcosta2019()"
   ]
  },
  {
   "cell_type": "markdown",
   "id": "03767bc9",
   "metadata": {},
   "source": [
    "If we wanted to modify the options, we could include those in the call above. \n",
    "See the documentation for `LopezAcosta2019` for details.\n",
    "The default parameters are as follows:"
   ]
  },
  {
   "cell_type": "code",
   "execution_count": 50,
   "id": "cc4cf7d5",
   "metadata": {},
   "outputs": [
    {
     "name": "stdout",
     "output_type": "stream",
     "text": [
      "LopezAcosta2019\n",
      "  landmask_structuring_element: Array{Bool}((99, 99)) Bool[0 0 … 0 0; 0 0 … 0 0; … ; 0 0 … 0 0; 0 0 … 0 0]\n"
     ]
    }
   ],
   "source": [
    "dump(segmentation_algorithm)"
   ]
  },
  {
   "cell_type": "markdown",
   "id": "9a01144e",
   "metadata": {},
   "source": [
    "Run the algorithm as follows:"
   ]
  },
  {
   "cell_type": "code",
   "execution_count": null,
   "id": "d3d68a16",
   "metadata": {},
   "outputs": [],
   "source": [
    "segments = segmentation_algorithm(truecolor, falsecolor, landmask)"
   ]
  },
  {
   "cell_type": "markdown",
   "id": "808c8e5e",
   "metadata": {},
   "source": [
    "To show the results with each segment marked using its mean color:"
   ]
  },
  {
   "cell_type": "code",
   "execution_count": null,
   "id": "3986e554",
   "metadata": {},
   "outputs": [],
   "source": [
    "map(i -> segment_mean(segments, i), labels_map(segments))"
   ]
  },
  {
   "cell_type": "markdown",
   "id": "703627d9",
   "metadata": {},
   "source": [
    "We can do the same with the falsecolor image:"
   ]
  },
  {
   "cell_type": "code",
   "execution_count": null,
   "id": "513793ea",
   "metadata": {},
   "outputs": [],
   "source": [
    "# Get the labels_map\n",
    "segments_falsecolor = SegmentedImage(falsecolor, labels_map(segments))\n",
    "map(i -> segment_mean(segments_falsecolor, i), labels_map(segments_falsecolor))"
   ]
  },
  {
   "cell_type": "markdown",
   "id": "7362b44e",
   "metadata": {},
   "source": [
    "## Run the segmentation algorithm with tiling\n",
    "The \"tiling\" version of the algorithm is an object:"
   ]
  },
  {
   "cell_type": "code",
   "execution_count": null,
   "id": "a512a53c",
   "metadata": {},
   "outputs": [],
   "source": [
    "segmentation_algorithm_with_tiling = LopezAcosta2019Tiling()"
   ]
  },
  {
   "cell_type": "markdown",
   "id": "bcac70a3",
   "metadata": {},
   "source": [
    "It has more configurable parameters. \n",
    "For details, see the documentation of LopezAcosta2019Tiling.\n",
    "The default parameters are as follows:"
   ]
  },
  {
   "cell_type": "code",
   "execution_count": 54,
   "id": "e741453a",
   "metadata": {},
   "outputs": [
    {
     "name": "stdout",
     "output_type": "stream",
     "text": [
      "LopezAcosta2019Tiling\n",
      "  tile_settings: @NamedTuple{rblocks::Int64, cblocks::Int64}\n",
      "    rblocks: Int64 2\n",
      "    cblocks: Int64 2\n",
      "  cloud_mask_thresholds: @NamedTuple{prelim_threshold::Float64, band_7_threshold::Float64, band_2_threshold::Float64, ratio_lower::Float64, ratio_upper::Float64, r_offset::Float64}\n",
      "    prelim_threshold: Float64 0.43137254901960786\n",
      "    band_7_threshold: Float64 0.7843137254901961\n",
      "    band_2_threshold: Float64 0.7450980392156863\n",
      "    ratio_lower: Float64 0.0\n",
      "    ratio_upper: Float64 0.75\n",
      "    r_offset: Float64 0.0\n",
      "  adapthisteq_params: @NamedTuple{white_threshold::Float64, entropy_threshold::Int64, white_fraction_threshold::Float64}\n",
      "    white_threshold: Float64 25.5\n",
      "    entropy_threshold: Int64 4\n",
      "    white_fraction_threshold: Float64 0.4\n",
      "  adjust_gamma_params: @NamedTuple{gamma::Float64, gamma_factor::Float64, gamma_threshold::Int64}\n",
      "    gamma: Float64 1.5\n",
      "    gamma_factor: Float64 1.3\n",
      "    gamma_threshold: Int64 220\n",
      "  structuring_elements: @NamedTuple{se_disk1::Matrix{Bool}, se_disk2::Matrix{Bool}, se_disk4::Matrix{Bool}}\n",
      "    se_disk1: Array{Bool}((3, 3)) Bool[0 1 0; 1 1 1; 0 1 0]\n",
      "    se_disk2: Array{Bool}((5, 5)) Bool[0 0 … 0 0; 0 1 … 1 0; … ; 0 1 … 1 0; 0 0 … 0 0]\n",
      "    se_disk4: Array{Bool}((7, 7)) Bool[0 0 … 0 0; 0 1 … 1 0; … ; 0 1 … 1 0; 0 0 … 0 0]\n",
      "  unsharp_mask_params: @NamedTuple{radius::Int64, amount::Float64, factor::Float64}\n",
      "    radius: Int64 10\n",
      "    amount: Float64 2.0\n",
      "    factor: Float64 255.0\n",
      "  ice_masks_params: @NamedTuple{band_7_threshold::Int64, band_2_threshold::Int64, band_1_threshold::Int64, band_7_threshold_relaxed::Int64, band_1_threshold_relaxed::Int64, possible_ice_threshold::Int64, k::Int64, factor::Int64}\n",
      "    band_7_threshold: Int64 5\n",
      "    band_2_threshold: Int64 230\n",
      "    band_1_threshold: Int64 240\n",
      "    band_7_threshold_relaxed: Int64 10\n",
      "    band_1_threshold_relaxed: Int64 190\n",
      "    possible_ice_threshold: Int64 75\n",
      "    k: Int64 3\n",
      "    factor: Int64 255\n",
      "  prelim_icemask_params: @NamedTuple{radius::Int64, amount::Int64, factor::Float64}\n",
      "    radius: Int64 10\n",
      "    amount: Int64 2\n",
      "    factor: Float64 0.5\n",
      "  brighten_factor: Float64 0.1\n"
     ]
    }
   ],
   "source": [
    "dump(segmentation_algorithm_with_tiling)"
   ]
  },
  {
   "cell_type": "code",
   "execution_count": null,
   "id": "61ab593f",
   "metadata": {},
   "outputs": [],
   "source": [
    "display(\"text/markdown\", @doc LopezAcosta2019Tiling)"
   ]
  },
  {
   "cell_type": "code",
   "execution_count": null,
   "id": "17a38c62",
   "metadata": {},
   "outputs": [],
   "source": [
    "segments = segmentation_algorithm_with_tiling(truecolor, falsecolor, landmask)"
   ]
  },
  {
   "cell_type": "markdown",
   "id": "ef74d492",
   "metadata": {},
   "source": [
    "To show the results with each segment marked using its mean color:"
   ]
  },
  {
   "cell_type": "code",
   "execution_count": null,
   "id": "ee7a12dd",
   "metadata": {},
   "outputs": [],
   "source": [
    "map(i -> segment_mean(segments, i), labels_map(segments))"
   ]
  },
  {
   "cell_type": "markdown",
   "id": "8a34fba5",
   "metadata": {},
   "source": [
    "With the falsecolor image:"
   ]
  },
  {
   "cell_type": "code",
   "execution_count": null,
   "id": "bfbdec8e",
   "metadata": {},
   "outputs": [],
   "source": [
    "# Get the labels_map\n",
    "segments_falsecolor = SegmentedImage(falsecolor, labels_map(segments))\n",
    "map(i -> segment_mean(segments_falsecolor, i), labels_map(segments_falsecolor))"
   ]
  }
 ],
 "metadata": {
  "kernelspec": {
   "display_name": "Julia 1.11.6",
   "language": "julia",
   "name": "julia-1.11"
  },
  "language_info": {
   "file_extension": ".jl",
   "mimetype": "application/julia",
   "name": "julia",
   "version": "1.11.6"
  }
 },
 "nbformat": 4,
 "nbformat_minor": 5
}
