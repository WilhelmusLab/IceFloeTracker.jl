{
 "cells": [
  {
   "attachments": {},
   "cell_type": "markdown",
   "metadata": {},
   "source": [
    "### 0. Understand your enviroment"
   ]
  },
  {
   "cell_type": "code",
   "execution_count": null,
   "metadata": {},
   "outputs": [],
   "source": [
    "# Setup environment\n",
    "using Pkg\n",
    "Pkg.add(\"IceFloeTracker\")\n",
    "Pkg.add(\"DelimitedFiles\", \"Distributed\")"
   ]
  },
  {
   "attachments": {},
   "cell_type": "markdown",
   "metadata": {},
   "source": [
    "### 1. Activate the IceFloeTracker package\n",
    "\n",
    "First activate the project environment, load things, and set up some paths."
   ]
  },
  {
   "cell_type": "code",
   "execution_count": null,
   "metadata": {},
   "outputs": [],
   "source": [
    "# The notebook presently uses test images and some testing tools from the test directory.\n",
    "HOME = \"../..\" # path to the root of the project two levels up\n",
    "TEST = joinpath(HOME, \"test\")\n",
    "\n",
    "# Load packages\n",
    "using IceFloeTracker\n",
    "using IceFloeTracker: float64, @test_approx_eq_sigma_eps, load, Gray\n",
    "using DelimitedFiles # for loading test data in csv format\n",
    "using Distributed # for parallel processing\n",
    "addprocs(1) # add a single worker process for watershed computation\n",
    "include(joinpath(TEST,\"config.jl\")) # loads some test data paths\n",
    "include(joinpath(TEST,\"test_error_rate.jl\")) # loads the `test_error_rate` function\n",
    "\n",
    "imshow(img) = Gray.(img)"
   ]
  },
  {
   "attachments": {},
   "cell_type": "markdown",
   "metadata": {},
   "source": [
    "## 1. Landmask generation"
   ]
  },
  {
   "cell_type": "code",
   "execution_count": null,
   "metadata": {},
   "outputs": [],
   "source": [
    "#= 1. Load coastline\n",
    "Note: #test region is the upper third of the full size image and set in the config.jl file in the test dir =#\n",
    "@time coastline = load(joinpath(TEST, landmask_file))[test_region...];\n",
    "# 14.208780 seconds (107.31 M allocations: 7.933 GiB, 9.32% gc time)"
   ]
  },
  {
   "cell_type": "code",
   "execution_count": null,
   "metadata": {},
   "outputs": [],
   "source": [
    "# 2. Create landmask\n",
    "@time landmask_imgs = IceFloeTracker.create_landmask(coastline);\n",
    "# 78.853767 seconds (60 allocations: 98.499 MiB)"
   ]
  },
  {
   "cell_type": "code",
   "execution_count": null,
   "metadata": {},
   "outputs": [],
   "source": [
    "# need the little imshow function to have the cell interpret the output as an image otherwise it will just print the array\n",
    "imshow(landmask_imgs.non_dilated) # land is black"
   ]
  },
  {
   "cell_type": "code",
   "execution_count": null,
   "metadata": {},
   "outputs": [],
   "source": [
    "imshow(landmask_imgs.dilated) # again, land is black"
   ]
  },
  {
   "attachments": {},
   "cell_type": "markdown",
   "metadata": {},
   "source": [
    "### Test landmasks"
   ]
  },
  {
   "cell_type": "code",
   "execution_count": null,
   "metadata": {},
   "outputs": [],
   "source": [
    "# Load the ground truth landmasks\n",
    "    landmask_non_dilated_expected = load(joinpath(TEST,\"test_inputs/landmask_no_dilate.png\"))[test_region...];\n",
    "    landmask_dilated_expected = load(joinpath(TEST,\"test_inputs/matlab_landmask.png\"))[test_region...];\n",
    "\n",
    "#= Compare the generated landmasks to the ground truth. No output means the test passed. The `@assert` macro throws an error if the test fails. =#\n",
    "    @assert (@test_approx_eq_sigma_eps landmask_non_dilated_expected landmask_imgs.non_dilated [0,0] .001) === nothing\n",
    "    @assert (@test_approx_eq_sigma_eps (landmask_dilated_expected) .!landmask_imgs.dilated [0,0] .001) === nothing"
   ]
  },
  {
   "attachments": {},
   "cell_type": "markdown",
   "metadata": {},
   "source": [
    "## 2. Preprocessing"
   ]
  },
  {
   "attachments": {},
   "cell_type": "markdown",
   "metadata": {},
   "source": [
    "Load a pair of truecolor/reflectance images"
   ]
  },
  {
   "cell_type": "code",
   "execution_count": null,
   "metadata": {},
   "outputs": [],
   "source": [
    "# 1. Load test data\n",
    "\n",
    "reflectance_test_image_file = \"test_inputs/beaufort-chukchi-seas_falsecolor.2020162.aqua.250m.tiff\"\n",
    "@time reflectance_image = load(joinpath(TEST,reflectance_test_image_file))[test_region...] |> x->float64.(x) # load and convert to float64\n",
    "# 5.157572 seconds (13.92 M allocations: 2.407 GiB, 3.61% gc time)\n",
    "\n",
    "truecolor_test_image_file = \"test_inputs/beaufort-chukchi-seas_truecolor.2020162.aqua.250m.tiff\"\n",
    "@time truecolor_image = load(joinpath(TEST,truecolor_test_image_file))[test_region...] |> x->float64.(x);\n",
    "# 5.198692 seconds (19.79 M allocations: 2.756 GiB, 5.91% gc time)"
   ]
  },
  {
   "cell_type": "code",
   "execution_count": null,
   "metadata": {},
   "outputs": [],
   "source": [
    "reflectance_image"
   ]
  },
  {
   "cell_type": "code",
   "execution_count": null,
   "metadata": {},
   "outputs": [],
   "source": [
    "truecolor_image"
   ]
  },
  {
   "attachments": {},
   "cell_type": "markdown",
   "metadata": {},
   "source": [
    "Cloudmask generation"
   ]
  },
  {
   "cell_type": "code",
   "execution_count": null,
   "metadata": {},
   "outputs": [],
   "source": [
    "# set parameters for cloudmask\n",
    "prelim_threshold = Float64(110 / 255)\n",
    "band_7_threshold = Float64(200 / 255)\n",
    "band_2_threshold = Float64(190 / 255)\n",
    "ratio_lower = 0.0\n",
    "ratio_offset = 0.0\n",
    "ratio_upper = 0.75\n",
    "\n",
    "# Create cloudmask from reflectance image\n",
    "\n",
    "@time cloudmask = IceFloeTracker.create_cloudmask(reflectance_image,\n",
    "        LopezAcostaCloudMask(prelim_threshold,\n",
    "                             band_7_threshold,\n",
    "                             band_2_threshold,\n",
    "                             ratio_lower,\n",
    "                             ratio_offset,\n",
    "                             ratio_upper));\n",
    "# 0.272900 seconds (30 allocations: 284.867 MiB, 32.60% gc time)\n",
    "\n",
    "imshow(cloudmask) # cloud is black"
   ]
  },
  {
   "cell_type": "code",
   "execution_count": null,
   "metadata": {},
   "outputs": [],
   "source": [
    "# Test for cloudmask\n",
    "cloudmask_expected = load(joinpath(TEST,cloudmask_test_file))[test_region...];\n",
    "@assert (@test_approx_eq_sigma_eps cloudmask_expected .!cloudmask [0,0] .001) === nothing\n",
    "\n",
    "# The `test_similarity` function provides the mismatch rate between two images (0 means they are identical) given a theshold for the difference between the two images (0.005 is the default).\n",
    "test_similarity(.!cloudmask, BitMatrix(cloudmask_expected));"
   ]
  },
  {
   "attachments": {},
   "cell_type": "markdown",
   "metadata": {},
   "source": [
    "### 3. Create intermediate images for segmentation"
   ]
  },
  {
   "cell_type": "code",
   "execution_count": null,
   "metadata": {},
   "outputs": [],
   "source": [
    "#= ice labels\n",
    "   This output contains a vector of pixel indexes where there is obvious ice.=#\n",
    "band_7_max = 5 / 255\n",
    "band_2_min = 230 / 255\n",
    "band_1_min = 240 / 255\n",
    "band_7_max_relaxed = 10 / 255\n",
    "band_1_min_relaxed = 190 / 255\n",
    "possible_ice_threshold = 75 / 255\n",
    "\n",
    "@time ice_labels = IceFloeTracker.find_ice_labels(\n",
    "   reflectance_image,\n",
    "   landmask_imgs.dilated;\n",
    "   band_7_max,\n",
    "   band_2_min,\n",
    "   band_1_min,\n",
    "   band_7_max_relaxed,\n",
    "   band_1_min_relaxed,\n",
    "   possible_ice_threshold,\n",
    ")"
   ]
  },
  {
   "cell_type": "code",
   "execution_count": null,
   "metadata": {},
   "outputs": [],
   "source": [
    "# read in matlab ice labels and test\n",
    "ice_labels_expected = DelimitedFiles.readdlm(joinpath(TEST,\"test_inputs/ice_labels_matlab.csv\"), ',') |> vec\n",
    "@assert ice_labels_expected == ice_labels"
   ]
  },
  {
   "attachments": {},
   "cell_type": "markdown",
   "metadata": {},
   "source": [
    "Sharpening"
   ]
  },
  {
   "cell_type": "code",
   "execution_count": null,
   "metadata": {},
   "outputs": [],
   "source": [
    "# set parameters for imsharpen\n",
    "lambda = 0.1\n",
    "kappa = 75\n",
    "niters = 3\n",
    "nbins = 255\n",
    "rblocks = 10\n",
    "cblocks = 10\n",
    "clip = 0.86\n",
    "smoothing_param=10\n",
    "intensity=2.0\n",
    "\n",
    "# a. apply imsharpen to truecolor image using non-dilated landmask\n",
    "@time sharpened_truecolor_image = IceFloeTracker.imsharpen(truecolor_image, landmask_imgs.non_dilated, lambda, kappa, niters, nbins, rblocks, cblocks, clip, smoothing_param, intensity)\n",
    "# 7.579775 seconds (3.86 M allocations: 3.822 GiB, 9.46% gc time, 34.64% compilation time)\n",
    "\n",
    "# b. apply imsharpen to sharpened truecolor img using dilated landmask\n",
    "@time sharpened_gray_truecolor_image = IceFloeTracker.imsharpen_gray(sharpened_truecolor_image, landmask_imgs.dilated)\n",
    "# 0.122422 seconds (389.67 k allocations: 202.584 MiB, 68.19% compilation time)\n",
    "\n",
    "# Test sharpened_gray_truecolor_image against matlab_sharpened_gray\n",
    "matlab_sharpened_gray_file = \"test_inputs/matlab_sharpened.png\"\n",
    "matlab_sharpened_gray = float64.(load(joinpath(TEST, matlab_sharpened_gray_file)))\n",
    "@assert (@test_approx_eq_sigma_eps matlab_sharpened_gray sharpened_gray_truecolor_image [0, 0] 0.046) === nothing"
   ]
  },
  {
   "cell_type": "code",
   "execution_count": null,
   "metadata": {},
   "outputs": [],
   "source": [
    "imshow(sharpened_truecolor_image)"
   ]
  },
  {
   "cell_type": "code",
   "execution_count": null,
   "metadata": {},
   "outputs": [],
   "source": [
    "imshow(sharpened_gray_truecolor_image)"
   ]
  },
  {
   "attachments": {},
   "cell_type": "markdown",
   "metadata": {},
   "source": [
    "Normalization"
   ]
  },
  {
   "cell_type": "code",
   "execution_count": null,
   "metadata": {},
   "outputs": [],
   "source": [
    "# Normalization\n",
    "@time normalized_image = IceFloeTracker.normalize_image(\n",
    "    sharpened_truecolor_image, sharpened_gray_truecolor_image, landmask_imgs.dilated)\n",
    "# Expected runtime: 46.354389 seconds (1.20 G allocations: 29.722 GiB, 7.13% gc time, 0.32% compilation time)"
   ]
  },
  {
   "cell_type": "code",
   "execution_count": null,
   "metadata": {},
   "outputs": [],
   "source": [
    "# Test normalized image\n",
    "matlab_normalized_img_file = \"test_inputs/matlab_normalized.png\"\n",
    "norm_image_expected = float64.(load(joinpath(TEST,matlab_normalized_img_file))[test_region...])\n",
    "@assert (@test_approx_eq_sigma_eps normalized_image norm_image_expected [0, 0] 0.045) === nothing"
   ]
  },
  {
   "attachments": {},
   "cell_type": "markdown",
   "metadata": {},
   "source": [
    "Ice water discrimination"
   ]
  },
  {
   "cell_type": "code",
   "execution_count": null,
   "metadata": {},
   "outputs": [],
   "source": [
    "#= Icewater discrimination\n",
    "    Note that this function mutates the landmask.dilated. =#\n",
    "\n",
    "# set parameters\n",
    "floes_threshold = 100 / 255\n",
    "mask_clouds_lower = 17 / 255\n",
    "mask_clouds_upper = 30 / 255\n",
    "kurt_thresh_lower = 2\n",
    "kurt_thresh_upper = 8\n",
    "skew_thresh = 4\n",
    "st_dev_thresh_lower = 84 / 255\n",
    "st_dev_thresh_upper = 98.9 / 255\n",
    "clouds_ratio_threshold = 0.02\n",
    "differ_threshold = 0.6\n",
    "nbins = 155\n",
    "\n",
    "@time ice_water_discrim = IceFloeTracker.discriminate_ice_water(\n",
    "    reflectance_image, normalized_image, copy(landmask_imgs.dilated), # pass a copy of landmask\n",
    "    cloudmask, floes_threshold, mask_clouds_lower, mask_clouds_upper, kurt_thresh_lower, kurt_thresh_upper, skew_thresh, st_dev_thresh_lower, st_dev_thresh_upper, clouds_ratio_threshold, differ_threshold, nbins)\n",
    "\n",
    "# 3.059782 seconds (7.03 M allocations: 1.376 GiB, 30.85% gc time, 65.98% compilation time)"
   ]
  },
  {
   "cell_type": "code",
   "execution_count": null,
   "metadata": {},
   "outputs": [],
   "source": [
    "# Test ice_water_discrim.ice_water\n",
    "matlab_ice_water_discrim_file = \"test_inputs/matlab_ice_water_discrim.png\"\n",
    "ice_water_discrim_expected = float64.(load(joinpath(TEST,matlab_ice_water_discrim_file))[test_region...])\n",
    "@assert (@test_approx_eq_sigma_eps ice_water_discrim ice_water_discrim_expected [0, 0] 0.065) === nothing"
   ]
  },
  {
   "attachments": {},
   "cell_type": "markdown",
   "metadata": {},
   "source": [
    "## 4. Segmentation"
   ]
  },
  {
   "cell_type": "code",
   "execution_count": null,
   "metadata": {},
   "outputs": [],
   "source": [
    "# segmentation_A\n",
    "@time segA = IceFloeTracker.segmentation_A(IceFloeTracker.segmented_ice_cloudmasking(\n",
    "    ice_water_discrim, cloudmask, ice_labels\n",
    "))\n",
    "# 83.245360 seconds (963.75 M allocations: 69.364 GiB, 10.71% gc time, 0.59% compilation time: 22% of which was recompilation)"
   ]
  },
  {
   "cell_type": "code",
   "execution_count": null,
   "metadata": {},
   "outputs": [],
   "source": [
    "imshow(segA)"
   ]
  },
  {
   "attachments": {},
   "cell_type": "markdown",
   "metadata": {},
   "source": [
    "### Note\n",
    "Here is the first significant source of error introduced due to the implementation of the kmeans algorithm used for the package. For details see `src/segmentation_a_direct.jl` and/or https://juliastats.org/Clustering.jl/dev/kmeans.html#Clustering.kmeans."
   ]
  },
  {
   "cell_type": "code",
   "execution_count": null,
   "metadata": {},
   "outputs": [],
   "source": [
    "# Test segmentation_A\n",
    "segA_expected = convert(BitMatrix,float64.(load(joinpath(TEST,\"test_inputs/matlab_segmented_A.png\"))))\n",
    "@assert test_similarity(segA_expected, segA, 0.1005)"
   ]
  },
  {
   "cell_type": "code",
   "execution_count": null,
   "metadata": {},
   "outputs": [],
   "source": [
    "@time segB = IceFloeTracker.segmentation_B(sharpened_gray_truecolor_image, cloudmask, segA)\n",
    "# 1.264987 seconds (24.14 M allocations: 1.041 GiB, 0.36% compilation time)"
   ]
  },
  {
   "cell_type": "code",
   "execution_count": null,
   "metadata": {},
   "outputs": [],
   "source": [
    "# Test segmentation_B\n",
    "matlab_ice_intersect = convert(\n",
    "        BitMatrix, load(joinpath(TEST,\"test_inputs/matlab_segmented_c.png\")\n",
    "    ))\n",
    "\n",
    "    matlab_not_ice_mask = float64.(load(joinpath(TEST,\"test_inputs/matlab_I.png\")))\n",
    "\n",
    "@assert (@test_approx_eq_sigma_eps segB.not_ice matlab_not_ice_mask [0, 0] 0.055) === nothing\n",
    "@assert test_similarity((matlab_not_ice_mask .> 0.499), segB.not_ice_bit, 0.05)\n",
    "@assert test_similarity(matlab_ice_intersect, segB.ice_intersect, 0.08)"
   ]
  },
  {
   "cell_type": "code",
   "execution_count": null,
   "metadata": {},
   "outputs": [],
   "source": [
    "imshow(segB.not_ice)"
   ]
  },
  {
   "cell_type": "code",
   "execution_count": null,
   "metadata": {},
   "outputs": [],
   "source": [
    "imshow(segB.not_ice_bit)"
   ]
  },
  {
   "cell_type": "code",
   "execution_count": null,
   "metadata": {},
   "outputs": [],
   "source": [
    "imshow(segB.ice_intersect)"
   ]
  },
  {
   "cell_type": "code",
   "execution_count": null,
   "metadata": {},
   "outputs": [],
   "source": [
    "# Generate watersheds\n",
    "@everywhere using IceFloeTracker: watershed_ice_floes\n",
    "@time watersheds_segB = pmap(IceFloeTracker.watershed_ice_floes, [segB.not_ice_bit, segB.ice_intersect])\n",
    "# 423.326505 seconds (6.43 M allocations: 327.860 GiB, 8.08% gc time, 0.53% compilation time)"
   ]
  },
  {
   "cell_type": "code",
   "execution_count": null,
   "metadata": {},
   "outputs": [],
   "source": [
    "watershed_intersect = IceFloeTracker.watershed_product(watersheds_segB...)"
   ]
  },
  {
   "cell_type": "code",
   "execution_count": null,
   "metadata": {},
   "outputs": [],
   "source": [
    "# Test watershed_intersect\n",
    "matlab_watershed_D = convert(BitMatrix, load(joinpath(TEST,\"test_inputs/matlab_watershed_D.png\")))\n",
    "matlab_watershed_E = convert(BitMatrix, load(joinpath(TEST,\"test_inputs/matlab_watershed_E.png\")))\n",
    "matlab_watershed_intersect = convert(BitMatrix, load(joinpath(TEST,\"test_inputs/matlab_watershed_intersect.png\")))\n",
    "\n",
    "## Tests with Matlab inputs\n",
    "@assert test_similarity(matlab_watershed_D, watersheds_segB[1], 0.15)\n",
    "@assert test_similarity(matlab_watershed_E, watersheds_segB[2], 0.15)\n",
    "@assert test_similarity(matlab_watershed_intersect, watershed_intersect , 0.033)"
   ]
  },
  {
   "cell_type": "code",
   "execution_count": null,
   "metadata": {},
   "outputs": [],
   "source": [
    "@time isolated_floes = IceFloeTracker.segmentation_F(\n",
    "    segB.not_ice,\n",
    "    segB.ice_intersect,\n",
    "    watershed_intersect,\n",
    "    ice_labels,\n",
    "    cloudmask,\n",
    "    landmask_imgs.dilated,\n",
    ")\n",
    "# 445.557423 seconds (2.81 G allocations: 89.153 GiB, 2.79% gc time, 0.00% compilation time)"
   ]
  },
  {
   "cell_type": "code",
   "execution_count": null,
   "metadata": {},
   "outputs": [],
   "source": [
    "# Test isolated_floes\n",
    "matlab_BW7 = load(joinpath(TEST,\"test_inputs/matlab_BW7.png\")) .> 0.499\n",
    "\n",
    "@assert test_similarity(matlab_BW7, isolated_floes, 0.143)\n",
    "\n",
    "@assert test_similarity(matlab_BW7[ice_floe_test_region...], isolated_floes[ice_floe_test_region...], 0.0705)\n"
   ]
  },
  {
   "cell_type": "code",
   "execution_count": null,
   "metadata": {},
   "outputs": [],
   "source": [
    "imshow(isolated_floes)"
   ]
  },
  {
   "cell_type": "code",
   "execution_count": null,
   "metadata": {},
   "outputs": [],
   "source": [
    "imshow(matlab_BW7)"
   ]
  },
  {
   "cell_type": "code",
   "execution_count": null,
   "metadata": {},
   "outputs": [],
   "source": [
    "imshow(isolated_floes[ice_floe_test_region...])"
   ]
  },
  {
   "cell_type": "code",
   "execution_count": null,
   "metadata": {},
   "outputs": [],
   "source": [
    "imshow(matlab_BW7[ice_floe_test_region...])"
   ]
  }
 ],
 "metadata": {
  "kernelspec": {
   "display_name": "Julia 1.11.6",
   "language": "julia",
   "name": "julia-1.11"
  },
  "language_info": {
   "file_extension": ".jl",
   "mimetype": "application/julia",
   "name": "julia",
   "version": "1.11.6"
  }
 },
 "nbformat": 4,
 "nbformat_minor": 4
}
