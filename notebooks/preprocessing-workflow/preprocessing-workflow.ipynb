{
 "cells": [
  {
   "attachments": {},
   "cell_type": "markdown",
   "metadata": {},
   "source": [
    "### 0. Set up the environment"
   ]
  },
  {
   "cell_type": "code",
   "execution_count": null,
   "metadata": {},
   "outputs": [],
   "source": [
    "# Setup environment\n",
    "using Pkg\n",
    "Pkg.add(\"IceFloeTracker\")\n",
    "Pkg.add(\"DelimitedFiles\")"
   ]
  },
  {
   "cell_type": "markdown",
   "metadata": {},
   "source": [
    "#### Recommened Settings\n",
    "1. Install Julia\n",
    "2. Install VS Code\n",
    "3. Add the following extensions for VS Code: Julia, Jupyter\n",
    "4. (Optional) Ensure Julia is set up to work with threading enabled for shared memory multiprocessing.\n",
    "   a. Press Cmd+Shift+P (mac) or Ctrl+Shift+P (windows) to display the command palette and search for `settings.json` and choose the option that appears\n",
    "   \n",
    "    ![Open the settings.json file using Cmd+Shift+P (mac) or Ctrl+Shift+P (windows) to display the command palette and search for `settings.json`](imgs/settings.png)\n",
    "    \n",
    "   b. In the `settings.json` file, find the ` \"julia.NumThreads\"` option (near the bottom). Change its value to `\"auto\"` and save the file\n",
    "   \n",
    "   ![find the \"julia.NumThreads\" option and change its value to \"auto\"](imgs/set-threads-auto.png)"
   ]
  },
  {
   "attachments": {},
   "cell_type": "markdown",
   "metadata": {},
   "source": [
    "### 1. Activate the IceFloeTracker package\n",
    "\n",
    "First activate the project environment, load things, and set up some paths."
   ]
  },
  {
   "cell_type": "code",
   "execution_count": null,
   "metadata": {},
   "outputs": [],
   "source": [
    "# The notebook presently uses test images and some testing tools from the test directory.\n",
    "HOME = \"../..\" # path to the root of the project two levels up\n",
    "TEST = joinpath(HOME, \"test\") # path to the folder with tests, test inputs, and test outputs\n",
    "\n",
    "# Load packages\n",
    "using Images: float64, @test_approx_eq_sigma_eps, load, Gray\n",
    "using DelimitedFiles # for loading test data in csv format\n",
    "using IceFloeTracker\n",
    "using IceFloeTracker.LopezAcosta2019: imsharpen, imsharpen_gray, normalize_image, discriminate_ice_water, segmentation_A, segmentation_B, segmented_ice_cloudmasking, segmentation_F, watershed_ice_floes, watershed_product",
    "using Distributed # for parallel processing\n",
    "using Images: mosaicview, strel_box, adjust_histogram, AdaptiveEqualization, complement, mreconstruct, dilate\n",
    "addprocs(1) # add a single worker process for watershed computation\n",
    "include(joinpath(TEST,\"config.jl\")) # loads some test data paths\n",
    "include(joinpath(TEST,\"test_error_rate.jl\")) # loads the `test_error_rate` function"
   ]
  },
  {
   "attachments": {},
   "cell_type": "markdown",
   "metadata": {},
   "source": [
    "## 1. Landmask generation\n",
    "It is often useful to separate ocean and land pixels in remote sensing image analysis. Here, we use a land mask from OpenStreetMap. We convert the RGB image into a bitmatrix (0s and 1s). In addition, pixels near the coast often are different enough from ocean pixels to cause problems in algorithms. Hence, we produce a dilated (expanded) land mask to cover these problem areas. We do this using a \"structuring element\" - an array containing a shape such as a disk or box. Morphological dilation takes a structuring element, moves it over every pixel of an image, and replaces the pixel with the maximum of all the pixels in the box. The effect is to \"spread out\" bright areas in the black-and-white image."
   ]
  },
  {
   "cell_type": "code",
   "execution_count": null,
   "metadata": {},
   "outputs": [],
   "source": [
    "# 1. Load coastline The test images are very large, so we'll just load a subset\n",
    "test_region = (1:2707, 1:4458)\n",
    "@time coastline = load(joinpath(TEST, \"./test_inputs/landmask.tiff\"))[test_region...];\n",
    "\n",
    "# 2. Create landmask\n",
    "@time landmask_imgs = create_landmask(coastline, strel_box((51,51)));\n",
    "\n",
    "# Display the land masks. Using \"Gray\" tells Julia to interpret the array of 0's and 1's as an image.\n",
    "mosaicview(Gray.(landmask_imgs.non_dilated), Gray.(landmask_imgs.dilated), nrow=1)"
   ]
  },
  {
   "attachments": {},
   "cell_type": "markdown",
   "metadata": {},
   "source": [
    "## 2. Preprocessing"
   ]
  },
  {
   "attachments": {},
   "cell_type": "markdown",
   "metadata": {},
   "source": [
    "Next, we will load a pair of MODIS images and apply preprocessing routines to prepare the images for ice floe identification. The true color image uses MODIS bands 1, 4, and 3 (red, green, blue) and approximates the scene perceived by a human eye. The false color image uses MODIS bands 7, 2, and 1 (near infrared, shortwave infrared, and red). The colors produced here make it easier to distinguish clouds from snow and ice."
   ]
  },
  {
   "cell_type": "code",
   "execution_count": null,
   "metadata": {},
   "outputs": [],
   "source": [
    "# 1. Load test data. The \n",
    "\n",
    "falsecolor_test_image_file = \"test_inputs/beaufort-chukchi-seas_falsecolor.2020162.aqua.250m.tiff\"\n",
    "@time falsecolor_image = load(joinpath(TEST,falsecolor_test_image_file))[test_region...] |> x->float64.(x) # load and convert to float64\n",
    "\n",
    "truecolor_test_image_file = \"test_inputs/beaufort-chukchi-seas_truecolor.2020162.aqua.250m.tiff\"\n",
    "@time truecolor_image = load(joinpath(TEST,truecolor_test_image_file))[test_region...] |> x->float64.(x);\n",
    "\n",
    "# View the images we just loaded:\n",
    "mosaicview(truecolor_image, falsecolor_image, nrow=1)"
   ]
  },
  {
   "attachments": {},
   "cell_type": "markdown",
   "metadata": {},
   "source": [
    "We can use the false color image to automatically identify likely cloud pixels. The IFT package contains two cloud mask algorithms. Here, we'll show the `LopezAcostaCloudMask`, which only masks the brightest clouds, so that ice floes visible through thin clouds remain uncovered."
   ]
  },
  {
   "cell_type": "code",
   "execution_count": null,
   "metadata": {},
   "outputs": [],
   "source": [
    "# set parameters for cloudmask\n",
    "prelim_threshold = Float64(110 / 255)\n",
    "band_7_threshold = Float64(200 / 255)\n",
    "band_2_threshold = Float64(190 / 255)\n",
    "ratio_lower = 0.0\n",
    "ratio_offset = 0.0\n",
    "ratio_upper = 0.75\n",
    "\n",
    "# Create cloudmask from reflectance image\n",
    "@time cloudmask = create_cloudmask(falsecolor_image,\n",
    "        LopezAcostaCloudMask(prelim_threshold,\n",
    "                             band_7_threshold,\n",
    "                             band_2_threshold,\n",
    "                             ratio_lower,\n",
    "                             ratio_offset,\n",
    "                             ratio_upper));\n",
    "\n",
    "# This cloudmask is only validated over ocean and ice, so we should mask any land pixels\n",
    "apply_landmask!(cloudmask, landmask_imgs.non_dilated)\n",
    "\n",
    "mosaicview(falsecolor_image, Gray.(cloudmask), nrow=1) # cloud is white"
   ]
  },
  {
   "attachments": {},
   "cell_type": "markdown",
   "metadata": {},
   "source": [
    "### 3. Create intermediate images for segmentation\n",
    "In this section, we create a grayscale image with enhanced contrast at ice floe edges and reduced contrast within ice floes, and we even out the lighting across the image. Then, we will use grayscale morphological operations and threshold functions to brighten large ice floes and darken the interstitial ice. "
   ]
  },
  {
   "cell_type": "code",
   "execution_count": null,
   "metadata": {},
   "outputs": [],
   "source": [
    "# 1. Nonlinear diffusion using the Perona-Malik algorithm\n",
    "pmd = PeronaMalikDiffusion(0.1, 0.1, 5, \"exponential\")\n",
    "@time truecolor_diffused = nonlinear_diffusion(truecolor_image, pmd)\n",
    "\n",
    "# 2. Adaptive histogram equalization\n",
    "truecolor_equalized = adjust_histogram(truecolor_diffused,\n",
    "                      AdaptiveEqualization(nbins=256, rblocks=8, cblocks=10, clip=0.8))\n",
    "\n",
    "# 3. Unsharp Mask and Convert to Grayscale\n",
    "preprocessed_image = Gray.(unsharp_mask(truecolor_equalized))\n",
    "\n",
    "# Apply masks\n",
    "preprocessed_image = apply_landmask(preprocessed_image, landmask_imgs.non_dilated)\n",
    "preprocessed_image .= apply_cloudmask(preprocessed_image, cloudmask)\n"
   ]
  },
  {
   "cell_type": "markdown",
   "metadata": {},
   "source": [
    "To see the effect of the preprocessing steps, we zoom in to a region with sea ice floes, and show (clockwise from top left) the original truecolor image, the result of nonlinear diffusion, the adaptive histogram equalization, and the sharpened grayscale image."
   ]
  },
  {
   "cell_type": "code",
   "execution_count": null,
   "metadata": {},
   "outputs": [],
   "source": [
    "\n",
    "# 4. Visualize results. Mosaicview defaults to columns first then rows, hence the order of images here.\n",
    "zoom_region = (1000:2000, 2000:3000)\n",
    "mosaicview(truecolor_image[zoom_region...],\n",
    "           truecolor_equalized[zoom_region...],\n",
    "           truecolor_diffused[zoom_region...],\n",
    "           preprocessed_image[zoom_region...], nrow=2)"
   ]
  },
  {
   "attachments": {},
   "cell_type": "markdown",
   "metadata": {},
   "source": [
    "Enhancing contrast between ice floes and leads"
   ]
  },
  {
   "cell_type": "code",
   "execution_count": null,
   "metadata": {},
   "outputs": [],
   "source": [
    "using Images: strel_diamond\n",
    "# Grayscale reconstruction of the complement smooths the interstial ice\n",
    "@time  begin\n",
    "    markers = complement.(dilate(preprocessed_image, strel_diamond((5,5))))\n",
    "    mask = complement.(preprocessed_image)\n",
    "    # reconstruction of the complement: floes are dark, leads are bright\n",
    "    reconst_gray = mreconstruct(dilate, markers, mask, strel_diamond((3, 3)))\n",
    "    apply_landmask!(reconst_gray, landmask_imgs.dilated)\n",
    "end\n",
    "\n",
    "# Histogram-based enhancement of ice/water contrasts\n",
    "floes_threshold = 100 / 255\n",
    "mask_clouds_lower = 17 / 255\n",
    "mask_clouds_upper = 30 / 255\n",
    "kurt_thresh_lower = 2\n",
    "kurt_thresh_upper = 8\n",
    "skew_thresh = 4\n",
    "st_dev_thresh_lower = 84 / 255\n",
    "st_dev_thresh_upper = 98.9 / 255\n",
    "clouds_ratio_threshold = 0.02\n",
    "differ_threshold = 0.6\n",
    "nbins = 155\n",
    "\n",
    "@time ice_water_discrim = discriminate_ice_water(\n",
    "    falsecolor_image, reconst_gray, copy(landmask_imgs.dilated), # pass a copy of landmask\n",
    "    cloudmask, floes_threshold, mask_clouds_lower, mask_clouds_upper, kurt_thresh_lower, kurt_thresh_upper, skew_thresh, st_dev_thresh_lower, st_dev_thresh_upper, clouds_ratio_threshold, differ_threshold, nbins)\n",
    "\n",
    "\n",
    "mosaicview(reconst_gray[zoom_region...], ice_water_discrim[zoom_region...], nrow=1)"
   ]
  },
  {
   "cell_type": "code",
   "execution_count": null,
   "metadata": {},
   "outputs": [],
   "source": [
    "ice_water_discrim"
   ]
  },
  {
   "attachments": {},
   "cell_type": "markdown",
   "metadata": {},
   "source": [
    "## 4. Segmentation"
   ]
  },
  {
   "cell_type": "code",
   "execution_count": null,
   "metadata": {},
   "outputs": [],
   "source": [
    "#= ice labels\n",
    "   This output contains a vector of pixel indexes where there is obvious ice.=#\n",
    "band_7_max = 5 / 255\n",
    "band_2_min = 230 / 255\n",
    "band_1_min = 240 / 255\n",
    "band_7_max_relaxed = 10 / 255\n",
    "band_1_min_relaxed = 190 / 255\n",
    "possible_ice_threshold = 75 / 255\n",
    "\n",
    "@time ice_labels = find_ice_labels(\n",
    "   falsecolor_image,\n",
    "   landmask_imgs.dilated;\n",
    "   band_7_max,\n",
    "   band_2_min,\n",
    "   band_1_min,\n",
    "   band_7_max_relaxed,\n",
    "   band_1_min_relaxed,\n",
    "   possible_ice_threshold,\n",
    ");"
   ]
  },
  {
   "cell_type": "code",
   "execution_count": null,
   "metadata": {},
   "outputs": [],
   "source": [
    "# segmentation_A\n",
    "@time segA = LopezAcosta2019.segmentation_A(LopezAcosta2019.segmented_ice_cloudmasking(\n",
    "    ice_water_discrim, cloudmask, ice_labels\n",
    "));"
   ]
  },
  {
   "cell_type": "code",
   "execution_count": null,
   "metadata": {},
   "outputs": [],
   "source": [
    "print(size(segA))\n",
    "Gray.(segA)"
   ]
  },
  {
   "cell_type": "code",
   "execution_count": null,
   "metadata": {},
   "outputs": [],
   "source": [
    "# Comparison to the Matlab version\n",
    "# segA_expected = convert(BitMatrix,float64.(load(joinpath(TEST,\"test_inputs/matlab_segmented_A.png\"))))\n",
    "# print(size(segA_expected))\n",
    "# Gray.(segA_expected)"
   ]
  },
  {
   "attachments": {},
   "cell_type": "markdown",
   "metadata": {},
   "source": [
    "### Note\n",
    "Here is the first significant source of differences between Julia and the original Matlab algorithm, introduced due to the implementation of the kmeans algorithm used for the package. For details see `src/segmentation_a_direct.jl` and/or https://juliastats.org/Clustering.jl/dev/kmeans.html#Clustering.kmeans."
   ]
  },
  {
   "cell_type": "code",
   "execution_count": null,
   "metadata": {},
   "outputs": [],
   "source": [
    "# Test segmentation_A\n",
    "# segA_expected = convert(BitMatrix,float64.(load(joinpath(TEST,\"test_inputs/matlab_segmented_A.png\"))))\n",
    "@assert test_similarity(segA_expected, segA, 0.13) # Ideally we could get the match lower"
   ]
  },
  {
   "cell_type": "code",
   "execution_count": null,
   "metadata": {},
   "outputs": [],
   "source": [
    "@time segB = LopezAcosta2019.segmentation_B(preprocessed_image, cloudmask, segA)\n",
    "# 1.264987 seconds (24.14 M allocations: 1.041 GiB, 0.36% compilation time)"
   ]
  },
  {
   "cell_type": "code",
   "execution_count": null,
   "metadata": {},
   "outputs": [],
   "source": [
    "# # Test segmentation_B\n",
    "# matlab_ice_intersect = convert(\n",
    "#         BitMatrix, load(joinpath(TEST,\"test_inputs/matlab_segmented_c.png\")\n",
    "#     ))\n",
    "\n",
    "#     matlab_not_ice_mask = float64.(load(joinpath(TEST,\"test_inputs/matlab_I.png\")))\n",
    "\n",
    "# @assert (@test_approx_eq_sigma_eps segB.not_ice matlab_not_ice_mask [0, 0] 0.055) === nothing\n",
    "# @assert test_similarity((matlab_not_ice_mask .> 0.499), segB.not_ice_bit, 0.05)\n",
    "# @assert test_similarity(matlab_ice_intersect, segB.ice_intersect, 0.08)"
   ]
  },
  {
   "cell_type": "code",
   "execution_count": null,
   "metadata": {},
   "outputs": [],
   "source": []
  },
  {
   "cell_type": "code",
   "execution_count": null,
   "metadata": {},
   "outputs": [],
   "source": [
    "Gray.(segB.not_ice_bit)"
   ]
  },
  {
   "cell_type": "code",
   "execution_count": null,
   "metadata": {},
   "outputs": [],
   "source": []
  },
  {
   "cell_type": "code",
   "execution_count": null,
   "metadata": {},
   "outputs": [],
   "source": [
    "# Generate watersheds\n",
    "@time watersheds_segB = map(watershed_ice_floes, [segB.not_ice_bit, segB.ice_intersect])\n",
    "# 423.326505 seconds (6.43 M allocations: 327.860 GiB, 8.08% gc time, 0.53% compilation time)"
   ]
  },
  {
   "cell_type": "code",
   "execution_count": null,
   "metadata": {},
   "outputs": [],
   "source": [
    "watershed_intersect = watershed_product(watersheds_segB...)"
   ]
  },
  {
   "cell_type": "code",
   "execution_count": null,
   "metadata": {},
   "outputs": [],
   "source": [
    "# # Test watershed_intersect\n",
    "# matlab_watershed_D = convert(BitMatrix, load(joinpath(TEST,\"test_inputs/matlab_watershed_D.png\")))\n",
    "# matlab_watershed_E = convert(BitMatrix, load(joinpath(TEST,\"test_inputs/matlab_watershed_E.png\")))\n",
    "# matlab_watershed_intersect = convert(BitMatrix, load(joinpath(TEST,\"test_inputs/matlab_watershed_intersect.png\")))\n",
    "\n",
    "# ## Tests with Matlab inputs\n",
    "# @assert test_similarity(matlab_watershed_D, watersheds_segB[1], 0.15)\n",
    "# @assert test_similarity(matlab_watershed_E, watersheds_segB[2], 0.15)\n",
    "# @assert test_similarity(matlab_watershed_intersect, watershed_intersect , 0.033)"
   ]
  },
  {
   "cell_type": "code",
   "execution_count": null,
   "metadata": {},
   "outputs": [],
   "source": [
    "@time isolated_floes = segmentation_F(\n",
    "    segB.not_ice,\n",
    "    segB.ice_intersect,\n",
    "    watershed_intersect,\n",
    "    ice_labels,\n",
    "    cloudmask,\n",
    "    landmask_imgs.dilated,\n",
    ")\n",
    "# 445.557423 seconds (2.81 G allocations: 89.153 GiB, 2.79% gc time, 0.00% compilation time)"
   ]
  },
  {
   "cell_type": "code",
   "execution_count": null,
   "metadata": {},
   "outputs": [],
   "source": [
    "Gray.(isolated_floes)"
   ]
  },
  {
   "cell_type": "code",
   "execution_count": null,
   "metadata": {},
   "outputs": [],
   "source": [
    "# Test isolated_floes\n",
    "matlab_BW7 = load(joinpath(TEST,\"test_inputs/matlab_BW7.png\")) .> 0.499\n",
    "\n",
    "@assert test_similarity(matlab_BW7, isolated_floes, 0.143)\n",
    "@assert test_similarity(matlab_BW7[ice_floe_test_region...], isolated_floes[ice_floe_test_region...], 0.075)\n"
   ]
  },
  {
   "cell_type": "code",
   "execution_count": null,
   "metadata": {},
   "outputs": [],
   "source": [
    "# In this view, the IFT does better in some regions and the matlab does better in others.\n",
    "# Both could be improved!\n",
    "\n",
    "mosaicview(Gray.(isolated_floes), Gray.(matlab_BW7), nrow=1)"
   ]
  },
  {
   "cell_type": "code",
   "execution_count": null,
   "metadata": {},
   "outputs": [],
   "source": [
    "# Zoomed-in look\n",
    "mosaicview(Gray.(isolated_floes[ice_floe_test_region...]), Gray.(matlab_BW7[ice_floe_test_region...]), nrow=1)"
   ]
  }
 ],
 "metadata": {
  "kernelspec": {
   "display_name": "Julia 1.12.0",
   "language": "julia",
   "name": "julia-1.12"
  },
  "language_info": {
   "file_extension": ".jl",
   "mimetype": "application/julia",
   "name": "julia",
   "version": "1.12.0"
  }
 },
 "nbformat": 4,
 "nbformat_minor": 4
}
