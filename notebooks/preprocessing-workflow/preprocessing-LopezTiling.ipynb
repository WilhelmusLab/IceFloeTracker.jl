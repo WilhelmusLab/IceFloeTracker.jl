{
 "cells": [
  {
   "cell_type": "code",
   "execution_count": null,
   "id": "15a158cf-b953-4933-9228-8fe335d2eebe",
   "metadata": {},
   "outputs": [],
   "source": [
    "using Pkg\n",
    "Pkg.activate(\"../nb_examples/\"\n"
   ]
  },
  {
   "cell_type": "code",
   "execution_count": null,
   "id": "dc9413dc-6a7e-4102-8af6-46a831bc9685",
   "metadata": {},
   "outputs": [],
   "source": []
  }
 ],
 "metadata": {
  "kernelspec": {
   "display_name": "Julia 1.11.3",
   "language": "julia",
   "name": "julia-1.11"
  },
  "language_info": {
   "file_extension": ".jl",
   "mimetype": "application/julia",
   "name": "julia",
   "version": "1.11.3"
  }
 },
 "nbformat": 4,
 "nbformat_minor": 5
}
