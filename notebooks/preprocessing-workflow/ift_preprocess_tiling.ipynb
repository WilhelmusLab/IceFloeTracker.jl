{
 "cells": [
  {
   "cell_type": "markdown",
   "id": "981e8427-7eb5-468f-8369-7f421a53006f",
   "metadata": {},
   "source": [
    "# Advanced preprocessing with tiling\n",
    "\n",
    "Note: The workflow in this notebook will be improved gradually as we go through the API update process.\n",
    "\n",
    "The preprocessing routines in IFT prepare the images for segmentation by sharpening floe edges, enhancing contrast between ice and water, and by correcting for uneven illumination. "
   ]
  },
  {
   "cell_type": "code",
   "execution_count": null,
   "id": "3486b614-de12-445a-aa84-55427d5e382e",
   "metadata": {},
   "outputs": [],
   "source": [
    "# Root of the IFT folder\n",
    "home_dir = \"../..\"\n",
    "test_dir = joinpath(home_dir, \"test\")\n",
    "\n",
    "using Pkg\n",
    "# Specifying an environment makes it easier to work with package versions\n",
    "Pkg.activate(joinpath(home_dir, \"notebooks/ift-notebooks\"))\n",
    "using IceFloeTracker\n",
    "using Images"
   ]
  },
  {
   "cell_type": "markdown",
   "id": "bf8bd1f4-4664-4785-8ca0-30e258eb5394",
   "metadata": {},
   "source": [
    "# Available demonstration cases"
   ]
  },
  {
   "cell_type": "markdown",
   "id": "c5cd1515-c4d2-4458-b15d-2b2ae077fea6",
   "metadata": {},
   "source": [
    "Example files are included in `test/test_inputs/preprocessing_workflows/`.\n",
    "\n",
    "Each example has truecolor, falsecolor, and landmask data for both Aqua and Terra. Image sizes are 50 km, 100 km, and 200 km."
   ]
  },
  {
   "cell_type": "code",
   "execution_count": null,
   "id": "816fd965-4c3a-46ef-a685-0551fdfd0997",
   "metadata": {},
   "outputs": [],
   "source": [
    "# Available test cases. Only showing Aqua truecolor for brevity. Each case has Aqua, Terra and has truecolor, falsecolor, and landmasks.\n",
    "example_loc = joinpath(test_dir, \"test_inputs/preprocessing_workflows/\")\n",
    "\n",
    "\n",
    "# Filter out the csv files and similar\n",
    "case_names = [f for f in readdir(example_loc) if occursin(\"km\", f)]"
   ]
  },
  {
   "cell_type": "code",
   "execution_count": null,
   "id": "e32ca1ab-00ad-4979-b02b-04daf2f94f09",
   "metadata": {},
   "outputs": [],
   "source": [
    "# Rearranged order just to make the figure prettier:\n",
    "case_names = [\"sea_of_okhostk-50km-20180412\", \"barents_kara_seas-100km-20250507\",  \"baffin_bay-200km-20060704\", \n",
    "    \"greenland_sea-50km-20180712\", \"east_siberian_sea-100km-20190612\",  \"bering_chukchi_seas-200km-20210314\", \n",
    "    \"beaufort_sea-50km-20070614\", \"hudson_bay-100km-20060513\",  \"laptev_sea-200km-20230613\"]\n",
    "\n",
    "          \n",
    "\n",
    "file_names = [split(c, \"-\")[3]*\".250m.aqua.truecolor.tiff\" for c in case_names]\n",
    "\n",
    "Images.mosaicview([RGB.(load(joinpath(example_loc, case, file)))\n",
    "        for (case, file) in zip(case_names, file_names)], ncol=3)"
   ]
  },
  {
   "cell_type": "markdown",
   "id": "a7144eb8-64cc-4f94-9296-7f319c3fce1f",
   "metadata": {},
   "source": [
    "For the rest of this demonstration, we'll pick a single image and work through each of the steps. First, we load the three image types for the chosen case.\n",
    "\n",
    "Note: The current version is picky about image types, so we have to cast RGB and float64. Future versions will relax this requirement.\n",
    " "
   ]
  },
  {
   "cell_type": "markdown",
   "id": "804f7b56-3030-4370-8bd8-a0662d8eea39",
   "metadata": {},
   "source": [
    "# Loading files"
   ]
  },
  {
   "cell_type": "code",
   "execution_count": null,
   "id": "761a82d8-0879-4fe8-80e0-f11bcc3e676b",
   "metadata": {},
   "outputs": [],
   "source": [
    "# case = \"beaufort_sea-50km-20070614\"\n",
    "case = case_names[9]\n",
    "print(case)\n",
    "date = split(case, \"-\")[3]\n",
    "satellite = \"aqua\"\n",
    "\n",
    "lm_image = float64.(RGB.(load(joinpath(example_loc, case, join([date, \"250m\", satellite, \"landmask.tiff\"], \".\")))))\n",
    "fc_image = float64.(RGB.(load(joinpath(example_loc, case, join([date, \"250m\", satellite, \"falsecolor.tiff\"], \".\")))))\n",
    "tc_image = float64.(RGB.(load(joinpath(example_loc, case, join([date, \"250m\", satellite, \"truecolor.tiff\"], \".\")))))\n",
    "Images.mosaicview(tc_image, fc_image, lm_image, nrow=1)"
   ]
  },
  {
   "cell_type": "markdown",
   "id": "9c3d4f1b-11d3-4491-8668-ef5da57f5452",
   "metadata": {},
   "source": [
    "# Masking\n",
    "Next, we set up the cloud mask and land masks."
   ]
  },
  {
   "cell_type": "code",
   "execution_count": null,
   "id": "f73255eb-bfc7-4753-b7a5-fcaf062f414c",
   "metadata": {},
   "outputs": [],
   "source": [
    "# First set up the cloudmask\n",
    "cloud_mask_settings = (\n",
    "    prelim_threshold=53.0/255.,\n",
    "    band_7_threshold=130.0/255.,\n",
    "    band_2_threshold=169.0/255.,\n",
    "    ratio_lower=0.0,\n",
    "    ratio_upper=0.53\n",
    ")\n",
    "\n",
    "@time begin\n",
    "    cloudmask = IceFloeTracker.create_cloudmask(fc_image; cloud_mask_settings...)\n",
    "    fc_img_cloudmasked = IceFloeTracker.apply_cloudmask(fc_image, cloudmask)\n",
    "end\n",
    "nothing"
   ]
  },
  {
   "cell_type": "code",
   "execution_count": null,
   "id": "eadf9bf4-4e29-4b45-881a-42eec06ccf06",
   "metadata": {},
   "outputs": [],
   "source": [
    "# Then the landmask\n",
    "# The landmask function takes an optional structuring element for a less agressive mask\n",
    "@time begin\n",
    "    landmask = IceFloeTracker.create_landmask(lm_image)\n",
    "end\n",
    "nothing"
   ]
  },
  {
   "cell_type": "code",
   "execution_count": null,
   "id": "b574591a-ce2e-44cc-ad90-6352bd74e0f5",
   "metadata": {},
   "outputs": [],
   "source": [
    "Images.mosaicview(Gray.(cloudmask), fc_img_cloudmasked, Gray.(landmask.non_dilated), Gray.(landmask.dilated), nrow=1)"
   ]
  },
  {
   "cell_type": "markdown",
   "id": "194a3480-c21f-43a7-804d-aac98a7310f0",
   "metadata": {},
   "source": [
    "From left to right: clouds marked white, cloudy regions in the falsecolor image masked and set to 0, the binarized land mask, and the dilated land mask.\n",
    "\n",
    "Future warning: In the next update, we will default to clouds=1, non-cloud=0 as shown in the image."
   ]
  },
  {
   "cell_type": "markdown",
   "id": "8715521e-25bd-4375-b6dd-306635a8399f",
   "metadata": {},
   "source": [
    "# Tiling\n",
    "The tiling functionality allows functions to be applied on sub-regions of the image. \n",
    "There are two layers of tiling that happen within the next step: one layer of user-specified tiles, then a second layer within the adaptive histogram equation that splits the image into 8 x 8 tiles."
   ]
  },
  {
   "cell_type": "code",
   "execution_count": null,
   "id": "b2bf4edd-1728-449d-93d6-6ad32845f79c",
   "metadata": {},
   "outputs": [],
   "source": [
    "prelim_sizes = size(tc_image) .÷ 2\n",
    "\n",
    "function build_tiling_illustration(img, side_length)\n",
    "\n",
    "    # Create new canvas to draw on\n",
    "    newimg = similar(img, RGBA{Float64})\n",
    "\n",
    "    # Apply transparency to the tiles\n",
    "    for tile_coords in IceFloeTracker.get_tiles(img, side_length)\n",
    "        tile = @view img[tile_coords...]\n",
    "        alpha = rand(0.5:0.05:1)\n",
    "        transparent_tile = map(c -> RGBA(c.r, c.g, c.b, alpha), tile)\n",
    "        newimg[tile_coords...] .= transparent_tile\n",
    "    end\n",
    "\n",
    "    # View the image\n",
    "    newimg\n",
    "end\n",
    "\n",
    "newimg = build_tiling_illustration(tc_image, prelim_sizes[1] + 1);\n",
    "Images.mosaicview(newimg)\n"
   ]
  },
  {
   "cell_type": "markdown",
   "id": "9e12ac5c-1fa9-4fb5-9150-f8ee5bf0085b",
   "metadata": {},
   "source": [
    "# Conditional adaptive histogram equalization and diffusion\n",
    "The `_process_image_tiles` function does\n",
    "1. Anisotropic diffusion on each color channel\n",
    "2. Conditional adaptive histogram\n",
    "\n",
    "The adaptive histogram function only appears for tiles with a threshold of entropy and of white fraction."
   ]
  },
  {
   "cell_type": "code",
   "execution_count": null,
   "id": "54d9f6fe-ba53-4a24-988e-80d294809ada",
   "metadata": {},
   "outputs": [],
   "source": [
    "# We'll go ahead with the tiles as defined above.\n",
    "tiles = IceFloeTracker.get_tiles(tc_image, prelim_sizes[1] + 1);\n",
    "\n",
    "# Get clouds_red for adaptive histogram equalization\n",
    "fc_img_cloudmasked = IceFloeTracker.apply_cloudmask(fc_image, cloudmask)\n",
    "clouds_red = IceFloeTracker.to_uint8(float64.(red.(fc_img_cloudmasked) .* 255))\n",
    "clouds_red[.!landmask.dilated] .= 0;\n",
    "\n",
    "# Set parameters\n",
    "adapthisteq_params = (\n",
    "    white_threshold=25.5, entropy_threshold=4, white_fraction_threshold=0.4\n",
    ")\n",
    "\n",
    "\n",
    "rgbchannels = IceFloeTracker._process_image_tiles(\n",
    "    tc_image, clouds_red, tiles, adapthisteq_params...);\n",
    "\n",
    "equalized_gray = IceFloeTracker.rgb2gray(rgbchannels);"
   ]
  },
  {
   "cell_type": "code",
   "execution_count": null,
   "id": "a0db765c-26c0-4240-a023-12763bf2ab47",
   "metadata": {},
   "outputs": [],
   "source": [
    "print(\"Left: Grayscale original image, Middle: After process-image-tiles, Right: clouds-red object\")\n",
    "Images.mosaicview(Gray.(tc_image), Gray.(equalized_gray/255), Gray.(clouds_red), nrow=1)"
   ]
  },
  {
   "cell_type": "code",
   "execution_count": null,
   "id": "4e9c785c-a812-4b69-b915-cac864a24d61",
   "metadata": {},
   "outputs": [],
   "source": [
    "# Parameters used in preprocessing functions\n",
    "adjust_gamma_params = (gamma=1.5, gamma_factor=1.3, gamma_threshold=220)\n",
    "\n",
    "structuring_elements = (\n",
    "    se_disk1=collect(IceFloeTracker.MorphSE.StructuringElements.strel_diamond((3, 3))),\n",
    "    se_disk2=IceFloeTracker.se_disk2(),\n",
    "    se_disk4=IceFloeTracker.se_disk4(),\n",
    ")\n",
    "\n",
    "unsharp_mask_params = (radius=10, amount=2.0, factor=255.0)\n",
    "\n",
    "brighten_factor = 0.1;"
   ]
  },
  {
   "cell_type": "markdown",
   "id": "c2eba05d-32c3-406e-a0fb-7d5552d52794",
   "metadata": {},
   "source": [
    "TBD:\n",
    "* Include the diffusion step as its own step in the preprocessing algorithm. Check its inputs and outputs, and allow the parameters to be adjusted. \n",
    "* Add the fc_image and cloud mask as an input, so that \"clouds_red\" is computed inside the function.\n",
    "* Update so that it acts as a filter: image in, image out!\n",
    "* Determine whether the entropy function needs to be scale dependent"
   ]
  },
  {
   "cell_type": "code",
   "execution_count": null,
   "id": "bcd43466-71c4-4b88-9192-42b75ab87084",
   "metadata": {},
   "outputs": [],
   "source": [
    "IceFloeTracker.apply_cloudmask(Gray.(equalized_gray/255), cloudmask)"
   ]
  },
  {
   "cell_type": "code",
   "execution_count": null,
   "id": "8d05d212-7ec5-4696-8bc3-e90bea645e54",
   "metadata": {},
   "outputs": [],
   "source": [
    "# question: how does this differ from a standard application of the cloud mask?\n",
    "masks = [f.(fc_img_cloudmasked) .== 0 for f in [red, green, blue]]\n",
    "combo_mask = reduce((a, b) -> a .& b, masks)\n",
    "equalized_gray[.!cloudmask] .= 0;"
   ]
  },
  {
   "cell_type": "code",
   "execution_count": null,
   "id": "62de9613-04c5-4430-8ab9-1f5ff2810b04",
   "metadata": {},
   "outputs": [],
   "source": [
    "sharpened = IceFloeTracker.to_uint8(IceFloeTracker.unsharp_mask(equalized_gray, unsharp_mask_params...))\n",
    "equalized_gray_sharpened_reconstructed = IceFloeTracker.reconstruct(\n",
    "    sharpened, structuring_elements.se_disk1, \"dilation\", true\n",
    ")\n",
    "equalized_gray_sharpened_reconstructed[.!landmask.dilated] .= 0;\n",
    "print(\"Left to right: Equalized Gray, Sharpened Gray, Equalized Sharped Reconstructed Gray\")\n",
    "Images.mosaicview([Gray.(equalized_gray./255),\n",
    "        Gray.(sharpened./255), 1 .- Gray.(equalized_gray_sharpened_reconstructed./255)], nrow=1)"
   ]
  },
  {
   "cell_type": "markdown",
   "id": "b691bf64-a5e9-4948-8c97-9e1bfae74951",
   "metadata": {},
   "source": [
    "From left to right: The result of the conditional histogram equalization, application of sharpening, sharpening, reconstruction, and landmask application.\n",
    "\n",
    "Something is likely incorrect here since the landmask has the wrong sign."
   ]
  },
  {
   "cell_type": "code",
   "execution_count": null,
   "id": "b0c5eadb-8392-4f32-9cdc-3e2e4f7ff000",
   "metadata": {},
   "outputs": [],
   "source": [
    "# step 6\n",
    "equalized_gray_reconstructed = deepcopy(equalized_gray)\n",
    "equalized_gray_reconstructed[.!landmask.dilated] .= 0\n",
    "equalized_gray_reconstructed = IceFloeTracker.reconstruct(\n",
    "    equalized_gray_reconstructed, structuring_elements.se_disk1, \"dilation\", true\n",
    ")\n",
    "equalized_gray_reconstructed[.!landmask.dilated] .= 0;"
   ]
  },
  {
   "cell_type": "code",
   "execution_count": null,
   "id": "f636284c-0189-4938-a854-b559e31a65dc",
   "metadata": {},
   "outputs": [],
   "source": [
    "Images.mosaicview([Gray.(equalized_gray_reconstructed./255), Gray.(equalized_gray_sharpened_reconstructed./255)], nrow=1)"
   ]
  },
  {
   "cell_type": "code",
   "execution_count": null,
   "id": "2a242c75-b3ce-43de-99cf-16176807c57d",
   "metadata": {},
   "outputs": [],
   "source": [
    "# step 7\n",
    "gammagreen = @view rgbchannels[:, :, 2];\n",
    "brighten = IceFloeTracker.get_brighten_mask(equalized_gray_reconstructed, gammagreen)\n",
    "equalized_gray[.!landmask.dilated] .= 0\n",
    "equalized_gray .= IceFloeTracker.imbrighten(equalized_gray, brighten, brighten_factor)\n",
    "Images.mosaicview([Gray.(equalized_gray_reconstructed./255), Gray.(equalized_gray./255)], nrow=1)"
   ]
  },
  {
   "cell_type": "code",
   "execution_count": null,
   "id": "eb16d5d9-d8c5-459f-8612-f3a364e6a8b4",
   "metadata": {},
   "outputs": [],
   "source": [
    "# step 8\n",
    "morphed_residue = clamp.(equalized_gray - equalized_gray_reconstructed, 0, 255)\n",
    "\n",
    "equalized_gray_sharpened_reconstructed_adjusted = IceFloeTracker.imcomplement(\n",
    "    IceFloeTracker.adjustgamma(equalized_gray_sharpened_reconstructed, adjust_gamma_params.gamma))\n",
    "adjusting_mask = equalized_gray_sharpened_reconstructed_adjusted .> adjust_gamma_params.gamma_threshold\n",
    "morphed_residue[adjusting_mask] .= IceFloeTracker.to_uint8.(morphed_residue[adjusting_mask] .* adjust_gamma_params.gamma_factor);"
   ]
  },
  {
   "cell_type": "code",
   "execution_count": null,
   "id": "fea791a9-774e-4108-9d25-8bc2f89bb691",
   "metadata": {},
   "outputs": [],
   "source": [
    "# morphed_residue is 1-d, so we reshape it to visualize\n",
    "Images.mosaicview(tc_image, Gray.(morphed_residue./255), nrow=1)"
   ]
  },
  {
   "cell_type": "code",
   "execution_count": null,
   "id": "92d15b0c-88a1-43d5-9783-53c4c0ec354f",
   "metadata": {},
   "outputs": [],
   "source": [
    "Images.save(joinpath(example_loc, case, join([date, \"250m\", satellite, \"morphed_residue.tiff\"], \".\")),\n",
    "     Gray.(morphed_residue./255))\n",
    "Images.save(joinpath(example_loc, case, join([date, \"250m\", satellite, \"cloudmask.tiff\"], \".\")),\n",
    "    Gray.(cloudmask))"
   ]
  }
 ],
 "metadata": {
  "kernelspec": {
   "display_name": "Julia 1.11.4",
   "language": "julia",
   "name": "julia-1.11"
  },
  "language_info": {
   "file_extension": ".jl",
   "mimetype": "application/julia",
   "name": "julia"
  }
 },
 "nbformat": 4,
 "nbformat_minor": 5
}
