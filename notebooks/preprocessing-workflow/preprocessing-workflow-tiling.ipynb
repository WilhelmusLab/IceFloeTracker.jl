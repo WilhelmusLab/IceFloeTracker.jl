{
 "cells": [
  {
   "attachments": {},
   "cell_type": "markdown",
   "metadata": {},
   "source": [
    "### 0. Understand your enviroment"
   ]
  },
  {
   "cell_type": "code",
   "execution_count": null,
   "metadata": {},
   "outputs": [],
   "source": [
    "# Look at the current folder\n",
    "pwd()"
   ]
  },
  {
   "attachments": {},
   "cell_type": "markdown",
   "metadata": {},
   "source": [
    "Note that the package folder is one level up from the notebooks folder and two levels from the current directory (if this file's location has not changed). The package's core code is in the `src` folder. Using Julia's package manager `Pkg` we activate the project two levels up by passing the path to the `Pkg.activate` function."
   ]
  },
  {
   "attachments": {},
   "cell_type": "markdown",
   "metadata": {},
   "source": [
    "### 1. Activate the IceFloeTracker package\n",
    "\n",
    "First activate the project environment, load things, and set up some paths."
   ]
  },
  {
   "cell_type": "code",
   "execution_count": null,
   "metadata": {},
   "outputs": [],
   "source": [
    "# The notebook presently uses test images and some testing tools from the test directory.\n",
    "HOME = \"../..\" # path to the root of the project two levels up\n",
    "TEST = joinpath(HOME, \"test\")\n",
    "\n",
    "# Activate the environment\n",
    "using Pkg\n",
    "Pkg.activate(HOME)\n",
    "Pkg.precompile()\n",
    "\n",
    "# Load packages\n",
    "\n",
    "using IceFloeTracker\n",
    "using IceFloeTracker: float64, @test_approx_eq_sigma_eps, load, Gray\n",
    "using DelimitedFiles # for loading test data in csv format\n",
    "using Distributed # for parallel processing\n",
    "\n",
    "addprocs(1) # add a single worker process for watershed computation\n",
    "include(joinpath(TEST,\"config.jl\")) # loads some test data paths\n",
    "include(joinpath(TEST,\"test_error_rate.jl\")) # loads the `test_error_rate` function\n",
    "\n",
    "imshow(img) = Gray.(img)"
   ]
  },
  {
   "cell_type": "code",
   "execution_count": null,
   "metadata": {},
   "outputs": [],
   "source": [
    "# For tiling\n",
    "using IceFloeTracker:\n",
    "    adapthisteq_params,\n",
    "    adjust_gamma_params,\n",
    "    brighten_factor,\n",
    "    ice_labels_thresholds,\n",
    "    ice_masks_params,\n",
    "    prelim_icemask_params,\n",
    "    preprocess_tiling,\n",
    "    structuring_elements,\n",
    "    unsharp_mask_params,\n",
    "    get_tiles,\n",
    "    _get_masks,\n",
    "    red,\n",
    "    green,\n",
    "    blue,\n",
    "    to_uint8,\n",
    "    _process_image_tiles,\n",
    "    rgb2gray,\n",
    "    unsharp_mask,\n",
    "    reconstruct,\n",
    "    get_brighten_mask,\n",
    "    imbrighten,\n",
    "    adjustgamma,\n",
    "    imcomplement,\n",
    "    get_ice_masks,\n",
    "    get_segment_mask,\n",
    "    watershed2,\n",
    "    _regularize,\n",
    "    get_final\n"
   ]
  },
  {
   "cell_type": "code",
   "execution_count": null,
   "metadata": {},
   "outputs": [],
   "source": [
    "# Set up test data\n",
    "region = (1016:3045, 1486:3714)\n",
    "data_dir = joinpath(TEST, \"test_inputs\")\n",
    "true_color_image = load(\n",
    "    joinpath(data_dir, \"NE_Greenland_truecolor.2020162.aqua.250m.tiff\")\n",
    ")\n",
    "ref_image = load(joinpath(data_dir, \"NE_Greenland_reflectance.2020162.aqua.250m.tiff\"))\n",
    "landmask = float64.(load(joinpath(data_dir, \"matlab_landmask.png\"))) .> 0\n",
    "\n",
    "# Crop images to region of interest\n",
    "true_color_image, ref_image, landmask = [\n",
    "    img[region...] for img in (true_color_image, ref_image, landmask)\n",
    "]\n",
    "\n",
    "landmask = (dilated=landmask,)\n",
    "tiles = get_tiles(true_color_image; rblocks=2, cblocks=3)"
   ]
  },
  {
   "cell_type": "code",
   "execution_count": null,
   "metadata": {},
   "outputs": [],
   "source": [
    "begin\n",
    "    @debug \"Step 1/2: Get masks\"\n",
    "    mask_cloud_ice, clouds_view = _get_masks(\n",
    "        float64.(ref_image); ice_labels_thresholds...\n",
    "    )\n",
    "    clouds_view .= .!mask_cloud_ice .* clouds_view\n",
    "\n",
    "    # Get clouds_red for adaptive histogram equalization\n",
    "    ref_img_cloudmasked = ref_image .* .!clouds_view\n",
    "end"
   ]
  },
  {
   "cell_type": "code",
   "execution_count": null,
   "metadata": {},
   "outputs": [],
   "source": [
    "begin\n",
    "    @debug \"Step 3: Tiled adaptive histogram equalization\"\n",
    "    clouds_red = to_uint8(float64.(red.(ref_img_cloudmasked) .* 255))\n",
    "    clouds_red[landmask.dilated] .= 0\n",
    "\n",
    "    rgbchannels = _process_image_tiles(\n",
    "        true_color_image, clouds_red, tiles, adapthisteq_params...\n",
    "    )\n",
    "\n",
    "    gammagreen = @view rgbchannels[:, :, 2]\n",
    "    equalized_gray = rgb2gray(rgbchannels)\n",
    "end\n",
    "\n",
    "imshow(equalized_gray/255)"
   ]
  },
  {
   "cell_type": "code",
   "execution_count": null,
   "metadata": {},
   "outputs": [],
   "source": [
    "begin\n",
    "    @debug \"Step 4: Remove clouds from equalized_gray\"\n",
    "    masks = [f.(ref_img_cloudmasked) .== 0 for f in [red, green, blue]]\n",
    "    combo_mask = reduce((a, b) -> a .& b, masks)\n",
    "    equalized_gray[combo_mask] .= 0\n",
    "end\n",
    "\n",
    "imshow(equalized_gray/255)\n"
   ]
  },
  {
   "cell_type": "code",
   "execution_count": null,
   "metadata": {},
   "outputs": [],
   "source": [
    "begin\n",
    "    @debug \"Step 5: unsharp_mask on equalized_gray and reconstruct\"\n",
    "    sharpened = to_uint8(unsharp_mask(equalized_gray, unsharp_mask_params...))\n",
    "    equalized_gray_sharpened_reconstructed = reconstruct(\n",
    "        sharpened, structuring_elements.se_disk1, \"dilation\", true\n",
    "    )\n",
    "    equalized_gray_sharpened_reconstructed[landmask.dilated] .= 0\n",
    "end\n",
    "\n",
    "imshow(equalized_gray_sharpened_reconstructed/255)"
   ]
  },
  {
   "cell_type": "code",
   "execution_count": null,
   "metadata": {},
   "outputs": [],
   "source": [
    "# TODO: Steps 6 and 7 can be done in parallel as they are independent\n",
    "begin\n",
    "    @debug \"Step 6: Repeat step 5 with equalized_gray (landmasking, no sharpening)\"\n",
    "    equalized_gray_reconstructed = deepcopy(equalized_gray)\n",
    "    equalized_gray_reconstructed[landmask.dilated] .= 0\n",
    "    equalized_gray_reconstructed = reconstruct(\n",
    "        equalized_gray_reconstructed, structuring_elements.se_disk1, \"dilation\", true\n",
    "    )\n",
    "    equalized_gray_reconstructed[landmask.dilated] .= 0\n",
    "end\n",
    "\n",
    "imshow(equalized_gray_reconstructed/255)"
   ]
  },
  {
   "cell_type": "code",
   "execution_count": null,
   "metadata": {},
   "outputs": [],
   "source": [
    "begin\n",
    "    @debug \"STEP 7: Brighten equalized_gray\"\n",
    "    brighten = get_brighten_mask(equalized_gray_reconstructed, gammagreen)\n",
    "    equalized_gray[landmask.dilated] .= 0\n",
    "    equalized_gray .= imbrighten(equalized_gray, brighten, brighten_factor)\n",
    "end\n",
    "\n",
    "imshow(equalized_gray/255)\n"
   ]
  },
  {
   "cell_type": "code",
   "execution_count": null,
   "metadata": {},
   "outputs": [],
   "source": [
    "begin\n",
    "    @debug \"STEP 8: Get morphed_residue and adjust its gamma\"\n",
    "    morphed_residue = clamp.(equalized_gray - equalized_gray_reconstructed, 0, 255)\n",
    "\n",
    "    agp = adjust_gamma_params\n",
    "    equalized_gray_sharpened_reconstructed_adjusted = imcomplement(\n",
    "        adjustgamma(equalized_gray_sharpened_reconstructed, agp.gamma)\n",
    "    )\n",
    "    adjusting_mask =\n",
    "        equalized_gray_sharpened_reconstructed_adjusted .> agp.gamma_threshold\n",
    "    morphed_residue[adjusting_mask] .=\n",
    "        to_uint8.(morphed_residue[adjusting_mask] .* agp.gamma_factor)\n",
    "end\n",
    "\n",
    "imshow(morphed_residue/255)\n",
    "\n"
   ]
  },
  {
   "cell_type": "code",
   "execution_count": null,
   "metadata": {},
   "outputs": [],
   "source": [
    "begin\n",
    "    @debug \"Step 9: Get preliminary ice masks\"\n",
    "    prelim_icemask, binarized_tiling = get_ice_masks(\n",
    "        ref_image, morphed_residue, landmask.dilated, tiles, true; ice_masks_params...\n",
    "    )\n",
    "end\n",
    "nothing # suppress output\n"
   ]
  },
  {
   "cell_type": "code",
   "execution_count": null,
   "metadata": {},
   "outputs": [],
   "source": [
    "# View prelim_icemask\n",
    "imshow(prelim_icemask)"
   ]
  },
  {
   "cell_type": "code",
   "execution_count": null,
   "metadata": {},
   "outputs": [],
   "source": [
    "# View binarized_tiling\n",
    "imshow(binarized_tiling)"
   ]
  },
  {
   "cell_type": "code",
   "execution_count": null,
   "metadata": {},
   "outputs": [],
   "source": [
    "\n",
    "begin\n",
    "    @debug \"Step 10: Get segmentation mask from preliminary icemask\"\n",
    "    # Fill holes function in get_segment_mask a bit more aggressive than Matlabs\n",
    "    segment_mask = get_segment_mask(prelim_icemask, binarized_tiling)\n",
    "end\n",
    "\n",
    "imshow(segment_mask)\n"
   ]
  },
  {
   "cell_type": "code",
   "execution_count": null,
   "metadata": {},
   "outputs": [],
   "source": [
    "begin\n",
    "    @debug \"Step 11: Get local_maxima_mask and L0mask via watershed\"\n",
    "    local_maxima_mask, L0mask = watershed2(\n",
    "        morphed_residue, segment_mask, prelim_icemask\n",
    "    )\n",
    "end\n",
    "nothing # suppress output"
   ]
  },
  {
   "cell_type": "code",
   "execution_count": null,
   "metadata": {},
   "outputs": [],
   "source": [
    "imshow(local_maxima_mask)"
   ]
  },
  {
   "cell_type": "code",
   "execution_count": null,
   "metadata": {},
   "outputs": [],
   "source": [
    "imshow(L0mask)"
   ]
  },
  {
   "cell_type": "code",
   "execution_count": null,
   "metadata": {},
   "outputs": [],
   "source": [
    "\n",
    "begin\n",
    "    @debug \"Step 12: Build icemask from all others\"\n",
    "    local_maxima_mask = to_uint8(local_maxima_mask * 255)\n",
    "    prelim_icemask2 = _regularize(\n",
    "        morphed_residue,\n",
    "        local_maxima_mask,\n",
    "        segment_mask,\n",
    "        L0mask,\n",
    "        structuring_elements.se_disk1;\n",
    "        prelim_icemask_params...,\n",
    "    )\n",
    "end\n",
    "\n",
    "imshow(prelim_icemask2/255)"
   ]
  },
  {
   "cell_type": "code",
   "execution_count": null,
   "metadata": {},
   "outputs": [],
   "source": [
    "begin\n",
    "    @debug \"Step 13: Get improved icemask\"\n",
    "    icemask, _ = get_ice_masks(\n",
    "        ref_image, prelim_icemask2, landmask.dilated, tiles, false; ice_masks_params...\n",
    "    )\n",
    "end\n",
    "\n",
    "imshow(icemask)"
   ]
  },
  {
   "cell_type": "code",
   "execution_count": null,
   "metadata": {},
   "outputs": [],
   "source": [
    "begin\n",
    "    @debug \"Step 14: Get final mask\"\n",
    "    se = structuring_elements\n",
    "    se_erosion = se.se_disk1\n",
    "    se_dilation = se.se_disk2\n",
    "    final = get_final(icemask, segment_mask, se_erosion, se_dilation)\n",
    "end\n",
    "\n",
    "imshow(final)"
   ]
  }
 ],
 "metadata": {
  "kernelspec": {
   "display_name": "Julia 1.10.5",
   "language": "julia",
   "name": "julia-1.10"
  },
  "language_info": {
   "file_extension": ".jl",
   "mimetype": "application/julia",
   "name": "julia"
  }
 },
 "nbformat": 4,
 "nbformat_minor": 2
}
