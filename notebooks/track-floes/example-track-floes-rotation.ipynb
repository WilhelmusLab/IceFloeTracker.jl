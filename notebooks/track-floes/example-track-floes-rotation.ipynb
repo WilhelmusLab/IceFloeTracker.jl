{
 "cells": [
  {
   "cell_type": "markdown",
   "id": "bf4ce89a-d5b3-4e28-b4f0-dce73f9208f2",
   "metadata": {},
   "source": [
    "# Tracking ice floes in a series of binary images\n",
    "\n",
    "In this example, we show how to use individual functions in the IceFloeTracker package to extract features from a sequence of binary images, prepare the property tables for each image to include the information needed for the tracker, and then run the tracker.\n",
    "\n",
    "To start out, we need to activate the project and import the libraries we'll be using. The first time you run this notebook, you may need to use `Pkg.add()` to install libraries and then use `Pkg.resolve()` and `Pkg.instantiate()` to ready the libraries for use."
   ]
  },
  {
   "cell_type": "code",
   "execution_count": null,
   "id": "f7afb89a-a7cb-40f3-9506-d972588e1771",
   "metadata": {},
   "outputs": [],
   "source": [
    "using Pkg;\n",
    "HOME = \"../..\"\n",
    "Pkg.activate(HOME)\n",
    "Pkg.add(\"Plots\") # Needed for plotting the examples in the notebook\n",
    "using IceFloeTracker\n",
    "\n",
    "# Functions used to load, view, and extract floe shapes\n",
    "using IceFloeTracker: load, imshow, label_components, regionprops_table\n",
    "\n",
    "# Functions for prepping the region props tables, and tracking floes\n",
    "using IceFloeTracker: addfloemasks!, adduuid!, add_passtimes!, addψs!, long_tracker\n",
    "using DataFrames, Dates, Plots, CSV"
   ]
  },
  {
   "cell_type": "markdown",
   "id": "d8ed1eb9-dd8c-495d-a695-f0e207f1c1a8",
   "metadata": {},
   "source": [
    "# Loading images \n",
    "\n",
    "A sequence of test images with manually drawn and shifted \"ice floes\" is provided. In practice, the segmented images could be the output of the preprocessing functions from IceFloeTracker, manual ice floe maps, or the results of other image segmentation workflows. In this case the images are saved as PNG to save space, but other filetypes (e.g. TIFF) are perfectly fine."
   ]
  },
  {
   "cell_type": "code",
   "execution_count": null,
   "id": "a5e25442-442f-413a-a2d0-00aa218d7c4d",
   "metadata": {},
   "outputs": [],
   "source": [
    "image_loc = \"test/test_inputs/tracker_rotation/\"\n",
    "image_names = [joinpath(HOME, image_loc, \"test_floes_0\"*string(idx)*\".png\") for idx in range(1, 6)];\n",
    "images = load.(image_names)\n",
    "imshow.(images * 255)"
   ]
  },
  {
   "cell_type": "markdown",
   "id": "310dc34a-5792-4193-99e1-0efbfb2b388b",
   "metadata": {},
   "source": [
    "# Measuring object properties\n",
    "\n",
    "The example images are binary, so we need to label the connected components before extracting the region properties."
   ]
  },
  {
   "cell_type": "code",
   "execution_count": null,
   "id": "e7f89aaf-a31d-4042-8641-4709c318472e",
   "metadata": {},
   "outputs": [],
   "source": [
    "labeled_images = label_components.(images);\n",
    "props = regionprops_table.(labeled_images);"
   ]
  },
  {
   "cell_type": "markdown",
   "id": "7b19c399-5be2-45ea-aed7-03320e323686",
   "metadata": {},
   "source": [
    "Let's take a look at the property tables:"
   ]
  },
  {
   "cell_type": "code",
   "execution_count": null,
   "id": "0cc4b504-04f4-496b-9be7-5f2e064a6cc2",
   "metadata": {},
   "outputs": [],
   "source": [
    "props[1]"
   ]
  },
  {
   "cell_type": "markdown",
   "id": "5e81dc82-d827-4e11-a574-e04e95003ab6",
   "metadata": {},
   "source": [
    "As you can see, the object properties for the 2 floes in the image each get assigned a row. `regionprops_table` is a wrapper for the function of the same name from the Python `scikit-image` library. It extracts useful measurements of the shapes, including the position and bounding box. For the tracker though we'll need a few more things.\n",
    "\n",
    "First, with real data we'd expect a timestamp to be associated with each of the images. We can use the Dates package to make a vector. Then, we use `addpasstimes!` to modify the props tables in place."
   ]
  },
  {
   "cell_type": "code",
   "execution_count": null,
   "id": "79d1c94f-0496-48cb-8779-788315ac0833",
   "metadata": {},
   "outputs": [],
   "source": [
    "passtimes = collect(Date(2019,3,1):Day(1):Date(2019,3,6))\n",
    "add_passtimes!(props, passtimes)"
   ]
  },
  {
   "cell_type": "markdown",
   "id": "ae578065-d39f-49e9-a26b-0e183ffd495e",
   "metadata": {},
   "source": [
    "To keep track of objects across multiple images we add a unique ID to each row."
   ]
  },
  {
   "cell_type": "code",
   "execution_count": null,
   "id": "f3069dc2-a7d5-4299-8a0d-f19601afef9a",
   "metadata": {},
   "outputs": [],
   "source": [
    "adduuid!(props);"
   ]
  },
  {
   "cell_type": "markdown",
   "id": "2dbd29b0-e51d-4dbb-87ed-309a1707507f",
   "metadata": {},
   "source": [
    "Julia DataFrames can have many different types of entries. In particular, the entries don't have to be 1D. We'll add a cropped image of the floes via `addfloemasks!` and then characterize the boundary using a ψ-s curve. This curve describes the tangent angle of the floe (ψ) as a function of arc length along the boundary (s)."
   ]
  },
  {
   "cell_type": "code",
   "execution_count": null,
   "id": "e03b1407-e41e-41f0-9330-d857fc527d97",
   "metadata": {},
   "outputs": [],
   "source": [
    "addfloemasks!(props, [im .> 0 for im in images]) # Images need to be bitmatrices for the floemasks call.\n",
    "addψs!(props)"
   ]
  },
  {
   "cell_type": "markdown",
   "id": "269d2339-6ed7-416e-85fa-2b696416bc52",
   "metadata": {},
   "source": [
    "Each floe mask is cropped to the bounding box. We can view the masks for the first image via `imshow`:"
   ]
  },
  {
   "cell_type": "code",
   "execution_count": null,
   "id": "3843d2f2-7e48-4e7c-a5bb-e4388534c13b",
   "metadata": {},
   "outputs": [],
   "source": [
    "imshow.(props[1].mask)"
   ]
  },
  {
   "cell_type": "markdown",
   "id": "92e1362b-415f-41dd-8c09-eaf1248c7986",
   "metadata": {},
   "source": [
    "Using the `Plots` library we can see how the ψ-s curves differ between the two floes. The black lines show the ψ-s curve for the smaller floe across all 6 images, while the red lines show the same for the larger floe."
   ]
  },
  {
   "cell_type": "code",
   "execution_count": null,
   "id": "2b6dfbae-40fe-433b-87a7-dfb587638bdc",
   "metadata": {},
   "outputs": [],
   "source": [
    "plt = plot([p[1,:psi] for p in props], lc=:black)\n",
    "plot!([p[2,:psi] for p in props], lc=:red)"
   ]
  },
  {
   "cell_type": "markdown",
   "id": "327535ce-cb14-4826-883d-0d9bed250729",
   "metadata": {},
   "source": [
    "# Tracking\n",
    "\n",
    "With the table sufficiently populated, we can now run the tracker. We can see the arguments needed by using the `@doc` macro.\n"
   ]
  },
  {
   "cell_type": "code",
   "execution_count": null,
   "id": "4d70b85d-e67b-4abb-8061-656053960d81",
   "metadata": {},
   "outputs": [],
   "source": [
    "@doc long_tracker"
   ]
  },
  {
   "cell_type": "markdown",
   "id": "ad6b901e-92ac-495a-8626-0e004d7a3945",
   "metadata": {},
   "source": [
    "The settings for the tracker are organized into two categories: condition thresholds and match-correlation thresholds. We'll use the default values for each in this example."
   ]
  },
  {
   "cell_type": "code",
   "execution_count": null,
   "id": "17074e39-87b3-40ad-a5c1-caf9a4cecd31",
   "metadata": {},
   "outputs": [],
   "source": [
    "ct = IceFloeTracker.condition_thresholds"
   ]
  },
  {
   "cell_type": "markdown",
   "id": "b426774d-5196-40f1-98e1-47be20741459",
   "metadata": {},
   "source": [
    "As you can see each of these is a named tuple with multiple parameters. The search thresholds estimate the maximum travel distance as a function of elapsed time. We divide the settings between small and large floes, with the motivation that uncertainty in shape properties depends on the size of the object relative to the size of the pixels. So we tend to have more lenient settings for the small floes than for the large floes."
   ]
  },
  {
   "cell_type": "code",
   "execution_count": null,
   "id": "341d52cc-64a5-410f-bb6a-216aa0c1da5c",
   "metadata": {},
   "outputs": [],
   "source": [
    "mc = IceFloeTracker.mc_thresholds"
   ]
  },
  {
   "cell_type": "markdown",
   "id": "7a6a8a34-57c7-4d4f-b54a-2b450759110d",
   "metadata": {},
   "source": [
    "The `mc_thresholds` are sent to the function `matchcorr`. It compares the the sizes of potential floe matches, and if the shapes are similar enough, an image registration function is applied to estimate the rotation and displacement. With these settings in place, we can finally track the floes!"
   ]
  },
  {
   "cell_type": "code",
   "execution_count": null,
   "id": "a1b34b65-46ff-4cff-acba-2b4ed8e295a5",
   "metadata": {},
   "outputs": [],
   "source": [
    "tracked = long_tracker(props, ct, mc);"
   ]
  },
  {
   "cell_type": "markdown",
   "id": "662bf917-ece7-4ad1-8cdc-407567dd0d3e",
   "metadata": {},
   "source": [
    "# Examining the results\n",
    "The results are packaged together into a DataFrame. We first check the size: 2 objects tracked over 6 images should result in 12 rows:\n"
   ]
  },
  {
   "cell_type": "code",
   "execution_count": null,
   "id": "78255a33-ee5b-4fe9-af96-359109585b0e",
   "metadata": {},
   "outputs": [],
   "source": [
    "nrow(tracked)"
   ]
  },
  {
   "cell_type": "markdown",
   "id": "b32252e2-7897-4eaa-a86f-9873ae2fd430",
   "metadata": {},
   "source": [
    "We can group by the floe ID (now an integer rather than the UUID string) to look closer. We can use imshow again to see if we've separated the two objects and tracked them successfully:"
   ]
  },
  {
   "cell_type": "code",
   "execution_count": null,
   "id": "fbb05ff8-3965-4092-8c6d-cec5b20ab4dd",
   "metadata": {},
   "outputs": [],
   "source": [
    "tg = groupby(tracked, :ID);"
   ]
  },
  {
   "cell_type": "code",
   "execution_count": null,
   "id": "b5fdee5c-1b23-4636-b979-398a1d4ae487",
   "metadata": {},
   "outputs": [],
   "source": [
    "imshow.(tg[1][!,:mask])"
   ]
  },
  {
   "cell_type": "code",
   "execution_count": null,
   "id": "64b59757-a2e6-4291-ab16-7706a532c65c",
   "metadata": {},
   "outputs": [],
   "source": [
    "imshow.(tg[2][!,:mask])"
   ]
  },
  {
   "cell_type": "markdown",
   "id": "f22d6e86-e8b9-4371-b84d-581ec9d8a8ca",
   "metadata": {},
   "source": [
    "Looks good! We can also check the change in location over time. Both (by design) follow approximately the same path."
   ]
  },
  {
   "cell_type": "code",
   "execution_count": null,
   "id": "467742a8-0732-4400-ac1e-6f36786d6040",
   "metadata": {},
   "outputs": [],
   "source": [
    "plot(tg[1][!, :col_centroid], tg[1][!, :row_centroid], m=:circle, markersize=4, label=\"Floe 1\")\n",
    "plot!(tg[2][!, :col_centroid], tg[1][!, :row_centroid], m=:circle, markersize=4, label=\"Floe 2\")"
   ]
  },
  {
   "cell_type": "markdown",
   "id": "8bd5de41-3124-4768-af64-2e56c30f9dbc",
   "metadata": {},
   "source": [
    "Both floes were manually rotated the same amount as each other, with slightly different rotations each day. This plot shows the progression over time and shows that the orientation was retrieved successfully."
   ]
  },
  {
   "cell_type": "code",
   "execution_count": null,
   "id": "59e8ae39-b9b3-4437-a8d7-19ceb1738028",
   "metadata": {},
   "outputs": [],
   "source": [
    "plot(tg[1][!, :passtime], tg[1][!, :orientation], m=:circle, markersize=4, label=\"Floe 1\")\n",
    "plot!(tg[2][!, :passtime], tg[2][!, :orientation], m=:circle, markersize=4, label=\"Floe 2\")"
   ]
  },
  {
   "cell_type": "markdown",
   "id": "50105824-cc57-4c09-b809-c2024d20ebc1",
   "metadata": {},
   "source": [
    "The results can be saved via the CSV library. We recommend providing a list of the columns desired: saving floe masks and ψ-s curves can result in very large files."
   ]
  },
  {
   "cell_type": "code",
   "execution_count": null,
   "id": "af677045-68ce-4849-831d-920a692e3c60",
   "metadata": {},
   "outputs": [],
   "source": [
    "data_columns = [n for n in names(tracked) if n ∉ [\"mask\", \"psi\"]];\n",
    "CSV.write(\"example_tracked_floes.csv\", tracked[!, data_columns]);"
   ]
  }
 ],
 "metadata": {
  "kernelspec": {
   "display_name": "Julia 1.11.4",
   "language": "julia",
   "name": "julia-1.11"
  },
  "language_info": {
   "file_extension": ".jl",
   "mimetype": "application/julia",
   "name": "julia"
  }
 },
 "nbformat": 4,
 "nbformat_minor": 5
}
