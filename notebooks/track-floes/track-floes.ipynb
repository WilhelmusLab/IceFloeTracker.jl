{
 "cells": [
  {
   "cell_type": "markdown",
   "metadata": {},
   "source": [
    "### 1. Prepare the working environment"
   ]
  },
  {
   "cell_type": "code",
   "execution_count": null,
   "metadata": {},
   "outputs": [],
   "source": [
    "HOME = \"../..\" # path to the root of the project two levels up\n",
    "\n",
    "# Activate the environment\n",
    "using Pkg\n",
    "Pkg.activate(HOME)\n",
    "Pkg.precompile()"
   ]
  },
  {
   "cell_type": "code",
   "execution_count": null,
   "metadata": {},
   "outputs": [],
   "source": [
    "using IceFloeTracker: pairfloes, deserialize, PaddedView, float64, mosaicview, Gray\n",
    "using DataFrames\n",
    "imshow(x) = Gray.(x);\n"
   ]
  },
  {
   "cell_type": "markdown",
   "metadata": {},
   "source": [
    "### 2. Set thresholds for the algorithm"
   ]
  },
  {
   "cell_type": "code",
   "execution_count": null,
   "metadata": {},
   "outputs": [],
   "source": [
    "# Set thresholds\n",
    "t1 = (dt=(30.0, 100.0, 1300.0), dist=(200, 250, 300))\n",
    "t2 = (\n",
    "    area=1200,\n",
    "    arearatio=0.28,\n",
    "    majaxisratio=0.10,\n",
    "    minaxisratio=0.12,\n",
    "    convexarearatio=0.14,\n",
    ")\n",
    "t3 = (\n",
    "    area=10_000,\n",
    "    arearatio=0.18,\n",
    "    majaxisratio=0.1,\n",
    "    minaxisratio=0.15,\n",
    "    convexarearatio=0.2,\n",
    ")\n",
    "condition_thresholds = (t1, t2, t3)\n",
    "mc_thresholds = (\n",
    "    goodness=(area3=0.18, area2=0.236, corr=0.68), comp=(mxrot=10, sz=16)\n",
    ")"
   ]
  },
  {
   "cell_type": "markdown",
   "metadata": {},
   "source": [
    "### 3. Load data"
   ]
  },
  {
   "cell_type": "code",
   "execution_count": null,
   "metadata": {},
   "outputs": [],
   "source": [
    "# Load data\n",
    "pth = joinpath(HOME, \"test\", \"test_inputs\", \"tracker\")\n",
    "floedata = deserialize(joinpath(pth,\"tracker_test_data.dat\"))\n",
    "passtimes = deserialize(joinpath(pth,\"passtimes.dat\"))\n",
    "\n",
    "latlonimgpth = joinpath(HOME, \"test\", \"test_inputs\", \"NE_Greenland_truecolor.2020162.aqua.250m.tiff\")\n",
    "\n",
    "props, imgs = deepcopy(floedata.props), deepcopy(floedata.imgs);\n",
    "\n",
    "# Filter out floes with area less than 350 pixels\n",
    "for (i, prop) in enumerate(props)\n",
    "    props[i] = prop[prop[:, :area].>=350, :]\n",
    "end"
   ]
  },
  {
   "cell_type": "markdown",
   "metadata": {},
   "source": [
    "### 4. Pair and label floes"
   ]
  },
  {
   "cell_type": "code",
   "execution_count": null,
   "metadata": {},
   "outputs": [],
   "source": [
    "# Get paired floes with labels; other tracking data is in the `tracked` variable\n",
    "pairs = pairfloes(imgs, props, passtimes, latlonimgpth, condition_thresholds, mc_thresholds)"
   ]
  }
 ],
 "metadata": {
  "kernelspec": {
   "display_name": "Julia 1.9.0",
   "language": "julia",
   "name": "julia-1.9"
  },
  "language_info": {
   "file_extension": ".jl",
   "mimetype": "application/julia",
   "name": "julia"
  }
 },
 "nbformat": 4,
 "nbformat_minor": 2
}
