{
 "cells": [
  {
   "cell_type": "markdown",
   "metadata": {},
   "source": [
    "### 1. Prepare the working environment"
   ]
  },
  {
   "cell_type": "code",
   "execution_count": 1,
   "metadata": {},
   "outputs": [
    {
     "name": "stderr",
     "output_type": "stream",
     "text": [
      "\u001b[32m\u001b[1m  Activating\u001b[22m\u001b[39m project at `/project/IceFloeTracker.jl`\n",
      "\u001b[32m\u001b[1m  No Changes\u001b[22m\u001b[39m to `/project/IceFloeTracker.jl/Project.toml`\n",
      "\u001b[32m\u001b[1m  No Changes\u001b[22m\u001b[39m to `/project/IceFloeTracker.jl/Manifest.toml`\n",
      "\u001b[92m\u001b[1mPrecompiling\u001b[22m\u001b[39m project...\n",
      "   6565.5 ms\u001b[32m  ✓ \u001b[39mIceFloeTracker\n",
      "  1 dependency successfully precompiled in 9 seconds. 328 already precompiled.\n"
     ]
    }
   ],
   "source": [
    "HOME = \"../..\" # path to the root of the project two levels up\n",
    "\n",
    "# Activate the environment\n",
    "using Pkg\n",
    "Pkg.activate(HOME)\n",
    "Pkg.resolve()\n",
    "Pkg.precompile()"
   ]
  },
  {
   "cell_type": "code",
   "execution_count": 2,
   "metadata": {},
   "outputs": [],
   "source": [
    "using IceFloeTracker\n",
    "using DataFrames\n",
    "using IceFloeTracker: deserialize, addfloemasks!, adduuid!, add_passtimes!, addψs!, long_tracker, addlatlon!, imshow"
   ]
  },
  {
   "cell_type": "markdown",
   "metadata": {},
   "source": [
    "### 2. Set thresholds for the algorithm"
   ]
  },
  {
   "cell_type": "code",
   "execution_count": 3,
   "metadata": {},
   "outputs": [
    {
     "name": "stdout",
     "output_type": "stream",
     "text": [
      "condition_thresholds = (search_thresholds = (dt = (30.0, 100.0, 1300.0), dist = (200, 250, 300)), small_floe_settings = (minimumarea = 400, arearatio = 0.18, majaxisratio = 0.1, minaxisratio = 0.15, convexarearatio = 0.2), large_floe_settings = (minimumarea = 1200, arearatio = 0.28, majaxisratio = 0.1, minaxisratio = 0.12, convexarearatio = 0.14))\n",
      "mc_thresholds = (goodness = (small_floe_area = 0.18, large_floe_area = 0.236, corr = 0.68), comp = (mxrot = 10, sz = 16))\n"
     ]
    },
    {
     "data": {
      "text/plain": [
       "(goodness = (small_floe_area = 0.18, large_floe_area = 0.236, corr = 0.68), comp = (mxrot = 10, sz = 16))"
      ]
     },
     "metadata": {},
     "output_type": "display_data"
    }
   ],
   "source": [
    "# Set thresholds\n",
    "condition_thresholds = IceFloeTracker.condition_thresholds\n",
    "mc_thresholds = IceFloeTracker.mc_thresholds\n",
    "@show condition_thresholds\n",
    "@show mc_thresholds"
   ]
  },
  {
   "cell_type": "markdown",
   "metadata": {},
   "source": [
    "### 3. Load data"
   ]
  },
  {
   "cell_type": "code",
   "execution_count": 4,
   "metadata": {},
   "outputs": [],
   "source": [
    "begin # Load data\n",
    "    pth = joinpath(HOME, \"test\", \"test_inputs\", \"tracker\")\n",
    "    floedata = deserialize(joinpath(pth, \"tracker_test_data.dat\"))\n",
    "    # test/test_inputs/tracker/tracker_test_data.dat\n",
    "    passtimes = deserialize(joinpath(pth, \"passtimes.dat\"))\n",
    "    props, imgs = deepcopy.([floedata.props, floedata.imgs])\n",
    "\n",
    "    # Add required fields to props\n",
    "    addfloemasks!(props, imgs)\n",
    "    add_passtimes!(props, passtimes)\n",
    "    addψs!(props)\n",
    "    adduuid!(props)\n",
    "end\n",
    "\n",
    "# Delete some floes\n",
    "deleteat!(props[1], 1); # delete the first floe in day 1 so it doesn't have a match in day 2\n",
    "deleteat!(props[2], 5); # delete the fifth floe in day 2 so it doesn't have a match in day 1\n",
    "\n",
    "# All floes in days 1 and 2 have a match in day 3\n",
    "# Expected: 5 trajectories, 3 of length 3 and 2 of length 2\n",
    "nothing # suppress output -- not particularly informative. See the next block."
   ]
  },
  {
   "cell_type": "markdown",
   "metadata": {},
   "source": [
    "### 4. View floe data"
   ]
  },
  {
   "cell_type": "code",
   "execution_count": 5,
   "metadata": {},
   "outputs": [
    {
     "data": {
      "text/html": [
       "<div><div style = \"float: left;\"><span>39×3 DataFrame</span></div><div style = \"float: right;\"><span style = \"font-style: italic;\">14 rows omitted</span></div><div style = \"clear: both;\"></div></div><div class = \"data-frame\" style = \"overflow-x: scroll;\"><table class = \"data-frame\" style = \"margin-bottom: 6px;\"><thead><tr class = \"header\"><th class = \"rowNumber\" style = \"font-weight: bold; text-align: right;\">Row</th><th style = \"text-align: left;\">uuid</th><th style = \"text-align: left;\">passtime</th><th style = \"text-align: left;\">area</th></tr><tr class = \"subheader headerLastRow\"><th class = \"rowNumber\" style = \"font-weight: bold; text-align: right;\"></th><th title = \"String\" style = \"text-align: left;\">String</th><th title = \"DateTime\" style = \"text-align: left;\">DateTime</th><th title = \"Int32\" style = \"text-align: left;\">Int32</th></tr></thead><tbody><tr><td class = \"rowNumber\" style = \"font-weight: bold; text-align: right;\">1</td><td style = \"text-align: left;\">pHOkZGFR7KB1</td><td style = \"text-align: left;\">2022-09-14T12:44:49</td><td style = \"text-align: right;\">320</td></tr><tr><td class = \"rowNumber\" style = \"font-weight: bold; text-align: right;\">2</td><td style = \"text-align: left;\">NXLCByk43X7D</td><td style = \"text-align: left;\">2022-09-14T12:44:49</td><td style = \"text-align: right;\">94</td></tr><tr><td class = \"rowNumber\" style = \"font-weight: bold; text-align: right;\">3</td><td style = \"text-align: left;\">4REQ9JwEiRIn</td><td style = \"text-align: left;\">2022-09-14T12:44:49</td><td style = \"text-align: right;\">208</td></tr><tr><td class = \"rowNumber\" style = \"font-weight: bold; text-align: right;\">4</td><td style = \"text-align: left;\">CbjxghefUYag</td><td style = \"text-align: left;\">2022-09-14T12:44:49</td><td style = \"text-align: right;\">395</td></tr><tr><td class = \"rowNumber\" style = \"font-weight: bold; text-align: right;\">5</td><td style = \"text-align: left;\">sO0lxFU3uSLm</td><td style = \"text-align: left;\">2022-09-14T12:44:49</td><td style = \"text-align: right;\">235</td></tr><tr><td class = \"rowNumber\" style = \"font-weight: bold; text-align: right;\">6</td><td style = \"text-align: left;\">h32LoHFYEnBI</td><td style = \"text-align: left;\">2022-09-14T12:44:49</td><td style = \"text-align: right;\">260</td></tr><tr><td class = \"rowNumber\" style = \"font-weight: bold; text-align: right;\">7</td><td style = \"text-align: left;\">mZZFKUUIcSI6</td><td style = \"text-align: left;\">2022-09-14T12:44:49</td><td style = \"text-align: right;\">63</td></tr><tr><td class = \"rowNumber\" style = \"font-weight: bold; text-align: right;\">8</td><td style = \"text-align: left;\">WIxHCTNYHBc7</td><td style = \"text-align: left;\">2022-09-14T12:44:49</td><td style = \"text-align: right;\">251</td></tr><tr><td class = \"rowNumber\" style = \"font-weight: bold; text-align: right;\">9</td><td style = \"text-align: left;\">gW6hI6YZPSUO</td><td style = \"text-align: left;\">2022-09-14T12:44:49</td><td style = \"text-align: right;\">3043</td></tr><tr><td class = \"rowNumber\" style = \"font-weight: bold; text-align: right;\">10</td><td style = \"text-align: left;\">zKQmaqtkIBc6</td><td style = \"text-align: left;\">2022-09-14T12:44:49</td><td style = \"text-align: right;\">7184</td></tr><tr><td class = \"rowNumber\" style = \"font-weight: bold; text-align: right;\">11</td><td style = \"text-align: left;\">B0oSgZNNYeDH</td><td style = \"text-align: left;\">2022-09-14T12:44:49</td><td style = \"text-align: right;\">63</td></tr><tr><td class = \"rowNumber\" style = \"font-weight: bold; text-align: right;\">12</td><td style = \"text-align: left;\">rsPHibTzePp6</td><td style = \"text-align: left;\">2022-09-14T12:44:49</td><td style = \"text-align: right;\">578</td></tr><tr><td class = \"rowNumber\" style = \"font-weight: bold; text-align: right;\">13</td><td style = \"text-align: left;\">De1rv57YgQad</td><td style = \"text-align: left;\">2022-09-14T12:44:49</td><td style = \"text-align: right;\">81</td></tr><tr><td style = \"text-align: right;\">&vellip;</td><td style = \"text-align: right;\">&vellip;</td><td style = \"text-align: right;\">&vellip;</td><td style = \"text-align: right;\">&vellip;</td></tr><tr><td class = \"rowNumber\" style = \"font-weight: bold; text-align: right;\">28</td><td style = \"text-align: left;\">y0xYrZUiXWdo</td><td style = \"text-align: left;\">2022-09-14T12:44:49</td><td style = \"text-align: right;\">60</td></tr><tr><td class = \"rowNumber\" style = \"font-weight: bold; text-align: right;\">29</td><td style = \"text-align: left;\">mbcTDDeg1Bi9</td><td style = \"text-align: left;\">2022-09-14T12:44:49</td><td style = \"text-align: right;\">302</td></tr><tr><td class = \"rowNumber\" style = \"font-weight: bold; text-align: right;\">30</td><td style = \"text-align: left;\">uE1TI4aztL61</td><td style = \"text-align: left;\">2022-09-14T12:44:49</td><td style = \"text-align: right;\">101</td></tr><tr><td class = \"rowNumber\" style = \"font-weight: bold; text-align: right;\">31</td><td style = \"text-align: left;\">wmIxzmmxNncM</td><td style = \"text-align: left;\">2022-09-14T12:44:49</td><td style = \"text-align: right;\">71</td></tr><tr><td class = \"rowNumber\" style = \"font-weight: bold; text-align: right;\">32</td><td style = \"text-align: left;\">CtV1AZCG6eoY</td><td style = \"text-align: left;\">2022-09-14T12:44:49</td><td style = \"text-align: right;\">484</td></tr><tr><td class = \"rowNumber\" style = \"font-weight: bold; text-align: right;\">33</td><td style = \"text-align: left;\">C4uKcplBklRV</td><td style = \"text-align: left;\">2022-09-14T12:44:49</td><td style = \"text-align: right;\">60</td></tr><tr><td class = \"rowNumber\" style = \"font-weight: bold; text-align: right;\">34</td><td style = \"text-align: left;\">1EJ7O6dg5nm0</td><td style = \"text-align: left;\">2022-09-14T12:44:49</td><td style = \"text-align: right;\">154</td></tr><tr><td class = \"rowNumber\" style = \"font-weight: bold; text-align: right;\">35</td><td style = \"text-align: left;\">uE1DmaEiA53m</td><td style = \"text-align: left;\">2022-09-14T12:44:49</td><td style = \"text-align: right;\">1292</td></tr><tr><td class = \"rowNumber\" style = \"font-weight: bold; text-align: right;\">36</td><td style = \"text-align: left;\">UyM3xmllKbvT</td><td style = \"text-align: left;\">2022-09-14T12:44:49</td><td style = \"text-align: right;\">219</td></tr><tr><td class = \"rowNumber\" style = \"font-weight: bold; text-align: right;\">37</td><td style = \"text-align: left;\">80aMDzdJ1UIy</td><td style = \"text-align: left;\">2022-09-14T12:44:49</td><td style = \"text-align: right;\">84</td></tr><tr><td class = \"rowNumber\" style = \"font-weight: bold; text-align: right;\">38</td><td style = \"text-align: left;\">LMV7fchjzejP</td><td style = \"text-align: left;\">2022-09-14T12:44:49</td><td style = \"text-align: right;\">52</td></tr><tr><td class = \"rowNumber\" style = \"font-weight: bold; text-align: right;\">39</td><td style = \"text-align: left;\">4GGlqhs7oGxu</td><td style = \"text-align: left;\">2022-09-14T12:44:49</td><td style = \"text-align: right;\">60</td></tr></tbody></table></div>"
      ],
      "text/latex": [
       "\\begin{tabular}{r|ccc}\n",
       "\t& uuid & passtime & area\\\\\n",
       "\t\\hline\n",
       "\t& String & DateTime & Int32\\\\\n",
       "\t\\hline\n",
       "\t1 & pHOkZGFR7KB1 & 2022-09-14T12:44:49 & 320 \\\\\n",
       "\t2 & NXLCByk43X7D & 2022-09-14T12:44:49 & 94 \\\\\n",
       "\t3 & 4REQ9JwEiRIn & 2022-09-14T12:44:49 & 208 \\\\\n",
       "\t4 & CbjxghefUYag & 2022-09-14T12:44:49 & 395 \\\\\n",
       "\t5 & sO0lxFU3uSLm & 2022-09-14T12:44:49 & 235 \\\\\n",
       "\t6 & h32LoHFYEnBI & 2022-09-14T12:44:49 & 260 \\\\\n",
       "\t7 & mZZFKUUIcSI6 & 2022-09-14T12:44:49 & 63 \\\\\n",
       "\t8 & WIxHCTNYHBc7 & 2022-09-14T12:44:49 & 251 \\\\\n",
       "\t9 & gW6hI6YZPSUO & 2022-09-14T12:44:49 & 3043 \\\\\n",
       "\t10 & zKQmaqtkIBc6 & 2022-09-14T12:44:49 & 7184 \\\\\n",
       "\t11 & B0oSgZNNYeDH & 2022-09-14T12:44:49 & 63 \\\\\n",
       "\t12 & rsPHibTzePp6 & 2022-09-14T12:44:49 & 578 \\\\\n",
       "\t13 & De1rv57YgQad & 2022-09-14T12:44:49 & 81 \\\\\n",
       "\t14 & PIvAWHfWDdgs & 2022-09-14T12:44:49 & 206 \\\\\n",
       "\t15 & HfEPtYMv31QB & 2022-09-14T12:44:49 & 52 \\\\\n",
       "\t16 & 5i108pA10Kf6 & 2022-09-14T12:44:49 & 206 \\\\\n",
       "\t17 & 4I5S9RWrnbIS & 2022-09-14T12:44:49 & 110 \\\\\n",
       "\t18 & MoVhZhEQ0WH8 & 2022-09-14T12:44:49 & 121 \\\\\n",
       "\t19 & onK02oIpEB7l & 2022-09-14T12:44:49 & 268 \\\\\n",
       "\t20 & JoVlff4OsMo5 & 2022-09-14T12:44:49 & 66 \\\\\n",
       "\t21 & XXIRr5ZMANKl & 2022-09-14T12:44:49 & 297 \\\\\n",
       "\t22 & oO5iNEB6ylis & 2022-09-14T12:44:49 & 112 \\\\\n",
       "\t23 & bBuo9Tw9VVTU & 2022-09-14T12:44:49 & 144 \\\\\n",
       "\t24 & nsEHqfYYqrqn & 2022-09-14T12:44:49 & 361 \\\\\n",
       "\t$\\dots$ & $\\dots$ & $\\dots$ & $\\dots$ \\\\\n",
       "\\end{tabular}\n"
      ],
      "text/plain": [
       "\u001b[1m39×3 DataFrame\u001b[0m\n",
       "\u001b[1m Row \u001b[0m│\u001b[1m uuid         \u001b[0m\u001b[1m passtime            \u001b[0m\u001b[1m area  \u001b[0m\n",
       "     │\u001b[90m String       \u001b[0m\u001b[90m DateTime            \u001b[0m\u001b[90m Int32 \u001b[0m\n",
       "─────┼──────────────────────────────────────────\n",
       "   1 │ pHOkZGFR7KB1  2022-09-14T12:44:49    320\n",
       "   2 │ NXLCByk43X7D  2022-09-14T12:44:49     94\n",
       "   3 │ 4REQ9JwEiRIn  2022-09-14T12:44:49    208\n",
       "   4 │ CbjxghefUYag  2022-09-14T12:44:49    395\n",
       "   5 │ sO0lxFU3uSLm  2022-09-14T12:44:49    235\n",
       "   6 │ h32LoHFYEnBI  2022-09-14T12:44:49    260\n",
       "   7 │ mZZFKUUIcSI6  2022-09-14T12:44:49     63\n",
       "   8 │ WIxHCTNYHBc7  2022-09-14T12:44:49    251\n",
       "  ⋮  │      ⋮                 ⋮             ⋮\n",
       "  33 │ C4uKcplBklRV  2022-09-14T12:44:49     60\n",
       "  34 │ 1EJ7O6dg5nm0  2022-09-14T12:44:49    154\n",
       "  35 │ uE1DmaEiA53m  2022-09-14T12:44:49   1292\n",
       "  36 │ UyM3xmllKbvT  2022-09-14T12:44:49    219\n",
       "  37 │ 80aMDzdJ1UIy  2022-09-14T12:44:49     84\n",
       "  38 │ LMV7fchjzejP  2022-09-14T12:44:49     52\n",
       "  39 │ 4GGlqhs7oGxu  2022-09-14T12:44:49     60\n",
       "\u001b[36m                                 24 rows omitted\u001b[0m"
      ]
     },
     "metadata": {},
     "output_type": "display_data"
    }
   ],
   "source": [
    "# Day 1\n",
    "props[1][!, [:uuid, :passtime, :area]]"
   ]
  },
  {
   "cell_type": "code",
   "execution_count": 6,
   "metadata": {},
   "outputs": [
    {
     "data": {
      "image/png": "[encoded data removed]",
      "text/html": [
       "<img src=\"data:image/png;base64,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\">"
      ],
      "text/plain": [
       "431×484 Array{Gray{Bool},2} with eltype Gray{Bool}:\n",
       " Gray{Bool}(false)  Gray{Bool}(false)  …  Gray{Bool}(false)\n",
       " Gray{Bool}(false)  Gray{Bool}(false)     Gray{Bool}(false)\n",
       " Gray{Bool}(false)  Gray{Bool}(false)     Gray{Bool}(false)\n",
       " Gray{Bool}(false)  Gray{Bool}(false)     Gray{Bool}(false)\n",
       " Gray{Bool}(false)  Gray{Bool}(false)     Gray{Bool}(false)\n",
       " Gray{Bool}(false)  Gray{Bool}(false)  …  Gray{Bool}(false)\n",
       " Gray{Bool}(false)  Gray{Bool}(false)     Gray{Bool}(false)\n",
       " Gray{Bool}(false)  Gray{Bool}(false)     Gray{Bool}(false)\n",
       " Gray{Bool}(false)  Gray{Bool}(false)     Gray{Bool}(false)\n",
       " Gray{Bool}(false)  Gray{Bool}(false)     Gray{Bool}(false)\n",
       " ⋮                                     ⋱  \n",
       " Gray{Bool}(false)  Gray{Bool}(false)     Gray{Bool}(false)\n",
       " Gray{Bool}(false)  Gray{Bool}(false)     Gray{Bool}(false)\n",
       " Gray{Bool}(false)  Gray{Bool}(false)     Gray{Bool}(false)\n",
       " Gray{Bool}(false)  Gray{Bool}(false)  …  Gray{Bool}(false)\n",
       " Gray{Bool}(false)  Gray{Bool}(false)     Gray{Bool}(false)\n",
       " Gray{Bool}(false)  Gray{Bool}(false)     Gray{Bool}(false)\n",
       " Gray{Bool}(false)  Gray{Bool}(false)     Gray{Bool}(false)\n",
       " Gray{Bool}(false)  Gray{Bool}(false)     Gray{Bool}(false)\n",
       " Gray{Bool}(false)  Gray{Bool}(false)  …  Gray{Bool}(false)"
      ]
     },
     "metadata": {},
     "output_type": "display_data"
    }
   ],
   "source": [
    "imshow(imgs[1])"
   ]
  },
  {
   "cell_type": "code",
   "execution_count": 7,
   "metadata": {},
   "outputs": [
    {
     "data": {
      "image/png": "[encoded data removed]",
      "text/html": [
       "<img src=\"data:image/png;base64,iVBORw0KGgoAAAANSUhEUgAAAFoAAAB9CAAAAAAHaitQAAAAAXNSR0IArs4c6QAAAARnQU1BAACxjwv8YQUAAAAgY0hSTQAAeiYAAICEAAD6AAAAgOgAAHUwAADqYAAAOpgAABdwnLpRPAAAARBJREFUaAW1wVFOAlAQwMBu0vtfeX18YEJQQKQz8m15avgDyUhGMpKRi+U1y43hEclIRjKScXnfcm+4koxkJCMZ+bDlGA7JSEYykpHCckhGMpKRjGQkIxnJSEYykpGMZCTjcCwByUhGMpKRi+FYPmY4JCMZyUhGPmy4koxkJCMZyUhGMpKRjGQkIxnJSEYykpGMZCQj34Zj+RjJSEYykpGMZCQjGclIRjKSkYxk5NZwLO9bjuGQjGQkIxnJSEYykpGM/GA4ln+SjGQkIxn5zXAs75OMZCQjGclIRjKSkYw8NBzLWyQjGclIRp4bjuU1w5VkJCMZyciLhmN5ZLghGclIRjLyF8Ox3BvuSUYykpHMF5VHE/dT9RaaAAAAAElFTkSuQmCC\">"
      ],
      "text/plain": [
       "25×18 Array{Gray{Bool},2} with eltype Gray{Bool}:\n",
       " Gray{Bool}(false)  Gray{Bool}(false)  …  Gray{Bool}(false)\n",
       " Gray{Bool}(false)  Gray{Bool}(true)      Gray{Bool}(false)\n",
       " Gray{Bool}(true)   Gray{Bool}(true)      Gray{Bool}(false)\n",
       " Gray{Bool}(true)   Gray{Bool}(true)      Gray{Bool}(false)\n",
       " Gray{Bool}(true)   Gray{Bool}(true)      Gray{Bool}(true)\n",
       " Gray{Bool}(true)   Gray{Bool}(true)   …  Gray{Bool}(true)\n",
       " Gray{Bool}(true)   Gray{Bool}(true)      Gray{Bool}(true)\n",
       " Gray{Bool}(false)  Gray{Bool}(true)      Gray{Bool}(true)\n",
       " Gray{Bool}(false)  Gray{Bool}(false)     Gray{Bool}(false)\n",
       " Gray{Bool}(false)  Gray{Bool}(false)     Gray{Bool}(false)\n",
       " ⋮                                     ⋱  \n",
       " Gray{Bool}(false)  Gray{Bool}(false)     Gray{Bool}(false)\n",
       " Gray{Bool}(false)  Gray{Bool}(false)     Gray{Bool}(false)\n",
       " Gray{Bool}(false)  Gray{Bool}(false)     Gray{Bool}(false)\n",
       " Gray{Bool}(false)  Gray{Bool}(false)     Gray{Bool}(false)\n",
       " Gray{Bool}(false)  Gray{Bool}(false)  …  Gray{Bool}(false)\n",
       " Gray{Bool}(false)  Gray{Bool}(false)     Gray{Bool}(false)\n",
       " Gray{Bool}(false)  Gray{Bool}(false)     Gray{Bool}(false)\n",
       " Gray{Bool}(false)  Gray{Bool}(false)     Gray{Bool}(false)\n",
       " Gray{Bool}(false)  Gray{Bool}(false)     Gray{Bool}(false)"
      ]
     },
     "metadata": {},
     "output_type": "display_data"
    }
   ],
   "source": [
    "imshow(props[1][1, :mask])"
   ]
  },
  {
   "cell_type": "code",
   "execution_count": 8,
   "metadata": {},
   "outputs": [
    {
     "data": {
      "text/html": [
       "<div><div style = \"float: left;\"><span>39×3 DataFrame</span></div><div style = \"float: right;\"><span style = \"font-style: italic;\">14 rows omitted</span></div><div style = \"clear: both;\"></div></div><div class = \"data-frame\" style = \"overflow-x: scroll;\"><table class = \"data-frame\" style = \"margin-bottom: 6px;\"><thead><tr class = \"header\"><th class = \"rowNumber\" style = \"font-weight: bold; text-align: right;\">Row</th><th style = \"text-align: left;\">uuid</th><th style = \"text-align: left;\">passtime</th><th style = \"text-align: left;\">area</th></tr><tr class = \"subheader headerLastRow\"><th class = \"rowNumber\" style = \"font-weight: bold; text-align: right;\"></th><th title = \"String\" style = \"text-align: left;\">String</th><th title = \"DateTime\" style = \"text-align: left;\">DateTime</th><th title = \"Int32\" style = \"text-align: left;\">Int32</th></tr></thead><tbody><tr><td class = \"rowNumber\" style = \"font-weight: bold; text-align: right;\">1</td><td style = \"text-align: left;\">pAtSEsS6jZrH</td><td style = \"text-align: left;\">2022-09-14T13:59:19</td><td style = \"text-align: right;\">321</td></tr><tr><td class = \"rowNumber\" style = \"font-weight: bold; text-align: right;\">2</td><td style = \"text-align: left;\">pUjOGvdbtOXb</td><td style = \"text-align: left;\">2022-09-14T13:59:19</td><td style = \"text-align: right;\">277</td></tr><tr><td class = \"rowNumber\" style = \"font-weight: bold; text-align: right;\">3</td><td style = \"text-align: left;\">WKGPO1PTmKbq</td><td style = \"text-align: left;\">2022-09-14T13:59:19</td><td style = \"text-align: right;\">73</td></tr><tr><td class = \"rowNumber\" style = \"font-weight: bold; text-align: right;\">4</td><td style = \"text-align: left;\">Tc8smFrVBtT3</td><td style = \"text-align: left;\">2022-09-14T13:59:19</td><td style = \"text-align: right;\">176</td></tr><tr><td class = \"rowNumber\" style = \"font-weight: bold; text-align: right;\">5</td><td style = \"text-align: left;\">HR8Jk0ouuBG5</td><td style = \"text-align: left;\">2022-09-14T13:59:19</td><td style = \"text-align: right;\">201</td></tr><tr><td class = \"rowNumber\" style = \"font-weight: bold; text-align: right;\">6</td><td style = \"text-align: left;\">oTy0XYhtcthv</td><td style = \"text-align: left;\">2022-09-14T13:59:19</td><td style = \"text-align: right;\">222</td></tr><tr><td class = \"rowNumber\" style = \"font-weight: bold; text-align: right;\">7</td><td style = \"text-align: left;\">gVsUhl5WDyKc</td><td style = \"text-align: left;\">2022-09-14T13:59:19</td><td style = \"text-align: right;\">46</td></tr><tr><td class = \"rowNumber\" style = \"font-weight: bold; text-align: right;\">8</td><td style = \"text-align: left;\">j8hq8XuP3fAQ</td><td style = \"text-align: left;\">2022-09-14T13:59:19</td><td style = \"text-align: right;\">215</td></tr><tr><td class = \"rowNumber\" style = \"font-weight: bold; text-align: right;\">9</td><td style = \"text-align: left;\">XA1wOFQvHTBn</td><td style = \"text-align: left;\">2022-09-14T13:59:19</td><td style = \"text-align: right;\">2899</td></tr><tr><td class = \"rowNumber\" style = \"font-weight: bold; text-align: right;\">10</td><td style = \"text-align: left;\">y75DBjCPHRhu</td><td style = \"text-align: left;\">2022-09-14T13:59:19</td><td style = \"text-align: right;\">6966</td></tr><tr><td class = \"rowNumber\" style = \"font-weight: bold; text-align: right;\">11</td><td style = \"text-align: left;\">Tmzy40rmxJsp</td><td style = \"text-align: left;\">2022-09-14T13:59:19</td><td style = \"text-align: right;\">513</td></tr><tr><td class = \"rowNumber\" style = \"font-weight: bold; text-align: right;\">12</td><td style = \"text-align: left;\">PHOAemPXgQ0U</td><td style = \"text-align: left;\">2022-09-14T13:59:19</td><td style = \"text-align: right;\">46</td></tr><tr><td class = \"rowNumber\" style = \"font-weight: bold; text-align: right;\">13</td><td style = \"text-align: left;\">lF5dO53A8WkD</td><td style = \"text-align: left;\">2022-09-14T13:59:19</td><td style = \"text-align: right;\">62</td></tr><tr><td style = \"text-align: right;\">&vellip;</td><td style = \"text-align: right;\">&vellip;</td><td style = \"text-align: right;\">&vellip;</td><td style = \"text-align: right;\">&vellip;</td></tr><tr><td class = \"rowNumber\" style = \"font-weight: bold; text-align: right;\">28</td><td style = \"text-align: left;\">oOdBEeLfJ4tY</td><td style = \"text-align: left;\">2022-09-14T13:59:19</td><td style = \"text-align: right;\">261</td></tr><tr><td class = \"rowNumber\" style = \"font-weight: bold; text-align: right;\">29</td><td style = \"text-align: left;\">sRFeXpH7dM3s</td><td style = \"text-align: left;\">2022-09-14T13:59:19</td><td style = \"text-align: right;\">44</td></tr><tr><td class = \"rowNumber\" style = \"font-weight: bold; text-align: right;\">30</td><td style = \"text-align: left;\">8Qlehg9FMHn3</td><td style = \"text-align: left;\">2022-09-14T13:59:19</td><td style = \"text-align: right;\">80</td></tr><tr><td class = \"rowNumber\" style = \"font-weight: bold; text-align: right;\">31</td><td style = \"text-align: left;\">RoAWwRdfCXVu</td><td style = \"text-align: left;\">2022-09-14T13:59:19</td><td style = \"text-align: right;\">53</td></tr><tr><td class = \"rowNumber\" style = \"font-weight: bold; text-align: right;\">32</td><td style = \"text-align: left;\">kQ3q18ZgbklY</td><td style = \"text-align: left;\">2022-09-14T13:59:19</td><td style = \"text-align: right;\">44</td></tr><tr><td class = \"rowNumber\" style = \"font-weight: bold; text-align: right;\">33</td><td style = \"text-align: left;\">A4ThGauVBgXm</td><td style = \"text-align: left;\">2022-09-14T13:59:19</td><td style = \"text-align: right;\">418</td></tr><tr><td class = \"rowNumber\" style = \"font-weight: bold; text-align: right;\">34</td><td style = \"text-align: left;\">g0dns19OnQcF</td><td style = \"text-align: left;\">2022-09-14T13:59:19</td><td style = \"text-align: right;\">126</td></tr><tr><td class = \"rowNumber\" style = \"font-weight: bold; text-align: right;\">35</td><td style = \"text-align: left;\">KQGasLTfmYuz</td><td style = \"text-align: left;\">2022-09-14T13:59:19</td><td style = \"text-align: right;\">1176</td></tr><tr><td class = \"rowNumber\" style = \"font-weight: bold; text-align: right;\">36</td><td style = \"text-align: left;\">wRAhhzNaUcCz</td><td style = \"text-align: left;\">2022-09-14T13:59:19</td><td style = \"text-align: right;\">187</td></tr><tr><td class = \"rowNumber\" style = \"font-weight: bold; text-align: right;\">37</td><td style = \"text-align: left;\">AtV0QilsVmLC</td><td style = \"text-align: left;\">2022-09-14T13:59:19</td><td style = \"text-align: right;\">64</td></tr><tr><td class = \"rowNumber\" style = \"font-weight: bold; text-align: right;\">38</td><td style = \"text-align: left;\">BhleDj7wqjno</td><td style = \"text-align: left;\">2022-09-14T13:59:19</td><td style = \"text-align: right;\">37</td></tr><tr><td class = \"rowNumber\" style = \"font-weight: bold; text-align: right;\">39</td><td style = \"text-align: left;\">FU5nMkNDNQy2</td><td style = \"text-align: left;\">2022-09-14T13:59:19</td><td style = \"text-align: right;\">44</td></tr></tbody></table></div>"
      ],
      "text/latex": [
       "\\begin{tabular}{r|ccc}\n",
       "\t& uuid & passtime & area\\\\\n",
       "\t\\hline\n",
       "\t& String & DateTime & Int32\\\\\n",
       "\t\\hline\n",
       "\t1 & pAtSEsS6jZrH & 2022-09-14T13:59:19 & 321 \\\\\n",
       "\t2 & pUjOGvdbtOXb & 2022-09-14T13:59:19 & 277 \\\\\n",
       "\t3 & WKGPO1PTmKbq & 2022-09-14T13:59:19 & 73 \\\\\n",
       "\t4 & Tc8smFrVBtT3 & 2022-09-14T13:59:19 & 176 \\\\\n",
       "\t5 & HR8Jk0ouuBG5 & 2022-09-14T13:59:19 & 201 \\\\\n",
       "\t6 & oTy0XYhtcthv & 2022-09-14T13:59:19 & 222 \\\\\n",
       "\t7 & gVsUhl5WDyKc & 2022-09-14T13:59:19 & 46 \\\\\n",
       "\t8 & j8hq8XuP3fAQ & 2022-09-14T13:59:19 & 215 \\\\\n",
       "\t9 & XA1wOFQvHTBn & 2022-09-14T13:59:19 & 2899 \\\\\n",
       "\t10 & y75DBjCPHRhu & 2022-09-14T13:59:19 & 6966 \\\\\n",
       "\t11 & Tmzy40rmxJsp & 2022-09-14T13:59:19 & 513 \\\\\n",
       "\t12 & PHOAemPXgQ0U & 2022-09-14T13:59:19 & 46 \\\\\n",
       "\t13 & lF5dO53A8WkD & 2022-09-14T13:59:19 & 62 \\\\\n",
       "\t14 & r7qrAwyZ5I0s & 2022-09-14T13:59:19 & 173 \\\\\n",
       "\t15 & 4ybgzQ6BJBDS & 2022-09-14T13:59:19 & 37 \\\\\n",
       "\t16 & FUVo3baGzuAy & 2022-09-14T13:59:19 & 173 \\\\\n",
       "\t17 & 2QKc7ugGI4Y6 & 2022-09-14T13:59:19 & 86 \\\\\n",
       "\t18 & 2VeQEEwRhiM5 & 2022-09-14T13:59:19 & 96 \\\\\n",
       "\t19 & UHPeNGufeBlm & 2022-09-14T13:59:19 & 226 \\\\\n",
       "\t20 & m8eBJ40NeZbD & 2022-09-14T13:59:19 & 49 \\\\\n",
       "\t21 & 4Mv5hwwTPNSj & 2022-09-14T13:59:19 & 260 \\\\\n",
       "\t22 & 24LBt2fydzCA & 2022-09-14T13:59:19 & 88 \\\\\n",
       "\t23 & GUXXea8Frxed & 2022-09-14T13:59:19 & 118 \\\\\n",
       "\t24 & RDPcR19pcJYY & 2022-09-14T13:59:19 & 317 \\\\\n",
       "\t$\\dots$ & $\\dots$ & $\\dots$ & $\\dots$ \\\\\n",
       "\\end{tabular}\n"
      ],
      "text/plain": [
       "\u001b[1m39×3 DataFrame\u001b[0m\n",
       "\u001b[1m Row \u001b[0m│\u001b[1m uuid         \u001b[0m\u001b[1m passtime            \u001b[0m\u001b[1m area  \u001b[0m\n",
       "     │\u001b[90m String       \u001b[0m\u001b[90m DateTime            \u001b[0m\u001b[90m Int32 \u001b[0m\n",
       "─────┼──────────────────────────────────────────\n",
       "   1 │ pAtSEsS6jZrH  2022-09-14T13:59:19    321\n",
       "   2 │ pUjOGvdbtOXb  2022-09-14T13:59:19    277\n",
       "   3 │ WKGPO1PTmKbq  2022-09-14T13:59:19     73\n",
       "   4 │ Tc8smFrVBtT3  2022-09-14T13:59:19    176\n",
       "   5 │ HR8Jk0ouuBG5  2022-09-14T13:59:19    201\n",
       "   6 │ oTy0XYhtcthv  2022-09-14T13:59:19    222\n",
       "   7 │ gVsUhl5WDyKc  2022-09-14T13:59:19     46\n",
       "   8 │ j8hq8XuP3fAQ  2022-09-14T13:59:19    215\n",
       "  ⋮  │      ⋮                 ⋮             ⋮\n",
       "  33 │ A4ThGauVBgXm  2022-09-14T13:59:19    418\n",
       "  34 │ g0dns19OnQcF  2022-09-14T13:59:19    126\n",
       "  35 │ KQGasLTfmYuz  2022-09-14T13:59:19   1176\n",
       "  36 │ wRAhhzNaUcCz  2022-09-14T13:59:19    187\n",
       "  37 │ AtV0QilsVmLC  2022-09-14T13:59:19     64\n",
       "  38 │ BhleDj7wqjno  2022-09-14T13:59:19     37\n",
       "  39 │ FU5nMkNDNQy2  2022-09-14T13:59:19     44\n",
       "\u001b[36m                                 24 rows omitted\u001b[0m"
      ]
     },
     "metadata": {},
     "output_type": "display_data"
    }
   ],
   "source": [
    "# Day 2\n",
    "props[2][!, [:uuid, :passtime, :area]]"
   ]
  },
  {
   "cell_type": "code",
   "execution_count": 9,
   "metadata": {},
   "outputs": [
    {
     "data": {
      "image/png": "[encoded data removed]",
      "text/html": [
       "<img src=\"data:image/png;base64,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\">"
      ],
      "text/plain": [
       "421×476 Array{Gray{Bool},2} with eltype Gray{Bool}:\n",
       " Gray{Bool}(false)  Gray{Bool}(false)  …  Gray{Bool}(false)\n",
       " Gray{Bool}(false)  Gray{Bool}(false)     Gray{Bool}(false)\n",
       " Gray{Bool}(false)  Gray{Bool}(false)     Gray{Bool}(false)\n",
       " Gray{Bool}(false)  Gray{Bool}(false)     Gray{Bool}(false)\n",
       " Gray{Bool}(false)  Gray{Bool}(false)     Gray{Bool}(false)\n",
       " Gray{Bool}(false)  Gray{Bool}(false)  …  Gray{Bool}(false)\n",
       " Gray{Bool}(false)  Gray{Bool}(false)     Gray{Bool}(false)\n",
       " Gray{Bool}(false)  Gray{Bool}(false)     Gray{Bool}(false)\n",
       " Gray{Bool}(false)  Gray{Bool}(false)     Gray{Bool}(false)\n",
       " Gray{Bool}(false)  Gray{Bool}(false)     Gray{Bool}(false)\n",
       " ⋮                                     ⋱  ⋮\n",
       " Gray{Bool}(false)  Gray{Bool}(false)     Gray{Bool}(false)\n",
       " Gray{Bool}(false)  Gray{Bool}(false)     Gray{Bool}(false)\n",
       " Gray{Bool}(false)  Gray{Bool}(false)     Gray{Bool}(false)\n",
       " Gray{Bool}(false)  Gray{Bool}(false)  …  Gray{Bool}(false)\n",
       " Gray{Bool}(false)  Gray{Bool}(false)     Gray{Bool}(false)\n",
       " Gray{Bool}(false)  Gray{Bool}(false)     Gray{Bool}(false)\n",
       " Gray{Bool}(false)  Gray{Bool}(false)     Gray{Bool}(false)\n",
       " Gray{Bool}(false)  Gray{Bool}(false)     Gray{Bool}(false)\n",
       " Gray{Bool}(false)  Gray{Bool}(false)  …  Gray{Bool}(false)"
      ]
     },
     "metadata": {},
     "output_type": "display_data"
    }
   ],
   "source": [
    "imshow(imgs[2]) # slightly rotated version of the image in day 1"
   ]
  },
  {
   "cell_type": "code",
   "execution_count": 10,
   "metadata": {},
   "outputs": [
    {
     "data": {
      "image/png": "[encoded data removed]",
      "text/html": [
       "<img src=\"data:image/png;base64,iVBORw0KGgoAAAANSUhEUgAAAFgAAAB4CAAAAABTUmreAAAAAXNSR0IArs4c6QAAAARnQU1BAACxjwv8YQUAAAAgY0hSTQAAeiYAAICEAAD6AAAAgOgAAHUwAADqYAAAOpgAABdwnLpRPAAAARhJREFUaAW1wQFOW1EQwECv5PtfeYsEUkoJyc9LPSNvWm6GG4lIRCLyhuW7BYZPEpGIROTQct8CA0hEIhKRA8tzEpGIRORFyzUSkYhEJCIRiUhEIhKRiETkBct1EpGIROSi5boFJCIRicgFy+skIhGJSEQiEpGIBAaQiEQkIk8sZyQiEYnIA8s5iUhEIhKRiEQkIr9Y3iMRiUhE7ljODZ8kIhGJyH803EhEIhKRfyxnhu8kIhGJyF+WM8NPEpGIROTLcma4TyISkYh8WM4Mv5OIRCQih4bHJCIRibi8bnhOIhKRiLxouEYiEpGIXDC8TiISkYg8MZyRiEQkIg8M5yQiEYk4wPLT8B6JSEQi8mGA5WZ4n0QkIpE/KWUX382/wFUAAAAASUVORK5C\">"
      ],
      "text/plain": [
       "30×22 Array{Gray{Bool},2} with eltype Gray{Bool}:\n",
       " Gray{Bool}(false)  Gray{Bool}(false)  …  Gray{Bool}(false)\n",
       " Gray{Bool}(false)  Gray{Bool}(false)     Gray{Bool}(false)\n",
       " Gray{Bool}(false)  Gray{Bool}(false)     Gray{Bool}(false)\n",
       " Gray{Bool}(false)  Gray{Bool}(false)     Gray{Bool}(false)\n",
       " Gray{Bool}(false)  Gray{Bool}(false)     Gray{Bool}(false)\n",
       " Gray{Bool}(false)  Gray{Bool}(false)  …  Gray{Bool}(false)\n",
       " Gray{Bool}(false)  Gray{Bool}(false)     Gray{Bool}(false)\n",
       " Gray{Bool}(false)  Gray{Bool}(false)     Gray{Bool}(false)\n",
       " Gray{Bool}(false)  Gray{Bool}(false)     Gray{Bool}(true)\n",
       " Gray{Bool}(false)  Gray{Bool}(false)     Gray{Bool}(true)\n",
       " ⋮                                     ⋱  \n",
       " Gray{Bool}(false)  Gray{Bool}(true)      Gray{Bool}(false)\n",
       " Gray{Bool}(false)  Gray{Bool}(true)      Gray{Bool}(false)\n",
       " Gray{Bool}(true)   Gray{Bool}(true)      Gray{Bool}(false)\n",
       " Gray{Bool}(true)   Gray{Bool}(true)      Gray{Bool}(false)\n",
       " Gray{Bool}(true)   Gray{Bool}(true)   …  Gray{Bool}(false)\n",
       " Gray{Bool}(true)   Gray{Bool}(true)      Gray{Bool}(false)\n",
       " Gray{Bool}(true)   Gray{Bool}(true)      Gray{Bool}(false)\n",
       " Gray{Bool}(false)  Gray{Bool}(true)      Gray{Bool}(false)\n",
       " Gray{Bool}(false)  Gray{Bool}(false)     Gray{Bool}(false)"
      ]
     },
     "metadata": {},
     "output_type": "display_data"
    }
   ],
   "source": [
    "imshow(props[2][1, :mask])"
   ]
  },
  {
   "cell_type": "code",
   "execution_count": 11,
   "metadata": {},
   "outputs": [
    {
     "data": {
      "text/html": [
       "<div><div style = \"float: left;\"><span>40×3 DataFrame</span></div><div style = \"float: right;\"><span style = \"font-style: italic;\">15 rows omitted</span></div><div style = \"clear: both;\"></div></div><div class = \"data-frame\" style = \"overflow-x: scroll;\"><table class = \"data-frame\" style = \"margin-bottom: 6px;\"><thead><tr class = \"header\"><th class = \"rowNumber\" style = \"font-weight: bold; text-align: right;\">Row</th><th style = \"text-align: left;\">uuid</th><th style = \"text-align: left;\">passtime</th><th style = \"text-align: left;\">area</th></tr><tr class = \"subheader headerLastRow\"><th class = \"rowNumber\" style = \"font-weight: bold; text-align: right;\"></th><th title = \"String\" style = \"text-align: left;\">String</th><th title = \"DateTime\" style = \"text-align: left;\">DateTime</th><th title = \"Int32\" style = \"text-align: left;\">Int32</th></tr></thead><tbody><tr><td class = \"rowNumber\" style = \"font-weight: bold; text-align: right;\">1</td><td style = \"text-align: left;\">YhtLlJLpEdpg</td><td style = \"text-align: left;\">2022-09-15T12:44:49</td><td style = \"text-align: right;\">374</td></tr><tr><td class = \"rowNumber\" style = \"font-weight: bold; text-align: right;\">2</td><td style = \"text-align: left;\">43nDI6gQMGx0</td><td style = \"text-align: left;\">2022-09-15T12:44:49</td><td style = \"text-align: right;\">320</td></tr><tr><td class = \"rowNumber\" style = \"font-weight: bold; text-align: right;\">3</td><td style = \"text-align: left;\">HTZDajz7Qo0f</td><td style = \"text-align: left;\">2022-09-15T12:44:49</td><td style = \"text-align: right;\">94</td></tr><tr><td class = \"rowNumber\" style = \"font-weight: bold; text-align: right;\">4</td><td style = \"text-align: left;\">5DvQp7bD6Xug</td><td style = \"text-align: left;\">2022-09-15T12:44:49</td><td style = \"text-align: right;\">208</td></tr><tr><td class = \"rowNumber\" style = \"font-weight: bold; text-align: right;\">5</td><td style = \"text-align: left;\">lYaNuyE2IDPs</td><td style = \"text-align: left;\">2022-09-15T12:44:49</td><td style = \"text-align: right;\">395</td></tr><tr><td class = \"rowNumber\" style = \"font-weight: bold; text-align: right;\">6</td><td style = \"text-align: left;\">TYZYvMVUDzUm</td><td style = \"text-align: left;\">2022-09-15T12:44:49</td><td style = \"text-align: right;\">236</td></tr><tr><td class = \"rowNumber\" style = \"font-weight: bold; text-align: right;\">7</td><td style = \"text-align: left;\">Csj2gMwynzU9</td><td style = \"text-align: left;\">2022-09-15T12:44:49</td><td style = \"text-align: right;\">260</td></tr><tr><td class = \"rowNumber\" style = \"font-weight: bold; text-align: right;\">8</td><td style = \"text-align: left;\">eolmUztdnCu0</td><td style = \"text-align: left;\">2022-09-15T12:44:49</td><td style = \"text-align: right;\">63</td></tr><tr><td class = \"rowNumber\" style = \"font-weight: bold; text-align: right;\">9</td><td style = \"text-align: left;\">tEzM5ZHBIt3a</td><td style = \"text-align: left;\">2022-09-15T12:44:49</td><td style = \"text-align: right;\">251</td></tr><tr><td class = \"rowNumber\" style = \"font-weight: bold; text-align: right;\">10</td><td style = \"text-align: left;\">AxxnKpyl4vA3</td><td style = \"text-align: left;\">2022-09-15T12:44:49</td><td style = \"text-align: right;\">3044</td></tr><tr><td class = \"rowNumber\" style = \"font-weight: bold; text-align: right;\">11</td><td style = \"text-align: left;\">C8r61uRNneyd</td><td style = \"text-align: left;\">2022-09-15T12:44:49</td><td style = \"text-align: right;\">7184</td></tr><tr><td class = \"rowNumber\" style = \"font-weight: bold; text-align: right;\">12</td><td style = \"text-align: left;\">gDr5rSER2veP</td><td style = \"text-align: left;\">2022-09-15T12:44:49</td><td style = \"text-align: right;\">578</td></tr><tr><td class = \"rowNumber\" style = \"font-weight: bold; text-align: right;\">13</td><td style = \"text-align: left;\">JevNCFYHfF4N</td><td style = \"text-align: left;\">2022-09-15T12:44:49</td><td style = \"text-align: right;\">63</td></tr><tr><td style = \"text-align: right;\">&vellip;</td><td style = \"text-align: right;\">&vellip;</td><td style = \"text-align: right;\">&vellip;</td><td style = \"text-align: right;\">&vellip;</td></tr><tr><td class = \"rowNumber\" style = \"font-weight: bold; text-align: right;\">29</td><td style = \"text-align: left;\">9DlmhjE9qWrO</td><td style = \"text-align: left;\">2022-09-15T12:44:49</td><td style = \"text-align: right;\">302</td></tr><tr><td class = \"rowNumber\" style = \"font-weight: bold; text-align: right;\">30</td><td style = \"text-align: left;\">U4Psk2g6Mr9X</td><td style = \"text-align: left;\">2022-09-15T12:44:49</td><td style = \"text-align: right;\">60</td></tr><tr><td class = \"rowNumber\" style = \"font-weight: bold; text-align: right;\">31</td><td style = \"text-align: left;\">PfAbaxLAROTb</td><td style = \"text-align: left;\">2022-09-15T12:44:49</td><td style = \"text-align: right;\">101</td></tr><tr><td class = \"rowNumber\" style = \"font-weight: bold; text-align: right;\">32</td><td style = \"text-align: left;\">mgbImcK9A5C4</td><td style = \"text-align: left;\">2022-09-15T12:44:49</td><td style = \"text-align: right;\">71</td></tr><tr><td class = \"rowNumber\" style = \"font-weight: bold; text-align: right;\">33</td><td style = \"text-align: left;\">BUmt7dPXUxhX</td><td style = \"text-align: left;\">2022-09-15T12:44:49</td><td style = \"text-align: right;\">60</td></tr><tr><td class = \"rowNumber\" style = \"font-weight: bold; text-align: right;\">34</td><td style = \"text-align: left;\">QnTogTz5Lvym</td><td style = \"text-align: left;\">2022-09-15T12:44:49</td><td style = \"text-align: right;\">484</td></tr><tr><td class = \"rowNumber\" style = \"font-weight: bold; text-align: right;\">35</td><td style = \"text-align: left;\">keJ7IkcIz8Rf</td><td style = \"text-align: left;\">2022-09-15T12:44:49</td><td style = \"text-align: right;\">154</td></tr><tr><td class = \"rowNumber\" style = \"font-weight: bold; text-align: right;\">36</td><td style = \"text-align: left;\">kC37eYkn7gw5</td><td style = \"text-align: left;\">2022-09-15T12:44:49</td><td style = \"text-align: right;\">1291</td></tr><tr><td class = \"rowNumber\" style = \"font-weight: bold; text-align: right;\">37</td><td style = \"text-align: left;\">sg9wOYIW2m2Y</td><td style = \"text-align: left;\">2022-09-15T12:44:49</td><td style = \"text-align: right;\">219</td></tr><tr><td class = \"rowNumber\" style = \"font-weight: bold; text-align: right;\">38</td><td style = \"text-align: left;\">SV2NcdjEM77j</td><td style = \"text-align: left;\">2022-09-15T12:44:49</td><td style = \"text-align: right;\">84</td></tr><tr><td class = \"rowNumber\" style = \"font-weight: bold; text-align: right;\">39</td><td style = \"text-align: left;\">E8g7zzfBURSQ</td><td style = \"text-align: left;\">2022-09-15T12:44:49</td><td style = \"text-align: right;\">52</td></tr><tr><td class = \"rowNumber\" style = \"font-weight: bold; text-align: right;\">40</td><td style = \"text-align: left;\">Y6GtAsXdGsx9</td><td style = \"text-align: left;\">2022-09-15T12:44:49</td><td style = \"text-align: right;\">60</td></tr></tbody></table></div>"
      ],
      "text/latex": [
       "\\begin{tabular}{r|ccc}\n",
       "\t& uuid & passtime & area\\\\\n",
       "\t\\hline\n",
       "\t& String & DateTime & Int32\\\\\n",
       "\t\\hline\n",
       "\t1 & YhtLlJLpEdpg & 2022-09-15T12:44:49 & 374 \\\\\n",
       "\t2 & 43nDI6gQMGx0 & 2022-09-15T12:44:49 & 320 \\\\\n",
       "\t3 & HTZDajz7Qo0f & 2022-09-15T12:44:49 & 94 \\\\\n",
       "\t4 & 5DvQp7bD6Xug & 2022-09-15T12:44:49 & 208 \\\\\n",
       "\t5 & lYaNuyE2IDPs & 2022-09-15T12:44:49 & 395 \\\\\n",
       "\t6 & TYZYvMVUDzUm & 2022-09-15T12:44:49 & 236 \\\\\n",
       "\t7 & Csj2gMwynzU9 & 2022-09-15T12:44:49 & 260 \\\\\n",
       "\t8 & eolmUztdnCu0 & 2022-09-15T12:44:49 & 63 \\\\\n",
       "\t9 & tEzM5ZHBIt3a & 2022-09-15T12:44:49 & 251 \\\\\n",
       "\t10 & AxxnKpyl4vA3 & 2022-09-15T12:44:49 & 3044 \\\\\n",
       "\t11 & C8r61uRNneyd & 2022-09-15T12:44:49 & 7184 \\\\\n",
       "\t12 & gDr5rSER2veP & 2022-09-15T12:44:49 & 578 \\\\\n",
       "\t13 & JevNCFYHfF4N & 2022-09-15T12:44:49 & 63 \\\\\n",
       "\t14 & Sxjv690BqdxK & 2022-09-15T12:44:49 & 81 \\\\\n",
       "\t15 & pPgMy39CInGx & 2022-09-15T12:44:49 & 206 \\\\\n",
       "\t16 & dh6FbrVyg15t & 2022-09-15T12:44:49 & 52 \\\\\n",
       "\t17 & M4qWZRtFGkdN & 2022-09-15T12:44:49 & 206 \\\\\n",
       "\t18 & OTpQ4tZsBAcQ & 2022-09-15T12:44:49 & 110 \\\\\n",
       "\t19 & OEsfweF5FX6M & 2022-09-15T12:44:49 & 121 \\\\\n",
       "\t20 & 3BzHeLpKXofC & 2022-09-15T12:44:49 & 268 \\\\\n",
       "\t21 & OAIm4gWglw1T & 2022-09-15T12:44:49 & 67 \\\\\n",
       "\t22 & P9TPTk1if39s & 2022-09-15T12:44:49 & 297 \\\\\n",
       "\t23 & IwTXtwhsessF & 2022-09-15T12:44:49 & 112 \\\\\n",
       "\t24 & DK0HNTSSLo9j & 2022-09-15T12:44:49 & 144 \\\\\n",
       "\t$\\dots$ & $\\dots$ & $\\dots$ & $\\dots$ \\\\\n",
       "\\end{tabular}\n"
      ],
      "text/plain": [
       "\u001b[1m40×3 DataFrame\u001b[0m\n",
       "\u001b[1m Row \u001b[0m│\u001b[1m uuid         \u001b[0m\u001b[1m passtime            \u001b[0m\u001b[1m area  \u001b[0m\n",
       "     │\u001b[90m String       \u001b[0m\u001b[90m DateTime            \u001b[0m\u001b[90m Int32 \u001b[0m\n",
       "─────┼──────────────────────────────────────────\n",
       "   1 │ YhtLlJLpEdpg  2022-09-15T12:44:49    374\n",
       "   2 │ 43nDI6gQMGx0  2022-09-15T12:44:49    320\n",
       "   3 │ HTZDajz7Qo0f  2022-09-15T12:44:49     94\n",
       "   4 │ 5DvQp7bD6Xug  2022-09-15T12:44:49    208\n",
       "   5 │ lYaNuyE2IDPs  2022-09-15T12:44:49    395\n",
       "   6 │ TYZYvMVUDzUm  2022-09-15T12:44:49    236\n",
       "   7 │ Csj2gMwynzU9  2022-09-15T12:44:49    260\n",
       "   8 │ eolmUztdnCu0  2022-09-15T12:44:49     63\n",
       "  ⋮  │      ⋮                 ⋮             ⋮\n",
       "  34 │ QnTogTz5Lvym  2022-09-15T12:44:49    484\n",
       "  35 │ keJ7IkcIz8Rf  2022-09-15T12:44:49    154\n",
       "  36 │ kC37eYkn7gw5  2022-09-15T12:44:49   1291\n",
       "  37 │ sg9wOYIW2m2Y  2022-09-15T12:44:49    219\n",
       "  38 │ SV2NcdjEM77j  2022-09-15T12:44:49     84\n",
       "  39 │ E8g7zzfBURSQ  2022-09-15T12:44:49     52\n",
       "  40 │ Y6GtAsXdGsx9  2022-09-15T12:44:49     60\n",
       "\u001b[36m                                 25 rows omitted\u001b[0m"
      ]
     },
     "metadata": {},
     "output_type": "display_data"
    }
   ],
   "source": [
    "# Day 3\n",
    "props[3][!, [:uuid, :passtime, :area]]"
   ]
  },
  {
   "cell_type": "code",
   "execution_count": 12,
   "metadata": {},
   "outputs": [
    {
     "data": {
      "image/png": "[encoded data removed]",
      "text/html": [
       "<img src=\"data:image/png;base64,iVBORw0KGgoAAAANSUhEUgAAAGAAAAB8CAAAAACz5+oEAAAAAXNSR0IArs4c6QAAAARnQU1BAACxjwv8YQUAAAAgY0hSTQAAeiYAAICEAAD6AAAAgOgAAHUwAADqYAAAOpgAABdwnLpRPAAAAR5JREFUaAW1wQFKJEEQAMEsyP9/uU5Q8MRdnZ02I+QPLF8NnyQmMYnJoeW7BYZ3EpOYxOTA8twCA0hMYhKTm5ZrJCYxickNy3USk5jEJCYxiUlMYhKTmMTkRctrJCYxickLltcsIDGJSUwuWu6RmMQkJjGJSUxiEpOYxCQmFyz3DCAxiUlMfrGckZjEJCYxiUlMYvKD5ZzEJCYxeWL5GxKTmMQkMryTmMQkJg8sZ4ZPEpOYxOQ/y5nhO4lJTGLyYTkzPCYxiUlM3ixnhuckJjGJyaHhZxKTmMRc7ht+JzGJSUxuGq6RmMQkJjcM10lMYhKTi4Z7JCYxickFw30Sk5jE5BfDGYlJTGIOsDw2nJOYxCQmbwZYvhr+hsQkJrF/mKMX72ClV2kAAAAASUVORK5C\">"
      ],
      "text/plain": [
       "31×24 Array{Gray{Bool},2} with eltype Gray{Bool}:\n",
       " Gray{Bool}(false)  Gray{Bool}(false)  …  Gray{Bool}(false)\n",
       " Gray{Bool}(false)  Gray{Bool}(false)     Gray{Bool}(false)\n",
       " Gray{Bool}(false)  Gray{Bool}(false)     Gray{Bool}(false)\n",
       " Gray{Bool}(false)  Gray{Bool}(false)     Gray{Bool}(false)\n",
       " Gray{Bool}(false)  Gray{Bool}(false)     Gray{Bool}(false)\n",
       " Gray{Bool}(false)  Gray{Bool}(false)  …  Gray{Bool}(false)\n",
       " Gray{Bool}(false)  Gray{Bool}(false)     Gray{Bool}(false)\n",
       " Gray{Bool}(false)  Gray{Bool}(false)     Gray{Bool}(false)\n",
       " Gray{Bool}(false)  Gray{Bool}(false)     Gray{Bool}(true)\n",
       " Gray{Bool}(false)  Gray{Bool}(false)     Gray{Bool}(true)\n",
       " ⋮                                     ⋱  \n",
       " Gray{Bool}(false)  Gray{Bool}(true)      Gray{Bool}(false)\n",
       " Gray{Bool}(true)   Gray{Bool}(true)      Gray{Bool}(false)\n",
       " Gray{Bool}(true)   Gray{Bool}(true)      Gray{Bool}(false)\n",
       " Gray{Bool}(true)   Gray{Bool}(true)   …  Gray{Bool}(false)\n",
       " Gray{Bool}(true)   Gray{Bool}(true)      Gray{Bool}(false)\n",
       " Gray{Bool}(true)   Gray{Bool}(true)      Gray{Bool}(false)\n",
       " Gray{Bool}(true)   Gray{Bool}(true)      Gray{Bool}(false)\n",
       " Gray{Bool}(false)  Gray{Bool}(true)      Gray{Bool}(false)\n",
       " Gray{Bool}(false)  Gray{Bool}(false)  …  Gray{Bool}(false)"
      ]
     },
     "metadata": {},
     "output_type": "display_data"
    }
   ],
   "source": [
    "imshow(props[3][1, :mask]) # missing in day 1"
   ]
  },
  {
   "cell_type": "code",
   "execution_count": 13,
   "metadata": {},
   "outputs": [
    {
     "data": {
      "image/png": "[encoded data removed]",
      "text/html": [
       "<img src=\"data:image/png;base64,iVBORw0KGgoAAAANSUhEUgAAAHgAAABuCAAAAADJgIiIAAAAAXNSR0IArs4c6QAAAARnQU1BAACxjwv8YQUAAAAgY0hSTQAAeiYAAICEAAD6AAAAgOgAAHUwAADqYAAAOpgAABdwnLpRPAAAAPdJREFUaAXFwUFqw1AUwEA90P2v/OssHAhNWrvU1oycsfhgOEsiEpGIROSTxQmLY4adRCQiEYnIG4urLDbDRiISkYhE5NXieouNRCQiEYnI0+JOEpGIRCQiEYlIRCISkYhEJCIRiUhEIhKRiETkfsNGIhKRiETkVsNOIhKRiETkYXE7iUhEIhKRuwwvJCIRiUhEIhKRiEQk4qIhEYlIRCJyg+E7iUhEIhKRaw0fSEQiEpGIXGb4iUQkIhGJyBWGX0lEIhKRiMNm8W+GYyQiEYlIRB6GzeJOEpGIRCQiT8Nu8SfDCRKRiEQkIm8Mu8Uxw1kSkYhEJPIFahcPvNWUyP0AAAAASUVORK5C\">"
      ],
      "text/plain": [
       "22×24 Array{Gray{Bool},2} with eltype Gray{Bool}:\n",
       " Gray{Bool}(false)  Gray{Bool}(false)  …  Gray{Bool}(false)\n",
       " Gray{Bool}(false)  Gray{Bool}(false)     Gray{Bool}(false)\n",
       " Gray{Bool}(false)  Gray{Bool}(false)     Gray{Bool}(false)\n",
       " Gray{Bool}(false)  Gray{Bool}(false)     Gray{Bool}(true)\n",
       " Gray{Bool}(false)  Gray{Bool}(false)     Gray{Bool}(true)\n",
       " Gray{Bool}(false)  Gray{Bool}(false)  …  Gray{Bool}(true)\n",
       " Gray{Bool}(false)  Gray{Bool}(false)     Gray{Bool}(true)\n",
       " Gray{Bool}(false)  Gray{Bool}(false)     Gray{Bool}(true)\n",
       " Gray{Bool}(false)  Gray{Bool}(false)     Gray{Bool}(false)\n",
       " Gray{Bool}(false)  Gray{Bool}(false)     Gray{Bool}(false)\n",
       " ⋮                                     ⋱  \n",
       " Gray{Bool}(true)   Gray{Bool}(true)      Gray{Bool}(false)\n",
       " Gray{Bool}(true)   Gray{Bool}(true)      Gray{Bool}(false)\n",
       " Gray{Bool}(true)   Gray{Bool}(true)   …  Gray{Bool}(false)\n",
       " Gray{Bool}(true)   Gray{Bool}(true)      Gray{Bool}(false)\n",
       " Gray{Bool}(true)   Gray{Bool}(true)      Gray{Bool}(false)\n",
       " Gray{Bool}(false)  Gray{Bool}(true)      Gray{Bool}(false)\n",
       " Gray{Bool}(false)  Gray{Bool}(false)     Gray{Bool}(false)\n",
       " Gray{Bool}(false)  Gray{Bool}(false)  …  Gray{Bool}(false)\n",
       " Gray{Bool}(false)  Gray{Bool}(false)     Gray{Bool}(false)"
      ]
     },
     "metadata": {},
     "output_type": "display_data"
    }
   ],
   "source": [
    "imshow(props[3][5, :mask]) # missing in day 2"
   ]
  },
  {
   "cell_type": "markdown",
   "metadata": {},
   "source": [
    "### 5. Pair and label floes"
   ]
  },
  {
   "cell_type": "code",
   "execution_count": 14,
   "metadata": {},
   "outputs": [],
   "source": [
    "# Get paired floes with labels\n",
    "trajectories = long_tracker(props, condition_thresholds, mc_thresholds);"
   ]
  },
  {
   "cell_type": "markdown",
   "metadata": {},
   "source": [
    "### 6. View trajectories and _goodness_ of pairings"
   ]
  },
  {
   "cell_type": "code",
   "execution_count": 15,
   "metadata": {},
   "outputs": [
    {
     "data": {
      "text/html": [
       "<div><div style = \"float: left;\"><span>15×4 DataFrame</span></div><div style = \"clear: both;\"></div></div><div class = \"data-frame\" style = \"overflow-x: scroll;\"><table class = \"data-frame\" style = \"margin-bottom: 6px;\"><thead><tr class = \"header\"><th class = \"rowNumber\" style = \"font-weight: bold; text-align: right;\">Row</th><th style = \"text-align: left;\">ID</th><th style = \"text-align: left;\">passtime</th><th style = \"text-align: left;\">area_mismatch</th><th style = \"text-align: left;\">corr</th></tr><tr class = \"subheader headerLastRow\"><th class = \"rowNumber\" style = \"font-weight: bold; text-align: right;\"></th><th title = \"Int64\" style = \"text-align: left;\">Int64</th><th title = \"DateTime\" style = \"text-align: left;\">DateTime</th><th title = \"Union{Missing, Float64}\" style = \"text-align: left;\">Float64?</th><th title = \"Union{Missing, Float64}\" style = \"text-align: left;\">Float64?</th></tr></thead><tbody><tr><td class = \"rowNumber\" style = \"font-weight: bold; text-align: right;\">1</td><td style = \"text-align: right;\">1</td><td style = \"text-align: left;\">2022-09-14T12:44:49</td><td style = \"font-style: italic; text-align: right;\">missing</td><td style = \"font-style: italic; text-align: right;\">missing</td></tr><tr><td class = \"rowNumber\" style = \"font-weight: bold; text-align: right;\">2</td><td style = \"text-align: right;\">1</td><td style = \"text-align: left;\">2022-09-14T13:59:19</td><td style = \"text-align: right;\">0.0</td><td style = \"text-align: right;\">0.989722</td></tr><tr><td class = \"rowNumber\" style = \"font-weight: bold; text-align: right;\">3</td><td style = \"text-align: right;\">1</td><td style = \"text-align: left;\">2022-09-15T12:44:49</td><td style = \"text-align: right;\">0.0</td><td style = \"text-align: right;\">0.989586</td></tr><tr><td class = \"rowNumber\" style = \"font-weight: bold; text-align: right;\">4</td><td style = \"text-align: right;\">2</td><td style = \"text-align: left;\">2022-09-14T12:44:49</td><td style = \"font-style: italic; text-align: right;\">missing</td><td style = \"font-style: italic; text-align: right;\">missing</td></tr><tr><td class = \"rowNumber\" style = \"font-weight: bold; text-align: right;\">5</td><td style = \"text-align: right;\">2</td><td style = \"text-align: left;\">2022-09-14T13:59:19</td><td style = \"text-align: right;\">0.0</td><td style = \"text-align: right;\">0.991565</td></tr><tr><td class = \"rowNumber\" style = \"font-weight: bold; text-align: right;\">6</td><td style = \"text-align: right;\">2</td><td style = \"text-align: left;\">2022-09-15T12:44:49</td><td style = \"text-align: right;\">0.0</td><td style = \"text-align: right;\">0.994474</td></tr><tr><td class = \"rowNumber\" style = \"font-weight: bold; text-align: right;\">7</td><td style = \"text-align: right;\">3</td><td style = \"text-align: left;\">2022-09-14T12:44:49</td><td style = \"font-style: italic; text-align: right;\">missing</td><td style = \"font-style: italic; text-align: right;\">missing</td></tr><tr><td class = \"rowNumber\" style = \"font-weight: bold; text-align: right;\">8</td><td style = \"text-align: right;\">3</td><td style = \"text-align: left;\">2022-09-14T13:59:19</td><td style = \"text-align: right;\">0.0</td><td style = \"text-align: right;\">0.988498</td></tr><tr><td class = \"rowNumber\" style = \"font-weight: bold; text-align: right;\">9</td><td style = \"text-align: right;\">3</td><td style = \"text-align: left;\">2022-09-15T12:44:49</td><td style = \"text-align: right;\">0.0</td><td style = \"text-align: right;\">0.98847</td></tr><tr><td class = \"rowNumber\" style = \"font-weight: bold; text-align: right;\">10</td><td style = \"text-align: right;\">4</td><td style = \"text-align: left;\">2022-09-14T12:44:49</td><td style = \"font-style: italic; text-align: right;\">missing</td><td style = \"font-style: italic; text-align: right;\">missing</td></tr><tr><td class = \"rowNumber\" style = \"font-weight: bold; text-align: right;\">11</td><td style = \"text-align: right;\">4</td><td style = \"text-align: left;\">2022-09-14T13:59:19</td><td style = \"text-align: right;\">0.0</td><td style = \"text-align: right;\">0.991761</td></tr><tr><td class = \"rowNumber\" style = \"font-weight: bold; text-align: right;\">12</td><td style = \"text-align: right;\">4</td><td style = \"text-align: left;\">2022-09-15T12:44:49</td><td style = \"text-align: right;\">0.0</td><td style = \"text-align: right;\">0.98739</td></tr><tr><td class = \"rowNumber\" style = \"font-weight: bold; text-align: right;\">13</td><td style = \"text-align: right;\">5</td><td style = \"text-align: left;\">2022-09-14T12:44:49</td><td style = \"font-style: italic; text-align: right;\">missing</td><td style = \"font-style: italic; text-align: right;\">missing</td></tr><tr><td class = \"rowNumber\" style = \"font-weight: bold; text-align: right;\">14</td><td style = \"text-align: right;\">5</td><td style = \"text-align: left;\">2022-09-14T13:59:19</td><td style = \"text-align: right;\">0.0</td><td style = \"text-align: right;\">0.994393</td></tr><tr><td class = \"rowNumber\" style = \"font-weight: bold; text-align: right;\">15</td><td style = \"text-align: right;\">5</td><td style = \"text-align: left;\">2022-09-15T12:44:49</td><td style = \"text-align: right;\">0.0</td><td style = \"text-align: right;\">0.994582</td></tr></tbody></table></div>"
      ],
      "text/latex": [
       "\\begin{tabular}{r|cccc}\n",
       "\t& ID & passtime & area\\_mismatch & corr\\\\\n",
       "\t\\hline\n",
       "\t& Int64 & DateTime & Float64? & Float64?\\\\\n",
       "\t\\hline\n",
       "\t1 & 1 & 2022-09-14T12:44:49 & \\emph{missing} & \\emph{missing} \\\\\n",
       "\t2 & 1 & 2022-09-14T13:59:19 & 0.0 & 0.989722 \\\\\n",
       "\t3 & 1 & 2022-09-15T12:44:49 & 0.0 & 0.989586 \\\\\n",
       "\t4 & 2 & 2022-09-14T12:44:49 & \\emph{missing} & \\emph{missing} \\\\\n",
       "\t5 & 2 & 2022-09-14T13:59:19 & 0.0 & 0.991565 \\\\\n",
       "\t6 & 2 & 2022-09-15T12:44:49 & 0.0 & 0.994474 \\\\\n",
       "\t7 & 3 & 2022-09-14T12:44:49 & \\emph{missing} & \\emph{missing} \\\\\n",
       "\t8 & 3 & 2022-09-14T13:59:19 & 0.0 & 0.988498 \\\\\n",
       "\t9 & 3 & 2022-09-15T12:44:49 & 0.0 & 0.98847 \\\\\n",
       "\t10 & 4 & 2022-09-14T12:44:49 & \\emph{missing} & \\emph{missing} \\\\\n",
       "\t11 & 4 & 2022-09-14T13:59:19 & 0.0 & 0.991761 \\\\\n",
       "\t12 & 4 & 2022-09-15T12:44:49 & 0.0 & 0.98739 \\\\\n",
       "\t13 & 5 & 2022-09-14T12:44:49 & \\emph{missing} & \\emph{missing} \\\\\n",
       "\t14 & 5 & 2022-09-14T13:59:19 & 0.0 & 0.994393 \\\\\n",
       "\t15 & 5 & 2022-09-15T12:44:49 & 0.0 & 0.994582 \\\\\n",
       "\\end{tabular}\n"
      ],
      "text/plain": [
       "\u001b[1m15×4 DataFrame\u001b[0m\n",
       "\u001b[1m Row \u001b[0m│\u001b[1m ID    \u001b[0m\u001b[1m passtime            \u001b[0m\u001b[1m area_mismatch \u001b[0m\u001b[1m corr           \u001b[0m\n",
       "     │\u001b[90m Int64 \u001b[0m\u001b[90m DateTime            \u001b[0m\u001b[90m Float64?      \u001b[0m\u001b[90m Float64?       \u001b[0m\n",
       "─────┼───────────────────────────────────────────────────────────\n",
       "   1 │     1  2022-09-14T12:44:49 \u001b[90m     missing   \u001b[0m\u001b[90m missing        \u001b[0m\n",
       "   2 │     1  2022-09-14T13:59:19            0.0        0.989722\n",
       "   3 │     1  2022-09-15T12:44:49            0.0        0.989586\n",
       "   4 │     2  2022-09-14T12:44:49 \u001b[90m     missing   \u001b[0m\u001b[90m missing        \u001b[0m\n",
       "   5 │     2  2022-09-14T13:59:19            0.0        0.991565\n",
       "   6 │     2  2022-09-15T12:44:49            0.0        0.994474\n",
       "   7 │     3  2022-09-14T12:44:49 \u001b[90m     missing   \u001b[0m\u001b[90m missing        \u001b[0m\n",
       "   8 │     3  2022-09-14T13:59:19            0.0        0.988498\n",
       "   9 │     3  2022-09-15T12:44:49            0.0        0.98847\n",
       "  10 │     4  2022-09-14T12:44:49 \u001b[90m     missing   \u001b[0m\u001b[90m missing        \u001b[0m\n",
       "  11 │     4  2022-09-14T13:59:19            0.0        0.991761\n",
       "  12 │     4  2022-09-15T12:44:49            0.0        0.98739\n",
       "  13 │     5  2022-09-14T12:44:49 \u001b[90m     missing   \u001b[0m\u001b[90m missing        \u001b[0m\n",
       "  14 │     5  2022-09-14T13:59:19            0.0        0.994393\n",
       "  15 │     5  2022-09-15T12:44:49            0.0        0.994582"
      ]
     },
     "metadata": {},
     "output_type": "display_data"
    }
   ],
   "source": [
    "trajectories[!, [:ID, :passtime, :area_mismatch, :corr]]"
   ]
  },
  {
   "cell_type": "markdown",
   "metadata": {},
   "source": [
    "7. Add latitude/longitude data to trajectories"
   ]
  },
  {
   "cell_type": "code",
   "execution_count": 16,
   "metadata": {},
   "outputs": [],
   "source": [
    "latlonimgpth = joinpath(HOME, \"test\", \"test_inputs\", \"beaufort-chukchi-seas_truecolor.2020162.aqua.250m.tiff\")\n",
    "addlatlon!(trajectories, latlonimgpth)"
   ]
  },
  {
   "cell_type": "code",
   "execution_count": 17,
   "metadata": {},
   "outputs": [
    {
     "data": {
      "text/html": [
       "<div><div style = \"float: left;\"><span>15×5 DataFrame</span></div><div style = \"clear: both;\"></div></div><div class = \"data-frame\" style = \"overflow-x: scroll;\"><table class = \"data-frame\" style = \"margin-bottom: 6px;\"><thead><tr class = \"header\"><th class = \"rowNumber\" style = \"font-weight: bold; text-align: right;\">Row</th><th style = \"text-align: left;\">ID</th><th style = \"text-align: left;\">area</th><th style = \"text-align: left;\">passtime</th><th style = \"text-align: left;\">latitude</th><th style = \"text-align: left;\">longitude</th></tr><tr class = \"subheader headerLastRow\"><th class = \"rowNumber\" style = \"font-weight: bold; text-align: right;\"></th><th title = \"Int64\" style = \"text-align: left;\">Int64</th><th title = \"Float64\" style = \"text-align: left;\">Float64</th><th title = \"DateTime\" style = \"text-align: left;\">DateTime</th><th title = \"Float64\" style = \"text-align: left;\">Float64</th><th title = \"Float64\" style = \"text-align: left;\">Float64</th></tr></thead><tbody><tr><td class = \"rowNumber\" style = \"font-weight: bold; text-align: right;\">1</td><td style = \"text-align: right;\">1</td><td style = \"text-align: right;\">31.7219</td><td style = \"text-align: left;\">2022-09-14T12:44:49</td><td style = \"text-align: right;\">65.4586</td><td style = \"text-align: right;\">-172.087</td></tr><tr><td class = \"rowNumber\" style = \"font-weight: bold; text-align: right;\">2</td><td style = \"text-align: right;\">1</td><td style = \"text-align: right;\">27.3962</td><td style = \"text-align: left;\">2022-09-14T13:59:19</td><td style = \"text-align: right;\">65.4537</td><td style = \"text-align: right;\">-172.085</td></tr><tr><td class = \"rowNumber\" style = \"font-weight: bold; text-align: right;\">3</td><td style = \"text-align: right;\">1</td><td style = \"text-align: right;\">31.7219</td><td style = \"text-align: left;\">2022-09-15T12:44:49</td><td style = \"text-align: right;\">65.4736</td><td style = \"text-align: right;\">-172.067</td></tr><tr><td class = \"rowNumber\" style = \"font-weight: bold; text-align: right;\">4</td><td style = \"text-align: right;\">2</td><td style = \"text-align: right;\">199.442</td><td style = \"text-align: left;\">2022-09-14T12:44:49</td><td style = \"text-align: right;\">65.3314</td><td style = \"text-align: right;\">-170.047</td></tr><tr><td class = \"rowNumber\" style = \"font-weight: bold; text-align: right;\">5</td><td style = \"text-align: right;\">2</td><td style = \"text-align: right;\">190.004</td><td style = \"text-align: left;\">2022-09-14T13:59:19</td><td style = \"text-align: right;\">65.3107</td><td style = \"text-align: right;\">-170.052</td></tr><tr><td class = \"rowNumber\" style = \"font-weight: bold; text-align: right;\">6</td><td style = \"text-align: right;\">2</td><td style = \"text-align: right;\">199.507</td><td style = \"text-align: left;\">2022-09-15T12:44:49</td><td style = \"text-align: right;\">65.3183</td><td style = \"text-align: right;\">-170.045</td></tr><tr><td class = \"rowNumber\" style = \"font-weight: bold; text-align: right;\">7</td><td style = \"text-align: right;\">3</td><td style = \"text-align: right;\">37.8828</td><td style = \"text-align: left;\">2022-09-14T12:44:49</td><td style = \"text-align: right;\">65.1822</td><td style = \"text-align: right;\">-170.872</td></tr><tr><td class = \"rowNumber\" style = \"font-weight: bold; text-align: right;\">8</td><td style = \"text-align: right;\">3</td><td style = \"text-align: right;\">33.6226</td><td style = \"text-align: left;\">2022-09-14T13:59:19</td><td style = \"text-align: right;\">65.167</td><td style = \"text-align: right;\">-170.886</td></tr><tr><td class = \"rowNumber\" style = \"font-weight: bold; text-align: right;\">9</td><td style = \"text-align: right;\">3</td><td style = \"text-align: right;\">37.8828</td><td style = \"text-align: left;\">2022-09-15T12:44:49</td><td style = \"text-align: right;\">65.1809</td><td style = \"text-align: right;\">-170.877</td></tr><tr><td class = \"rowNumber\" style = \"font-weight: bold; text-align: right;\">10</td><td style = \"text-align: right;\">4</td><td style = \"text-align: right;\">84.6792</td><td style = \"text-align: left;\">2022-09-14T12:44:49</td><td style = \"text-align: right;\">65.566</td><td style = \"text-align: right;\">-171.934</td></tr><tr><td class = \"rowNumber\" style = \"font-weight: bold; text-align: right;\">11</td><td style = \"text-align: right;\">4</td><td style = \"text-align: right;\">77.0764</td><td style = \"text-align: left;\">2022-09-14T13:59:19</td><td style = \"text-align: right;\">65.5578</td><td style = \"text-align: right;\">-171.933</td></tr><tr><td class = \"rowNumber\" style = \"font-weight: bold; text-align: right;\">12</td><td style = \"text-align: right;\">4</td><td style = \"text-align: right;\">84.6136</td><td style = \"text-align: left;\">2022-09-15T12:44:49</td><td style = \"text-align: right;\">65.5791</td><td style = \"text-align: right;\">-171.91</td></tr><tr><td class = \"rowNumber\" style = \"font-weight: bold; text-align: right;\">13</td><td style = \"text-align: right;\">5</td><td style = \"text-align: right;\">470.848</td><td style = \"text-align: left;\">2022-09-14T12:44:49</td><td style = \"text-align: right;\">65.1187</td><td style = \"text-align: right;\">-171.28</td></tr><tr><td class = \"rowNumber\" style = \"font-weight: bold; text-align: right;\">14</td><td style = \"text-align: right;\">5</td><td style = \"text-align: right;\">456.56</td><td style = \"text-align: left;\">2022-09-14T13:59:19</td><td style = \"text-align: right;\">65.1052</td><td style = \"text-align: right;\">-171.297</td></tr><tr><td class = \"rowNumber\" style = \"font-weight: bold; text-align: right;\">15</td><td style = \"text-align: right;\">5</td><td style = \"text-align: right;\">470.848</td><td style = \"text-align: left;\">2022-09-15T12:44:49</td><td style = \"text-align: right;\">65.1228</td><td style = \"text-align: right;\">-171.294</td></tr></tbody></table></div>"
      ],
      "text/latex": [
       "\\begin{tabular}{r|ccccc}\n",
       "\t& ID & area & passtime & latitude & longitude\\\\\n",
       "\t\\hline\n",
       "\t& Int64 & Float64 & DateTime & Float64 & Float64\\\\\n",
       "\t\\hline\n",
       "\t1 & 1 & 31.7219 & 2022-09-14T12:44:49 & 65.4586 & -172.087 \\\\\n",
       "\t2 & 1 & 27.3962 & 2022-09-14T13:59:19 & 65.4537 & -172.085 \\\\\n",
       "\t3 & 1 & 31.7219 & 2022-09-15T12:44:49 & 65.4736 & -172.067 \\\\\n",
       "\t4 & 2 & 199.442 & 2022-09-14T12:44:49 & 65.3314 & -170.047 \\\\\n",
       "\t5 & 2 & 190.004 & 2022-09-14T13:59:19 & 65.3107 & -170.052 \\\\\n",
       "\t6 & 2 & 199.507 & 2022-09-15T12:44:49 & 65.3183 & -170.045 \\\\\n",
       "\t7 & 3 & 37.8828 & 2022-09-14T12:44:49 & 65.1822 & -170.872 \\\\\n",
       "\t8 & 3 & 33.6226 & 2022-09-14T13:59:19 & 65.167 & -170.886 \\\\\n",
       "\t9 & 3 & 37.8828 & 2022-09-15T12:44:49 & 65.1809 & -170.877 \\\\\n",
       "\t10 & 4 & 84.6792 & 2022-09-14T12:44:49 & 65.566 & -171.934 \\\\\n",
       "\t11 & 4 & 77.0764 & 2022-09-14T13:59:19 & 65.5578 & -171.933 \\\\\n",
       "\t12 & 4 & 84.6136 & 2022-09-15T12:44:49 & 65.5791 & -171.91 \\\\\n",
       "\t13 & 5 & 470.848 & 2022-09-14T12:44:49 & 65.1187 & -171.28 \\\\\n",
       "\t14 & 5 & 456.56 & 2022-09-14T13:59:19 & 65.1052 & -171.297 \\\\\n",
       "\t15 & 5 & 470.848 & 2022-09-15T12:44:49 & 65.1228 & -171.294 \\\\\n",
       "\\end{tabular}\n"
      ],
      "text/plain": [
       "\u001b[1m15×5 DataFrame\u001b[0m\n",
       "\u001b[1m Row \u001b[0m│\u001b[1m ID    \u001b[0m\u001b[1m area     \u001b[0m\u001b[1m passtime            \u001b[0m\u001b[1m latitude \u001b[0m\u001b[1m longitude \u001b[0m\n",
       "     │\u001b[90m Int64 \u001b[0m\u001b[90m Float64  \u001b[0m\u001b[90m DateTime            \u001b[0m\u001b[90m Float64  \u001b[0m\u001b[90m Float64   \u001b[0m\n",
       "─────┼───────────────────────────────────────────────────────────\n",
       "   1 │     1   31.7219  2022-09-14T12:44:49   65.4586   -172.087\n",
       "   2 │     1   27.3962  2022-09-14T13:59:19   65.4537   -172.085\n",
       "   3 │     1   31.7219  2022-09-15T12:44:49   65.4736   -172.067\n",
       "   4 │     2  199.442   2022-09-14T12:44:49   65.3314   -170.047\n",
       "   5 │     2  190.004   2022-09-14T13:59:19   65.3107   -170.052\n",
       "   6 │     2  199.507   2022-09-15T12:44:49   65.3183   -170.045\n",
       "   7 │     3   37.8828  2022-09-14T12:44:49   65.1822   -170.872\n",
       "   8 │     3   33.6226  2022-09-14T13:59:19   65.167    -170.886\n",
       "   9 │     3   37.8828  2022-09-15T12:44:49   65.1809   -170.877\n",
       "  10 │     4   84.6792  2022-09-14T12:44:49   65.566    -171.934\n",
       "  11 │     4   77.0764  2022-09-14T13:59:19   65.5578   -171.933\n",
       "  12 │     4   84.6136  2022-09-15T12:44:49   65.5791   -171.91\n",
       "  13 │     5  470.848   2022-09-14T12:44:49   65.1187   -171.28\n",
       "  14 │     5  456.56    2022-09-14T13:59:19   65.1052   -171.297\n",
       "  15 │     5  470.848   2022-09-15T12:44:49   65.1228   -171.294"
      ]
     },
     "metadata": {},
     "output_type": "display_data"
    }
   ],
   "source": [
    "# View trajectories with lat/lon data\n",
    "# Note that the areas are now in physical units (km^2)\n",
    "cols = [:ID, :area, :passtime, :latitude, :longitude]\n",
    "trajectories[!, cols]"
   ]
  },
  {
   "cell_type": "code",
   "execution_count": 18,
   "metadata": {},
   "outputs": [],
   "source": [
    "grouped_trajectories = groupby(trajectories, :ID);"
   ]
  },
  {
   "cell_type": "code",
   "execution_count": 19,
   "metadata": {},
   "outputs": [
    {
     "data": {
      "text/html": [
       "<table><tbody><tr><td style='text-align:center;vertical-align:middle; margin: 0.5em;border:1px #90999f solid;border-collapse:collapse'><img style='max-width: 100px; max-height:100px;display:inline' src=\"data:image/png;base64,iVBORw0KGgoAAAANSUhEUgAAAHAAAACICAAAAAAaSjDjAAAAAXNSR0IArs4c6QAAAARnQU1BAACxjwv8YQUAAAAgY0hSTQAAeiYAAICEAAD6AAAAgOgAAHUwAADqYAAAOpgAABdwnLpRPAAAAUNJREFUaAW9wQFqVUkARcFqOPvfco+goBk1/pCXW5Ufrt8dz8tYxjKWb64/uzielbGMZazrfRfHczKWsYxlLGMZy1jGMpaxjOUFF8czMpaxjOVFF8fnZSxjGctYxjKWsXyB663jp4xlLGN52PW7i+O7jGUsY3nQ9XcXBxnLWMYylrGMZSxjGctYxvKQ6zUZy1jG8gHX52UsYxnr4Nq4yFjGMpZvDq6vd5CxjGUsPxxcXy9jGctYfnFwfY3ju4xlLGP5n4PrWcdPGctYxvLFjrcylrGM5WHH+zKWsYzlQce/ZSxjGctYxjKWsYxlLGMZyx8cXF8jYxnLWP7i4HpexjKWsbzj4HpWxjKWsfzDwfWcjGUsYxnLWMYylhccXM/IWMYylhcdXJ+XsYxlLB9wcP3Z8ZqMZSxj+aCD663jdRnLWMb+AzMQHiKs10ZLAAAAAElFTkSuQmCC\"></td><td style='text-align:center;vertical-align:middle; margin: 0.5em;border:1px #90999f solid;border-collapse:collapse'><img style='max-width: 100px; max-height:100px;display:inline' src=\"data:image/png;base64,iVBORw0KGgoAAAANSUhEUgAAAGgAAACECAAAAABZ8TGEAAAAAXNSR0IArs4c6QAAAARnQU1BAACxjwv8YQUAAAAgY0hSTQAAeiYAAICEAAD6AAAAgOgAAHUwAADqYAAAOpgAABdwnLpRPAAAATdJREFUaAW9wQFqXUcARTENnP1veRpIwHWT2L/4+Ur55XrveFZGMpKR/HD97uJ4TkYykpGuv7s4npGRjGQkIxnJSEYykpGMZCSfuDi+LiMZyUhecHF8TUYykpGMZCQjGck3uN4cP2UkIxnJw673Lg4ykpGM5EHXn11kJCMZyUhGMpKRjGQkIxnJQ66PZSQjGcmLrq/JSEYy0sH1vQ4ykpGM5IeD63tlJCMZyS8H1/OOnzKSkYzkXw6u5xxvMpKRjOSbHO9lJCMZyUOOj2UkIxnJA47PZSQjGclIRjKSkYxkJCMZyX8cXM/LSEYykj84uJ6VkYxkJH9xcD0nIxnJSD5wcD0jIxnJSEYykpGM5BMH19dlJCMZyQsOrq/JSEYykhcdXL87XpORjGQk/8PB9eZ4XUYykpF/AGCXHBJcs6I1AAAAAElFTkSuQmCC\"></td><td style='text-align:center;vertical-align:middle; margin: 0.5em;border:1px #90999f solid;border-collapse:collapse'><img style='max-width: 100px; max-height:100px;display:inline' src=\"data:image/png;base64,iVBORw0KGgoAAAANSUhEUgAAAHAAAACICAAAAAAaSjDjAAAAAXNSR0IArs4c6QAAAARnQU1BAACxjwv8YQUAAAAgY0hSTQAAeiYAAICEAAD6AAAAgOgAAHUwAADqYAAAOpgAABdwnLpRPAAAAUZJREFUaAW9wQFqFEgARcFqePe/cq+goNnEOCEzvyp/uN47nitjGctYfrk+dnE8T8YylrH8cH3u4niOjGUsYxnLWMYylrGMZSxjedDF8X0Zy1jG8gUXx/dkLGMZy1jGMpaxvMj11vFTxjKWsbzA9d7FQcYylrE82fV3FxnLWMYylrGMZazrccfnrs8dZCxjGcuTXI/JWMYyli+4vi9jGctYxjKWsYx1cL3e8VPGMpax/HBwbWQsYxnLLwfXaxy/ZSxjGcsfDq7nOt7KWMYylhc63stYxjKWJzr+LWMZy1ie5HhMxjKWsYxlLGMZy1jGMpax/M/B9ToZy1jG8oGD6zUylrGM5S8OrufLWMYylk8cXM+VsYxlLGMZy1jG8g8H1/NkLGMZywMOrufIWMYylgcdXB87HpexjGUsX3BwvXV8TcYylrH/AOa2HiKYMA5qAAAAAElFTkSuQmCC\"></td></tr></tbody></table><div><small>(a vector displayed as a row to save space)</small></div>"
      ],
      "text/plain": [
       "3-element Vector{Matrix{Gray{Bool}}}:\n",
       " [Gray{Bool}(false) Gray{Bool}(false) … Gray{Bool}(false) Gray{Bool}(false); Gray{Bool}(false) Gray{Bool}(true) … Gray{Bool}(false) Gray{Bool}(false); … ; Gray{Bool}(false) Gray{Bool}(false) … Gray{Bool}(false) Gray{Bool}(false); Gray{Bool}(false) Gray{Bool}(false) … Gray{Bool}(false) Gray{Bool}(false)]\n",
       " [Gray{Bool}(false) Gray{Bool}(false) … Gray{Bool}(false) Gray{Bool}(false); Gray{Bool}(false) Gray{Bool}(true) … Gray{Bool}(false) Gray{Bool}(false); … ; Gray{Bool}(false) Gray{Bool}(false) … Gray{Bool}(false) Gray{Bool}(false); Gray{Bool}(false) Gray{Bool}(false) … Gray{Bool}(false) Gray{Bool}(false)]\n",
       " [Gray{Bool}(false) Gray{Bool}(false) … Gray{Bool}(false) Gray{Bool}(false); Gray{Bool}(false) Gray{Bool}(false) … Gray{Bool}(false) Gray{Bool}(false); … ; Gray{Bool}(false) Gray{Bool}(false) … Gray{Bool}(false) Gray{Bool}(false); Gray{Bool}(false) Gray{Bool}(false) … Gray{Bool}(false) Gray{Bool}(false)]"
      ]
     },
     "metadata": {},
     "output_type": "display_data"
    }
   ],
   "source": [
    "imshow.(grouped_trajectories[1].mask)"
   ]
  },
  {
   "cell_type": "code",
   "execution_count": 20,
   "metadata": {},
   "outputs": [
    {
     "data": {
      "text/html": [
       "<table><tbody><tr><td style='text-align:center;vertical-align:middle; margin: 0.5em;border:1px #90999f solid;border-collapse:collapse'><img style='max-width: 100px; max-height:100px;display:inline' src=\"data:image/png;base64,iVBORw0KGgoAAAANSUhEUgAAAHAAAACwCAAAAADyY7UjAAAAAXNSR0IArs4c6QAAAARnQU1BAACxjwv8YQUAAAAgY0hSTQAAeiYAAICEAAD6AAAAgOgAAHUwAADqYAAAOpgAABdwnLpRPAAAAglJREFUeAG9wQly4gAQBMGaiPr/l3u9vgCDQOjoTNkhXAzrSJlsFG6FYQ0pk03CvTC8JmWyQdhOyuRtYQ8pk7eEvaRMVgqvheEVKZMVwlpheE7K5KVwJCmTRWGLMDwjZbIgbBWGZVImD4WzSJk8EPYJwxIpkzthvzA8JmVSJmXyRziXlMlJwvCIlMmNcJwwhOGWlMmJAoThmpTJlXCGMFxImfwKZwnDDymTb+FMYfgiZfIpnC0M/0mZfAgNYQApk6IwSJkQeoKUSZmUSZmUSZmUGbqkTMqkTKoGKZOiAaRMSoYvUiZlUiZlUiZlUuYQzjf8kDIpkzIpkzJhCD1SJgXDhZTJ6YZrUiZlUiZlUiZlUiZlUiZlUiYnG25JmZRJmZRJmZRJmXwYQouUyachdEiZfBtCg5TJr+G/cKwwXJMy+WMIxwrDhZTJnQHCkcLwQ8rkoSGcQ8pkwRDOIGWyaAjHGC6kTJ4YwtGkTJ4awrGkTE43XJMyeWEIewy3pExeGsJWw19SJisM4ShSJqsM4RhSJisN4QhSJqsNYT8pkzcMYS8pk7cMYb3hnpTJm4awh5TJ24awnZTJBkPYSsqkTMqkTMpkkyFsI2Wy0RC2kDIpkzLZbAjPDI9ImewwhHdJmewyQHiHlMluQ1hPyuQkw2NSJgcYwq1hiZTJIYZwMSyTMjnIEL4Mz0jZP00kUbr+WSIsAAAAAElFTkSuQmCC\"></td><td style='text-align:center;vertical-align:middle; margin: 0.5em;border:1px #90999f solid;border-collapse:collapse'><img style='max-width: 100px; max-height:100px;display:inline' src=\"data:image/png;base64,iVBORw0KGgoAAAANSUhEUgAAAG4AAACuCAAAAADy2GeTAAAAAXNSR0IArs4c6QAAAARnQU1BAACxjwv8YQUAAAAgY0hSTQAAeiYAAICEAAD6AAAAgOgAAHUwAADqYAAAOpgAABdwnLpRPAAAAgNJREFUeAG9wQlyIgEQA8HqiPr/l7XrG2MG5lSmHBC+DOtIlewUboVhDamSXcK9MLwmVbJD2EuqZLOwn1TJJuEYqZKVwitheEWqZIWwThiekyp5KZxHqmRR2C4Mz0iVLAj7hGGZVMlD4RpSJQ+EI8KwRKrkj3BUGB6TKqmSKrkTriRVcokwPCJV8ks4Sxj+kiq5TIDhN6mSG+FsYbglVfItXCEMP6RKPoWrhOGLVMm7cKUwfJAq+S9cLQxvpEpKwgBSJYSOMEiVFAWpkiqpkiqpMjRJlVRJlRQNUiU1A0iVVAwfpEqqpEqqpMoh9EiVFAxfpEqqpEoYQotUSZVUyeWGH1IlFxtuSZVUSZVUSZVUSZVUSZVUSZVcavhNqqRKqqRKquS/IXRIlbwbQoNUyachXE+q5NvwJlxJquTOEK4jVfLHEM4ShltSJQ8M4Sxh+CFV8tAQriBVsmAI55MqWTSE44ZbUiVPDOFcUiVVUiVPDeGI4TepkheGsNdwT6rkpSHsMfwlVbLCEM4hVbLKEM4gVbLSEI6TKlltCEdJlWwwhLWGR6RKNhnCEVIlGw1hP6mSzYawl1RJlVRJlVTJDkPYR6pklyHsIVVSJVWy0xCWDY9Jlew2hK2kSg4YIGwhVXLQENaTKrnAsESq5LAh3BqWSZWcYAhfhmekSk4xhDfDc1L1D628T7OPDUNnAAAAAElFTkSuQmCC\"></td><td style='text-align:center;vertical-align:middle; margin: 0.5em;border:1px #90999f solid;border-collapse:collapse'><img style='max-width: 100px; max-height:100px;display:inline' src=\"data:image/png;base64,iVBORw0KGgoAAAANSUhEUgAAAHAAAACwCAAAAADyY7UjAAAAAXNSR0IArs4c6QAAAARnQU1BAACxjwv8YQUAAAAgY0hSTQAAeiYAAICEAAD6AAAAgOgAAHUwAADqYAAAOpgAABdwnLpRPAAAAgNJREFUeAG9wQly4gAQBMGaiPr/l3u9vgAjQOjoTNklXAxrSJlsFLaRMtkk3AvDa1ImG4TtpEzeFvaQMnlL2EvKZKXwWhhekTJZIawVhuekTF4KR5IyeShsEYZnpEweCFuF4TEpk0XhLFImC8I+YXhEyuRO2C8My6RMyqRM/gjnkjI5SRiWSJncCMcJwz0pkxMFGG5JmVwJxwvDNSmTX+EcYbiQMvkWOqRMPoUzheGHlMmHcLYwfJEyKQnDf1ImhI4wgJRJURikTKqClEmZlBm6pEzKpEzKpEzKpEyqBimTogGkTEqGL1ImZVLmEJqkTMqkTCqGH1ImDKFHyqRMyqRMyqRguJAyOd1wTcqkTMqkTMqkTMqkTMrkZMMtKZMyKZMyKZMPQ2iRMvk0hA4pk29DaJAy+TX8F84lZfLHEI4UhmtSJneGcB4pkwVDOE4YLqRMTjdckzJZNIRzSJk8MIQjDLekTB4awvGkTMqkTJ4Ywj7DX1ImTw1hu+GelMkLQ9hmWCJl8tIQjiNlssIQjiJlssoQjiFlstIQjiBlstoQ1huWSZm8YQh7SZm8ZQj7SJm8aQh7SJmUSZmUSZm8bQjbSZlsMIStpEzKpEw2GcIzwyNSJhsNYQspk80GCO+SMtllCO+RMjnB8JiUyU5DuDU8I2Wy2xAuhuekTA4whC/DK1L2D5qgTby/v1wUAAAAAElFTkSuQmCC\"></td></tr></tbody></table><div><small>(a vector displayed as a row to save space)</small></div>"
      ],
      "text/plain": [
       "3-element Vector{Matrix{Gray{Bool}}}:\n",
       " [Gray{Bool}(false) Gray{Bool}(false) … Gray{Bool}(false) Gray{Bool}(false); Gray{Bool}(false) Gray{Bool}(false) … Gray{Bool}(false) Gray{Bool}(false); … ; Gray{Bool}(false) Gray{Bool}(false) … Gray{Bool}(false) Gray{Bool}(false); Gray{Bool}(false) Gray{Bool}(false) … Gray{Bool}(false) Gray{Bool}(false)]\n",
       " [Gray{Bool}(false) Gray{Bool}(false) … Gray{Bool}(false) Gray{Bool}(false); Gray{Bool}(false) Gray{Bool}(false) … Gray{Bool}(false) Gray{Bool}(false); … ; Gray{Bool}(false) Gray{Bool}(false) … Gray{Bool}(false) Gray{Bool}(false); Gray{Bool}(false) Gray{Bool}(false) … Gray{Bool}(false) Gray{Bool}(false)]\n",
       " [Gray{Bool}(false) Gray{Bool}(false) … Gray{Bool}(false) Gray{Bool}(false); Gray{Bool}(false) Gray{Bool}(false) … Gray{Bool}(false) Gray{Bool}(false); … ; Gray{Bool}(false) Gray{Bool}(false) … Gray{Bool}(false) Gray{Bool}(false); Gray{Bool}(false) Gray{Bool}(false) … Gray{Bool}(false) Gray{Bool}(false)]"
      ]
     },
     "metadata": {},
     "output_type": "display_data"
    }
   ],
   "source": [
    "imshow.(grouped_trajectories[2].mask)"
   ]
  },
  {
   "cell_type": "code",
   "execution_count": 21,
   "metadata": {},
   "outputs": [
    {
     "data": {
      "text/html": [
       "<table><tbody><tr><td style='text-align:center;vertical-align:middle; margin: 0.5em;border:1px #90999f solid;border-collapse:collapse'><img style='max-width: 100px; max-height:100px;display:inline' src=\"data:image/png;base64,iVBORw0KGgoAAAANSUhEUgAAAHQAAACYCAAAAAAQd5ICAAAAAXNSR0IArs4c6QAAAARnQU1BAACxjwv8YQUAAAAgY0hSTQAAeiYAAICEAAD6AAAAgOgAAHUwAADqYAAAOpgAABdwnLpRPAAAAXpJREFUeAHFwQtuFEgARDG39O5/5V4kkIDNhyQzUHZ+cb10PF8GMpCB/HC97uJ4rgxkIAP55nrf9bvjMRnIQAa6Pu/i+LoMZCAD+aKL42sykIEMZCADGchABjKQgQx0cP1bGchABjKQgQxkIA+4OD4vAxnIQB50cXxOBjKQgTzBxfFxGchABvIkF8fHZCADGchABjKQgXxzcD3u4vizDGQgAxnIQAYykIEMZCAD+eHgetzF8b4MZCAD+cXB9fdlIAMZyEAGMpCB/M/B9ZiL420ZyEAGMpCBDGQgrzi4HnNxvC4DGchA3nBwPebieCkDGchA/rKL43cZyEAG8o6D63EXx08ZyEAG8o9cHN9lIAMZyB8cXM9xfZeBDGQgH3BwPU8GMpCBDGQgAxnIBx1cz5GBDGQgn3BwPS4DGchAPung+rqDDGQgA/mHju8ykIEM5C87XspABjKQLzi4/ux4XQYykIF80cH1tuNtGchABvKAg+ul430ZyEAG/gMNXydjrI3frwAAAABJRU5ErkJg\"></td><td style='text-align:center;vertical-align:middle; margin: 0.5em;border:1px #90999f solid;border-collapse:collapse'><img style='max-width: 100px; max-height:100px;display:inline' src=\"data:image/png;base64,iVBORw0KGgoAAAANSUhEUgAAAGwAAACUCAAAAABTzJNlAAAAAXNSR0IArs4c6QAAAARnQU1BAACxjwv8YQUAAAAgY0hSTQAAeiYAAICEAAD6AAAAgOgAAHUwAADqYAAAOpgAABdwnLpRPAAAAW1JREFUaAW9wQFOFEgARcHq5N3/yr0mmigrIAzDr8ofrpeO58pQhjKUX66/XRzPk6EMZSg/XG+7Xjoel6EMZajrcy6Ox2QoQxnKAy6Oz8tQhjKUoQxlKEMdXBsZylCGMpShDGUoQxnKUIbyoIvjczKUoQzlCy6Oj8tQhjKUL7o4PiZDGcpQnuDi+LcMZShD+eHg+n4ZylCG8iQXx/sylKEMZShDGcpQfjm4vleGMpSh/OHgetzF8bYMZShDGcpQhjKU/zm4vkeGMpShPNnF8boMZShDecXB9XwZylCG8oaD6zEXx98ylKEM5ZtcHC9lKEMZyjsOrsddHL9lKEMZyje7OH7KUIYylIGLgwxlKEP5h4Pr6y4ylKEMZShDGcpQPuDg+roMZShD+aCD62sylKEM5RMOrsccZChDGcrA8VOGMpShfJPjbxnKUIbySQfX+47XZShDGcoDDq7XHW/LUIYylAcdXC8d78tQhjL0H+cdJlNS6mxoAAAAAElFTkSuQmCC\"></td><td style='text-align:center;vertical-align:middle; margin: 0.5em;border:1px #90999f solid;border-collapse:collapse'><img style='max-width: 100px; max-height:100px;display:inline' src=\"data:image/png;base64,iVBORw0KGgoAAAANSUhEUgAAAGwAAACYCAAAAAAkDlMeAAAAAXNSR0IArs4c6QAAAARnQU1BAACxjwv8YQUAAAAgY0hSTQAAeiYAAICEAAD6AAAAgOgAAHUwAADqYAAAOpgAABdwnLpRPAAAAW9JREFUeAG9wQuKFEgARMEoePe/cq2goO78p9uMyB+ul47nyVCGMpRfrtddHM+RoQxlKD9c77v+dnxPhjKUoa6vuzi+LkMZylC+6eL4mgxlKEMZylCGMpShDGUoQx1cGxnKUIYylKEMZSgPuDg+L0MZylAedHF8ToYylKE8wcXxsQxlKEN5kovjfRnKUIYylKEMZSg/HFyPuzjelqEMZShDGcpQhjKUoQxlKL8cXI+7OF6XoQxlKH84uP6dDGUoQxnKUIYylP85uB5zcbyUoQxlKEMZylCG8oqD6zEXx98ylKEM5Q0H12Mujt8ylKEM5R+7OH7KUIYylHccXI+7OMhQhjKUkYsMZShDecf1XBnKUIbyjoPreTKUoQxlKEMZylA+cHA9R4YylKF8wsH1uAxlKEP5pIPr+w4ylKEMZeD4KUMZylD+keOlDGUoQ/mCg+tjx+sylKEM5YsOrrcdb8tQhjKUbzi4Xjrel6EMZeg/vU4mYhC9JEwAAAAASUVORK5C\"></td></tr></tbody></table><div><small>(a vector displayed as a row to save space)</small></div>"
      ],
      "text/plain": [
       "3-element Vector{Matrix{Gray{Bool}}}:\n",
       " [Gray{Bool}(false) Gray{Bool}(false) … Gray{Bool}(false) Gray{Bool}(false); Gray{Bool}(false) Gray{Bool}(false) … Gray{Bool}(false) Gray{Bool}(false); … ; Gray{Bool}(false) Gray{Bool}(false) … Gray{Bool}(false) Gray{Bool}(false); Gray{Bool}(false) Gray{Bool}(false) … Gray{Bool}(false) Gray{Bool}(false)]\n",
       " [Gray{Bool}(false) Gray{Bool}(false) … Gray{Bool}(false) Gray{Bool}(false); Gray{Bool}(false) Gray{Bool}(false) … Gray{Bool}(false) Gray{Bool}(false); … ; Gray{Bool}(false) Gray{Bool}(false) … Gray{Bool}(false) Gray{Bool}(false); Gray{Bool}(false) Gray{Bool}(false) … Gray{Bool}(false) Gray{Bool}(false)]\n",
       " [Gray{Bool}(false) Gray{Bool}(false) … Gray{Bool}(false) Gray{Bool}(false); Gray{Bool}(false) Gray{Bool}(false) … Gray{Bool}(false) Gray{Bool}(false); … ; Gray{Bool}(false) Gray{Bool}(false) … Gray{Bool}(false) Gray{Bool}(false); Gray{Bool}(false) Gray{Bool}(false) … Gray{Bool}(false) Gray{Bool}(false)]"
      ]
     },
     "metadata": {},
     "output_type": "display_data"
    }
   ],
   "source": [
    "imshow.(grouped_trajectories[3].mask)"
   ]
  },
  {
   "cell_type": "code",
   "execution_count": 22,
   "metadata": {},
   "outputs": [
    {
     "data": {
      "text/html": [
       "<table><tbody><tr><td style='text-align:center;vertical-align:middle; margin: 0.5em;border:1px #90999f solid;border-collapse:collapse'><img style='max-width: 100px; max-height:100px;display:inline' src=\"data:image/png;base64,iVBORw0KGgoAAAANSUhEUgAAAEgAAACaCAAAAAAvcFG/AAAAAXNSR0IArs4c6QAAAARnQU1BAACxjwv8YQUAAAAgY0hSTQAAeiYAAICEAAD6AAAAgOgAAHUwAADqYAAAOpgAABdwnLpRPAAAAYVJREFUaAWtwQly0wAQAMHZqvn/lxdICOSwLcmebrlseTd8JhG5aPmwDP9JRC5ZPluGDxKRC5b7JCIRiUhEIhKRiFwwLPdIRCISkYhEJCIRiUhEIhKRlyzDO4nIBctPy/CHROS05bZlAInISct9yyAROWU5IhGJSEQiEpETlmMSkQPLORKRh5azJCIPLGctEpGIRCQiEYlIRB4YlrMkIhGJSEQiEpGIJAaJSEQiEpGIPLCcJxG5a7lCInLHco1EJCIRiUhEAgNIRF42/CERuWm5SiJyw3KdROSH5RkSkW+Wa4Z3EpGXDB8kIt8MyzMkIk8bPpOIPGn4SiISkYg8ZfhOIvKE4SeJSEQi8s3yHIlIRCLyxXJsuEUi8slybLhNIvLPcmS4TyLy13JkeEQiEpGIRCQiEYnIm+VVEpHfltdJRCISEZaCRFzOGR6TiJwyHJGIRCQiEYk4LAWJCMPyOonIb8PyyHBMIvJmWO4ZzpCIHBjOkYj8NSw/DWdJRP4Zlq+G8yTyC2SELmHJhKI2AAAAAElFTkSuQmCC\"></td><td style='text-align:center;vertical-align:middle; margin: 0.5em;border:1px #90999f solid;border-collapse:collapse'><img style='max-width: 100px; max-height:100px;display:inline' src=\"data:image/png;base64,iVBORw0KGgoAAAANSUhEUgAAAEgAAACYCAAAAABiuPC0AAAAAXNSR0IArs4c6QAAAARnQU1BAACxjwv8YQUAAAAgY0hSTQAAeiYAAICEAAD6AAAAgOgAAHUwAADqYAAAOpgAABdwnLpRPAAAAYFJREFUaAWtwQFS2wAQwEDdjP7/5WspUChNHDvRrjxheTN8JxG5bHm3DF8kIhctX5bhk0TkkuUeiUhEIhKRiFwyLLdJRCISkYhEJCIRiUhEIhKRiETkJcvwTiJyyfLTMryRiFyw3LIMIBE5bblnGSQiJy3HJCIRiUhEInLK8ohE5KHlDInIA8s5EpFDy1kSkcQiEYlIRA4NyzkSkYhEJCIRiUhEEoNEJCIRiUhEIhKRQ8tZEpEDy3kSkbuWKyQiEYlIYACJyMuGNxKRiETkjuUaichNy1USkRuW84Z3EpH/LOcNnyQiLxi+SESeNPxLIvKU4SeJSEQi8oThfxKRy4ZbJCIRiUhEIvLD8hyJyEXDbRKRfyzHhnskIt8sR4YjEpG/liPDMYnIh+U1EpGIRCQiEYlIRP5YXiUR+W15nUQkIhFheWx4RCIujw2PSUQiEpGIRByWgkSEYXmdROS3YblvOEMi8sew3DacIxE5NJwlEfkwLD8N50lE/hqW74YrJPIL2KstWgG7JawAAAAASUVORK5C\"></td><td style='text-align:center;vertical-align:middle; margin: 0.5em;border:1px #90999f solid;border-collapse:collapse'><img style='max-width: 100px; max-height:100px;display:inline' src=\"data:image/png;base64,iVBORw0KGgoAAAANSUhEUgAAAEwAAACaCAAAAAAmm/HFAAAAAXNSR0IArs4c6QAAAARnQU1BAACxjwv8YQUAAAAgY0hSTQAAeiYAAICEAAD6AAAAgOgAAHUwAADqYAAAOpgAABdwnLpRPAAAAYFJREFUaAWtwYlx4wAMwEBwBv23zMvl/2xJDnblIcuL4TMJyQOWN8vwQUJy2fLZMryRkFy03CYhCUlIQhKSkITkomG5RUISkpCEJCQhCUlIQhKSkPzZMryQkFy0/LQM/0lILll+twwgIblguU9CctpyzzJISEISkpCE5KTlmITkhOUcCcmh5SwJyYHlPAlJSEKSWSQkIQnJgWE5S0ISkpCEJCQhCUlIQpIZJCQhCcmB5TwJyV3LFRKSO5ZrJCQhCUlIQhKSkCSG/yQkNy1XSUhuWK6TkPxiuWZ4ISH5YblmeCMh+aPhg4TkT4bPJCQPG76TkDxo+ElCEpKQPGT4jYTkAcPvJCQhCck3y+MkJCEJyRfLseEWCckny7HhNgnJu+XIcJ+E5NVyZDgiIQlJSEISkpCE5NlSkJA8WRoSkpCEhKUiIZdzhmMSklOGMyQkIQlJSEIOS0VCwrA0JCRPhuWe4RwJybNhuWU4S0JyYDhPQvJqWH4arpCQvBuWr4ZrJPQPd3AtYoHu4TcAAAAASUVORK5C\"></td></tr></tbody></table><div><small>(a vector displayed as a row to save space)</small></div>"
      ],
      "text/plain": [
       "3-element Vector{Matrix{Gray{Bool}}}:\n",
       " [Gray{Bool}(false) Gray{Bool}(false) … Gray{Bool}(false) Gray{Bool}(false); Gray{Bool}(false) Gray{Bool}(false) … Gray{Bool}(false) Gray{Bool}(false); … ; Gray{Bool}(false) Gray{Bool}(false) … Gray{Bool}(false) Gray{Bool}(false); Gray{Bool}(false) Gray{Bool}(false) … Gray{Bool}(false) Gray{Bool}(false)]\n",
       " [Gray{Bool}(false) Gray{Bool}(false) … Gray{Bool}(false) Gray{Bool}(false); Gray{Bool}(false) Gray{Bool}(false) … Gray{Bool}(false) Gray{Bool}(false); … ; Gray{Bool}(false) Gray{Bool}(false) … Gray{Bool}(false) Gray{Bool}(false); Gray{Bool}(false) Gray{Bool}(false) … Gray{Bool}(false) Gray{Bool}(false)]\n",
       " [Gray{Bool}(false) Gray{Bool}(false) … Gray{Bool}(false) Gray{Bool}(false); Gray{Bool}(false) Gray{Bool}(false) … Gray{Bool}(false) Gray{Bool}(false); … ; Gray{Bool}(false) Gray{Bool}(false) … Gray{Bool}(false) Gray{Bool}(false); Gray{Bool}(false) Gray{Bool}(false) … Gray{Bool}(false) Gray{Bool}(false)]"
      ]
     },
     "metadata": {},
     "output_type": "display_data"
    }
   ],
   "source": [
    "imshow.(grouped_trajectories[4].mask)"
   ]
  },
  {
   "cell_type": "code",
   "execution_count": 23,
   "metadata": {},
   "outputs": [
    {
     "data": {
      "text/html": [
       "<table><tbody><tr><td style='text-align:center;vertical-align:middle; margin: 0.5em;border:1px #90999f solid;border-collapse:collapse'><img style='max-width: 100px; max-height:100px;display:inline' src=\"data:image/png;base64,iVBORw0KGgoAAAANSUhEUgAAAHYAAABZCAAAAADONo8uAAAAAXNSR0IArs4c6QAAAARnQU1BAACxjwv8YQUAAAAgY0hSTQAAeiYAAICEAAD6AAAAgOgAAHUwAADqYAAAOpgAABdwnLpRPAAAAZVJREFUaAXFwQdyw0AAA7HlDP//ZUaynUTNqlcAU0H4JbaZ0sJExCZTWJiJ2GJKCieZ58KOIEZhID7MU+FA+BPEi3koXBJAYJ4Id0SYB8I9kbkv3BVzT3jE3BCeMpeF58wVoRBzQSjFnBeKMaeFYmTOCgWZHmJOCiWZc0JR5pRQljkjFGZ6kDkhlCXMsVCSGJjGxMgcCuWZI6ECsydUYnaEWsx3oRrzVajHfBFqMo1FDMy2UEsEmLVQnVkJ9Zml0IBZCC2YLsxcaMLMhDbMVKhPDEwXZiK0Yrow/0IzpgvThfkT2jG/QkOmMTEyH6EJ8WLeQhPizbyEtswotCE+zCC0IX6Z2sQG04WpTGwxdYlNBkI1YpshtGdCBw49mC5MF6YLK1QUQKwZhboiVgyCUFPEkhkp1BSxYF4UaoqYM29iEGqJmDETCrVETJkphTbMjEITpg0xY+YUahBzZkGhPLFgGhBLZkmhMLFiVhRKEV+YNQER4Qmxx2wTiFG4Q+wzB8S/cIY4Zi4QYYc4zVwiwkC8hAlxwQ9UP11KFqJhtwAAAABJRU5ErkJg\"></td><td style='text-align:center;vertical-align:middle; margin: 0.5em;border:1px #90999f solid;border-collapse:collapse'><img style='max-width: 100px; max-height:100px;display:inline' src=\"data:image/png;base64,iVBORw0KGgoAAAANSUhEUgAAAHYAAABXCAAAAAD0PO5eAAAAAXNSR0IArs4c6QAAAARnQU1BAACxjwv8YQUAAAAgY0hSTQAAeiYAAICEAAD6AAAAgOgAAHUwAADqYAAAOpgAABdwnLpRPAAAAY5JREFUaAXFwQmSwjAUQ8GnKt3/yhoIDEsWSIj93W16CHdinWktvIhYZZoKMxFrTAPhKHNa+CSISQBxZ84KX4SHICbmlHBQAIE5I/wiwpwQfhOZH4UTYn4RTjLHhdPMIaENc0RoxBwQWjH7hVZkdgvtmL1CQ2an0JLZJzRldgltmT1CY2YAYXYITQnMd6EhcWVqiYn5KrRnvgkdmE9CJ+aD0IvZFroxm0I/ZkPoyawLXZml0E/ElVkIPUVcmLlQwMyECmYI8y6UMG9CDfMqFDHFxJV5EaqYIcxTKGOGMEOYh1DH/AuFzBDmLpQQE3MTSogbMwklxJ25CsXMRagh/pk64sF0JtaYIUxfYpWB0I1YZwjdiA0mDOAwghnCDGGFAYxCPYMgFDNXCl0EECvMRKGXiCVzIy5CDxEL5oVCDxFzpkDEjHml0EXEOzOEeaNQwrxT6EDMmAJizswotCYWzJxCW2LJLAgIzYgVZpUgnCU2mS3iKvxEfGY+E09hJ/GN2U+EbeIAc4QIIG7CkzjkD0FbWkGH8n2KAAAAAElFTkSuQmCC\"></td><td style='text-align:center;vertical-align:middle; margin: 0.5em;border:1px #90999f solid;border-collapse:collapse'><img style='max-width: 100px; max-height:100px;display:inline' src=\"data:image/png;base64,iVBORw0KGgoAAAANSUhEUgAAAHgAAABXCAAAAADq9d7tAAAAAXNSR0IArs4c6QAAAARnQU1BAACxjwv8YQUAAAAgY0hSTQAAeiYAAICEAAD6AAAAgOgAAHUwAADqYAAAOpgAABdwnLpRPAAAAZNJREFUaAXFwQmSgkAABMHqiP7/l3sVj0UYEGSOTNNEeBFlpq6IMBdRZGoIb2EhosRcF35gLgv7grgLN+LJXBMOCG9BTMwl4bQAAnNF+E2E+VW4IDI/CRfF/CBcZ84JlZhTQi3mjFCNOSHUY44LFZnDQkUyB4WahDkmVGYOCbWZI0J1ZhBzQKjPfBdqE5gBBJivQlViYr4JVYkHsyc0Y3aEdsy20JDZFFoyG0JbZi10YFZCD2YpNBUxMQuhsYg7M4j5FDoxH0IvZi50YwYxM6EfM4j5F3oQEzOIGcS8hZ7MS+jKDGKeQl/mIXRmJqE3cxe6EQ/mJnQjnkxX4sUMYnoSb6Yj8c9AaEkUGcIIJjQlyhyaEhtMU2KLGcQMYoUhjMIIBkHoztwp9GYmCk0EECXmQdyEFiIKzIxCCxFrpoOIFTOn0ETEkpkL3Zg5hV7MB4VOzCDmk0IDYsUsKFQn1sySgFCTKDAlCvWIElMkQiWiyGwQd+ECscPsEv/CceIbc5gIO8RduBHfmRNEuBGTMCMexEF/0IRcQr19+IQAAAAASUVORK5C\"></td></tr></tbody></table><div><small>(a vector displayed as a row to save space)</small></div>"
      ],
      "text/plain": [
       "3-element Vector{Matrix{Gray{Bool}}}:\n",
       " [Gray{Bool}(false) Gray{Bool}(false) … Gray{Bool}(false) Gray{Bool}(false); Gray{Bool}(false) Gray{Bool}(false) … Gray{Bool}(false) Gray{Bool}(false); … ; Gray{Bool}(false) Gray{Bool}(false) … Gray{Bool}(false) Gray{Bool}(false); Gray{Bool}(false) Gray{Bool}(false) … Gray{Bool}(false) Gray{Bool}(false)]\n",
       " [Gray{Bool}(false) Gray{Bool}(false) … Gray{Bool}(false) Gray{Bool}(false); Gray{Bool}(false) Gray{Bool}(false) … Gray{Bool}(false) Gray{Bool}(false); … ; Gray{Bool}(false) Gray{Bool}(false) … Gray{Bool}(false) Gray{Bool}(false); Gray{Bool}(false) Gray{Bool}(false) … Gray{Bool}(false) Gray{Bool}(false)]\n",
       " [Gray{Bool}(false) Gray{Bool}(false) … Gray{Bool}(false) Gray{Bool}(false); Gray{Bool}(false) Gray{Bool}(false) … Gray{Bool}(false) Gray{Bool}(false); … ; Gray{Bool}(false) Gray{Bool}(false) … Gray{Bool}(false) Gray{Bool}(false); Gray{Bool}(false) Gray{Bool}(false) … Gray{Bool}(false) Gray{Bool}(false)]"
      ]
     },
     "metadata": {},
     "output_type": "display_data"
    }
   ],
   "source": [
    "imshow.(grouped_trajectories[5].mask)"
   ]
  }
 ],
 "metadata": {
  "kernelspec": {
   "display_name": "Julia 1.11.5",
   "language": "julia",
   "name": "julia-1.11"
  },
  "language_info": {
   "file_extension": ".jl",
   "mimetype": "application/julia",
   "name": "julia",
   "version": "1.11.5"
  }
 },
 "nbformat": 4,
 "nbformat_minor": 4
}
