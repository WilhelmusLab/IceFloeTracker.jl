{
 "cells": [
  {
   "cell_type": "markdown",
   "metadata": {},
   "source": [
    "### 1. Prepare the working environment"
   ]
  },
  {
   "cell_type": "code",
   "execution_count": 1,
   "metadata": {},
   "outputs": [
    {
     "name": "stderr",
     "output_type": "stream",
     "text": [
      "\u001b[32m\u001b[1m  Activating\u001b[22m\u001b[39m project at `c:\\Users\\cpaniagu\\Documents\\IceFloeTracker.jl`"
     ]
    },
    {
     "name": "stderr",
     "output_type": "stream",
     "text": [
      "\n"
     ]
    }
   ],
   "source": [
    "HOME = \"../..\" # path to the root of the project two levels up\n",
    "\n",
    "# Activate the environment\n",
    "using Pkg\n",
    "Pkg.activate(HOME)\n",
    "Pkg.precompile()"
   ]
  },
  {
   "cell_type": "code",
   "execution_count": 2,
   "metadata": {},
   "outputs": [],
   "source": [
    "using IceFloeTracker: pairfloes, deserialize, PaddedView, float64, mosaicview, Gray\n",
    "using DataFrames\n",
    "imshow(x) = Gray.(x);\n"
   ]
  },
  {
   "cell_type": "markdown",
   "metadata": {},
   "source": [
    "### 2. Set thresholds for the algorithm"
   ]
  },
  {
   "cell_type": "code",
   "execution_count": 3,
   "metadata": {},
   "outputs": [
    {
     "data": {
      "text/plain": [
       "2-element Vector{Float64}:\n",
       " 15.0\n",
       " 20.0"
      ]
     },
     "metadata": {},
     "output_type": "display_data"
    }
   ],
   "source": [
    "# Set thresholds\n",
    "t1 = (dt=(30.0, 100.0, 1300.0), dist=(200, 250, 300))\n",
    "t2 = (\n",
    "    area=1200,\n",
    "    arearatio=0.28,\n",
    "    majaxisratio=0.10,\n",
    "    minaxisratio=0.12,\n",
    "    convexarearatio=0.14,\n",
    ")\n",
    "t3 = (\n",
    "    area=10_000,\n",
    "    arearatio=0.18,\n",
    "    majaxisratio=0.1,\n",
    "    minaxisratio=0.15,\n",
    "    convexarearatio=0.2,\n",
    ")\n",
    "condition_thresholds = (t1, t2, t3)\n",
    "mc_thresholds = (\n",
    "    goodness=(area3=0.18, area2=0.236, corr=0.68), comp=(mxrot=10, sz=16)\n",
    ")\n",
    "dt = [15.0, 20.0]"
   ]
  },
  {
   "cell_type": "markdown",
   "metadata": {},
   "source": [
    "### 3. Load data"
   ]
  },
  {
   "cell_type": "code",
   "execution_count": 4,
   "metadata": {},
   "outputs": [],
   "source": [
    "# Load data\n",
    "pth = joinpath(HOME, \"test\", \"test_inputs\", \"tracker\")\n",
    "floedata = deserialize(joinpath(pth,\"tracker_test_data.dat\"))\n",
    "passtimes = deserialize(joinpath(pth,\"passtimes.dat\"))\n",
    "\n",
    "props, imgs = deepcopy(floedata.props), deepcopy(floedata.imgs);\n",
    "\n",
    "# Filter out floes with area less than 350 pixels\n",
    "for (i, prop) in enumerate(props)\n",
    "    props[i] = prop[prop[:, :area].>=350, :]\n",
    "end"
   ]
  },
  {
   "cell_type": "markdown",
   "metadata": {},
   "source": [
    "### 4. Pair and label floes"
   ]
  },
  {
   "cell_type": "code",
   "execution_count": 5,
   "metadata": {},
   "outputs": [],
   "source": [
    "# Get paired floes with labels; other tracking data is in the `tracked` variable\n",
    "props, tracked = pairfloes(imgs, props, passtimes, dt, condition_thresholds, mc_thresholds);"
   ]
  },
  {
   "cell_type": "code",
   "execution_count": 6,
   "metadata": {},
   "outputs": [
    {
     "data": {
      "text/html": [
       "<div><div style = \"float: left;\"><span>22×15 DataFrame</span></div><div style = \"clear: both;\"></div></div><div class = \"data-frame\" style = \"overflow-x: scroll;\"><table class = \"data-frame\" style = \"margin-bottom: 6px;\"><thead><tr class = \"header\"><th class = \"rowNumber\" style = \"font-weight: bold; text-align: right;\">Row</th><th style = \"text-align: left;\">ID</th><th style = \"text-align: left;\">passtime</th><th style = \"text-align: left;\">area</th><th style = \"text-align: left;\">min_row</th><th style = \"text-align: left;\">min_col</th><th style = \"text-align: left;\">max_row</th><th style = \"text-align: left;\">max_col</th><th style = \"text-align: left;\">row_centroid</th><th style = \"text-align: left;\">col_centroid</th><th style = \"text-align: left;\">convex_area</th><th style = \"text-align: left;\">major_axis_length</th><th style = \"text-align: left;\">minor_axis_length</th><th style = \"text-align: left;\">orientation</th><th style = \"text-align: left;\">perimeter</th><th style = \"text-align: left;\">mask</th></tr><tr class = \"subheader headerLastRow\"><th class = \"rowNumber\" style = \"font-weight: bold; text-align: right;\"></th><th title = \"Int64\" style = \"text-align: left;\">Int64</th><th title = \"Dates.DateTime\" style = \"text-align: left;\">DateTime</th><th title = \"Int32\" style = \"text-align: left;\">Int32</th><th title = \"Int32\" style = \"text-align: left;\">Int32</th><th title = \"Int32\" style = \"text-align: left;\">Int32</th><th title = \"Int32\" style = \"text-align: left;\">Int32</th><th title = \"Int32\" style = \"text-align: left;\">Int32</th><th title = \"Int64\" style = \"text-align: left;\">Int64</th><th title = \"Int64\" style = \"text-align: left;\">Int64</th><th title = \"Int32\" style = \"text-align: left;\">Int32</th><th title = \"Float64\" style = \"text-align: left;\">Float64</th><th title = \"Float64\" style = \"text-align: left;\">Float64</th><th title = \"Float64\" style = \"text-align: left;\">Float64</th><th title = \"Float64\" style = \"text-align: left;\">Float64</th><th title = \"BitMatrix\" style = \"text-align: left;\">BitMatrix</th></tr></thead><tbody><tr><td class = \"rowNumber\" style = \"font-weight: bold; text-align: right;\">1</td><td style = \"text-align: right;\">1</td><td style = \"text-align: left;\">2022-09-14T12:44:49</td><td style = \"text-align: right;\">7184</td><td style = \"text-align: right;\">84</td><td style = \"text-align: right;\">161</td><td style = \"text-align: right;\">172</td><td style = \"text-align: right;\">278</td><td style = \"text-align: right;\">131</td><td style = \"text-align: right;\">225</td><td style = \"text-align: right;\">7688</td><td style = \"text-align: right;\">120.826</td><td style = \"text-align: right;\">78.3764</td><td style = \"text-align: right;\">-1.05495</td><td style = \"text-align: right;\">372.291</td><td style = \"text-align: left;\">Bool[0 0 … 0 0; 0 0 … 0 0; … ; 0 0 … 0 0; 0 0 … 0 0]</td></tr><tr><td class = \"rowNumber\" style = \"font-weight: bold; text-align: right;\">2</td><td style = \"text-align: right;\">1</td><td style = \"text-align: left;\">2022-09-14T13:59:19</td><td style = \"text-align: right;\">6966</td><td style = \"text-align: right;\">80</td><td style = \"text-align: right;\">159</td><td style = \"text-align: right;\">166</td><td style = \"text-align: right;\">276</td><td style = \"text-align: right;\">125</td><td style = \"text-align: right;\">222</td><td style = \"text-align: right;\">7464</td><td style = \"text-align: right;\">119.25</td><td style = \"text-align: right;\">77.0107</td><td style = \"text-align: right;\">-1.06836</td><td style = \"text-align: right;\">365.22</td><td style = \"text-align: left;\">Bool[0 0 … 0 0; 0 0 … 0 0; … ; 0 0 … 0 0; 0 0 … 0 0]</td></tr><tr><td class = \"rowNumber\" style = \"font-weight: bold; text-align: right;\">3</td><td style = \"text-align: right;\">1</td><td style = \"text-align: left;\">2022-09-15T12:44:49</td><td style = \"text-align: right;\">7184</td><td style = \"text-align: right;\">85</td><td style = \"text-align: right;\">164</td><td style = \"text-align: right;\">171</td><td style = \"text-align: right;\">283</td><td style = \"text-align: right;\">130</td><td style = \"text-align: right;\">228</td><td style = \"text-align: right;\">7684</td><td style = \"text-align: right;\">120.596</td><td style = \"text-align: right;\">78.4321</td><td style = \"text-align: right;\">-1.09051</td><td style = \"text-align: right;\">371.463</td><td style = \"text-align: left;\">Bool[0 0 … 0 0; 0 0 … 0 0; … ; 0 0 … 0 0; 0 0 … 0 0]</td></tr><tr><td class = \"rowNumber\" style = \"font-weight: bold; text-align: right;\">4</td><td style = \"text-align: right;\">2</td><td style = \"text-align: left;\">2022-09-14T12:44:49</td><td style = \"text-align: right;\">3043</td><td style = \"text-align: right;\">332</td><td style = \"text-align: right;\">140</td><td style = \"text-align: right;\">419</td><td style = \"text-align: right;\">195</td><td style = \"text-align: right;\">372</td><td style = \"text-align: right;\">168</td><td style = \"text-align: right;\">3315</td><td style = \"text-align: right;\">81.0819</td><td style = \"text-align: right;\">50.611</td><td style = \"text-align: right;\">0.169326</td><td style = \"text-align: right;\">236.35</td><td style = \"text-align: left;\">Bool[0 0 … 0 0; 0 0 … 0 0; … ; 0 0 … 0 0; 0 0 … 0 0]</td></tr><tr><td class = \"rowNumber\" style = \"font-weight: bold; text-align: right;\">5</td><td style = \"text-align: right;\">2</td><td style = \"text-align: left;\">2022-09-14T13:59:19</td><td style = \"text-align: right;\">2899</td><td style = \"text-align: right;\">326</td><td style = \"text-align: right;\">134</td><td style = \"text-align: right;\">412</td><td style = \"text-align: right;\">188</td><td style = \"text-align: right;\">366</td><td style = \"text-align: right;\">161</td><td style = \"text-align: right;\">3152</td><td style = \"text-align: right;\">79.1884</td><td style = \"text-align: right;\">49.2248</td><td style = \"text-align: right;\">0.151465</td><td style = \"text-align: right;\">229.522</td><td style = \"text-align: left;\">Bool[0 0 … 0 0; 0 0 … 0 0; … ; 0 0 … 0 0; 0 0 … 0 0]</td></tr><tr><td class = \"rowNumber\" style = \"font-weight: bold; text-align: right;\">6</td><td style = \"text-align: right;\">2</td><td style = \"text-align: left;\">2022-09-15T12:44:49</td><td style = \"text-align: right;\">3044</td><td style = \"text-align: right;\">329</td><td style = \"text-align: right;\">135</td><td style = \"text-align: right;\">416</td><td style = \"text-align: right;\">190</td><td style = \"text-align: right;\">369</td><td style = \"text-align: right;\">163</td><td style = \"text-align: right;\">3285</td><td style = \"text-align: right;\">80.6551</td><td style = \"text-align: right;\">50.4261</td><td style = \"text-align: right;\">0.126849</td><td style = \"text-align: right;\">234.108</td><td style = \"text-align: left;\">Bool[0 0 … 0 0; 0 0 … 0 0; … ; 0 0 … 0 0; 0 0 … 0 0]</td></tr><tr><td class = \"rowNumber\" style = \"font-weight: bold; text-align: right;\">7</td><td style = \"text-align: right;\">3</td><td style = \"text-align: left;\">2022-09-14T12:44:49</td><td style = \"text-align: right;\">1292</td><td style = \"text-align: right;\">111</td><td style = \"text-align: right;\">436</td><td style = \"text-align: right;\">187</td><td style = \"text-align: right;\">471</td><td style = \"text-align: right;\">152</td><td style = \"text-align: right;\">456</td><td style = \"text-align: right;\">1549</td><td style = \"text-align: right;\">81.3383</td><td style = \"text-align: right;\">21.9157</td><td style = \"text-align: right;\">-0.316888</td><td style = \"text-align: right;\">191.095</td><td style = \"text-align: left;\">Bool[0 0 … 0 0; 0 0 … 0 0; … ; 0 0 … 0 0; 0 0 … 0 0]</td></tr><tr><td class = \"rowNumber\" style = \"font-weight: bold; text-align: right;\">8</td><td style = \"text-align: right;\">3</td><td style = \"text-align: left;\">2022-09-14T13:59:19</td><td style = \"text-align: right;\">1176</td><td style = \"text-align: right;\">110</td><td style = \"text-align: right;\">433</td><td style = \"text-align: right;\">185</td><td style = \"text-align: right;\">468</td><td style = \"text-align: right;\">150</td><td style = \"text-align: right;\">453</td><td style = \"text-align: right;\">1442</td><td style = \"text-align: right;\">80.179</td><td style = \"text-align: right;\">20.6145</td><td style = \"text-align: right;\">-0.340923</td><td style = \"text-align: right;\">187.095</td><td style = \"text-align: left;\">Bool[0 0 … 0 0; 0 0 … 0 0; … ; 0 0 … 0 0; 0 0 … 0 0]</td></tr><tr><td class = \"rowNumber\" style = \"font-weight: bold; text-align: right;\">9</td><td style = \"text-align: right;\">3</td><td style = \"text-align: left;\">2022-09-15T12:44:49</td><td style = \"text-align: right;\">1291</td><td style = \"text-align: right;\">118</td><td style = \"text-align: right;\">437</td><td style = \"text-align: right;\">194</td><td style = \"text-align: right;\">474</td><td style = \"text-align: right;\">159</td><td style = \"text-align: right;\">458</td><td style = \"text-align: right;\">1563</td><td style = \"text-align: right;\">82.3687</td><td style = \"text-align: right;\">22.0767</td><td style = \"text-align: right;\">-0.358114</td><td style = \"text-align: right;\">193.095</td><td style = \"text-align: left;\">Bool[0 0 … 0 0; 0 0 … 0 0; … ; 0 0 … 0 0; 0 0 … 0 0]</td></tr><tr><td class = \"rowNumber\" style = \"font-weight: bold; text-align: right;\">10</td><td style = \"text-align: right;\">4</td><td style = \"text-align: left;\">2022-09-14T12:44:49</td><td style = \"text-align: right;\">578</td><td style = \"text-align: right;\">190</td><td style = \"text-align: right;\">190</td><td style = \"text-align: right;\">227</td><td style = \"text-align: right;\">218</td><td style = \"text-align: right;\">209</td><td style = \"text-align: right;\">203</td><td style = \"text-align: right;\">641</td><td style = \"text-align: right;\">44.15</td><td style = \"text-align: right;\">17.284</td><td style = \"text-align: right;\">0.52179</td><td style = \"text-align: right;\">105.397</td><td style = \"text-align: left;\">Bool[0 0 … 0 0; 0 0 … 0 0; … ; 0 0 … 0 0; 0 0 … 0 0]</td></tr><tr><td class = \"rowNumber\" style = \"font-weight: bold; text-align: right;\">11</td><td style = \"text-align: right;\">4</td><td style = \"text-align: left;\">2022-09-14T13:59:19</td><td style = \"text-align: right;\">513</td><td style = \"text-align: right;\">185</td><td style = \"text-align: right;\">187</td><td style = \"text-align: right;\">221</td><td style = \"text-align: right;\">213</td><td style = \"text-align: right;\">203</td><td style = \"text-align: right;\">199</td><td style = \"text-align: right;\">567</td><td style = \"text-align: right;\">42.2439</td><td style = \"text-align: right;\">16.0454</td><td style = \"text-align: right;\">0.49208</td><td style = \"text-align: right;\">99.9828</td><td style = \"text-align: left;\">Bool[0 0 … 0 0; 0 0 … 0 0; … ; 0 0 … 0 0; 0 0 … 0 0]</td></tr><tr><td class = \"rowNumber\" style = \"font-weight: bold; text-align: right;\">12</td><td style = \"text-align: right;\">4</td><td style = \"text-align: left;\">2022-09-15T12:44:49</td><td style = \"text-align: right;\">578</td><td style = \"text-align: right;\">189</td><td style = \"text-align: right;\">191</td><td style = \"text-align: right;\">226</td><td style = \"text-align: right;\">217</td><td style = \"text-align: right;\">208</td><td style = \"text-align: right;\">203</td><td style = \"text-align: right;\">632</td><td style = \"text-align: right;\">42.915</td><td style = \"text-align: right;\">17.7201</td><td style = \"text-align: right;\">0.461164</td><td style = \"text-align: right;\">103.983</td><td style = \"text-align: left;\">Bool[0 0 … 0 0; 0 0 … 0 0; … ; 0 0 … 0 0; 0 0 … 0 0]</td></tr><tr><td class = \"rowNumber\" style = \"font-weight: bold; text-align: right;\">13</td><td style = \"text-align: right;\">5</td><td style = \"text-align: left;\">2022-09-14T12:44:49</td><td style = \"text-align: right;\">484</td><td style = \"text-align: right;\">85</td><td style = \"text-align: right;\">423</td><td style = \"text-align: right;\">118</td><td style = \"text-align: right;\">450</td><td style = \"text-align: right;\">101</td><td style = \"text-align: right;\">435</td><td style = \"text-align: right;\">637</td><td style = \"text-align: right;\">34.5811</td><td style = \"text-align: right;\">24.3233</td><td style = \"text-align: right;\">0.607172</td><td style = \"text-align: right;\">111.497</td><td style = \"text-align: left;\">Bool[0 0 … 0 0; 0 1 … 0 0; … ; 0 0 … 0 0; 0 0 … 0 0]</td></tr><tr><td class = \"rowNumber\" style = \"font-weight: bold; text-align: right;\">14</td><td style = \"text-align: right;\">5</td><td style = \"text-align: left;\">2022-09-14T13:59:19</td><td style = \"text-align: right;\">418</td><td style = \"text-align: right;\">84</td><td style = \"text-align: right;\">422</td><td style = \"text-align: right;\">116</td><td style = \"text-align: right;\">447</td><td style = \"text-align: right;\">100</td><td style = \"text-align: right;\">433</td><td style = \"text-align: right;\">570</td><td style = \"text-align: right;\">32.6921</td><td style = \"text-align: right;\">23.5422</td><td style = \"text-align: right;\">0.566405</td><td style = \"text-align: right;\">106.669</td><td style = \"text-align: left;\">Bool[0 0 … 0 0; 0 1 … 0 0; … ; 0 0 … 0 0; 0 0 … 0 0]</td></tr><tr><td class = \"rowNumber\" style = \"font-weight: bold; text-align: right;\">15</td><td style = \"text-align: right;\">5</td><td style = \"text-align: left;\">2022-09-15T12:44:49</td><td style = \"text-align: right;\">484</td><td style = \"text-align: right;\">92</td><td style = \"text-align: right;\">427</td><td style = \"text-align: right;\">125</td><td style = \"text-align: right;\">454</td><td style = \"text-align: right;\">108</td><td style = \"text-align: right;\">438</td><td style = \"text-align: right;\">637</td><td style = \"text-align: right;\">33.1282</td><td style = \"text-align: right;\">25.2153</td><td style = \"text-align: right;\">0.479664</td><td style = \"text-align: right;\">112.326</td><td style = \"text-align: left;\">Bool[0 0 … 0 0; 0 0 … 0 0; … ; 0 0 … 0 0; 0 0 … 0 0]</td></tr><tr><td class = \"rowNumber\" style = \"font-weight: bold; text-align: right;\">16</td><td style = \"text-align: right;\">6</td><td style = \"text-align: left;\">2022-09-14T12:44:49</td><td style = \"text-align: right;\">395</td><td style = \"text-align: right;\">107</td><td style = \"text-align: right;\">78</td><td style = \"text-align: right;\">128</td><td style = \"text-align: right;\">101</td><td style = \"text-align: right;\">117</td><td style = \"text-align: right;\">89</td><td style = \"text-align: right;\">416</td><td style = \"text-align: right;\">26.0989</td><td style = \"text-align: right;\">19.6891</td><td style = \"text-align: right;\">-0.833552</td><td style = \"text-align: right;\">74.5269</td><td style = \"text-align: left;\">Bool[0 0 … 0 0; 0 0 … 0 0; … ; 0 0 … 0 0; 0 0 … 0 0]</td></tr><tr><td class = \"rowNumber\" style = \"font-weight: bold; text-align: right;\">17</td><td style = \"text-align: right;\">6</td><td style = \"text-align: left;\">2022-09-14T13:59:19</td><td style = \"text-align: right;\">350</td><td style = \"text-align: right;\">100</td><td style = \"text-align: right;\">76</td><td style = \"text-align: right;\">120</td><td style = \"text-align: right;\">98</td><td style = \"text-align: right;\">110</td><td style = \"text-align: right;\">86</td><td style = \"text-align: right;\">371</td><td style = \"text-align: right;\">24.8313</td><td style = \"text-align: right;\">18.3884</td><td style = \"text-align: right;\">-0.822019</td><td style = \"text-align: right;\">70.5269</td><td style = \"text-align: left;\">Bool[0 0 … 0 0; 0 0 … 0 0; … ; 0 0 … 0 0; 0 0 … 0 0]</td></tr><tr><td class = \"rowNumber\" style = \"font-weight: bold; text-align: right;\">18</td><td style = \"text-align: right;\">6</td><td style = \"text-align: left;\">2022-09-15T12:44:49</td><td style = \"text-align: right;\">395</td><td style = \"text-align: right;\">102</td><td style = \"text-align: right;\">81</td><td style = \"text-align: right;\">123</td><td style = \"text-align: right;\">104</td><td style = \"text-align: right;\">112</td><td style = \"text-align: right;\">92</td><td style = \"text-align: right;\">416</td><td style = \"text-align: right;\">26.0989</td><td style = \"text-align: right;\">19.6891</td><td style = \"text-align: right;\">-0.833552</td><td style = \"text-align: right;\">74.5269</td><td style = \"text-align: left;\">Bool[0 0 … 0 0; 0 0 … 0 0; … ; 0 0 … 0 0; 0 0 … 0 0]</td></tr><tr><td class = \"rowNumber\" style = \"font-weight: bold; text-align: right;\">19</td><td style = \"text-align: right;\">7</td><td style = \"text-align: left;\">2022-09-14T12:44:49</td><td style = \"text-align: right;\">375</td><td style = \"text-align: right;\">88</td><td style = \"text-align: right;\">42</td><td style = \"text-align: right;\">118</td><td style = \"text-align: right;\">63</td><td style = \"text-align: right;\">103</td><td style = \"text-align: right;\">53</td><td style = \"text-align: right;\">400</td><td style = \"text-align: right;\">34.8226</td><td style = \"text-align: right;\">14.3519</td><td style = \"text-align: right;\">-0.557229</td><td style = \"text-align: right;\">82.9117</td><td style = \"text-align: left;\">Bool[0 0 … 0 0; 0 0 … 0 0; … ; 0 1 … 0 0; 0 0 … 0 0]</td></tr><tr><td class = \"rowNumber\" style = \"font-weight: bold; text-align: right;\">20</td><td style = \"text-align: right;\">8</td><td style = \"text-align: left;\">2022-09-14T12:44:49</td><td style = \"text-align: right;\">361</td><td style = \"text-align: right;\">150</td><td style = \"text-align: right;\">340</td><td style = \"text-align: right;\">173</td><td style = \"text-align: right;\">362</td><td style = \"text-align: right;\">160</td><td style = \"text-align: right;\">350</td><td style = \"text-align: right;\">382</td><td style = \"text-align: right;\">25.085</td><td style = \"text-align: right;\">19.3652</td><td style = \"text-align: right;\">-0.56603</td><td style = \"text-align: right;\">74.4264</td><td style = \"text-align: left;\">Bool[0 0 … 0 0; 0 0 … 0 0; … ; 0 0 … 0 0; 0 0 … 0 0]</td></tr><tr><td class = \"rowNumber\" style = \"font-weight: bold; text-align: right;\">21</td><td style = \"text-align: right;\">9</td><td style = \"text-align: left;\">2022-09-15T12:44:49</td><td style = \"text-align: right;\">374</td><td style = \"text-align: right;\">81</td><td style = \"text-align: right;\">45</td><td style = \"text-align: right;\">111</td><td style = \"text-align: right;\">68</td><td style = \"text-align: right;\">96</td><td style = \"text-align: right;\">57</td><td style = \"text-align: right;\">410</td><td style = \"text-align: right;\">36.6664</td><td style = \"text-align: right;\">13.7785</td><td style = \"text-align: right;\">-0.63917</td><td style = \"text-align: right;\">84.9117</td><td style = \"text-align: left;\">Bool[0 0 … 0 0; 0 0 … 0 0; … ; 0 1 … 0 0; 0 0 … 0 0]</td></tr><tr><td class = \"rowNumber\" style = \"font-weight: bold; text-align: right;\">22</td><td style = \"text-align: right;\">10</td><td style = \"text-align: left;\">2022-09-15T12:44:49</td><td style = \"text-align: right;\">361</td><td style = \"text-align: right;\">153</td><td style = \"text-align: right;\">342</td><td style = \"text-align: right;\">176</td><td style = \"text-align: right;\">363</td><td style = \"text-align: right;\">163</td><td style = \"text-align: right;\">351</td><td style = \"text-align: right;\">377</td><td style = \"text-align: right;\">25.3719</td><td style = \"text-align: right;\">18.9242</td><td style = \"text-align: right;\">-0.690045</td><td style = \"text-align: right;\">72.7696</td><td style = \"text-align: left;\">Bool[0 0 … 0 0; 0 0 … 0 0; … ; 0 0 … 0 0; 0 0 … 0 0]</td></tr></tbody></table></div>"
      ],
      "text/latex": [
       "\\begin{tabular}{r|ccccccccc}\n",
       "\t& ID & passtime & area & min\\_row & min\\_col & max\\_row & max\\_col & row\\_centroid & \\\\\n",
       "\t\\hline\n",
       "\t& Int64 & DateTime & Int32 & Int32 & Int32 & Int32 & Int32 & Int64 & \\\\\n",
       "\t\\hline\n",
       "\t1 & 1 & 2022-09-14T12:44:49 & 7184 & 84 & 161 & 172 & 278 & 131 & $\\dots$ \\\\\n",
       "\t2 & 1 & 2022-09-14T13:59:19 & 6966 & 80 & 159 & 166 & 276 & 125 & $\\dots$ \\\\\n",
       "\t3 & 1 & 2022-09-15T12:44:49 & 7184 & 85 & 164 & 171 & 283 & 130 & $\\dots$ \\\\\n",
       "\t4 & 2 & 2022-09-14T12:44:49 & 3043 & 332 & 140 & 419 & 195 & 372 & $\\dots$ \\\\\n",
       "\t5 & 2 & 2022-09-14T13:59:19 & 2899 & 326 & 134 & 412 & 188 & 366 & $\\dots$ \\\\\n",
       "\t6 & 2 & 2022-09-15T12:44:49 & 3044 & 329 & 135 & 416 & 190 & 369 & $\\dots$ \\\\\n",
       "\t7 & 3 & 2022-09-14T12:44:49 & 1292 & 111 & 436 & 187 & 471 & 152 & $\\dots$ \\\\\n",
       "\t8 & 3 & 2022-09-14T13:59:19 & 1176 & 110 & 433 & 185 & 468 & 150 & $\\dots$ \\\\\n",
       "\t9 & 3 & 2022-09-15T12:44:49 & 1291 & 118 & 437 & 194 & 474 & 159 & $\\dots$ \\\\\n",
       "\t10 & 4 & 2022-09-14T12:44:49 & 578 & 190 & 190 & 227 & 218 & 209 & $\\dots$ \\\\\n",
       "\t11 & 4 & 2022-09-14T13:59:19 & 513 & 185 & 187 & 221 & 213 & 203 & $\\dots$ \\\\\n",
       "\t12 & 4 & 2022-09-15T12:44:49 & 578 & 189 & 191 & 226 & 217 & 208 & $\\dots$ \\\\\n",
       "\t13 & 5 & 2022-09-14T12:44:49 & 484 & 85 & 423 & 118 & 450 & 101 & $\\dots$ \\\\\n",
       "\t14 & 5 & 2022-09-14T13:59:19 & 418 & 84 & 422 & 116 & 447 & 100 & $\\dots$ \\\\\n",
       "\t15 & 5 & 2022-09-15T12:44:49 & 484 & 92 & 427 & 125 & 454 & 108 & $\\dots$ \\\\\n",
       "\t16 & 6 & 2022-09-14T12:44:49 & 395 & 107 & 78 & 128 & 101 & 117 & $\\dots$ \\\\\n",
       "\t17 & 6 & 2022-09-14T13:59:19 & 350 & 100 & 76 & 120 & 98 & 110 & $\\dots$ \\\\\n",
       "\t18 & 6 & 2022-09-15T12:44:49 & 395 & 102 & 81 & 123 & 104 & 112 & $\\dots$ \\\\\n",
       "\t19 & 7 & 2022-09-14T12:44:49 & 375 & 88 & 42 & 118 & 63 & 103 & $\\dots$ \\\\\n",
       "\t20 & 8 & 2022-09-14T12:44:49 & 361 & 150 & 340 & 173 & 362 & 160 & $\\dots$ \\\\\n",
       "\t21 & 9 & 2022-09-15T12:44:49 & 374 & 81 & 45 & 111 & 68 & 96 & $\\dots$ \\\\\n",
       "\t22 & 10 & 2022-09-15T12:44:49 & 361 & 153 & 342 & 176 & 363 & 163 & $\\dots$ \\\\\n",
       "\\end{tabular}\n"
      ],
      "text/plain": [
       "\u001b[1m22×15 DataFrame\u001b[0m\n",
       "\u001b[1m Row \u001b[0m│\u001b[1m ID    \u001b[0m\u001b[1m passtime            \u001b[0m\u001b[1m area  \u001b[0m\u001b[1m min_row \u001b[0m\u001b[1m min_col \u001b[0m\u001b[1m max_row \u001b[0m\u001b[1m max_col \u001b[0m\u001b[1m \u001b[0m ⋯\n",
       "     │\u001b[90m Int64 \u001b[0m\u001b[90m DateTime            \u001b[0m\u001b[90m Int32 \u001b[0m\u001b[90m Int32   \u001b[0m\u001b[90m Int32   \u001b[0m\u001b[90m Int32   \u001b[0m\u001b[90m Int32   \u001b[0m\u001b[90m \u001b[0m ⋯\n",
       "─────┼──────────────────────────────────────────────────────────────────────────\n",
       "   1 │     1  2022-09-14T12:44:49   7184       84      161      172      278   ⋯\n",
       "   2 │     1  2022-09-14T13:59:19   6966       80      159      166      276\n",
       "   3 │     1  2022-09-15T12:44:49   7184       85      164      171      283\n",
       "   4 │     2  2022-09-14T12:44:49   3043      332      140      419      195\n",
       "   5 │     2  2022-09-14T13:59:19   2899      326      134      412      188   ⋯\n",
       "   6 │     2  2022-09-15T12:44:49   3044      329      135      416      190\n",
       "   7 │     3  2022-09-14T12:44:49   1292      111      436      187      471\n",
       "   8 │     3  2022-09-14T13:59:19   1176      110      433      185      468\n",
       "  ⋮  │   ⋮             ⋮             ⋮       ⋮        ⋮        ⋮        ⋮      ⋱\n",
       "  16 │     6  2022-09-14T12:44:49    395      107       78      128      101   ⋯\n",
       "  17 │     6  2022-09-14T13:59:19    350      100       76      120       98\n",
       "  18 │     6  2022-09-15T12:44:49    395      102       81      123      104\n",
       "  19 │     7  2022-09-14T12:44:49    375       88       42      118       63\n",
       "  20 │     8  2022-09-14T12:44:49    361      150      340      173      362   ⋯\n",
       "  21 │     9  2022-09-15T12:44:49    374       81       45      111       68\n",
       "  22 │    10  2022-09-15T12:44:49    361      153      342      176      363\n",
       "\u001b[36m                                                    8 columns and 7 rows omitted\u001b[0m"
      ]
     },
     "metadata": {},
     "output_type": "display_data"
    }
   ],
   "source": [
    "# Inspect the props table\n",
    "props"
   ]
  },
  {
   "cell_type": "markdown",
   "metadata": {},
   "source": [
    "### 5. Inspect paired floes"
   ]
  },
  {
   "cell_type": "code",
   "execution_count": 7,
   "metadata": {},
   "outputs": [
    {
     "data": {
      "text/plain": [
       "0"
      ]
     },
     "metadata": {},
     "output_type": "display_data"
    }
   ],
   "source": [
    "# View matching pair of floes with ID = `i`\n",
    "i = 0"
   ]
  },
  {
   "cell_type": "code",
   "execution_count": 8,
   "metadata": {},
   "outputs": [
    {
     "name": "stdout",
     "output_type": "stream",
     "text": [
      "Floe ID: 1\n"
     ]
    },
    {
     "data": {
      "image/png": "[encoded data removed]",
      "text/html": [
       "<img src=\"data:image/png;base64,iVBORw0KGgoAAAANSUhEUgAAAWgAAABZCAAAAAA23+G1AAAABGdBTUEAALGPC/xhBQAAAAFzUkdCAK7OHOkAAAAgY0hSTQAAeiYAAICEAAD6AAAAgOgAAHUwAADqYAAAOpgAABdwnLpRPAAAA4RJREFUeAHtwQtyIkkQBcF4Znn/K8cCmpFA/Bq6qnJMWvdiAvkrLCV/hLXkr3BbMZqcMawiZwxrGOSc4aZiMLlgWEG+MUwkn+Qbwy3FSLKUtJA3FPvJAxKO5CAMJI9IOBEIA8ljEo7kIPxR7CVPyCcJo8gT8knCGLKBfJJwUuwkLxEIu8mLBMJu8jKBQLGHvMOwk7zDsJO8x1DsIO8x7CLvMbxPdjDF++RdhnfJDob3yE4W75EO0kL2K94gLWQ9GaR4mawnPWSU4hXSQ3rIMMULpIf0kHGK7aSHjBJeIQMVm8kw4QXSQwZKsZX0kBYyUig6GLaSFjJYsZG0kBYyWrGNtJAWMlyxibSQH6PYQn6EsI2MV3QIm8hQYRsZLVBsIGOFTWSg0CdA8ZyMFDqEzWSocFIsFraSFjJU+FA8JS1kPZmmeEbWkxYyT/GItJAWMlHxgLSQFjJTcZ+0kA4yV3GXdJDlZIHiDmkhy8kKxWKGe2Qewx0yleGkuE1mMdwmMxlukskMR8U16SA/WnFFOkgLWaT4Tn4RWaX4RlpIB1mm+CfIT1dckg7SQtYpLshPFXoV52S+cEVayArhpPjfEsUZaSG/QPFryUrFF/lNZKminfwGRTdpIWsVn+QXkcWKv6SFLBEuyGrFYuGCLBEuyDLhQ/GHLBEuyBLhgiwT/ig+yBLhgvxw4a/iRDrIGqFfcSRrhA6hS/hUHMgaYZ3QL3wpZgv/Gpkp3FT8TOEu6VBMFu6SacJdMlW4rZgr3CXThLtkqnBHATJNuEt+oHBPgXSQ36WQ/y1Q8rtEWhRNIj0iHYoukR4BWa5oE5AekdUqMpFAuCsyhUB4IDKFQLiliMxluCsyi+GBcCAzGG4oCMhMhrvCgcxgeCIyg+FacRSZyfBQZAZDD8OV4iQyk6GD4bHIFIbvig/hQGYxPBKZwvCQLFOcicxi+AdFVinORXpEWkQWKS5EekQmCP+MYo3QIDwVmSBcKS5FZgjPREYLG0SGC9eKbyLjheciY4VNAshI4YZigbBFABkmbBcZJ9xSfBcZLGwWkL3Cy4IMEm4qrkRGCa8LR/KW8K5wJDuEB4prAQyyR9glfJGNwl7hi2wXniluC4QjeUcYKMh9YZIgD4QjOQjPFU+EL7JFGC4IhA/yJUwU5CCcyJnwIWxUvCDIA2Ge8CUsE76EPYqXBDkIJ3Im/O+B/wDHWhEpmZ9i6QAAAABJRU5ErkJg\">"
      ],
      "text/plain": [
       "89×360 Array{Gray{Float64},2} with eltype Gray{Float64}:\n",
       " Gray{Float64}(0.0)  Gray{Float64}(0.0)  …  Gray{Float64}(0.0)\n",
       " Gray{Float64}(0.0)  Gray{Float64}(0.0)     Gray{Float64}(0.0)\n",
       " Gray{Float64}(0.0)  Gray{Float64}(0.0)     Gray{Float64}(0.0)\n",
       " Gray{Float64}(0.0)  Gray{Float64}(0.0)     Gray{Float64}(0.0)\n",
       " Gray{Float64}(0.0)  Gray{Float64}(0.0)     Gray{Float64}(0.0)\n",
       " Gray{Float64}(0.0)  Gray{Float64}(0.0)  …  Gray{Float64}(0.0)\n",
       " Gray{Float64}(0.0)  Gray{Float64}(0.0)     Gray{Float64}(0.0)\n",
       " Gray{Float64}(0.0)  Gray{Float64}(0.0)     Gray{Float64}(0.0)\n",
       " Gray{Float64}(0.0)  Gray{Float64}(0.0)     Gray{Float64}(0.0)\n",
       " Gray{Float64}(0.0)  Gray{Float64}(0.0)     Gray{Float64}(1.0)\n",
       " ⋮                                       ⋱  \n",
       " Gray{Float64}(0.0)  Gray{Float64}(0.0)  …  Gray{Float64}(0.0)\n",
       " Gray{Float64}(0.0)  Gray{Float64}(0.0)     Gray{Float64}(0.0)\n",
       " Gray{Float64}(0.0)  Gray{Float64}(0.0)     Gray{Float64}(0.0)\n",
       " Gray{Float64}(0.0)  Gray{Float64}(0.0)     Gray{Float64}(0.0)\n",
       " Gray{Float64}(0.0)  Gray{Float64}(0.0)     Gray{Float64}(0.0)\n",
       " Gray{Float64}(0.0)  Gray{Float64}(0.0)  …  Gray{Float64}(0.0)\n",
       " Gray{Float64}(0.0)  Gray{Float64}(0.0)     Gray{Float64}(0.0)\n",
       " Gray{Float64}(0.0)  Gray{Float64}(0.0)     Gray{Float64}(0.0)\n",
       " Gray{Float64}(0.0)  Gray{Float64}(0.0)     Gray{Float64}(0.0)"
      ]
     },
     "metadata": {},
     "output_type": "display_data"
    }
   ],
   "source": [
    "# Run cell several times to view different paired sets of floes\n",
    "# Note floes with ID in [7, 9] seem to look alike; same for ID's in [8, 10]. Too amorphous to track?\n",
    "\n",
    "i += 1\n",
    "println(\"Floe ID: $i\")\n",
    "try\n",
    "    floes = props[props.ID.==i, :].mask\n",
    "    # Get common canvas size for floes in case masks are different sizes and display the pairs\n",
    "    s = Tuple(maximum(r) for r in eachrow(hcat([collect(size(floe)) for floe in floes]...)))\n",
    "    imshow(mosaicview([collect(PaddedView(0.0, float64.(img), s)) for img in floes], nrow=1))\n",
    "catch e\n",
    "    @info \"No floes with ID = $i\"\n",
    "end"
   ]
  }
 ],
 "metadata": {
  "kernelspec": {
   "display_name": "Julia 1.9.0",
   "language": "julia",
   "name": "julia-1.9"
  },
  "language_info": {
   "file_extension": ".jl",
   "mimetype": "application/julia",
   "name": "julia",
   "version": "1.9.0"
  }
 },
 "nbformat": 4,
 "nbformat_minor": 2
}
