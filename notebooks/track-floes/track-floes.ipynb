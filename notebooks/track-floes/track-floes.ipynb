{
 "cells": [
  {
   "attachments": {},
   "cell_type": "markdown",
   "metadata": {},
   "source": [
    "### 1. Prepare the working environment"
   ]
  },
  {
   "cell_type": "code",
   "execution_count": null,
   "metadata": {},
   "outputs": [],
   "source": [
    "HOME = \"../..\" # path to the root of the project two levels up\n",
    "\n",
    "# Activate the environment\n",
    "using Pkg\n",
    "Pkg.activate(HOME)\n",
    "Pkg.precompile()"
   ]
  },
  {
   "cell_type": "code",
   "execution_count": null,
   "metadata": {},
   "outputs": [],
   "source": [
    "using IceFloeTracker: pairfloes, deserialize, DataFrames, colorview, RGB, PaddedView, float64, mosaicview, Gray, tagfloes!\n",
    "imshow(x) = Gray.(x);\n"
   ]
  },
  {
   "attachments": {},
   "cell_type": "markdown",
   "metadata": {},
   "source": [
    "### 2. Set thresholds for the algorithm. Load data"
   ]
  },
  {
   "cell_type": "code",
   "execution_count": null,
   "metadata": {},
   "outputs": [],
   "source": [
    "# Set thresholds\n",
    "t1 = (dt=(30.0, 100.0, 1300.0), dist=(200, 250, 300))\n",
    "t2 = (\n",
    "    area=1200,\n",
    "    arearatio=0.28,\n",
    "    majaxisratio=0.10,\n",
    "    minaxisratio=0.12,\n",
    "    convexarearatio=0.14,\n",
    ")\n",
    "t3 = (\n",
    "    area=10_000,\n",
    "    arearatio=0.18,\n",
    "    majaxisratio=0.1,\n",
    "    minaxisratio=0.15,\n",
    "    convexarearatio=0.2,\n",
    ")\n",
    "condition_thresholds = (t1, t2, t3)\n",
    "mc_thresholds = (\n",
    "    goodness=(area3=0.18, area2=0.236, corr=0.68), comp=(mxrot=10, sz=16)\n",
    ")\n",
    "dt = [15.0, 20.0]\n",
    "\n",
    "# Load data\n",
    "floedata = deserialize(joinpath(HOME, \"test\", \"test_inputs\", \"tracker\", \"tracker_test_data.dat\"))\n",
    "fieldnames(typeof(floedata))\n",
    "\n",
    "props, imgs = floedata.props, floedata.imgs;"
   ]
  },
  {
   "cell_type": "markdown",
   "metadata": {},
   "source": [
    "### 3. Pre-labeling workflow"
   ]
  },
  {
   "cell_type": "code",
   "execution_count": null,
   "metadata": {},
   "outputs": [],
   "source": [
    "# Sort by area in descending order and make an ID column for the day\n",
    "for (i, prop) in enumerate(props)\n",
    "    # sort by area in descending order\n",
    "    sort!(prop, :area; rev=true)\n",
    "\n",
    "    # make an ID column in props[1] with values 1:size(props)[1]\n",
    "    prop[!, \"ID\"] = 1:size(prop)[1]\n",
    "\n",
    "    # make a constant column \"Day\" in props[1] with value 1\n",
    "    prop[!, \"Day\"] = fill(i, size(prop)[1])\n",
    "end\n",
    "\n",
    "# Preliminary pairs\n",
    "_pairs = pairfloes(imgs, props, dt, condition_thresholds, mc_thresholds);\n",
    "\n",
    "\n",
    "# Concatenate preliminary pairs horizontally into an array of DataFrames `pairs` with the pairings only\n",
    "cols = [\"Day\", \"ID\"]\n",
    "pairs = [hcat(pair.props1[:, cols], pair.props2[:, cols], makeunique=true) for (i, pair) in enumerate(_pairs)]\n"
   ]
  },
  {
   "attachments": {},
   "cell_type": "markdown",
   "metadata": {},
   "source": [
    "### 4. Tag paired floes"
   ]
  },
  {
   "cell_type": "code",
   "execution_count": null,
   "metadata": {},
   "outputs": [],
   "source": [
    "tagfloes!(props, pairs)\n"
   ]
  },
  {
   "cell_type": "markdown",
   "metadata": {},
   "source": [
    "### 5. Inspect paired floes"
   ]
  },
  {
   "cell_type": "code",
   "execution_count": null,
   "metadata": {},
   "outputs": [],
   "source": [
    "# View matching pair of floes `i` in days `d-1` and `d`:\n",
    "i=1; d=2; # d can be 2 (for days 1-2) or 3 (days 2-3)"
   ]
  },
  {
   "cell_type": "code",
   "execution_count": null,
   "metadata": {},
   "outputs": [],
   "source": [
    "# Run cell several times to view different pairs\n",
    "floe1 = props[d][i,[\"Floe_ID\",\"mask\"]]\n",
    "i += 1 # increase to get next pair in the next run of the cell\n",
    "floe0 = props[d-1][floe1.Floe_ID, \"mask\"]\n",
    "floes = [floe0, floe1.mask]\n",
    "# Get common canvas size for floes in case masks are different sizes and display the pair\n",
    "s = Tuple(maximum(r) for r in eachrow(hcat([collect(size(floe)) for floe in floes]...)))\n",
    "imshow(mosaicview([collect(PaddedView(0.0, float64.(img), s)) for img in floes], nrow=1))"
   ]
  }
 ],
 "metadata": {
  "kernelspec": {
   "display_name": "Julia 1.9.0",
   "language": "julia",
   "name": "julia-1.9"
  },
  "language_info": {
   "file_extension": ".jl",
   "mimetype": "application/julia",
   "name": "julia",
   "version": "1.9.0"
  },
  "orig_nbformat": 4
 },
 "nbformat": 4,
 "nbformat_minor": 2
}
