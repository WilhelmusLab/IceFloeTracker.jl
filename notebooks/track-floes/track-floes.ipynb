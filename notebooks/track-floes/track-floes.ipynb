{
 "cells": [
  {
   "cell_type": "markdown",
   "metadata": {},
   "source": [
    "### 1. Prepare the working environment"
   ]
  },
  {
   "cell_type": "code",
   "execution_count": null,
   "metadata": {},
   "outputs": [],
   "source": [
    "HOME = \"../..\" # path to the root of the project two levels up\n",
    "\n",
    "# Activate the environment\n",
    "using Pkg\n",
    "Pkg.activate(HOME)\n",
    "Pkg.precompile()"
   ]
  },
  {
   "cell_type": "code",
   "execution_count": null,
   "metadata": {},
   "outputs": [],
   "source": [
    "using IceFloeTracker: deserialize, addfloemasks!, adduuid!, add_passtimes!, addψs!, long_tracker, addlatlon!, imshow"
   ]
  },
  {
   "cell_type": "markdown",
   "metadata": {},
   "source": [
    "### 2. Set thresholds for the algorithm"
   ]
  },
  {
   "cell_type": "code",
   "execution_count": null,
   "metadata": {},
   "outputs": [],
   "source": [
    "# Set thresholds\n",
    "search_thresholds = (dt=(30.0, 100.0, 1300.0), dist=(200, 250, 300))\n",
    "t2 = (\n",
    "    area=1200,\n",
    "    arearatio=0.28,\n",
    "    majaxisratio=0.10,\n",
    "    minaxisratio=0.12,\n",
    "    convexarearatio=0.14,\n",
    ")\n",
    "t3 = (\n",
    "    area=10_000,\n",
    "    arearatio=0.18,\n",
    "    majaxisratio=0.1,\n",
    "    minaxisratio=0.15,\n",
    "    convexarearatio=0.2,\n",
    ")\n",
    "condition_thresholds = (search_thresholds, t2, t3)\n",
    "mc_thresholds = (\n",
    "    goodness=(area3=0.18, area2=0.236, corr=0.68), comp=(mxrot=10, sz=16)\n",
    ")"
   ]
  },
  {
   "cell_type": "markdown",
   "metadata": {},
   "source": [
    "### 3. Load data"
   ]
  },
  {
   "cell_type": "code",
   "execution_count": null,
   "metadata": {},
   "outputs": [],
   "source": [
    "begin # Load data\n",
    "    pth = joinpath(HOME, \"test\", \"test_inputs\", \"tracker\")\n",
    "    floedata = deserialize(joinpath(pth, \"tracker_test_data.dat\"))\n",
    "    # test/test_inputs/tracker/tracker_test_data.dat\n",
    "    passtimes = deserialize(joinpath(pth, \"passtimes.dat\"))\n",
    "    props, imgs = deepcopy.([floedata.props, floedata.imgs])\n",
    "\n",
    "    # Add required fields to props\n",
    "    addfloemasks!(props, imgs)\n",
    "    add_passtimes!(props, passtimes)\n",
    "    addψs!(props)\n",
    "    adduuid!(props)\n",
    "end\n",
    "\n",
    "begin # Filter out floes with area less than `floe_area_threshold` pixels\n",
    "    floe_area_threshold = 400\n",
    "    for (i, prop) in enumerate(props)\n",
    "        props[i] = prop[prop[:, :area].>=floe_area_threshold, :];\n",
    "        sort!(props[i], :area, rev=true);\n",
    "    end\n",
    "end\n",
    "\n",
    "# Delete some floes\n",
    "deleteat!(props[1], 1); # delete the first floe in day 1 so it doesn't have a match in day 2\n",
    "deleteat!(props[2], 5); # delete the fifth floe in day 2 so it doesn't have a match in day 1\n",
    "\n",
    "# All floes in days 1 and 2 have a match in day 3\n",
    "# Expected: 5 trajectories, 3 of length 3 and 2 of length 2\n",
    "nothing # suppress output -- not particularly informative. See the next block."
   ]
  },
  {
   "cell_type": "markdown",
   "metadata": {},
   "source": [
    "### 4. View floe data"
   ]
  },
  {
   "cell_type": "code",
   "execution_count": null,
   "metadata": {},
   "outputs": [],
   "source": [
    "# Day 1\n",
    "props[1][!, [:uuid, :passtime, :area]]"
   ]
  },
  {
   "cell_type": "code",
   "execution_count": null,
   "metadata": {},
   "outputs": [],
   "source": [
    "imshow(imgs[1])"
   ]
  },
  {
   "cell_type": "code",
   "execution_count": null,
   "metadata": {},
   "outputs": [],
   "source": [
    "imshow(props[1][1, :mask])"
   ]
  },
  {
   "cell_type": "code",
   "execution_count": null,
   "metadata": {},
   "outputs": [],
   "source": [
    "# Day 2\n",
    "props[2][!, [:uuid, :passtime, :area]]"
   ]
  },
  {
   "cell_type": "code",
   "execution_count": null,
   "metadata": {},
   "outputs": [],
   "source": [
    "imshow(imgs[2]) # slightly rotated version of the image in day 1"
   ]
  },
  {
   "cell_type": "code",
   "execution_count": null,
   "metadata": {},
   "outputs": [],
   "source": [
    "imshow(props[2][1, :mask])"
   ]
  },
  {
   "cell_type": "code",
   "execution_count": null,
   "metadata": {},
   "outputs": [],
   "source": [
    "# Day 3\n",
    "props[3][!, [:uuid, :passtime, :area]]"
   ]
  },
  {
   "cell_type": "code",
   "execution_count": null,
   "metadata": {},
   "outputs": [],
   "source": [
    "imshow(props[3][1, :mask]) # missing in day 1"
   ]
  },
  {
   "cell_type": "code",
   "execution_count": null,
   "metadata": {},
   "outputs": [],
   "source": [
    "imshow(props[3][5, :mask]) # missing in day 2"
   ]
  },
  {
   "cell_type": "markdown",
   "metadata": {},
   "source": [
    "### 5. Pair and label floes"
   ]
  },
  {
   "cell_type": "code",
   "execution_count": null,
   "metadata": {},
   "outputs": [],
   "source": [
    "# Get paired floes with labels\n",
    "trajectories = long_tracker(props, condition_thresholds, mc_thresholds);"
   ]
  },
  {
   "cell_type": "markdown",
   "metadata": {},
   "source": [
    "### 6. View trajectories and _goodness_ of pairings"
   ]
  },
  {
   "cell_type": "code",
   "execution_count": null,
   "metadata": {},
   "outputs": [],
   "source": [
    "trajectories[!, [:ID, :passtime, :area_mismatch, :corr]]"
   ]
  },
  {
   "cell_type": "markdown",
   "metadata": {},
   "source": [
    "7. Add latitude/longitude data to trajectories"
   ]
  },
  {
   "cell_type": "code",
   "execution_count": null,
   "metadata": {},
   "outputs": [],
   "source": [
    "latlonimgpth = joinpath(HOME, \"test\", \"test_inputs\", \"NE_Greenland_truecolor.2020162.aqua.250m.tiff\")\n",
    "addlatlon!(trajectories, latlonimgpth)"
   ]
  },
  {
   "cell_type": "code",
   "execution_count": null,
   "metadata": {},
   "outputs": [],
   "source": [
    "# View trajectories with lat/lon data\n",
    "cols = [:ID, :area, :passtime, :latitude, :longitude]\n",
    "trajectories[!, cols]"
   ]
  }
 ],
 "metadata": {
  "kernelspec": {
   "display_name": "Julia 1.9.4",
   "language": "julia",
   "name": "julia-1.9"
  },
  "language_info": {
   "file_extension": ".jl",
   "mimetype": "application/julia",
   "name": "julia"
  }
 },
 "nbformat": 4,
 "nbformat_minor": 2
}
