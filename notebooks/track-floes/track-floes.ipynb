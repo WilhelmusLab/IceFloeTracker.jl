{
 "cells": [
  {
   "attachments": {},
   "cell_type": "markdown",
   "metadata": {},
   "source": [
    "### 1. Prepare the working environment"
   ]
  },
  {
   "cell_type": "code",
   "execution_count": 1,
   "metadata": {},
   "outputs": [
    {
     "name": "stderr",
     "output_type": "stream",
     "text": [
      "\u001b[32m\u001b[1m  Activating\u001b[22m\u001b[39m project at `c:\\Users\\cpaniagu\\Documents\\IceFloeTracker.jl`\n"
     ]
    }
   ],
   "source": [
    "HOME = \"../..\" # path to the root of the project two levels up\n",
    "\n",
    "# Activate the environment\n",
    "using Pkg\n",
    "Pkg.activate(HOME)\n",
    "Pkg.precompile()"
   ]
  },
  {
   "cell_type": "code",
   "execution_count": 2,
   "metadata": {},
   "outputs": [
    {
     "data": {
      "text/plain": [
       "imshow (generic function with 1 method)"
      ]
     },
     "metadata": {},
     "output_type": "display_data"
    }
   ],
   "source": [
    "using IceFloeTracker: pairfloes, deserialize, DataFrames, colorview, RGB, PaddedView, float64, mosaicview, Gray\n",
    "imshow(x) = Gray.(x)"
   ]
  },
  {
   "attachments": {},
   "cell_type": "markdown",
   "metadata": {},
   "source": [
    "### 2. Set thresholds for the algorithm. Load data"
   ]
  },
  {
   "cell_type": "code",
   "execution_count": 3,
   "metadata": {},
   "outputs": [
    {
     "data": {
      "text/plain": [
       "(:imgs, :props)"
      ]
     },
     "metadata": {},
     "output_type": "display_data"
    }
   ],
   "source": [
    "# Set thresholds\n",
    "t1 = (dt=(30, 100, 1300), dist=(200, 250, 300)) # elapsed time between images and distance between floes\n",
    "t2 = (area=1200, arearatio=0.28, majaxisratio=0.10, minaxisratio=0.12, convexarearatio=0.14) # for small floes?\n",
    "t3 = (area=10_000, arearatio=0.18, majaxisratio=0.1, minaxisratio=0.15, convexarearatio=0.2) # for large floes?\n",
    "condition_thresholds = (t1, t2, t3)\n",
    "\n",
    "mc_thresholds = (\n",
    "    comp=(mxrot=10, sz=16, comp=0.25, mm=0.22, psi=0.95),\n",
    "    goodness=(corr=0.68, area2=0.236, area3=0.18),\n",
    ")\n",
    " (area3=0.18, area2=0.236, corr=0.68) # large, small, psi-s correlation\n",
    "dt = [15, 20] # elapsed time between images\n",
    "\n",
    "# Load data\n",
    "data = deserialize(joinpath(HOME, \"test\",  \"test_inputs\", \"tracker\",\"tracker_test_data.dat\"))\n",
    "fieldnames(typeof(data))"
   ]
  },
  {
   "attachments": {},
   "cell_type": "markdown",
   "metadata": {},
   "source": [
    "### 3. Inspect `data` container"
   ]
  },
  {
   "cell_type": "code",
   "execution_count": 4,
   "metadata": {},
   "outputs": [
    {
     "data": {
      "text/plain": [
       "3-element Vector{BitMatrix}:\n",
       " [0 0 … 0 0; 0 0 … 0 0; … ; 0 0 … 0 0; 0 0 … 0 0]\n",
       " [0 0 … 0 0; 0 0 … 0 0; … ; 0 0 … 0 0; 0 0 … 0 0]\n",
       " [0 0 … 0 0; 0 0 … 0 0; … ; 0 0 … 0 0; 0 0 … 0 0]"
      ]
     },
     "metadata": {},
     "output_type": "display_data"
    }
   ],
   "source": [
    "data.imgs"
   ]
  },
  {
   "cell_type": "code",
   "execution_count": 5,
   "metadata": {},
   "outputs": [
    {
     "data": {
      "image/png": "[encoded data removed]",
      "text/html": [
       "<img src=\"data:image/png;base64,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\">"
      ],
      "text/plain": [
       "421×476 Array{Gray{Bool},2} with eltype Gray{Bool}:\n",
       " Gray{Bool}(false)  Gray{Bool}(false)  …  Gray{Bool}(false)\n",
       " Gray{Bool}(false)  Gray{Bool}(false)     Gray{Bool}(false)\n",
       " Gray{Bool}(false)  Gray{Bool}(false)     Gray{Bool}(false)\n",
       " Gray{Bool}(false)  Gray{Bool}(false)     Gray{Bool}(false)\n",
       " Gray{Bool}(false)  Gray{Bool}(false)     Gray{Bool}(false)\n",
       " Gray{Bool}(false)  Gray{Bool}(false)  …  Gray{Bool}(false)\n",
       " Gray{Bool}(false)  Gray{Bool}(false)     Gray{Bool}(false)\n",
       " Gray{Bool}(false)  Gray{Bool}(false)     Gray{Bool}(false)\n",
       " Gray{Bool}(false)  Gray{Bool}(false)     Gray{Bool}(false)\n",
       " Gray{Bool}(false)  Gray{Bool}(false)     Gray{Bool}(false)\n",
       " ⋮                                     ⋱  ⋮\n",
       " Gray{Bool}(false)  Gray{Bool}(false)     Gray{Bool}(false)\n",
       " Gray{Bool}(false)  Gray{Bool}(false)     Gray{Bool}(false)\n",
       " Gray{Bool}(false)  Gray{Bool}(false)     Gray{Bool}(false)\n",
       " Gray{Bool}(false)  Gray{Bool}(false)  …  Gray{Bool}(false)\n",
       " Gray{Bool}(false)  Gray{Bool}(false)     Gray{Bool}(false)\n",
       " Gray{Bool}(false)  Gray{Bool}(false)     Gray{Bool}(false)\n",
       " Gray{Bool}(false)  Gray{Bool}(false)     Gray{Bool}(false)\n",
       " Gray{Bool}(false)  Gray{Bool}(false)     Gray{Bool}(false)\n",
       " Gray{Bool}(false)  Gray{Bool}(false)  …  Gray{Bool}(false)"
      ]
     },
     "metadata": {},
     "output_type": "display_data"
    }
   ],
   "source": [
    "imshow(data.imgs[1])"
   ]
  },
  {
   "cell_type": "code",
   "execution_count": 6,
   "metadata": {},
   "outputs": [
    {
     "data": {
      "image/png": "[encoded data removed]",
      "text/html": [
       "<img src=\"data:image/png;base64,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\">"
      ],
      "text/plain": [
       "491×536 Array{Gray{Bool},2} with eltype Gray{Bool}:\n",
       " Gray{Bool}(false)  Gray{Bool}(false)  …  Gray{Bool}(false)\n",
       " Gray{Bool}(false)  Gray{Bool}(false)     Gray{Bool}(false)\n",
       " Gray{Bool}(false)  Gray{Bool}(false)     Gray{Bool}(false)\n",
       " Gray{Bool}(false)  Gray{Bool}(false)     Gray{Bool}(false)\n",
       " Gray{Bool}(false)  Gray{Bool}(false)     Gray{Bool}(false)\n",
       " Gray{Bool}(false)  Gray{Bool}(false)  …  Gray{Bool}(false)\n",
       " Gray{Bool}(false)  Gray{Bool}(false)     Gray{Bool}(false)\n",
       " Gray{Bool}(false)  Gray{Bool}(false)     Gray{Bool}(false)\n",
       " Gray{Bool}(false)  Gray{Bool}(false)     Gray{Bool}(false)\n",
       " Gray{Bool}(false)  Gray{Bool}(false)     Gray{Bool}(false)\n",
       " ⋮                                     ⋱  ⋮\n",
       " Gray{Bool}(false)  Gray{Bool}(false)     Gray{Bool}(false)\n",
       " Gray{Bool}(false)  Gray{Bool}(false)     Gray{Bool}(false)\n",
       " Gray{Bool}(false)  Gray{Bool}(false)     Gray{Bool}(false)\n",
       " Gray{Bool}(false)  Gray{Bool}(false)  …  Gray{Bool}(false)\n",
       " Gray{Bool}(false)  Gray{Bool}(false)     Gray{Bool}(false)\n",
       " Gray{Bool}(false)  Gray{Bool}(false)     Gray{Bool}(false)\n",
       " Gray{Bool}(false)  Gray{Bool}(false)     Gray{Bool}(false)\n",
       " Gray{Bool}(false)  Gray{Bool}(false)     Gray{Bool}(false)\n",
       " Gray{Bool}(false)  Gray{Bool}(false)  …  Gray{Bool}(false)"
      ]
     },
     "metadata": {},
     "output_type": "display_data"
    }
   ],
   "source": [
    "imshow(data.imgs[2])"
   ]
  },
  {
   "cell_type": "code",
   "execution_count": 7,
   "metadata": {},
   "outputs": [
    {
     "data": {
      "image/png": "[encoded data removed]",
      "text/html": [
       "<img src=\"data:image/png;base64,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\">"
      ],
      "text/plain": [
       "531×570 Array{Gray{Bool},2} with eltype Gray{Bool}:\n",
       " Gray{Bool}(false)  Gray{Bool}(false)  …  Gray{Bool}(false)\n",
       " Gray{Bool}(false)  Gray{Bool}(false)     Gray{Bool}(false)\n",
       " Gray{Bool}(false)  Gray{Bool}(false)     Gray{Bool}(false)\n",
       " Gray{Bool}(false)  Gray{Bool}(false)     Gray{Bool}(false)\n",
       " Gray{Bool}(false)  Gray{Bool}(false)     Gray{Bool}(false)\n",
       " Gray{Bool}(false)  Gray{Bool}(false)  …  Gray{Bool}(false)\n",
       " Gray{Bool}(false)  Gray{Bool}(false)     Gray{Bool}(false)\n",
       " Gray{Bool}(false)  Gray{Bool}(false)     Gray{Bool}(false)\n",
       " Gray{Bool}(false)  Gray{Bool}(false)     Gray{Bool}(false)\n",
       " Gray{Bool}(false)  Gray{Bool}(false)     Gray{Bool}(false)\n",
       " ⋮                                     ⋱  \n",
       " Gray{Bool}(false)  Gray{Bool}(false)     Gray{Bool}(false)\n",
       " Gray{Bool}(false)  Gray{Bool}(false)     Gray{Bool}(false)\n",
       " Gray{Bool}(false)  Gray{Bool}(false)     Gray{Bool}(false)\n",
       " Gray{Bool}(false)  Gray{Bool}(false)  …  Gray{Bool}(false)\n",
       " Gray{Bool}(false)  Gray{Bool}(false)     Gray{Bool}(false)\n",
       " Gray{Bool}(false)  Gray{Bool}(false)     Gray{Bool}(false)\n",
       " Gray{Bool}(false)  Gray{Bool}(false)     Gray{Bool}(false)\n",
       " Gray{Bool}(false)  Gray{Bool}(false)     Gray{Bool}(false)\n",
       " Gray{Bool}(false)  Gray{Bool}(false)  …  Gray{Bool}(false)"
      ]
     },
     "metadata": {},
     "output_type": "display_data"
    }
   ],
   "source": [
    "imshow(data.imgs[3])"
   ]
  },
  {
   "cell_type": "code",
   "execution_count": 8,
   "metadata": {},
   "outputs": [
    {
     "data": {
      "text/html": [
       "<div><div style = \"float: left;\"><span>5×10 DataFrame</span></div><div style = \"clear: both;\"></div></div><div class = \"data-frame\" style = \"overflow-x: scroll;\"><table class = \"data-frame\" style = \"margin-bottom: 6px;\"><thead><tr class = \"header\"><th class = \"rowNumber\" style = \"font-weight: bold; text-align: right;\">Row</th><th style = \"text-align: left;\">area</th><th style = \"text-align: left;\">min_row</th><th style = \"text-align: left;\">min_col</th><th style = \"text-align: left;\">max_row</th><th style = \"text-align: left;\">max_col</th><th style = \"text-align: left;\">row_centroid</th><th style = \"text-align: left;\">col_centroid</th><th style = \"text-align: left;\">convex_area</th><th style = \"text-align: left;\">major_axis_length</th><th style = \"text-align: left;\">minor_axis_length</th></tr><tr class = \"subheader headerLastRow\"><th class = \"rowNumber\" style = \"font-weight: bold; text-align: right;\"></th><th title = \"Int32\" style = \"text-align: left;\">Int32</th><th title = \"Int32\" style = \"text-align: left;\">Int32</th><th title = \"Int32\" style = \"text-align: left;\">Int32</th><th title = \"Int32\" style = \"text-align: left;\">Int32</th><th title = \"Int32\" style = \"text-align: left;\">Int32</th><th title = \"Int64\" style = \"text-align: left;\">Int64</th><th title = \"Int64\" style = \"text-align: left;\">Int64</th><th title = \"Int32\" style = \"text-align: left;\">Int32</th><th title = \"Float64\" style = \"text-align: left;\">Float64</th><th title = \"Float64\" style = \"text-align: left;\">Float64</th></tr></thead><tbody><tr><td class = \"rowNumber\" style = \"font-weight: bold; text-align: right;\">1</td><td style = \"text-align: right;\">321</td><td style = \"text-align: right;\">80</td><td style = \"text-align: right;\">40</td><td style = \"text-align: right;\">109</td><td style = \"text-align: right;\">61</td><td style = \"text-align: right;\">95</td><td style = \"text-align: right;\">51</td><td style = \"text-align: right;\">347</td><td style = \"text-align: right;\">34.4232</td><td style = \"text-align: right;\">12.5325</td></tr><tr><td class = \"rowNumber\" style = \"font-weight: bold; text-align: right;\">2</td><td style = \"text-align: right;\">277</td><td style = \"text-align: right;\">173</td><td style = \"text-align: right;\">48</td><td style = \"text-align: right;\">196</td><td style = \"text-align: right;\">64</td><td style = \"text-align: right;\">183</td><td style = \"text-align: right;\">56</td><td style = \"text-align: right;\">302</td><td style = \"text-align: right;\">25.568</td><td style = \"text-align: right;\">14.7346</td></tr><tr><td class = \"rowNumber\" style = \"font-weight: bold; text-align: right;\">3</td><td style = \"text-align: right;\">73</td><td style = \"text-align: right;\">129</td><td style = \"text-align: right;\">65</td><td style = \"text-align: right;\">137</td><td style = \"text-align: right;\">75</td><td style = \"text-align: right;\">133</td><td style = \"text-align: right;\">70</td><td style = \"text-align: right;\">75</td><td style = \"text-align: right;\">11.5951</td><td style = \"text-align: right;\">8.017</td></tr><tr><td class = \"rowNumber\" style = \"font-weight: bold; text-align: right;\">4</td><td style = \"text-align: right;\">176</td><td style = \"text-align: right;\">190</td><td style = \"text-align: right;\">72</td><td style = \"text-align: right;\">204</td><td style = \"text-align: right;\">87</td><td style = \"text-align: right;\">197</td><td style = \"text-align: right;\">79</td><td style = \"text-align: right;\">186</td><td style = \"text-align: right;\">18.0342</td><td style = \"text-align: right;\">12.7014</td></tr><tr><td class = \"rowNumber\" style = \"font-weight: bold; text-align: right;\">5</td><td style = \"text-align: right;\">350</td><td style = \"text-align: right;\">100</td><td style = \"text-align: right;\">76</td><td style = \"text-align: right;\">120</td><td style = \"text-align: right;\">98</td><td style = \"text-align: right;\">110</td><td style = \"text-align: right;\">86</td><td style = \"text-align: right;\">371</td><td style = \"text-align: right;\">24.8313</td><td style = \"text-align: right;\">18.3884</td></tr></tbody></table></div>"
      ],
      "text/latex": [
       "\\begin{tabular}{r|ccccccccc}\n",
       "\t& area & min\\_row & min\\_col & max\\_row & max\\_col & row\\_centroid & col\\_centroid & convex\\_area & \\\\\n",
       "\t\\hline\n",
       "\t& Int32 & Int32 & Int32 & Int32 & Int32 & Int64 & Int64 & Int32 & \\\\\n",
       "\t\\hline\n",
       "\t1 & 321 & 80 & 40 & 109 & 61 & 95 & 51 & 347 & $\\dots$ \\\\\n",
       "\t2 & 277 & 173 & 48 & 196 & 64 & 183 & 56 & 302 & $\\dots$ \\\\\n",
       "\t3 & 73 & 129 & 65 & 137 & 75 & 133 & 70 & 75 & $\\dots$ \\\\\n",
       "\t4 & 176 & 190 & 72 & 204 & 87 & 197 & 79 & 186 & $\\dots$ \\\\\n",
       "\t5 & 350 & 100 & 76 & 120 & 98 & 110 & 86 & 371 & $\\dots$ \\\\\n",
       "\\end{tabular}\n"
      ],
      "text/plain": [
       "\u001b[1m5×10 DataFrame\u001b[0m\n",
       "\u001b[1m Row \u001b[0m│\u001b[1m area  \u001b[0m\u001b[1m min_row \u001b[0m\u001b[1m min_col \u001b[0m\u001b[1m max_row \u001b[0m\u001b[1m max_col \u001b[0m\u001b[1m row_centroid \u001b[0m\u001b[1m col_centroid \u001b[0m\u001b[1m \u001b[0m ⋯\n",
       "     │\u001b[90m Int32 \u001b[0m\u001b[90m Int32   \u001b[0m\u001b[90m Int32   \u001b[0m\u001b[90m Int32   \u001b[0m\u001b[90m Int32   \u001b[0m\u001b[90m Int64        \u001b[0m\u001b[90m Int64        \u001b[0m\u001b[90m \u001b[0m ⋯\n",
       "─────┼──────────────────────────────────────────────────────────────────────────\n",
       "   1 │   321       80       40      109       61            95            51   ⋯\n",
       "   2 │   277      173       48      196       64           183            56\n",
       "   3 │    73      129       65      137       75           133            70\n",
       "   4 │   176      190       72      204       87           197            79\n",
       "   5 │   350      100       76      120       98           110            86   ⋯\n",
       "\u001b[36m                                                               3 columns omitted\u001b[0m"
      ]
     },
     "metadata": {},
     "output_type": "display_data"
    }
   ],
   "source": [
    "data.props[1][1:5, :]"
   ]
  },
  {
   "attachments": {},
   "cell_type": "markdown",
   "metadata": {},
   "source": [
    "### 4. Pair floes using the Tracker algo"
   ]
  },
  {
   "cell_type": "code",
   "execution_count": 9,
   "metadata": {},
   "outputs": [],
   "source": [
    "# sort floe data by area\n",
    "for i in 1:3\n",
    "    sort!(data.props[i], :area; rev=true)\n",
    "end\n",
    "\n",
    "pairs = pairfloes(data.imgs, data.props, dt, condition_thresholds, mc_thresholds);"
   ]
  },
  {
   "attachments": {},
   "cell_type": "markdown",
   "metadata": {},
   "source": [
    "### 5. Inspect `pairs` container"
   ]
  },
  {
   "cell_type": "code",
   "execution_count": 10,
   "metadata": {},
   "outputs": [
    {
     "data": {
      "text/plain": [
       "Vector{MatchedPairs}\u001b[90m (alias for \u001b[39m\u001b[90mArray{IceFloeTracker.MatchedPairs, 1}\u001b[39m\u001b[90m)\u001b[39m"
      ]
     },
     "metadata": {},
     "output_type": "display_data"
    }
   ],
   "source": [
    "typeof(pairs)"
   ]
  },
  {
   "cell_type": "code",
   "execution_count": 11,
   "metadata": {},
   "outputs": [
    {
     "data": {
      "text/plain": [
       "(:props1, :props2, :ratios, :dist)"
      ]
     },
     "metadata": {},
     "output_type": "display_data"
    }
   ],
   "source": [
    "fieldnames(typeof(pairs[1]))"
   ]
  },
  {
   "cell_type": "code",
   "execution_count": 12,
   "metadata": {},
   "outputs": [
    {
     "data": {
      "text/html": [
       "<div><div style = \"float: left;\"><span>3×12 DataFrame</span></div><div style = \"clear: both;\"></div></div><div class = \"data-frame\" style = \"overflow-x: scroll;\"><table class = \"data-frame\" style = \"margin-bottom: 6px;\"><thead><tr class = \"header\"><th class = \"rowNumber\" style = \"font-weight: bold; text-align: right;\">Row</th><th style = \"text-align: left;\">area</th><th style = \"text-align: left;\">min_row</th><th style = \"text-align: left;\">min_col</th><th style = \"text-align: left;\">max_row</th><th style = \"text-align: left;\">max_col</th><th style = \"text-align: left;\">row_centroid</th><th style = \"text-align: left;\">col_centroid</th><th style = \"text-align: left;\">convex_area</th><th style = \"text-align: left;\">major_axis_length</th><th style = \"text-align: left;\">minor_axis_length</th><th style = \"text-align: left;\">mask</th><th style = \"text-align: left;\">psi</th></tr><tr class = \"subheader headerLastRow\"><th class = \"rowNumber\" style = \"font-weight: bold; text-align: right;\"></th><th title = \"Int32\" style = \"text-align: left;\">Int32</th><th title = \"Int32\" style = \"text-align: left;\">Int32</th><th title = \"Int32\" style = \"text-align: left;\">Int32</th><th title = \"Int32\" style = \"text-align: left;\">Int32</th><th title = \"Int32\" style = \"text-align: left;\">Int32</th><th title = \"Int64\" style = \"text-align: left;\">Int64</th><th title = \"Int64\" style = \"text-align: left;\">Int64</th><th title = \"Int32\" style = \"text-align: left;\">Int32</th><th title = \"Float64\" style = \"text-align: left;\">Float64</th><th title = \"Float64\" style = \"text-align: left;\">Float64</th><th title = \"BitMatrix\" style = \"text-align: left;\">BitMatrix</th><th title = \"Vector{Float64}\" style = \"text-align: left;\">Array…</th></tr></thead><tbody><tr><td class = \"rowNumber\" style = \"font-weight: bold; text-align: right;\">1</td><td style = \"text-align: right;\">6966</td><td style = \"text-align: right;\">80</td><td style = \"text-align: right;\">159</td><td style = \"text-align: right;\">166</td><td style = \"text-align: right;\">276</td><td style = \"text-align: right;\">125</td><td style = \"text-align: right;\">222</td><td style = \"text-align: right;\">7464</td><td style = \"text-align: right;\">119.25</td><td style = \"text-align: right;\">77.0107</td><td style = \"text-align: left;\">Bool[0 0 … 0 0; 0 0 … 0 0; … ; 0 0 … 0 0; 0 0 … 0 0]</td><td style = \"text-align: left;\">[5.17314, 4.72092, 5.16185, 5.18999, 4.69934, 4.7112, 4.71169, 4.7027, 5.19826, 5.22056  …  11.0403, 11.0002, 11.0189, 10.5197, 9.92366, 10.1952, 10.9827, 10.9949, 10.9955, 10.9956]</td></tr><tr><td class = \"rowNumber\" style = \"font-weight: bold; text-align: right;\">2</td><td style = \"text-align: right;\">2899</td><td style = \"text-align: right;\">326</td><td style = \"text-align: right;\">134</td><td style = \"text-align: right;\">412</td><td style = \"text-align: right;\">188</td><td style = \"text-align: right;\">366</td><td style = \"text-align: right;\">161</td><td style = \"text-align: right;\">3152</td><td style = \"text-align: right;\">79.1884</td><td style = \"text-align: right;\">49.2248</td><td style = \"text-align: left;\">Bool[0 0 … 0 0; 0 0 … 0 0; … ; 0 0 … 0 0; 0 0 … 0 0]</td><td style = \"text-align: left;\">[5.17556, 5.49891, 5.49271, 5.18149, 4.71844, 5.16694, 5.49651, 4.69311, 5.21883, 5.49015  …  9.94183, 9.83228, 9.92116, 10.2061, 9.86869, 9.9149, 9.41547, 10.2039, 10.9903, 10.9954]</td></tr><tr><td class = \"rowNumber\" style = \"font-weight: bold; text-align: right;\">3</td><td style = \"text-align: right;\">1176</td><td style = \"text-align: right;\">110</td><td style = \"text-align: right;\">433</td><td style = \"text-align: right;\">185</td><td style = \"text-align: right;\">468</td><td style = \"text-align: right;\">150</td><td style = \"text-align: right;\">453</td><td style = \"text-align: right;\">1442</td><td style = \"text-align: right;\">80.179</td><td style = \"text-align: right;\">20.6145</td><td style = \"text-align: left;\">Bool[0 0 … 0 0; 0 0 … 0 0; … ; 0 0 … 0 0; 0 0 … 0 0]</td><td style = \"text-align: left;\">[5.49732, 5.82728, 6.75379, 6.27303, 6.28253, 6.28831, 5.77932, 5.49678, 5.88162, 5.7628  …  9.40384, 10.1951, 10.2177, 9.44808, 9.42617, 9.42481, 9.42422, 9.41946, 10.2057, 10.9924]</td></tr></tbody></table></div>"
      ],
      "text/latex": [
       "\\begin{tabular}{r|ccccccccc}\n",
       "\t& area & min\\_row & min\\_col & max\\_row & max\\_col & row\\_centroid & col\\_centroid & convex\\_area & \\\\\n",
       "\t\\hline\n",
       "\t& Int32 & Int32 & Int32 & Int32 & Int32 & Int64 & Int64 & Int32 & \\\\\n",
       "\t\\hline\n",
       "\t1 & 6966 & 80 & 159 & 166 & 276 & 125 & 222 & 7464 & $\\dots$ \\\\\n",
       "\t2 & 2899 & 326 & 134 & 412 & 188 & 366 & 161 & 3152 & $\\dots$ \\\\\n",
       "\t3 & 1176 & 110 & 433 & 185 & 468 & 150 & 453 & 1442 & $\\dots$ \\\\\n",
       "\\end{tabular}\n"
      ],
      "text/plain": [
       "\u001b[1m3×12 DataFrame\u001b[0m\n",
       "\u001b[1m Row \u001b[0m│\u001b[1m area  \u001b[0m\u001b[1m min_row \u001b[0m\u001b[1m min_col \u001b[0m\u001b[1m max_row \u001b[0m\u001b[1m max_col \u001b[0m\u001b[1m row_centroid \u001b[0m\u001b[1m col_centroid \u001b[0m\u001b[1m \u001b[0m ⋯\n",
       "     │\u001b[90m Int32 \u001b[0m\u001b[90m Int32   \u001b[0m\u001b[90m Int32   \u001b[0m\u001b[90m Int32   \u001b[0m\u001b[90m Int32   \u001b[0m\u001b[90m Int64        \u001b[0m\u001b[90m Int64        \u001b[0m\u001b[90m \u001b[0m ⋯\n",
       "─────┼──────────────────────────────────────────────────────────────────────────\n",
       "   1 │  6966       80      159      166      276           125           222   ⋯\n",
       "   2 │  2899      326      134      412      188           366           161\n",
       "   3 │  1176      110      433      185      468           150           453\n",
       "\u001b[36m                                                               5 columns omitted\u001b[0m"
      ]
     },
     "metadata": {},
     "output_type": "display_data"
    }
   ],
   "source": [
    "pairs[1].props1[1:3, :] # note floe mask and psi shape descriptor have been generated"
   ]
  },
  {
   "attachments": {},
   "cell_type": "markdown",
   "metadata": {},
   "source": [
    "### 6. Visualize a tracked floe"
   ]
  },
  {
   "cell_type": "code",
   "execution_count": 13,
   "metadata": {},
   "outputs": [
    {
     "data": {
      "text/plain": [
       "(87, 130)"
      ]
     },
     "metadata": {},
     "output_type": "display_data"
    }
   ],
   "source": [
    "f10 = pairs[1].props1[1, :] # a sample inital floe\n",
    "f11 = pairs[1].props2[1, :] # floe after \"day 1\"\n",
    "f12 = pairs[2].props2[1, :] # floe after \"day 2\"\n",
    "floes = [f10, f11, f12]\n",
    "\n",
    "# Get common canvas size for floes in case masks are different sizes\n",
    "s = Tuple(maximum(r) for r in  eachrow(hcat([collect(size(floe.mask)) for floe in floes]...)))"
   ]
  },
  {
   "cell_type": "code",
   "execution_count": 14,
   "metadata": {},
   "outputs": [
    {
     "data": {
      "image/png": "[encoded data removed]",
      "text/html": [
       "<img src=\"data:image/png;base64,iVBORw0KGgoAAAANSUhEUgAAAIIAAABXCAIAAABHkgo2AAAABGdBTUEAALGPC/xhBQAAAAFzUkdCAK7OHOkAAAAgY0hSTQAAeiYAAICEAAD6AAAAgOgAAHUwAADqYAAAOpgAABdwnLpRPAAAA+9JREFUeAHtwQly4kAABDB11fz/y72YOOEOhkCOxdLwImoS1J6KfTWJjdROPNXw3ytqEi1qT2qjtuJNS0rUJIqaxJt4oOF/U41Z7ak6VXtqpyixUTv1piQeZPhLSqhZTOpdUdQ3qVl8zfBn1KR2aqM2GpN6uJrEGS2x1YgvGP6G+lBCfSjqqeqc+FAlcafht6s6Vhv102oS71rxLm4w/Fqty+rXqHcRk9ooQSwx/EZVn6jfqRp7SkpcNfw6VafqTyixp6Qm8Ynhd6naV39OzWJWomZxavhFqj7UX1c79aERR4Zfoq3XNfy4FvU6qhH7hh9Qs1DUq6mSeDd8qzpQVf+z+ERNguHpSqhTVauS4fFqEpOa1Dm1mg0PU0LN6pISrdWH4TFqUpfUvtariz0dnq2O1OrY8AB1SR2pFXEow/3qE7WKpYZHqUlM6qx6IXGD4U71oXbqknoJcatguEd9qNWHWCD2xNZws/pQC9XqM8Pz1eqK4Tb1pj5XqxNxKN4NS9WbuqpWe+Kq4dFqtSeWGK6rD/W5Wu2JhYbP1GK1WihODOfVqbqkVp+LTw33qtWxEvcYzqhranVeiSNxzXBVHanVgw03qtUysdxwrPbV6k4liAWGWZ2qI7W6RYklhkmdqiO1epbhSJ1Vq/uUuGZQq8eJewwL1Oq5BqFWzxALDZNQF9Tq6YZ9tXq0WGCYRVGrR4nlho16F2pPrb7DUIdCbdXqmwyrZwhiseGMoDZqdYu403BOvQm1WibuN4TaV/tCra6JI3GL4VCtfsCwEW9aqzvEVw2rr4k9cZ9hX6gToV5VLBbv4kbDkVCrL4jbDafiQL2s2IpZXRRbcZfhXa0OxJtQb+JYTYL4gmGrPhfqlcRWbMVO7YuHGKglQr2UxBkxq1l82ahrQm2FegkR18TjDLeJSa0ealgi1J6Y1OpBRqgFQh0K9R+KbzcQ6j4xq/9JfLNhK2Z1n5jV6nbDoVAXhHoJ1fgQTzecCHVBqE/FTv1JJWoWJZ5rOCcO1J6Y1TWxU39JTWKjRIknGhYIdSJmtUDM6s8osVGixLMMqyVKlHiKYZlQF8SxuizUn1Xi8YZnCHVZTOoPKPF8w2KhFotjdSjUH1Bio8STDLcIda/Yqa2YlZjVr1NiK55i+BExqXexEzv1K8RWPMtwo1CvKJ5ouF2oR4hJXRY79XOCeJ7hLrFTXxM7JY7VVszqOyXxdMOXxay+LM4ItSd2SpxR94o3sRHfY3icOFYPEgfqXZwKYqO2ahJqEpOKSRO1ETuNjfg2wzPFdXW7OFaTOBBbMYuaBEEQxE6J+GbDT4tJfU2cihNxTfyE4XeISe3EeXVd/DH/AHM0NzUsIiNZAAAAAElFTkSuQmCC\">"
      ],
      "text/plain": [
       "87×130 mappedarray(RGB{Float64}, ImageCore.extractchannels, PaddedView(0.0, ::Matrix{Float64}, (Base.OneTo(87), Base.OneTo(130))), PaddedView(0.0, ::Matrix{Float64}, (Base.OneTo(87), Base.OneTo(130))), PaddedView(0.0, ::Matrix{Float64}, (Base.OneTo(87), Base.OneTo(130)))) with eltype RGB{Float64}:\n",
       " RGB{Float64}(0.0,0.0,0.0)  …  RGB{Float64}(0.0,0.0,0.0)\n",
       " RGB{Float64}(0.0,0.0,0.0)     RGB{Float64}(0.0,0.0,0.0)\n",
       " RGB{Float64}(0.0,0.0,0.0)     RGB{Float64}(0.0,0.0,0.0)\n",
       " RGB{Float64}(0.0,0.0,0.0)     RGB{Float64}(0.0,0.0,0.0)\n",
       " RGB{Float64}(0.0,0.0,0.0)     RGB{Float64}(0.0,0.0,0.0)\n",
       " RGB{Float64}(0.0,0.0,0.0)  …  RGB{Float64}(0.0,0.0,0.0)\n",
       " RGB{Float64}(0.0,0.0,0.0)     RGB{Float64}(0.0,0.0,0.0)\n",
       " RGB{Float64}(0.0,0.0,0.0)     RGB{Float64}(0.0,0.0,0.0)\n",
       " RGB{Float64}(0.0,0.0,0.0)     RGB{Float64}(0.0,0.0,0.0)\n",
       " RGB{Float64}(0.0,0.0,0.0)     RGB{Float64}(0.0,0.0,0.0)\n",
       " ⋮                          ⋱  \n",
       " RGB{Float64}(0.0,0.0,0.0)     RGB{Float64}(0.0,0.0,0.0)\n",
       " RGB{Float64}(0.0,0.0,0.0)     RGB{Float64}(0.0,0.0,0.0)\n",
       " RGB{Float64}(0.0,0.0,0.0)  …  RGB{Float64}(0.0,0.0,0.0)\n",
       " RGB{Float64}(0.0,0.0,0.0)     RGB{Float64}(0.0,0.0,0.0)\n",
       " RGB{Float64}(0.0,0.0,0.0)     RGB{Float64}(0.0,0.0,0.0)\n",
       " RGB{Float64}(0.0,0.0,0.0)     RGB{Float64}(0.0,0.0,0.0)\n",
       " RGB{Float64}(0.0,0.0,0.0)     RGB{Float64}(0.0,0.0,0.0)\n",
       " RGB{Float64}(0.0,0.0,0.0)  …  RGB{Float64}(0.0,0.0,0.0)\n",
       " RGB{Float64}(0.0,0.0,0.0)     RGB{Float64}(0.0,0.0,0.0)"
      ]
     },
     "metadata": {},
     "output_type": "display_data"
    }
   ],
   "source": [
    "colorview(RGB, [PaddedView(0.0, float64.(img.mask), s) for img in [f10, f11, f12]]...)"
   ]
  },
  {
   "cell_type": "code",
   "execution_count": 15,
   "metadata": {},
   "outputs": [
    {
     "data": {
      "image/png": "[encoded data removed]",
      "text/html": [
       "<img src=\"data:image/png;base64,iVBORw0KGgoAAAANSUhEUgAAAYYAAABXCAAAAAAl/r0HAAAABGdBTUEAALGPC/xhBQAAAAFzUkdCAK7OHOkAAAAgY0hSTQAAeiYAAICEAAD6AAAAgOgAAHUwAADqYAAAOpgAABdwnLpRPAAAA8pJREFUeAHtwQty4koCBMCsiL7/lWuNZ55/YCNAUmsHZw5bqL9iZxVvKorYV72IGwxrqw8aeyrqJOpFndRJ7KFSJ0VoVFT8YFhVfdHYR31SZxpbaqgX9aYoiiK+MaygpqsZmhJ1UleVuGR4WP2k4lURG6ioBRrrqqJu0bhgeFRdUW8q1tTUi1ok1lX3aJwbHlI3KmIFdVI3qFhP3alxZnhE3aPxoLpPEUU8pu4W54YH1H0aD6kH1EnjAfWAxpnhTvWAxgNqBRX3qoc0vhruURPVOkrcox5UQuPNcLuaqdbTuF2toCji1XCTmqxmqw0Mt6i5amWN29S6GifDDeqf01iqpNZWwbBcrSXuUvPUi9pAxbBYTVaTNLWlZliqnlFF1caGhWqupvbWlNrBsExNVC9qC/G9qn10WKTmqX/fsETNUxuK79VuMkwQi9UctathgVpVLFJRz2G4rlYUyxQ1S+0phn3FMrWHuKz2FIaran81U+1tuKZ+bW74SU1Ru4jLalfB8IOaofYQ36gJhu/VvysOZfhWTVE7iG/UFMM36gnV3uLVcFlNUtPUvuLNcK620/h1bjhTW2ocVO0r3g1f1Tz1pIYv6gnEwQwHUjtpnKl9xQfDZzVP7abxSc01fFLz1DQ12fBRzVLPpvFu2FkcT802fFC/5hieUnyUmmx4V88qNddwCPV04oPhCGpf8UXUTMObmqQOIDXR8J+apA4hNc/whGK6+GT4q3YRhxVqkuGP2kUcWmqO4VXtIi5IHUZqF/HZcFK/phpe1D7iolDPbdhPHEEc0LCxWCK1k/hRagfxxXAMqecRXw3bioXiRW0h1F8xX5wZqM3EMcRJxQypd3HBoDYT88WbuC61vqB+MNQ/LW6UWle8CiUuGnUgqZXFzVIrinfxneHXV1E7Gw4ldQRRuxqpI0kdQmoVsciQ+nfFvULtZhDq17lQ+xhOUpso4iapFTX+LwyvUltp3CS1ohL3C+oBjSWGP+JFbaFxk1ArajwkqHtVXDd8kNpC40ahVtN4VKg7Na4adtCYqnFww0epTTRuFSd1GKntDIeWOoyouzSuGT5JHUuc1GMaa0jdpXHF8FlqA/GYoOYLDXWjxs+GHcQKog4gCOoGccXwRWpt8euK4avUumIlUfeJ1QW1luFMUKuJ9QSNk1oqthJqgbhmuCjUo2IL8Sq1TGwpaLyqS2KB4TtxUneJzcWL+k+o/0QJKjYXfwSVipI6iSWGn8W7Wij2EicVL+KkgngVOwtBEDQWGZaL+l5MEx/EgcQywy2iiD/qXfx6wP8A0Z43Nc79ILEAAAAASUVORK5C\">"
      ],
      "text/plain": [
       "87×390 Array{Gray{Float64},2} with eltype Gray{Float64}:\n",
       " Gray{Float64}(0.0)  Gray{Float64}(0.0)  …  Gray{Float64}(0.0)\n",
       " Gray{Float64}(0.0)  Gray{Float64}(0.0)     Gray{Float64}(0.0)\n",
       " Gray{Float64}(0.0)  Gray{Float64}(0.0)     Gray{Float64}(0.0)\n",
       " Gray{Float64}(0.0)  Gray{Float64}(0.0)     Gray{Float64}(0.0)\n",
       " Gray{Float64}(0.0)  Gray{Float64}(0.0)     Gray{Float64}(0.0)\n",
       " Gray{Float64}(0.0)  Gray{Float64}(0.0)  …  Gray{Float64}(0.0)\n",
       " Gray{Float64}(0.0)  Gray{Float64}(0.0)     Gray{Float64}(0.0)\n",
       " Gray{Float64}(0.0)  Gray{Float64}(0.0)     Gray{Float64}(0.0)\n",
       " Gray{Float64}(0.0)  Gray{Float64}(0.0)     Gray{Float64}(0.0)\n",
       " Gray{Float64}(0.0)  Gray{Float64}(0.0)     Gray{Float64}(0.0)\n",
       " ⋮                                       ⋱  \n",
       " Gray{Float64}(0.0)  Gray{Float64}(0.0)     Gray{Float64}(0.0)\n",
       " Gray{Float64}(0.0)  Gray{Float64}(0.0)     Gray{Float64}(0.0)\n",
       " Gray{Float64}(0.0)  Gray{Float64}(0.0)  …  Gray{Float64}(0.0)\n",
       " Gray{Float64}(0.0)  Gray{Float64}(0.0)     Gray{Float64}(0.0)\n",
       " Gray{Float64}(0.0)  Gray{Float64}(0.0)     Gray{Float64}(0.0)\n",
       " Gray{Float64}(0.0)  Gray{Float64}(0.0)     Gray{Float64}(0.0)\n",
       " Gray{Float64}(0.0)  Gray{Float64}(0.0)     Gray{Float64}(0.0)\n",
       " Gray{Float64}(0.0)  Gray{Float64}(0.0)  …  Gray{Float64}(0.0)\n",
       " Gray{Float64}(0.0)  Gray{Float64}(0.0)     Gray{Float64}(0.0)"
      ]
     },
     "metadata": {},
     "output_type": "display_data"
    }
   ],
   "source": [
    "imshow(mosaicview([collect(PaddedView(0.0, float64.(img.mask), s)) for img in [f10, f11, f12]], nrow=1))"
   ]
  }
 ],
 "metadata": {
  "kernelspec": {
   "display_name": "Julia 1.9.0",
   "language": "julia",
   "name": "julia-1.9"
  },
  "language_info": {
   "file_extension": ".jl",
   "mimetype": "application/julia",
   "name": "julia",
   "version": "1.9.0"
  },
  "orig_nbformat": 4
 },
 "nbformat": 4,
 "nbformat_minor": 2
}
