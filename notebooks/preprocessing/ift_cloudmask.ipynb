{
 "cells": [
  {
   "cell_type": "markdown",
   "id": "c5eae735-39c7-443c-8f68-771712067fbc",
   "metadata": {},
   "source": [
    "# Using the IFT cloud mask"
   ]
  },
  {
   "cell_type": "code",
   "execution_count": null,
   "id": "601e38d1-3e8d-4a93-8932-4ffa4c300fcf",
   "metadata": {},
   "outputs": [],
   "source": [
    "using Pkg;\n",
    "Pkg.activate(\"../ift-notebooks\")\n",
    "\n",
    "using IceFloeTracker\n",
    "using Images"
   ]
  },
  {
   "cell_type": "code",
   "execution_count": null,
   "id": "f66ab075-932a-4726-b189-4cd39d60bb75",
   "metadata": {},
   "outputs": [],
   "source": [
    "img = load(\"../notebook-example-images/049-beaufort_sea-100km-20160305.aqua.falsecolor.250m.tiff\")\n",
    "img = RGB.(img)"
   ]
  },
  {
   "cell_type": "code",
   "execution_count": null,
   "id": "98f6d164-c444-47c9-8580-36caae52c7ba",
   "metadata": {},
   "outputs": [],
   "source": [
    "cmask = create_cloudmask(float64.(img));"
   ]
  },
  {
   "cell_type": "markdown",
   "id": "19ca11b1-3cef-4f67-8b46-9e402e8b92dc",
   "metadata": {},
   "source": [
    "### Applying the cloud mask\n",
    "The convention used for the masking in IFT is multiplicative, so if a value in an array is 0 it should be blocked by the mask, and if it is 1 it should be passed through. Python users should note that this is the opposite convention from the NumPy `MaskedArray` functions."
   ]
  },
  {
   "cell_type": "code",
   "execution_count": null,
   "id": "1c11a56d-b805-42af-a97c-4d291c3f45a9",
   "metadata": {},
   "outputs": [],
   "source": [
    "Images.mosaicview([Gray.(cmask), RGB.(img .* cmask)], nrow=1)"
   ]
  },
  {
   "cell_type": "markdown",
   "id": "02a1559a-e23c-4cdf-a9fb-e3b9a018c4a0",
   "metadata": {},
   "source": [
    "As can be seen in this image, the cloud maskdoes not cover all the clouds. This is by design, under the assumption that some clouds are thin enough that ice floes can be seen through them. However, you may wish to use a stricter cloud mask. "
   ]
  },
  {
   "cell_type": "code",
   "execution_count": null,
   "id": "b7c5c215-70fa-469a-91d4-b6311aecf832",
   "metadata": {},
   "outputs": [],
   "source": [
    "ice_labels_thresholds = (\n",
    "    prelim_threshold=110.0/255,\n",
    "    band_7_threshold=200.0/255,\n",
    "    band_2_threshold=190.0/255,\n",
    "    ratio_lower=0.0,\n",
    "    ratio_upper=0.4\n",
    ")\n",
    "\n",
    "cmask = create_cloudmask(float64.(img); ice_labels_thresholds...);"
   ]
  },
  {
   "cell_type": "code",
   "execution_count": null,
   "id": "60952cc8-9181-43c0-bc02-1def0c2dcb53",
   "metadata": {},
   "outputs": [],
   "source": [
    "Images.mosaicview([Gray.(cmask), RGB.(img .* cmask)], nrow=1)"
   ]
  },
  {
   "cell_type": "markdown",
   "id": "149864b7-2e9d-4844-b22f-b5fb6ab5d1b5",
   "metadata": {},
   "source": [
    "As a final note -- the IFT cloud mask is intended only for use over ocean and ice surfaces. In regions where land is included in the scene, the cloud mask should not be used without also masking the land pixels."
   ]
  },
  {
   "cell_type": "code",
   "execution_count": null,
   "id": "1ab2c3d6-6972-4c90-888f-994456145def",
   "metadata": {},
   "outputs": [],
   "source": []
  }
 ],
 "metadata": {
  "kernelspec": {
   "display_name": "Julia 1.11.4",
   "language": "julia",
   "name": "julia-1.11"
  },
  "language_info": {
   "file_extension": ".jl",
   "mimetype": "application/julia",
   "name": "julia"
  }
 },
 "nbformat": 4,
 "nbformat_minor": 5
}
