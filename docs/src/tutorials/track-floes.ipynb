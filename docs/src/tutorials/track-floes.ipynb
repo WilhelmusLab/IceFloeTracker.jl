{
 "cells": [
  {
   "cell_type": "markdown",
   "metadata": {},
   "source": [
    "### 1. Prepare the working environment"
   ]
  },
  {
   "cell_type": "code",
   "execution_count": null,
   "metadata": {},
   "outputs": [],
   "source": [
    "\n",
    "using Pkg\n",
    "Pkg.add(\"IceFloeTracker\")\n",
    "Pkg.add(\"DataFrames\")\n",
    "\n",
    "HOME = \"../../..\"; # path to the root of the project two levels up"
   ]
  },
  {
   "cell_type": "code",
   "execution_count": null,
   "metadata": {},
   "outputs": [],
   "source": [
    "using IceFloeTracker\n",
    "using DataFrames\n",
    "using IceFloeTracker: deserialize, addfloemasks!, adduuid!, add_passtimes!, addψs!, long_tracker, addlatlon!, imshow"
   ]
  },
  {
   "cell_type": "markdown",
   "metadata": {},
   "source": [
    "### 2. Set thresholds for the algorithm"
   ]
  },
  {
   "cell_type": "code",
   "execution_count": null,
   "metadata": {},
   "outputs": [],
   "source": [
    "# Set thresholds\n",
    "condition_thresholds = IceFloeTracker.condition_thresholds\n",
    "mc_thresholds = IceFloeTracker.mc_thresholds\n",
    "@show condition_thresholds\n",
    "@show mc_thresholds"
   ]
  },
  {
   "cell_type": "markdown",
   "metadata": {},
   "source": [
    "### 3. Load data"
   ]
  },
  {
   "cell_type": "code",
   "execution_count": null,
   "metadata": {},
   "outputs": [],
   "source": [
    "begin # Load data\n",
    "    pth = joinpath(HOME, \"test\", \"test_inputs\", \"tracker\")\n",
    "    floedata = deserialize(joinpath(pth, \"tracker_test_data.dat\"))\n",
    "    # test/test_inputs/tracker/tracker_test_data.dat\n",
    "    passtimes = deserialize(joinpath(pth, \"passtimes.dat\"))\n",
    "    props, imgs = deepcopy.([floedata.props, floedata.imgs])\n",
    "\n",
    "    # Add required fields to props\n",
    "    addfloemasks!(props, imgs)\n",
    "    add_passtimes!(props, passtimes)\n",
    "    addψs!(props)\n",
    "    adduuid!(props)\n",
    "end\n",
    "\n",
    "# Delete some floes\n",
    "deleteat!(props[1], 1); # delete the first floe in day 1 so it doesn't have a match in day 2\n",
    "deleteat!(props[2], 5); # delete the fifth floe in day 2 so it doesn't have a match in day 1\n",
    "\n",
    "# All floes in days 1 and 2 have a match in day 3\n",
    "# Expected: 5 trajectories, 3 of length 3 and 2 of length 2\n",
    "nothing # suppress output -- not particularly informative. See the next block."
   ]
  },
  {
   "cell_type": "markdown",
   "metadata": {},
   "source": [
    "### 4. View floe data"
   ]
  },
  {
   "cell_type": "code",
   "execution_count": null,
   "metadata": {},
   "outputs": [],
   "source": [
    "# Day 1\n",
    "props[1][!, [:uuid, :passtime, :area]]"
   ]
  },
  {
   "cell_type": "code",
   "execution_count": null,
   "metadata": {},
   "outputs": [],
   "source": [
    "imshow(imgs[1])"
   ]
  },
  {
   "cell_type": "code",
   "execution_count": null,
   "metadata": {},
   "outputs": [],
   "source": [
    "imshow(props[1][1, :mask])"
   ]
  },
  {
   "cell_type": "code",
   "execution_count": null,
   "metadata": {},
   "outputs": [],
   "source": [
    "# Day 2\n",
    "props[2][!, [:uuid, :passtime, :area]]"
   ]
  },
  {
   "cell_type": "code",
   "execution_count": null,
   "metadata": {},
   "outputs": [],
   "source": [
    "imshow(imgs[2]) # slightly rotated version of the image in day 1"
   ]
  },
  {
   "cell_type": "code",
   "execution_count": null,
   "metadata": {},
   "outputs": [],
   "source": [
    "imshow(props[2][1, :mask])"
   ]
  },
  {
   "cell_type": "code",
   "execution_count": null,
   "metadata": {},
   "outputs": [],
   "source": [
    "# Day 3\n",
    "props[3][!, [:uuid, :passtime, :area]]"
   ]
  },
  {
   "cell_type": "code",
   "execution_count": null,
   "metadata": {},
   "outputs": [],
   "source": [
    "imshow(props[3][1, :mask]) # missing in day 1"
   ]
  },
  {
   "cell_type": "code",
   "execution_count": null,
   "metadata": {},
   "outputs": [],
   "source": [
    "imshow(props[3][5, :mask]) # missing in day 2"
   ]
  },
  {
   "cell_type": "markdown",
   "metadata": {},
   "source": [
    "### 5. Pair and label floes"
   ]
  },
  {
   "cell_type": "code",
   "execution_count": null,
   "metadata": {},
   "outputs": [],
   "source": [
    "# Get paired floes with labels\n",
    "trajectories = long_tracker(props, condition_thresholds, mc_thresholds);"
   ]
  },
  {
   "cell_type": "markdown",
   "metadata": {},
   "source": [
    "### 6. View trajectories and _goodness_ of pairings"
   ]
  },
  {
   "cell_type": "code",
   "execution_count": null,
   "metadata": {},
   "outputs": [],
   "source": [
    "trajectories[!, [:ID, :passtime, :area_mismatch, :corr]]"
   ]
  },
  {
   "cell_type": "markdown",
   "metadata": {},
   "source": [
    "7. Add latitude/longitude data to trajectories"
   ]
  },
  {
   "cell_type": "code",
   "execution_count": null,
   "metadata": {},
   "outputs": [],
   "source": [
    "latlonimgpth = joinpath(HOME, \"test\", \"test_inputs\", \"beaufort-chukchi-seas_truecolor.2020162.aqua.250m.tiff\")\n",
    "addlatlon!(trajectories, latlonimgpth)"
   ]
  },
  {
   "cell_type": "code",
   "execution_count": null,
   "metadata": {},
   "outputs": [],
   "source": [
    "# View trajectories with lat/lon data\n",
    "# Note that the areas are now in physical units (km^2)\n",
    "cols = [:ID, :area, :passtime, :latitude, :longitude]\n",
    "trajectories[!, cols]"
   ]
  },
  {
   "cell_type": "code",
   "execution_count": null,
   "metadata": {},
   "outputs": [],
   "source": [
    "grouped_trajectories = groupby(trajectories, :ID);"
   ]
  },
  {
   "cell_type": "code",
   "execution_count": null,
   "metadata": {},
   "outputs": [],
   "source": [
    "imshow.(grouped_trajectories[1].mask)"
   ]
  },
  {
   "cell_type": "code",
   "execution_count": null,
   "metadata": {},
   "outputs": [],
   "source": [
    "imshow.(grouped_trajectories[2].mask)"
   ]
  },
  {
   "cell_type": "code",
   "execution_count": null,
   "metadata": {},
   "outputs": [],
   "source": [
    "imshow.(grouped_trajectories[3].mask)"
   ]
  },
  {
   "cell_type": "code",
   "execution_count": null,
   "metadata": {},
   "outputs": [],
   "source": [
    "imshow.(grouped_trajectories[4].mask)"
   ]
  },
  {
   "cell_type": "code",
   "execution_count": null,
   "metadata": {},
   "outputs": [],
   "source": [
    "imshow.(grouped_trajectories[5].mask)"
   ]
  }
 ],
 "metadata": {
  "kernelspec": {
   "display_name": "Julia 1.11.4",
   "language": "julia",
   "name": "julia-1.11"
  },
  "language_info": {
   "file_extension": ".jl",
   "mimetype": "application/julia",
   "name": "julia",
   "version": "1.11.4"
  }
 },
 "nbformat": 4,
 "nbformat_minor": 4
}
