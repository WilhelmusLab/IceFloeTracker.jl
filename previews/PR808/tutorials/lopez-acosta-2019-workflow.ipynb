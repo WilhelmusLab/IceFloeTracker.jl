{
 "cells": [
  {
   "cell_type": "markdown",
   "id": "c91a1312",
   "metadata": {},
   "source": [
    "# Segmentation Algorithm Workflows\n",
    "\n",
    "This notebook demonstrates IceFloeTracker.jl's segmentation algorithms \n",
    "with very basic examples of their use."
   ]
  },
  {
   "cell_type": "code",
   "execution_count": null,
   "id": "36b9e617",
   "metadata": {},
   "outputs": [],
   "source": [
    "# Setup environment\n",
    "using Pkg\n",
    "Pkg.add(;name=\"IceFloeTracker\", rev=\"808/merge\")\n",
    "Pkg.add(\"Images\")"
   ]
  },
  {
   "cell_type": "code",
   "execution_count": null,
   "id": "540a6fdf",
   "metadata": {},
   "outputs": [],
   "source": [
    "# Load packages\n",
    "using IceFloeTracker: LopezAcosta2019, LopezAcosta2019Tiling, Watkins2025GitHub\n",
    "using Images: erode, segment_mean, labels_map, SegmentedImage, RGB, mosaicview"
   ]
  },
  {
   "cell_type": "markdown",
   "id": "7fb699cc",
   "metadata": {},
   "source": [
    "## Load the images"
   ]
  },
  {
   "cell_type": "markdown",
   "id": "1cee5be3",
   "metadata": {},
   "source": [
    "Load the dataset from [https://github.com/danielmwatkins/ice_floe_validation_dataset](https://github.com/danielmwatkins/ice_floe_validation_dataset) using the `Watkins2025GitHub` data loader."
   ]
  },
  {
   "cell_type": "code",
   "execution_count": null,
   "id": "ab3f52b9",
   "metadata": {},
   "outputs": [],
   "source": [
    "data_loader = Watkins2025GitHub(; ref=\"a451cd5e62a10309a9640fbbe6b32a236fcebc70\")"
   ]
  },
  {
   "cell_type": "markdown",
   "id": "04279dc0",
   "metadata": {},
   "source": [
    "The available data are listed in the metadata field:"
   ]
  },
  {
   "cell_type": "code",
   "execution_count": null,
   "id": "78b345e7",
   "metadata": {},
   "outputs": [],
   "source": [
    "first(data_loader().metadata, 10)"
   ]
  },
  {
   "cell_type": "markdown",
   "id": "f0b9f433",
   "metadata": {},
   "source": [
    "For the example, we choose a single case from Baffin Bay in May 2022."
   ]
  },
  {
   "cell_type": "code",
   "execution_count": null,
   "id": "e64ae637",
   "metadata": {},
   "outputs": [],
   "source": [
    "dataset = data_loader(c-> c.case_number == 6 && c.satellite == \"terra\")\n",
    "case = first(dataset)"
   ]
  },
  {
   "cell_type": "markdown",
   "id": "ae6311c9",
   "metadata": {},
   "source": [
    "The data include the true-color image:"
   ]
  },
  {
   "cell_type": "code",
   "execution_count": null,
   "id": "cfd48e55",
   "metadata": {},
   "outputs": [],
   "source": [
    "truecolor = RGB.(case.modis_truecolor) # TODO: remove RGB cast"
   ]
  },
  {
   "cell_type": "markdown",
   "id": "03fa25f3",
   "metadata": {},
   "source": [
    "... a false-color image:"
   ]
  },
  {
   "cell_type": "code",
   "execution_count": null,
   "id": "cef29387",
   "metadata": {},
   "outputs": [],
   "source": [
    "falsecolor = RGB.(case.modis_falsecolor) # TODO: remove RGB cast"
   ]
  },
  {
   "cell_type": "markdown",
   "id": "46ba7b52",
   "metadata": {},
   "source": [
    "... and a landmask, which in this particular case is empty:"
   ]
  },
  {
   "cell_type": "code",
   "execution_count": null,
   "id": "ab957d3c",
   "metadata": {},
   "outputs": [],
   "source": [
    "landmask = RGB.(case.modis_landmask) # TODO: remove RGB cast"
   ]
  },
  {
   "cell_type": "markdown",
   "id": "0b8877c7",
   "metadata": {},
   "source": [
    "## Run the segmentation algorithm"
   ]
  },
  {
   "cell_type": "markdown",
   "id": "5f3319ff",
   "metadata": {},
   "source": [
    "The segmentation algorithm is an object with parameters as follows:"
   ]
  },
  {
   "cell_type": "code",
   "execution_count": null,
   "id": "7683c488",
   "metadata": {},
   "outputs": [],
   "source": [
    "segmentation_algorithm = LopezAcosta2019.Segment()"
   ]
  },
  {
   "cell_type": "markdown",
   "id": "03767bc9",
   "metadata": {},
   "source": [
    "If we wanted to modify the options, we could include those in the call above. \n",
    "See the documentation for `LopezAcosta2019.Segment` for details.\n",
    "The default parameters are as follows:"
   ]
  },
  {
   "cell_type": "code",
   "execution_count": null,
   "id": "cc4cf7d5",
   "metadata": {},
   "outputs": [],
   "source": [
    "dump(segmentation_algorithm)"
   ]
  },
  {
   "cell_type": "markdown",
   "id": "9a01144e",
   "metadata": {},
   "source": [
    "Run the algorithm as follows:"
   ]
  },
  {
   "cell_type": "code",
   "execution_count": null,
   "id": "d3d68a16",
   "metadata": {},
   "outputs": [],
   "source": [
    "segments = segmentation_algorithm(truecolor, falsecolor, landmask)"
   ]
  },
  {
   "cell_type": "markdown",
   "id": "808c8e5e",
   "metadata": {},
   "source": [
    "To show the results with each segment marked using its mean color:"
   ]
  },
  {
   "cell_type": "code",
   "execution_count": null,
   "id": "3986e554",
   "metadata": {},
   "outputs": [],
   "source": [
    "map(i -> segment_mean(segments, i), labels_map(segments))"
   ]
  },
  {
   "cell_type": "markdown",
   "id": "703627d9",
   "metadata": {},
   "source": [
    "We can do the same with the falsecolor image:"
   ]
  },
  {
   "cell_type": "code",
   "execution_count": null,
   "id": "513793ea",
   "metadata": {},
   "outputs": [],
   "source": [
    "# Get the labels_map\n",
    "segments_falsecolor = SegmentedImage(falsecolor, labels_map(segments))\n",
    "map(i -> segment_mean(segments_falsecolor, i), labels_map(segments_falsecolor))"
   ]
  },
  {
   "cell_type": "markdown",
   "id": "d5726dac",
   "metadata": {},
   "source": [
    "Let's compare the segmented output to the manually validated labels:"
   ]
  },
  {
   "cell_type": "code",
   "execution_count": null,
   "id": "ef7d1c0b",
   "metadata": {},
   "outputs": [],
   "source": [
    "man_labels = case.validated_binary_floes\n",
    "outlines = man_labels .- erode(man_labels)\n",
    "seg_vs = map(i -> segment_mean(segments, i), labels_map(segments))\n",
    "mosaicview(truecolor, seg_vs .* (1 .- Float64.(outlines)), nrow=1)"
   ]
  },
  {
   "cell_type": "markdown",
   "id": "7362b44e",
   "metadata": {},
   "source": [
    "## Run the segmentation algorithm with tiling\n",
    "The \"tiling\" version of the algorithm is an object:"
   ]
  },
  {
   "cell_type": "code",
   "execution_count": null,
   "id": "a512a53c",
   "metadata": {},
   "outputs": [],
   "source": [
    "segmentation_algorithm_with_tiling = LopezAcosta2019Tiling.Segment()"
   ]
  },
  {
   "cell_type": "markdown",
   "id": "bcac70a3",
   "metadata": {},
   "source": [
    "It has more configurable parameters. \n",
    "For details, see the documentation of `LopezAcosta2019Tiling.Segment`.\n",
    "The default parameters are as follows:"
   ]
  },
  {
   "cell_type": "code",
   "execution_count": null,
   "id": "e741453a",
   "metadata": {},
   "outputs": [],
   "source": [
    "dump(segmentation_algorithm_with_tiling)"
   ]
  },
  {
   "cell_type": "code",
   "execution_count": null,
   "id": "17a38c62",
   "metadata": {},
   "outputs": [],
   "source": [
    "segments = segmentation_algorithm_with_tiling(truecolor, falsecolor, landmask)"
   ]
  },
  {
   "cell_type": "markdown",
   "id": "ef74d492",
   "metadata": {},
   "source": [
    "To show the results with each segment marked using its mean color:"
   ]
  },
  {
   "cell_type": "code",
   "execution_count": null,
   "id": "ee7a12dd",
   "metadata": {},
   "outputs": [],
   "source": [
    "map(i -> segment_mean(segments, i), labels_map(segments))"
   ]
  },
  {
   "cell_type": "markdown",
   "id": "8a34fba5",
   "metadata": {},
   "source": [
    "With the falsecolor image:"
   ]
  },
  {
   "cell_type": "code",
   "execution_count": null,
   "id": "bfbdec8e",
   "metadata": {},
   "outputs": [],
   "source": [
    "# Get the labels_map\n",
    "segments_falsecolor = SegmentedImage(falsecolor, labels_map(segments))\n",
    "map(i -> segment_mean(segments_falsecolor, i), labels_map(segments_falsecolor))"
   ]
  },
  {
   "cell_type": "markdown",
   "id": "948720df",
   "metadata": {},
   "source": [
    "Let's compare the segmented output to the manually validated labels:"
   ]
  },
  {
   "cell_type": "code",
   "execution_count": null,
   "id": "141f21be",
   "metadata": {},
   "outputs": [],
   "source": [
    "man_labels = case.validated_binary_floes\n",
    "outlines = man_labels .- erode(man_labels)\n",
    "seg_vs = map(i -> segment_mean(segments, i), labels_map(segments))\n",
    "mosaicview(truecolor, seg_vs .* (1 .- Float64.(outlines)), nrow=1)"
   ]
  }
 ],
 "metadata": {
  "kernelspec": {
   "display_name": "Julia 1.11.6",
   "language": "julia",
   "name": "julia-1.11"
  },
  "language_info": {
   "file_extension": ".jl",
   "mimetype": "application/julia",
   "name": "julia",
   "version": "1.11.6"
  }
 },
 "nbformat": 4,
 "nbformat_minor": 5
}
