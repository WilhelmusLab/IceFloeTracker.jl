{
 "cells": [
  {
   "cell_type": "code",
   "execution_count": 20,
   "id": "60588475",
   "metadata": {},
   "outputs": [],
   "source": [
    "from PIL import Image\n",
    "import numpy as np\n",
    "from skimage.measure import label, regionprops, regionprops_table"
   ]
  },
  {
   "cell_type": "code",
   "execution_count": 21,
   "id": "b336cb0b",
   "metadata": {},
   "outputs": [],
   "source": [
    "# Get test data\n",
    "fpath = 'bw_new.tif'\n",
    "\n",
    "# Open the tiff image\n",
    "pil_img = Image.open(fpath)\n",
    "\n",
    "# Map PIL mode to numpy dtype (note this may need to be extended)\n",
    "dtype = {'F': np.float32, '1': np.uint8}[pil_img.mode]\n",
    "\n",
    "# Load the data into a flat numpy array and reshape\n",
    "np_img = np.array(pil_img.getdata(), dtype=dtype)\n",
    "w, h = pil_img.size\n",
    "np_img.shape = (h, w, np_img.size // (w * h))"
   ]
  },
  {
   "cell_type": "code",
   "execution_count": 22,
   "id": "7b3be808",
   "metadata": {},
   "outputs": [],
   "source": [
    "# Verify dims match with Matlab image\n",
    "assert np_img.shape[:2] == (8120, 4458)"
   ]
  },
  {
   "cell_type": "code",
   "execution_count": 23,
   "id": "cf35fc83",
   "metadata": {},
   "outputs": [],
   "source": [
    "# Label the connected components\n",
    "label_img = label(np_img)\n"
   ]
  },
  {
   "cell_type": "code",
   "execution_count": 24,
   "id": "49f41acb",
   "metadata": {},
   "outputs": [],
   "source": [
    "# Get connected components properties\n",
    "regions = regionprops(label_img)"
   ]
  },
  {
   "cell_type": "code",
   "execution_count": 25,
   "id": "bd7c5af7",
   "metadata": {},
   "outputs": [
    {
     "data": {
      "text/plain": [
       "array([  76034,    4143,     284, 3619602,      33,      90,   21297,\n",
       "         91426,       2,      33])"
      ]
     },
     "execution_count": 25,
     "metadata": {},
     "output_type": "execute_result"
    }
   ],
   "source": [
    "# Get the areas\n",
    "skimages_areas = np.array([p.area for p in regions])\n",
    "\n",
    "# display first 10 values\n",
    "skimages_areas[:10]"
   ]
  },
  {
   "cell_type": "code",
   "execution_count": 26,
   "id": "04ac9a98",
   "metadata": {},
   "outputs": [
    {
     "data": {
      "text/plain": [
       "array([  76034,    4143,     284, 3619602,      33,      90,   21297,\n",
       "         91426,       2,      33])"
      ]
     },
     "execution_count": 26,
     "metadata": {},
     "output_type": "execute_result"
    }
   ],
   "source": [
    "# Import areas from matlab's region props for same image\n",
    "matlab_areas = np.genfromtxt('matlab_areas.csv', delimiter=',', dtype= int)\n",
    "\n",
    "# first 10 values\n",
    "matlab_areas[:10]"
   ]
  },
  {
   "cell_type": "code",
   "execution_count": 27,
   "id": "1e717ef8",
   "metadata": {},
   "outputs": [
    {
     "data": {
      "text/plain": [
       "array([  76140,    4149,     288, 3620293,      34,      91,   21405,\n",
       "         91750,       2,      33])"
      ]
     },
     "execution_count": 27,
     "metadata": {},
     "output_type": "execute_result"
    }
   ],
   "source": [
    "julia_imagecomp_areas =  np.genfromtxt('jl_imagecomp_areas.csv', delimiter=',', dtype= int)\n",
    "\n",
    "# first 10 values\n",
    "julia_imagecomp_areas[:10]"
   ]
  },
  {
   "cell_type": "code",
   "execution_count": 28,
   "id": "eb0a4d7e",
   "metadata": {},
   "outputs": [
    {
     "data": {
      "text/plain": [
       "1.0"
      ]
     },
     "execution_count": 28,
     "metadata": {},
     "output_type": "execute_result"
    }
   ],
   "source": [
    "# Correlation matlab vs skimages\n",
    "np.corrcoef(skimages_areas, matlab_areas)[0,1]"
   ]
  },
  {
   "cell_type": "code",
   "execution_count": 29,
   "id": "f188f370",
   "metadata": {},
   "outputs": [
    {
     "data": {
      "text/plain": [
       "0.9999999773734712"
      ]
     },
     "execution_count": 29,
     "metadata": {},
     "output_type": "execute_result"
    }
   ],
   "source": [
    "# Correlation matlab vs jl_imagecomp\n",
    "np.corrcoef(skimages_areas, julia_imagecomp_areas)[0,1]"
   ]
  },
  {
   "cell_type": "code",
   "execution_count": null,
   "id": "5a5ad254",
   "metadata": {},
   "outputs": [],
   "source": [
    "\n"
   ]
  }
 ],
 "metadata": {
  "kernelspec": {
   "display_name": "Python 3.7.9 64-bit (windows store)",
   "language": "python",
   "name": "python3"
  },
  "language_info": {
   "codemirror_mode": {
    "name": "ipython",
    "version": 3
   },
   "file_extension": ".py",
   "mimetype": "text/x-python",
   "name": "python",
   "nbconvert_exporter": "python",
   "pygments_lexer": "ipython3",
   "version": "3.7.9"
  },
  "vscode": {
   "interpreter": {
    "hash": "6ac2c430ddf4f9a065a4b51e9c97c9e6e4636f031d676affce42cabe5433de4e"
   }
  }
 },
 "nbformat": 4,
 "nbformat_minor": 5
}
